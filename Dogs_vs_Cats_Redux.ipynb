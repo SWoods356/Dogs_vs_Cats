{
 "cells": [
  {
   "cell_type": "code",
   "execution_count": 33,
   "id": "076e844d",
   "metadata": {},
   "outputs": [],
   "source": [
    "# load up modules\n",
    "import numpy as np\n",
    "import tensorflow as tf\n",
    "from tensorflow import keras\n",
    "from tensorflow.keras.models import Sequential\n",
    "from tensorflow.keras.layers import Activation, Dense, Flatten, BatchNormalization, Conv2D, MaxPool2D\n",
    "from tensorflow.keras.optimizers import Adam\n",
    "from tensorflow.keras.metrics import categorical_crossentropy\n",
    "from tensorflow.keras.preprocessing.image import ImageDataGenerator\n",
    "from sklearn.metrics import confusion_matrix\n",
    "import itertools\n",
    "import os\n",
    "import shutil\n",
    "import random\n",
    "import glob\n",
    "import matplotlib.pyplot as plt\n",
    "import warnings\n",
    "warnings.simplefilter(action='ignore', category=FutureWarning)\n",
    "%matplotlib inline"
   ]
  },
  {
   "cell_type": "code",
   "execution_count": 34,
   "id": "d761d10d",
   "metadata": {},
   "outputs": [],
   "source": [
    "# Set up notebook to display multiple outputs in one cell\n",
    "from IPython.core.interactiveshell import InteractiveShell\n",
    "InteractiveShell.ast_node_interactivity = \"all\""
   ]
  },
  {
   "cell_type": "code",
   "execution_count": 7,
   "id": "8feca2b1",
   "metadata": {},
   "outputs": [
    {
     "name": "stdout",
     "output_type": "stream",
     "text": [
      "Collecting keras\n",
      "  Downloading keras-2.8.0-py2.py3-none-any.whl (1.4 MB)\n",
      "Installing collected packages: keras\n",
      "Successfully installed keras-2.8.0\n"
     ]
    }
   ],
   "source": [
    "!pip install keras"
   ]
  },
  {
   "cell_type": "code",
   "execution_count": 16,
   "id": "41fc9e70",
   "metadata": {},
   "outputs": [
    {
     "name": "stdout",
     "output_type": "stream",
     "text": [
      "Requirement already satisfied: keras-tuner in c:\\users\\stephen\\anaconda3\\lib\\site-packages (1.1.0)\n",
      "Requirement already satisfied: scipy in c:\\users\\stephen\\anaconda3\\lib\\site-packages (from keras-tuner) (1.7.1)\n",
      "Requirement already satisfied: tensorboard in c:\\users\\stephen\\anaconda3\\lib\\site-packages (from keras-tuner) (2.8.0)\n",
      "Requirement already satisfied: requests in c:\\users\\stephen\\anaconda3\\lib\\site-packages (from keras-tuner) (2.26.0)\n",
      "Requirement already satisfied: packaging in c:\\users\\stephen\\anaconda3\\lib\\site-packages (from keras-tuner) (21.0)\n",
      "Requirement already satisfied: kt-legacy in c:\\users\\stephen\\anaconda3\\lib\\site-packages (from keras-tuner) (1.0.4)\n",
      "Requirement already satisfied: numpy in c:\\users\\stephen\\anaconda3\\lib\\site-packages (from keras-tuner) (1.20.3)\n",
      "Requirement already satisfied: ipython in c:\\users\\stephen\\anaconda3\\lib\\site-packages (from keras-tuner) (7.29.0)\n",
      "Requirement already satisfied: backcall in c:\\users\\stephen\\anaconda3\\lib\\site-packages (from ipython->keras-tuner) (0.2.0)\n",
      "Requirement already satisfied: jedi>=0.16 in c:\\users\\stephen\\anaconda3\\lib\\site-packages (from ipython->keras-tuner) (0.18.0)\n",
      "Requirement already satisfied: pickleshare in c:\\users\\stephen\\anaconda3\\lib\\site-packages (from ipython->keras-tuner) (0.7.5)\n",
      "Requirement already satisfied: colorama in c:\\users\\stephen\\anaconda3\\lib\\site-packages (from ipython->keras-tuner) (0.4.4)\n",
      "Requirement already satisfied: setuptools>=18.5 in c:\\users\\stephen\\anaconda3\\lib\\site-packages (from ipython->keras-tuner) (58.0.4)\n",
      "Requirement already satisfied: prompt-toolkit!=3.0.0,!=3.0.1,<3.1.0,>=2.0.0 in c:\\users\\stephen\\anaconda3\\lib\\site-packages (from ipython->keras-tuner) (3.0.20)\n",
      "Requirement already satisfied: matplotlib-inline in c:\\users\\stephen\\anaconda3\\lib\\site-packages (from ipython->keras-tuner) (0.1.2)\n",
      "Requirement already satisfied: decorator in c:\\users\\stephen\\anaconda3\\lib\\site-packages (from ipython->keras-tuner) (5.1.0)\n",
      "Requirement already satisfied: traitlets>=4.2 in c:\\users\\stephen\\anaconda3\\lib\\site-packages (from ipython->keras-tuner) (5.1.0)\n",
      "Requirement already satisfied: pygments in c:\\users\\stephen\\anaconda3\\lib\\site-packages (from ipython->keras-tuner) (2.10.0)\n",
      "Requirement already satisfied: parso<0.9.0,>=0.8.0 in c:\\users\\stephen\\anaconda3\\lib\\site-packages (from jedi>=0.16->ipython->keras-tuner) (0.8.2)\n",
      "Requirement already satisfied: wcwidth in c:\\users\\stephen\\anaconda3\\lib\\site-packages (from prompt-toolkit!=3.0.0,!=3.0.1,<3.1.0,>=2.0.0->ipython->keras-tuner) (0.2.5)\n",
      "Requirement already satisfied: pyparsing>=2.0.2 in c:\\users\\stephen\\anaconda3\\lib\\site-packages (from packaging->keras-tuner) (3.0.4)\n",
      "Requirement already satisfied: charset-normalizer~=2.0.0 in c:\\users\\stephen\\anaconda3\\lib\\site-packages (from requests->keras-tuner) (2.0.4)\n",
      "Requirement already satisfied: urllib3<1.27,>=1.21.1 in c:\\users\\stephen\\anaconda3\\lib\\site-packages (from requests->keras-tuner) (1.26.7)\n",
      "Requirement already satisfied: idna<4,>=2.5 in c:\\users\\stephen\\anaconda3\\lib\\site-packages (from requests->keras-tuner) (3.2)\n",
      "Requirement already satisfied: certifi>=2017.4.17 in c:\\users\\stephen\\anaconda3\\lib\\site-packages (from requests->keras-tuner) (2021.10.8)\n",
      "Requirement already satisfied: google-auth<3,>=1.6.3 in c:\\users\\stephen\\anaconda3\\lib\\site-packages (from tensorboard->keras-tuner) (2.6.0)\n",
      "Requirement already satisfied: tensorboard-plugin-wit>=1.6.0 in c:\\users\\stephen\\anaconda3\\lib\\site-packages (from tensorboard->keras-tuner) (1.8.1)\n",
      "Requirement already satisfied: wheel>=0.26 in c:\\users\\stephen\\anaconda3\\lib\\site-packages (from tensorboard->keras-tuner) (0.37.0)\n",
      "Requirement already satisfied: tensorboard-data-server<0.7.0,>=0.6.0 in c:\\users\\stephen\\anaconda3\\lib\\site-packages (from tensorboard->keras-tuner) (0.6.1)\n",
      "Requirement already satisfied: google-auth-oauthlib<0.5,>=0.4.1 in c:\\users\\stephen\\anaconda3\\lib\\site-packages (from tensorboard->keras-tuner) (0.4.6)\n",
      "Requirement already satisfied: protobuf>=3.6.0 in c:\\users\\stephen\\anaconda3\\lib\\site-packages (from tensorboard->keras-tuner) (3.19.4)\n",
      "Requirement already satisfied: markdown>=2.6.8 in c:\\users\\stephen\\anaconda3\\lib\\site-packages (from tensorboard->keras-tuner) (3.3.6)\n",
      "Requirement already satisfied: absl-py>=0.4 in c:\\users\\stephen\\anaconda3\\lib\\site-packages (from tensorboard->keras-tuner) (1.0.0)\n",
      "Requirement already satisfied: werkzeug>=0.11.15 in c:\\users\\stephen\\anaconda3\\lib\\site-packages (from tensorboard->keras-tuner) (2.0.2)\n",
      "Requirement already satisfied: grpcio>=1.24.3 in c:\\users\\stephen\\anaconda3\\lib\\site-packages (from tensorboard->keras-tuner) (1.44.0)\n",
      "Requirement already satisfied: six in c:\\users\\stephen\\anaconda3\\lib\\site-packages (from absl-py>=0.4->tensorboard->keras-tuner) (1.16.0)\n",
      "Requirement already satisfied: rsa<5,>=3.1.4 in c:\\users\\stephen\\anaconda3\\lib\\site-packages (from google-auth<3,>=1.6.3->tensorboard->keras-tuner) (4.8)\n",
      "Requirement already satisfied: pyasn1-modules>=0.2.1 in c:\\users\\stephen\\anaconda3\\lib\\site-packages (from google-auth<3,>=1.6.3->tensorboard->keras-tuner) (0.2.8)\n",
      "Requirement already satisfied: cachetools<6.0,>=2.0.0 in c:\\users\\stephen\\anaconda3\\lib\\site-packages (from google-auth<3,>=1.6.3->tensorboard->keras-tuner) (5.0.0)\n",
      "Requirement already satisfied: requests-oauthlib>=0.7.0 in c:\\users\\stephen\\anaconda3\\lib\\site-packages (from google-auth-oauthlib<0.5,>=0.4.1->tensorboard->keras-tuner) (1.3.1)\n",
      "Requirement already satisfied: importlib-metadata>=4.4 in c:\\users\\stephen\\anaconda3\\lib\\site-packages (from markdown>=2.6.8->tensorboard->keras-tuner) (4.8.1)\n",
      "Requirement already satisfied: zipp>=0.5 in c:\\users\\stephen\\anaconda3\\lib\\site-packages (from importlib-metadata>=4.4->markdown>=2.6.8->tensorboard->keras-tuner) (3.6.0)\n",
      "Requirement already satisfied: pyasn1<0.5.0,>=0.4.6 in c:\\users\\stephen\\anaconda3\\lib\\site-packages (from pyasn1-modules>=0.2.1->google-auth<3,>=1.6.3->tensorboard->keras-tuner) (0.4.8)\n",
      "Requirement already satisfied: oauthlib>=3.0.0 in c:\\users\\stephen\\anaconda3\\lib\\site-packages (from requests-oauthlib>=0.7.0->google-auth-oauthlib<0.5,>=0.4.1->tensorboard->keras-tuner) (3.2.0)\n"
     ]
    }
   ],
   "source": [
    "!pip install keras-tuner"
   ]
  },
  {
   "cell_type": "code",
   "execution_count": 31,
   "id": "24f30a58",
   "metadata": {},
   "outputs": [
    {
     "name": "stdout",
     "output_type": "stream",
     "text": [
      "[name: \"/device:CPU:0\"\n",
      "device_type: \"CPU\"\n",
      "memory_limit: 268435456\n",
      "locality {\n",
      "}\n",
      "incarnation: 12128680787949525887\n",
      "xla_global_id: -1\n",
      "]\n"
     ]
    }
   ],
   "source": [
    "from tensorflow.python.client import device_lib\n",
    "print(device_lib.list_local_devices())"
   ]
  },
  {
   "cell_type": "code",
   "execution_count": 20,
   "id": "3f0b5a29",
   "metadata": {},
   "outputs": [],
   "source": [
    "Image_Width=128\n",
    "Image_Height=128\n",
    "Image_Size=(Image_Width,Image_Height)\n",
    "Image_Channels=3"
   ]
  },
  {
   "cell_type": "code",
   "execution_count": 25,
   "id": "2bda686e",
   "metadata": {},
   "outputs": [],
   "source": [
    "filenames=os.listdir(r\"C:\\Users\\Stephen\\OneDrive\\Northwestern\\422 ML\\Dogs_v_Cats\\train\")\n",
    "categories=[]\n",
    "for f_name in filenames:\n",
    "    category=f_name.split('.')[0]\n",
    "    if category=='dog':\n",
    "        categories.append(1)\n",
    "    else:\n",
    "        categories.append(0)\n",
    "df=pd.DataFrame({\n",
    "    'filename':filenames,\n",
    "    'category':categories\n",
    "})"
   ]
  },
  {
   "cell_type": "code",
   "execution_count": 27,
   "id": "9283a8d7",
   "metadata": {},
   "outputs": [
    {
     "data": {
      "text/plain": [
       "(25000, 2)"
      ]
     },
     "execution_count": 27,
     "metadata": {},
     "output_type": "execute_result"
    },
    {
     "data": {
      "text/html": [
       "<div>\n",
       "<style scoped>\n",
       "    .dataframe tbody tr th:only-of-type {\n",
       "        vertical-align: middle;\n",
       "    }\n",
       "\n",
       "    .dataframe tbody tr th {\n",
       "        vertical-align: top;\n",
       "    }\n",
       "\n",
       "    .dataframe thead th {\n",
       "        text-align: right;\n",
       "    }\n",
       "</style>\n",
       "<table border=\"1\" class=\"dataframe\">\n",
       "  <thead>\n",
       "    <tr style=\"text-align: right;\">\n",
       "      <th></th>\n",
       "      <th>filename</th>\n",
       "      <th>category</th>\n",
       "    </tr>\n",
       "  </thead>\n",
       "  <tbody>\n",
       "    <tr>\n",
       "      <th>0</th>\n",
       "      <td>cat.0.jpg</td>\n",
       "      <td>0</td>\n",
       "    </tr>\n",
       "    <tr>\n",
       "      <th>1</th>\n",
       "      <td>cat.1.jpg</td>\n",
       "      <td>0</td>\n",
       "    </tr>\n",
       "    <tr>\n",
       "      <th>2</th>\n",
       "      <td>cat.10.jpg</td>\n",
       "      <td>0</td>\n",
       "    </tr>\n",
       "    <tr>\n",
       "      <th>3</th>\n",
       "      <td>cat.100.jpg</td>\n",
       "      <td>0</td>\n",
       "    </tr>\n",
       "    <tr>\n",
       "      <th>4</th>\n",
       "      <td>cat.1000.jpg</td>\n",
       "      <td>0</td>\n",
       "    </tr>\n",
       "  </tbody>\n",
       "</table>\n",
       "</div>"
      ],
      "text/plain": [
       "       filename  category\n",
       "0     cat.0.jpg         0\n",
       "1     cat.1.jpg         0\n",
       "2    cat.10.jpg         0\n",
       "3   cat.100.jpg         0\n",
       "4  cat.1000.jpg         0"
      ]
     },
     "execution_count": 27,
     "metadata": {},
     "output_type": "execute_result"
    }
   ],
   "source": [
    "\n",
    "df.shape\n",
    "\n",
    "df.head()"
   ]
  },
  {
   "cell_type": "markdown",
   "id": "2df9bb77",
   "metadata": {},
   "source": [
    "<div style=\"background-color:lightblue;\">\n",
    "Prepare data for modeling\n",
    "</div>"
   ]
  },
  {
   "cell_type": "code",
   "execution_count": 32,
   "id": "8e84a333",
   "metadata": {},
   "outputs": [
    {
     "data": {
      "text/plain": [
       "'C:\\\\Users\\\\Stephen\\\\OneDrive\\\\Northwestern\\\\422 ML'"
      ]
     },
     "execution_count": 32,
     "metadata": {},
     "output_type": "execute_result"
    }
   ],
   "source": [
    "%pwd"
   ]
  },
  {
   "cell_type": "code",
   "execution_count": 40,
   "id": "a1fdc641",
   "metadata": {},
   "outputs": [],
   "source": [
    "os.chdir(r'C:\\Users\\Stephen\\OneDrive\\Northwestern\\422 ML\\Dogs_v_Cats')"
   ]
  },
  {
   "cell_type": "code",
   "execution_count": 56,
   "id": "7612b7d0",
   "metadata": {},
   "outputs": [
    {
     "data": {
      "text/plain": [
       "'C:\\\\Users\\\\Stephen\\\\OneDrive\\\\Northwestern\\\\422 ML\\\\Dogs_v_Cats'"
      ]
     },
     "execution_count": 56,
     "metadata": {},
     "output_type": "execute_result"
    }
   ],
   "source": [
    "%pwd"
   ]
  },
  {
   "cell_type": "code",
   "execution_count": 51,
   "id": "1cd2bafe",
   "metadata": {},
   "outputs": [
    {
     "data": {
      "text/plain": [
       "'train\\\\cat\\\\cat.6194.jpg'"
      ]
     },
     "execution_count": 51,
     "metadata": {},
     "output_type": "execute_result"
    },
    {
     "data": {
      "text/plain": [
       "'train\\\\cat\\\\cat.1827.jpg'"
      ]
     },
     "execution_count": 51,
     "metadata": {},
     "output_type": "execute_result"
    },
    {
     "data": {
      "text/plain": [
       "'train\\\\cat\\\\cat.4919.jpg'"
      ]
     },
     "execution_count": 51,
     "metadata": {},
     "output_type": "execute_result"
    },
    {
     "data": {
      "text/plain": [
       "'train\\\\cat\\\\cat.12143.jpg'"
      ]
     },
     "execution_count": 51,
     "metadata": {},
     "output_type": "execute_result"
    },
    {
     "data": {
      "text/plain": [
       "'train\\\\cat\\\\cat.12038.jpg'"
      ]
     },
     "execution_count": 51,
     "metadata": {},
     "output_type": "execute_result"
    },
    {
     "data": {
      "text/plain": [
       "'train\\\\cat\\\\cat.5208.jpg'"
      ]
     },
     "execution_count": 51,
     "metadata": {},
     "output_type": "execute_result"
    },
    {
     "data": {
      "text/plain": [
       "'train\\\\cat\\\\cat.6422.jpg'"
      ]
     },
     "execution_count": 51,
     "metadata": {},
     "output_type": "execute_result"
    },
    {
     "data": {
      "text/plain": [
       "'train\\\\cat\\\\cat.3940.jpg'"
      ]
     },
     "execution_count": 51,
     "metadata": {},
     "output_type": "execute_result"
    },
    {
     "data": {
      "text/plain": [
       "'train\\\\cat\\\\cat.5114.jpg'"
      ]
     },
     "execution_count": 51,
     "metadata": {},
     "output_type": "execute_result"
    },
    {
     "data": {
      "text/plain": [
       "'train\\\\cat\\\\cat.9743.jpg'"
      ]
     },
     "execution_count": 51,
     "metadata": {},
     "output_type": "execute_result"
    },
    {
     "data": {
      "text/plain": [
       "'train\\\\cat\\\\cat.9638.jpg'"
      ]
     },
     "execution_count": 51,
     "metadata": {},
     "output_type": "execute_result"
    },
    {
     "data": {
      "text/plain": [
       "'train\\\\cat\\\\cat.7510.jpg'"
      ]
     },
     "execution_count": 51,
     "metadata": {},
     "output_type": "execute_result"
    },
    {
     "data": {
      "text/plain": [
       "'train\\\\cat\\\\cat.3236.jpg'"
      ]
     },
     "execution_count": 51,
     "metadata": {},
     "output_type": "execute_result"
    },
    {
     "data": {
      "text/plain": [
       "'train\\\\cat\\\\cat.4599.jpg'"
      ]
     },
     "execution_count": 51,
     "metadata": {},
     "output_type": "execute_result"
    },
    {
     "data": {
      "text/plain": [
       "'train\\\\cat\\\\cat.7477.jpg'"
      ]
     },
     "execution_count": 51,
     "metadata": {},
     "output_type": "execute_result"
    },
    {
     "data": {
      "text/plain": [
       "'train\\\\cat\\\\cat.3747.jpg'"
      ]
     },
     "execution_count": 51,
     "metadata": {},
     "output_type": "execute_result"
    },
    {
     "data": {
      "text/plain": [
       "'train\\\\cat\\\\cat.2098.jpg'"
      ]
     },
     "execution_count": 51,
     "metadata": {},
     "output_type": "execute_result"
    },
    {
     "data": {
      "text/plain": [
       "'train\\\\cat\\\\cat.5226.jpg'"
      ]
     },
     "execution_count": 51,
     "metadata": {},
     "output_type": "execute_result"
    },
    {
     "data": {
      "text/plain": [
       "'train\\\\cat\\\\cat.4828.jpg'"
      ]
     },
     "execution_count": 51,
     "metadata": {},
     "output_type": "execute_result"
    },
    {
     "data": {
      "text/plain": [
       "'train\\\\cat\\\\cat.215.jpg'"
      ]
     },
     "execution_count": 51,
     "metadata": {},
     "output_type": "execute_result"
    },
    {
     "data": {
      "text/plain": [
       "'train\\\\cat\\\\cat.6078.jpg'"
      ]
     },
     "execution_count": 51,
     "metadata": {},
     "output_type": "execute_result"
    },
    {
     "data": {
      "text/plain": [
       "'train\\\\cat\\\\cat.3544.jpg'"
      ]
     },
     "execution_count": 51,
     "metadata": {},
     "output_type": "execute_result"
    },
    {
     "data": {
      "text/plain": [
       "'train\\\\cat\\\\cat.8800.jpg'"
      ]
     },
     "execution_count": 51,
     "metadata": {},
     "output_type": "execute_result"
    },
    {
     "data": {
      "text/plain": [
       "'train\\\\cat\\\\cat.11412.jpg'"
      ]
     },
     "execution_count": 51,
     "metadata": {},
     "output_type": "execute_result"
    },
    {
     "data": {
      "text/plain": [
       "'train\\\\cat\\\\cat.2728.jpg'"
      ]
     },
     "execution_count": 51,
     "metadata": {},
     "output_type": "execute_result"
    },
    {
     "data": {
      "text/plain": [
       "'train\\\\cat\\\\cat.6504.jpg'"
      ]
     },
     "execution_count": 51,
     "metadata": {},
     "output_type": "execute_result"
    },
    {
     "data": {
      "text/plain": [
       "'train\\\\cat\\\\cat.4780.jpg'"
      ]
     },
     "execution_count": 51,
     "metadata": {},
     "output_type": "execute_result"
    },
    {
     "data": {
      "text/plain": [
       "'train\\\\cat\\\\cat.2289.jpg'"
      ]
     },
     "execution_count": 51,
     "metadata": {},
     "output_type": "execute_result"
    },
    {
     "data": {
      "text/plain": [
       "'train\\\\cat\\\\cat.9980.jpg'"
      ]
     },
     "execution_count": 51,
     "metadata": {},
     "output_type": "execute_result"
    },
    {
     "data": {
      "text/plain": [
       "'train\\\\cat\\\\cat.9859.jpg'"
      ]
     },
     "execution_count": 51,
     "metadata": {},
     "output_type": "execute_result"
    },
    {
     "data": {
      "text/plain": [
       "'train\\\\cat\\\\cat.6774.jpg'"
      ]
     },
     "execution_count": 51,
     "metadata": {},
     "output_type": "execute_result"
    },
    {
     "data": {
      "text/plain": [
       "'train\\\\cat\\\\cat.2150.jpg'"
      ]
     },
     "execution_count": 51,
     "metadata": {},
     "output_type": "execute_result"
    },
    {
     "data": {
      "text/plain": [
       "'train\\\\cat\\\\cat.2884.jpg'"
      ]
     },
     "execution_count": 51,
     "metadata": {},
     "output_type": "execute_result"
    },
    {
     "data": {
      "text/plain": [
       "'train\\\\cat\\\\cat.5414.jpg'"
      ]
     },
     "execution_count": 51,
     "metadata": {},
     "output_type": "execute_result"
    },
    {
     "data": {
      "text/plain": [
       "'train\\\\cat\\\\cat.12379.jpg'"
      ]
     },
     "execution_count": 51,
     "metadata": {},
     "output_type": "execute_result"
    },
    {
     "data": {
      "text/plain": [
       "'train\\\\cat\\\\cat.10087.jpg'"
      ]
     },
     "execution_count": 51,
     "metadata": {},
     "output_type": "execute_result"
    },
    {
     "data": {
      "text/plain": [
       "'train\\\\cat\\\\cat.9111.jpg'"
      ]
     },
     "execution_count": 51,
     "metadata": {},
     "output_type": "execute_result"
    },
    {
     "data": {
      "text/plain": [
       "'train\\\\cat\\\\cat.9030.jpg'"
      ]
     },
     "execution_count": 51,
     "metadata": {},
     "output_type": "execute_result"
    },
    {
     "data": {
      "text/plain": [
       "'train\\\\cat\\\\cat.6890.jpg'"
      ]
     },
     "execution_count": 51,
     "metadata": {},
     "output_type": "execute_result"
    },
    {
     "data": {
      "text/plain": [
       "'train\\\\cat\\\\cat.10277.jpg'"
      ]
     },
     "execution_count": 51,
     "metadata": {},
     "output_type": "execute_result"
    },
    {
     "data": {
      "text/plain": [
       "'train\\\\cat\\\\cat.1764.jpg'"
      ]
     },
     "execution_count": 51,
     "metadata": {},
     "output_type": "execute_result"
    },
    {
     "data": {
      "text/plain": [
       "'train\\\\cat\\\\cat.10911.jpg'"
      ]
     },
     "execution_count": 51,
     "metadata": {},
     "output_type": "execute_result"
    },
    {
     "data": {
      "text/plain": [
       "'train\\\\cat\\\\cat.8567.jpg'"
      ]
     },
     "execution_count": 51,
     "metadata": {},
     "output_type": "execute_result"
    },
    {
     "data": {
      "text/plain": [
       "'train\\\\cat\\\\cat.2425.jpg'"
      ]
     },
     "execution_count": 51,
     "metadata": {},
     "output_type": "execute_result"
    },
    {
     "data": {
      "text/plain": [
       "'train\\\\cat\\\\cat.6150.jpg'"
      ]
     },
     "execution_count": 51,
     "metadata": {},
     "output_type": "execute_result"
    },
    {
     "data": {
      "text/plain": [
       "'train\\\\cat\\\\cat.242.jpg'"
      ]
     },
     "execution_count": 51,
     "metadata": {},
     "output_type": "execute_result"
    },
    {
     "data": {
      "text/plain": [
       "'train\\\\cat\\\\cat.9824.jpg'"
      ]
     },
     "execution_count": 51,
     "metadata": {},
     "output_type": "execute_result"
    },
    {
     "data": {
      "text/plain": [
       "'train\\\\cat\\\\cat.7282.jpg'"
      ]
     },
     "execution_count": 51,
     "metadata": {},
     "output_type": "execute_result"
    },
    {
     "data": {
      "text/plain": [
       "'train\\\\cat\\\\cat.10987.jpg'"
      ]
     },
     "execution_count": 51,
     "metadata": {},
     "output_type": "execute_result"
    },
    {
     "data": {
      "text/plain": [
       "'train\\\\cat\\\\cat.6376.jpg'"
      ]
     },
     "execution_count": 51,
     "metadata": {},
     "output_type": "execute_result"
    },
    {
     "data": {
      "text/plain": [
       "'train\\\\cat\\\\cat.7899.jpg'"
      ]
     },
     "execution_count": 51,
     "metadata": {},
     "output_type": "execute_result"
    },
    {
     "data": {
      "text/plain": [
       "'train\\\\cat\\\\cat.5515.jpg'"
      ]
     },
     "execution_count": 51,
     "metadata": {},
     "output_type": "execute_result"
    },
    {
     "data": {
      "text/plain": [
       "'train\\\\cat\\\\cat.1345.jpg'"
      ]
     },
     "execution_count": 51,
     "metadata": {},
     "output_type": "execute_result"
    },
    {
     "data": {
      "text/plain": [
       "'train\\\\cat\\\\cat.9033.jpg'"
      ]
     },
     "execution_count": 51,
     "metadata": {},
     "output_type": "execute_result"
    },
    {
     "data": {
      "text/plain": [
       "'train\\\\cat\\\\cat.10096.jpg'"
      ]
     },
     "execution_count": 51,
     "metadata": {},
     "output_type": "execute_result"
    },
    {
     "data": {
      "text/plain": [
       "'train\\\\cat\\\\cat.3215.jpg'"
      ]
     },
     "execution_count": 51,
     "metadata": {},
     "output_type": "execute_result"
    },
    {
     "data": {
      "text/plain": [
       "'train\\\\cat\\\\cat.11818.jpg'"
      ]
     },
     "execution_count": 51,
     "metadata": {},
     "output_type": "execute_result"
    },
    {
     "data": {
      "text/plain": [
       "'train\\\\cat\\\\cat.11764.jpg'"
      ]
     },
     "execution_count": 51,
     "metadata": {},
     "output_type": "execute_result"
    },
    {
     "data": {
      "text/plain": [
       "'train\\\\cat\\\\cat.12165.jpg'"
      ]
     },
     "execution_count": 51,
     "metadata": {},
     "output_type": "execute_result"
    },
    {
     "data": {
      "text/plain": [
       "'train\\\\cat\\\\cat.8138.jpg'"
      ]
     },
     "execution_count": 51,
     "metadata": {},
     "output_type": "execute_result"
    },
    {
     "data": {
      "text/plain": [
       "'train\\\\cat\\\\cat.1043.jpg'"
      ]
     },
     "execution_count": 51,
     "metadata": {},
     "output_type": "execute_result"
    },
    {
     "data": {
      "text/plain": [
       "'train\\\\cat\\\\cat.6398.jpg'"
      ]
     },
     "execution_count": 51,
     "metadata": {},
     "output_type": "execute_result"
    },
    {
     "data": {
      "text/plain": [
       "'train\\\\cat\\\\cat.8619.jpg'"
      ]
     },
     "execution_count": 51,
     "metadata": {},
     "output_type": "execute_result"
    },
    {
     "data": {
      "text/plain": [
       "'train\\\\cat\\\\cat.6777.jpg'"
      ]
     },
     "execution_count": 51,
     "metadata": {},
     "output_type": "execute_result"
    },
    {
     "data": {
      "text/plain": [
       "'train\\\\cat\\\\cat.4732.jpg'"
      ]
     },
     "execution_count": 51,
     "metadata": {},
     "output_type": "execute_result"
    },
    {
     "data": {
      "text/plain": [
       "'train\\\\cat\\\\cat.6123.jpg'"
      ]
     },
     "execution_count": 51,
     "metadata": {},
     "output_type": "execute_result"
    },
    {
     "data": {
      "text/plain": [
       "'train\\\\cat\\\\cat.9117.jpg'"
      ]
     },
     "execution_count": 51,
     "metadata": {},
     "output_type": "execute_result"
    },
    {
     "data": {
      "text/plain": [
       "'train\\\\cat\\\\cat.9826.jpg'"
      ]
     },
     "execution_count": 51,
     "metadata": {},
     "output_type": "execute_result"
    },
    {
     "data": {
      "text/plain": [
       "'train\\\\cat\\\\cat.2258.jpg'"
      ]
     },
     "execution_count": 51,
     "metadata": {},
     "output_type": "execute_result"
    },
    {
     "data": {
      "text/plain": [
       "'train\\\\cat\\\\cat.7232.jpg'"
      ]
     },
     "execution_count": 51,
     "metadata": {},
     "output_type": "execute_result"
    },
    {
     "data": {
      "text/plain": [
       "'train\\\\cat\\\\cat.10078.jpg'"
      ]
     },
     "execution_count": 51,
     "metadata": {},
     "output_type": "execute_result"
    },
    {
     "data": {
      "text/plain": [
       "'train\\\\cat\\\\cat.5478.jpg'"
      ]
     },
     "execution_count": 51,
     "metadata": {},
     "output_type": "execute_result"
    },
    {
     "data": {
      "text/plain": [
       "'train\\\\cat\\\\cat.10863.jpg'"
      ]
     },
     "execution_count": 51,
     "metadata": {},
     "output_type": "execute_result"
    },
    {
     "data": {
      "text/plain": [
       "'train\\\\cat\\\\cat.1123.jpg'"
      ]
     },
     "execution_count": 51,
     "metadata": {},
     "output_type": "execute_result"
    },
    {
     "data": {
      "text/plain": [
       "'train\\\\cat\\\\cat.1282.jpg'"
      ]
     },
     "execution_count": 51,
     "metadata": {},
     "output_type": "execute_result"
    },
    {
     "data": {
      "text/plain": [
       "'train\\\\cat\\\\cat.2980.jpg'"
      ]
     },
     "execution_count": 51,
     "metadata": {},
     "output_type": "execute_result"
    },
    {
     "data": {
      "text/plain": [
       "'train\\\\cat\\\\cat.2873.jpg'"
      ]
     },
     "execution_count": 51,
     "metadata": {},
     "output_type": "execute_result"
    },
    {
     "data": {
      "text/plain": [
       "'train\\\\cat\\\\cat.8410.jpg'"
      ]
     },
     "execution_count": 51,
     "metadata": {},
     "output_type": "execute_result"
    },
    {
     "data": {
      "text/plain": [
       "'train\\\\cat\\\\cat.4248.jpg'"
      ]
     },
     "execution_count": 51,
     "metadata": {},
     "output_type": "execute_result"
    },
    {
     "data": {
      "text/plain": [
       "'train\\\\cat\\\\cat.4236.jpg'"
      ]
     },
     "execution_count": 51,
     "metadata": {},
     "output_type": "execute_result"
    },
    {
     "data": {
      "text/plain": [
       "'train\\\\cat\\\\cat.2480.jpg'"
      ]
     },
     "execution_count": 51,
     "metadata": {},
     "output_type": "execute_result"
    },
    {
     "data": {
      "text/plain": [
       "'train\\\\cat\\\\cat.5663.jpg'"
      ]
     },
     "execution_count": 51,
     "metadata": {},
     "output_type": "execute_result"
    },
    {
     "data": {
      "text/plain": [
       "'train\\\\cat\\\\cat.11264.jpg'"
      ]
     },
     "execution_count": 51,
     "metadata": {},
     "output_type": "execute_result"
    },
    {
     "data": {
      "text/plain": [
       "'train\\\\cat\\\\cat.192.jpg'"
      ]
     },
     "execution_count": 51,
     "metadata": {},
     "output_type": "execute_result"
    },
    {
     "data": {
      "text/plain": [
       "'train\\\\cat\\\\cat.7466.jpg'"
      ]
     },
     "execution_count": 51,
     "metadata": {},
     "output_type": "execute_result"
    },
    {
     "data": {
      "text/plain": [
       "'train\\\\cat\\\\cat.1130.jpg'"
      ]
     },
     "execution_count": 51,
     "metadata": {},
     "output_type": "execute_result"
    },
    {
     "data": {
      "text/plain": [
       "'train\\\\cat\\\\cat.10422.jpg'"
      ]
     },
     "execution_count": 51,
     "metadata": {},
     "output_type": "execute_result"
    },
    {
     "data": {
      "text/plain": [
       "'train\\\\cat\\\\cat.8620.jpg'"
      ]
     },
     "execution_count": 51,
     "metadata": {},
     "output_type": "execute_result"
    },
    {
     "data": {
      "text/plain": [
       "'train\\\\cat\\\\cat.3817.jpg'"
      ]
     },
     "execution_count": 51,
     "metadata": {},
     "output_type": "execute_result"
    },
    {
     "data": {
      "text/plain": [
       "'train\\\\cat\\\\cat.4664.jpg'"
      ]
     },
     "execution_count": 51,
     "metadata": {},
     "output_type": "execute_result"
    },
    {
     "data": {
      "text/plain": [
       "'train\\\\cat\\\\cat.3888.jpg'"
      ]
     },
     "execution_count": 51,
     "metadata": {},
     "output_type": "execute_result"
    },
    {
     "data": {
      "text/plain": [
       "'train\\\\cat\\\\cat.9807.jpg'"
      ]
     },
     "execution_count": 51,
     "metadata": {},
     "output_type": "execute_result"
    },
    {
     "data": {
      "text/plain": [
       "'train\\\\cat\\\\cat.6726.jpg'"
      ]
     },
     "execution_count": 51,
     "metadata": {},
     "output_type": "execute_result"
    },
    {
     "data": {
      "text/plain": [
       "'train\\\\cat\\\\cat.6266.jpg'"
      ]
     },
     "execution_count": 51,
     "metadata": {},
     "output_type": "execute_result"
    },
    {
     "data": {
      "text/plain": [
       "'train\\\\cat\\\\cat.2063.jpg'"
      ]
     },
     "execution_count": 51,
     "metadata": {},
     "output_type": "execute_result"
    },
    {
     "data": {
      "text/plain": [
       "'train\\\\cat\\\\cat.5162.jpg'"
      ]
     },
     "execution_count": 51,
     "metadata": {},
     "output_type": "execute_result"
    },
    {
     "data": {
      "text/plain": [
       "'train\\\\cat\\\\cat.5177.jpg'"
      ]
     },
     "execution_count": 51,
     "metadata": {},
     "output_type": "execute_result"
    },
    {
     "data": {
      "text/plain": [
       "'train\\\\cat\\\\cat.3064.jpg'"
      ]
     },
     "execution_count": 51,
     "metadata": {},
     "output_type": "execute_result"
    },
    {
     "data": {
      "text/plain": [
       "'train\\\\cat\\\\cat.4332.jpg'"
      ]
     },
     "execution_count": 51,
     "metadata": {},
     "output_type": "execute_result"
    },
    {
     "data": {
      "text/plain": [
       "'train\\\\cat\\\\cat.8175.jpg'"
      ]
     },
     "execution_count": 51,
     "metadata": {},
     "output_type": "execute_result"
    },
    {
     "data": {
      "text/plain": [
       "'train\\\\cat\\\\cat.8968.jpg'"
      ]
     },
     "execution_count": 51,
     "metadata": {},
     "output_type": "execute_result"
    },
    {
     "data": {
      "text/plain": [
       "'train\\\\cat\\\\cat.11942.jpg'"
      ]
     },
     "execution_count": 51,
     "metadata": {},
     "output_type": "execute_result"
    },
    {
     "data": {
      "text/plain": [
       "'train\\\\cat\\\\cat.3209.jpg'"
      ]
     },
     "execution_count": 51,
     "metadata": {},
     "output_type": "execute_result"
    },
    {
     "data": {
      "text/plain": [
       "'train\\\\cat\\\\cat.4258.jpg'"
      ]
     },
     "execution_count": 51,
     "metadata": {},
     "output_type": "execute_result"
    },
    {
     "data": {
      "text/plain": [
       "'train\\\\cat\\\\cat.884.jpg'"
      ]
     },
     "execution_count": 51,
     "metadata": {},
     "output_type": "execute_result"
    },
    {
     "data": {
      "text/plain": [
       "'train\\\\cat\\\\cat.5276.jpg'"
      ]
     },
     "execution_count": 51,
     "metadata": {},
     "output_type": "execute_result"
    },
    {
     "data": {
      "text/plain": [
       "'train\\\\cat\\\\cat.3439.jpg'"
      ]
     },
     "execution_count": 51,
     "metadata": {},
     "output_type": "execute_result"
    },
    {
     "data": {
      "text/plain": [
       "'train\\\\cat\\\\cat.1418.jpg'"
      ]
     },
     "execution_count": 51,
     "metadata": {},
     "output_type": "execute_result"
    },
    {
     "data": {
      "text/plain": [
       "'train\\\\cat\\\\cat.8427.jpg'"
      ]
     },
     "execution_count": 51,
     "metadata": {},
     "output_type": "execute_result"
    },
    {
     "data": {
      "text/plain": [
       "'train\\\\cat\\\\cat.3574.jpg'"
      ]
     },
     "execution_count": 51,
     "metadata": {},
     "output_type": "execute_result"
    },
    {
     "data": {
      "text/plain": [
       "'train\\\\cat\\\\cat.6107.jpg'"
      ]
     },
     "execution_count": 51,
     "metadata": {},
     "output_type": "execute_result"
    },
    {
     "data": {
      "text/plain": [
       "'train\\\\cat\\\\cat.10966.jpg'"
      ]
     },
     "execution_count": 51,
     "metadata": {},
     "output_type": "execute_result"
    },
    {
     "data": {
      "text/plain": [
       "'train\\\\cat\\\\cat.9820.jpg'"
      ]
     },
     "execution_count": 51,
     "metadata": {},
     "output_type": "execute_result"
    },
    {
     "data": {
      "text/plain": [
       "'train\\\\cat\\\\cat.866.jpg'"
      ]
     },
     "execution_count": 51,
     "metadata": {},
     "output_type": "execute_result"
    },
    {
     "data": {
      "text/plain": [
       "'train\\\\cat\\\\cat.12164.jpg'"
      ]
     },
     "execution_count": 51,
     "metadata": {},
     "output_type": "execute_result"
    },
    {
     "data": {
      "text/plain": [
       "'train\\\\cat\\\\cat.4693.jpg'"
      ]
     },
     "execution_count": 51,
     "metadata": {},
     "output_type": "execute_result"
    },
    {
     "data": {
      "text/plain": [
       "'train\\\\cat\\\\cat.3337.jpg'"
      ]
     },
     "execution_count": 51,
     "metadata": {},
     "output_type": "execute_result"
    },
    {
     "data": {
      "text/plain": [
       "'train\\\\cat\\\\cat.5029.jpg'"
      ]
     },
     "execution_count": 51,
     "metadata": {},
     "output_type": "execute_result"
    },
    {
     "data": {
      "text/plain": [
       "'train\\\\cat\\\\cat.12396.jpg'"
      ]
     },
     "execution_count": 51,
     "metadata": {},
     "output_type": "execute_result"
    },
    {
     "data": {
      "text/plain": [
       "'train\\\\cat\\\\cat.9295.jpg'"
      ]
     },
     "execution_count": 51,
     "metadata": {},
     "output_type": "execute_result"
    },
    {
     "data": {
      "text/plain": [
       "'train\\\\cat\\\\cat.7548.jpg'"
      ]
     },
     "execution_count": 51,
     "metadata": {},
     "output_type": "execute_result"
    },
    {
     "data": {
      "text/plain": [
       "'train\\\\cat\\\\cat.6978.jpg'"
      ]
     },
     "execution_count": 51,
     "metadata": {},
     "output_type": "execute_result"
    },
    {
     "data": {
      "text/plain": [
       "'train\\\\cat\\\\cat.1441.jpg'"
      ]
     },
     "execution_count": 51,
     "metadata": {},
     "output_type": "execute_result"
    },
    {
     "data": {
      "text/plain": [
       "'train\\\\cat\\\\cat.8471.jpg'"
      ]
     },
     "execution_count": 51,
     "metadata": {},
     "output_type": "execute_result"
    },
    {
     "data": {
      "text/plain": [
       "'train\\\\cat\\\\cat.6851.jpg'"
      ]
     },
     "execution_count": 51,
     "metadata": {},
     "output_type": "execute_result"
    },
    {
     "data": {
      "text/plain": [
       "'train\\\\cat\\\\cat.154.jpg'"
      ]
     },
     "execution_count": 51,
     "metadata": {},
     "output_type": "execute_result"
    },
    {
     "data": {
      "text/plain": [
       "'train\\\\cat\\\\cat.4439.jpg'"
      ]
     },
     "execution_count": 51,
     "metadata": {},
     "output_type": "execute_result"
    },
    {
     "data": {
      "text/plain": [
       "'train\\\\cat\\\\cat.2379.jpg'"
      ]
     },
     "execution_count": 51,
     "metadata": {},
     "output_type": "execute_result"
    },
    {
     "data": {
      "text/plain": [
       "'train\\\\cat\\\\cat.12290.jpg'"
      ]
     },
     "execution_count": 51,
     "metadata": {},
     "output_type": "execute_result"
    },
    {
     "data": {
      "text/plain": [
       "'train\\\\cat\\\\cat.5555.jpg'"
      ]
     },
     "execution_count": 51,
     "metadata": {},
     "output_type": "execute_result"
    },
    {
     "data": {
      "text/plain": [
       "'train\\\\cat\\\\cat.9727.jpg'"
      ]
     },
     "execution_count": 51,
     "metadata": {},
     "output_type": "execute_result"
    },
    {
     "data": {
      "text/plain": [
       "'train\\\\cat\\\\cat.2767.jpg'"
      ]
     },
     "execution_count": 51,
     "metadata": {},
     "output_type": "execute_result"
    },
    {
     "data": {
      "text/plain": [
       "'train\\\\cat\\\\cat.7174.jpg'"
      ]
     },
     "execution_count": 51,
     "metadata": {},
     "output_type": "execute_result"
    },
    {
     "data": {
      "text/plain": [
       "'train\\\\cat\\\\cat.4590.jpg'"
      ]
     },
     "execution_count": 51,
     "metadata": {},
     "output_type": "execute_result"
    },
    {
     "data": {
      "text/plain": [
       "'train\\\\cat\\\\cat.4604.jpg'"
      ]
     },
     "execution_count": 51,
     "metadata": {},
     "output_type": "execute_result"
    },
    {
     "data": {
      "text/plain": [
       "'train\\\\cat\\\\cat.6064.jpg'"
      ]
     },
     "execution_count": 51,
     "metadata": {},
     "output_type": "execute_result"
    },
    {
     "data": {
      "text/plain": [
       "'train\\\\cat\\\\cat.7264.jpg'"
      ]
     },
     "execution_count": 51,
     "metadata": {},
     "output_type": "execute_result"
    },
    {
     "data": {
      "text/plain": [
       "'train\\\\cat\\\\cat.11359.jpg'"
      ]
     },
     "execution_count": 51,
     "metadata": {},
     "output_type": "execute_result"
    },
    {
     "data": {
      "text/plain": [
       "'train\\\\cat\\\\cat.9164.jpg'"
      ]
     },
     "execution_count": 51,
     "metadata": {},
     "output_type": "execute_result"
    },
    {
     "data": {
      "text/plain": [
       "'train\\\\cat\\\\cat.4265.jpg'"
      ]
     },
     "execution_count": 51,
     "metadata": {},
     "output_type": "execute_result"
    },
    {
     "data": {
      "text/plain": [
       "'train\\\\cat\\\\cat.3220.jpg'"
      ]
     },
     "execution_count": 51,
     "metadata": {},
     "output_type": "execute_result"
    },
    {
     "data": {
      "text/plain": [
       "'train\\\\cat\\\\cat.10995.jpg'"
      ]
     },
     "execution_count": 51,
     "metadata": {},
     "output_type": "execute_result"
    },
    {
     "data": {
      "text/plain": [
       "'train\\\\cat\\\\cat.1843.jpg'"
      ]
     },
     "execution_count": 51,
     "metadata": {},
     "output_type": "execute_result"
    },
    {
     "data": {
      "text/plain": [
       "'train\\\\cat\\\\cat.10937.jpg'"
      ]
     },
     "execution_count": 51,
     "metadata": {},
     "output_type": "execute_result"
    },
    {
     "data": {
      "text/plain": [
       "'train\\\\cat\\\\cat.2565.jpg'"
      ]
     },
     "execution_count": 51,
     "metadata": {},
     "output_type": "execute_result"
    },
    {
     "data": {
      "text/plain": [
       "'train\\\\cat\\\\cat.12373.jpg'"
      ]
     },
     "execution_count": 51,
     "metadata": {},
     "output_type": "execute_result"
    },
    {
     "data": {
      "text/plain": [
       "'train\\\\cat\\\\cat.9785.jpg'"
      ]
     },
     "execution_count": 51,
     "metadata": {},
     "output_type": "execute_result"
    },
    {
     "data": {
      "text/plain": [
       "'train\\\\cat\\\\cat.83.jpg'"
      ]
     },
     "execution_count": 51,
     "metadata": {},
     "output_type": "execute_result"
    },
    {
     "data": {
      "text/plain": [
       "'train\\\\cat\\\\cat.5524.jpg'"
      ]
     },
     "execution_count": 51,
     "metadata": {},
     "output_type": "execute_result"
    },
    {
     "data": {
      "text/plain": [
       "'train\\\\cat\\\\cat.526.jpg'"
      ]
     },
     "execution_count": 51,
     "metadata": {},
     "output_type": "execute_result"
    },
    {
     "data": {
      "text/plain": [
       "'train\\\\cat\\\\cat.11554.jpg'"
      ]
     },
     "execution_count": 51,
     "metadata": {},
     "output_type": "execute_result"
    },
    {
     "data": {
      "text/plain": [
       "'train\\\\cat\\\\cat.448.jpg'"
      ]
     },
     "execution_count": 51,
     "metadata": {},
     "output_type": "execute_result"
    },
    {
     "data": {
      "text/plain": [
       "'train\\\\cat\\\\cat.8552.jpg'"
      ]
     },
     "execution_count": 51,
     "metadata": {},
     "output_type": "execute_result"
    },
    {
     "data": {
      "text/plain": [
       "'train\\\\cat\\\\cat.6815.jpg'"
      ]
     },
     "execution_count": 51,
     "metadata": {},
     "output_type": "execute_result"
    },
    {
     "data": {
      "text/plain": [
       "'train\\\\cat\\\\cat.995.jpg'"
      ]
     },
     "execution_count": 51,
     "metadata": {},
     "output_type": "execute_result"
    },
    {
     "data": {
      "text/plain": [
       "'train\\\\cat\\\\cat.11800.jpg'"
      ]
     },
     "execution_count": 51,
     "metadata": {},
     "output_type": "execute_result"
    },
    {
     "data": {
      "text/plain": [
       "'train\\\\cat\\\\cat.1471.jpg'"
      ]
     },
     "execution_count": 51,
     "metadata": {},
     "output_type": "execute_result"
    },
    {
     "data": {
      "text/plain": [
       "'train\\\\cat\\\\cat.8408.jpg'"
      ]
     },
     "execution_count": 51,
     "metadata": {},
     "output_type": "execute_result"
    },
    {
     "data": {
      "text/plain": [
       "'train\\\\cat\\\\cat.2057.jpg'"
      ]
     },
     "execution_count": 51,
     "metadata": {},
     "output_type": "execute_result"
    },
    {
     "data": {
      "text/plain": [
       "'train\\\\cat\\\\cat.8966.jpg'"
      ]
     },
     "execution_count": 51,
     "metadata": {},
     "output_type": "execute_result"
    },
    {
     "data": {
      "text/plain": [
       "'train\\\\cat\\\\cat.6057.jpg'"
      ]
     },
     "execution_count": 51,
     "metadata": {},
     "output_type": "execute_result"
    },
    {
     "data": {
      "text/plain": [
       "'train\\\\cat\\\\cat.115.jpg'"
      ]
     },
     "execution_count": 51,
     "metadata": {},
     "output_type": "execute_result"
    },
    {
     "data": {
      "text/plain": [
       "'train\\\\cat\\\\cat.3367.jpg'"
      ]
     },
     "execution_count": 51,
     "metadata": {},
     "output_type": "execute_result"
    },
    {
     "data": {
      "text/plain": [
       "'train\\\\cat\\\\cat.10333.jpg'"
      ]
     },
     "execution_count": 51,
     "metadata": {},
     "output_type": "execute_result"
    },
    {
     "data": {
      "text/plain": [
       "'train\\\\cat\\\\cat.3333.jpg'"
      ]
     },
     "execution_count": 51,
     "metadata": {},
     "output_type": "execute_result"
    },
    {
     "data": {
      "text/plain": [
       "'train\\\\cat\\\\cat.10092.jpg'"
      ]
     },
     "execution_count": 51,
     "metadata": {},
     "output_type": "execute_result"
    },
    {
     "data": {
      "text/plain": [
       "'train\\\\cat\\\\cat.2103.jpg'"
      ]
     },
     "execution_count": 51,
     "metadata": {},
     "output_type": "execute_result"
    },
    {
     "data": {
      "text/plain": [
       "'train\\\\cat\\\\cat.6989.jpg'"
      ]
     },
     "execution_count": 51,
     "metadata": {},
     "output_type": "execute_result"
    },
    {
     "data": {
      "text/plain": [
       "'train\\\\cat\\\\cat.2333.jpg'"
      ]
     },
     "execution_count": 51,
     "metadata": {},
     "output_type": "execute_result"
    },
    {
     "data": {
      "text/plain": [
       "'train\\\\cat\\\\cat.8475.jpg'"
      ]
     },
     "execution_count": 51,
     "metadata": {},
     "output_type": "execute_result"
    },
    {
     "data": {
      "text/plain": [
       "'train\\\\cat\\\\cat.397.jpg'"
      ]
     },
     "execution_count": 51,
     "metadata": {},
     "output_type": "execute_result"
    },
    {
     "data": {
      "text/plain": [
       "'train\\\\cat\\\\cat.10135.jpg'"
      ]
     },
     "execution_count": 51,
     "metadata": {},
     "output_type": "execute_result"
    },
    {
     "data": {
      "text/plain": [
       "'train\\\\cat\\\\cat.3543.jpg'"
      ]
     },
     "execution_count": 51,
     "metadata": {},
     "output_type": "execute_result"
    },
    {
     "data": {
      "text/plain": [
       "'train\\\\cat\\\\cat.5665.jpg'"
      ]
     },
     "execution_count": 51,
     "metadata": {},
     "output_type": "execute_result"
    },
    {
     "data": {
      "text/plain": [
       "'train\\\\cat\\\\cat.10827.jpg'"
      ]
     },
     "execution_count": 51,
     "metadata": {},
     "output_type": "execute_result"
    },
    {
     "data": {
      "text/plain": [
       "'train\\\\cat\\\\cat.2519.jpg'"
      ]
     },
     "execution_count": 51,
     "metadata": {},
     "output_type": "execute_result"
    },
    {
     "data": {
      "text/plain": [
       "'train\\\\cat\\\\cat.8132.jpg'"
      ]
     },
     "execution_count": 51,
     "metadata": {},
     "output_type": "execute_result"
    },
    {
     "data": {
      "text/plain": [
       "'train\\\\cat\\\\cat.547.jpg'"
      ]
     },
     "execution_count": 51,
     "metadata": {},
     "output_type": "execute_result"
    },
    {
     "data": {
      "text/plain": [
       "'train\\\\cat\\\\cat.4197.jpg'"
      ]
     },
     "execution_count": 51,
     "metadata": {},
     "output_type": "execute_result"
    },
    {
     "data": {
      "text/plain": [
       "'train\\\\cat\\\\cat.11383.jpg'"
      ]
     },
     "execution_count": 51,
     "metadata": {},
     "output_type": "execute_result"
    },
    {
     "data": {
      "text/plain": [
       "'train\\\\cat\\\\cat.10617.jpg'"
      ]
     },
     "execution_count": 51,
     "metadata": {},
     "output_type": "execute_result"
    },
    {
     "data": {
      "text/plain": [
       "'train\\\\cat\\\\cat.3880.jpg'"
      ]
     },
     "execution_count": 51,
     "metadata": {},
     "output_type": "execute_result"
    },
    {
     "data": {
      "text/plain": [
       "'train\\\\cat\\\\cat.7397.jpg'"
      ]
     },
     "execution_count": 51,
     "metadata": {},
     "output_type": "execute_result"
    },
    {
     "data": {
      "text/plain": [
       "'train\\\\cat\\\\cat.1347.jpg'"
      ]
     },
     "execution_count": 51,
     "metadata": {},
     "output_type": "execute_result"
    },
    {
     "data": {
      "text/plain": [
       "'train\\\\cat\\\\cat.5533.jpg'"
      ]
     },
     "execution_count": 51,
     "metadata": {},
     "output_type": "execute_result"
    },
    {
     "data": {
      "text/plain": [
       "'train\\\\cat\\\\cat.9211.jpg'"
      ]
     },
     "execution_count": 51,
     "metadata": {},
     "output_type": "execute_result"
    },
    {
     "data": {
      "text/plain": [
       "'train\\\\cat\\\\cat.1921.jpg'"
      ]
     },
     "execution_count": 51,
     "metadata": {},
     "output_type": "execute_result"
    },
    {
     "data": {
      "text/plain": [
       "'train\\\\cat\\\\cat.12103.jpg'"
      ]
     },
     "execution_count": 51,
     "metadata": {},
     "output_type": "execute_result"
    },
    {
     "data": {
      "text/plain": [
       "'train\\\\cat\\\\cat.1985.jpg'"
      ]
     },
     "execution_count": 51,
     "metadata": {},
     "output_type": "execute_result"
    },
    {
     "data": {
      "text/plain": [
       "'train\\\\cat\\\\cat.10142.jpg'"
      ]
     },
     "execution_count": 51,
     "metadata": {},
     "output_type": "execute_result"
    },
    {
     "data": {
      "text/plain": [
       "'train\\\\cat\\\\cat.8398.jpg'"
      ]
     },
     "execution_count": 51,
     "metadata": {},
     "output_type": "execute_result"
    },
    {
     "data": {
      "text/plain": [
       "'train\\\\cat\\\\cat.8573.jpg'"
      ]
     },
     "execution_count": 51,
     "metadata": {},
     "output_type": "execute_result"
    },
    {
     "data": {
      "text/plain": [
       "'train\\\\cat\\\\cat.8930.jpg'"
      ]
     },
     "execution_count": 51,
     "metadata": {},
     "output_type": "execute_result"
    },
    {
     "data": {
      "text/plain": [
       "'train\\\\cat\\\\cat.9662.jpg'"
      ]
     },
     "execution_count": 51,
     "metadata": {},
     "output_type": "execute_result"
    },
    {
     "data": {
      "text/plain": [
       "'train\\\\cat\\\\cat.533.jpg'"
      ]
     },
     "execution_count": 51,
     "metadata": {},
     "output_type": "execute_result"
    },
    {
     "data": {
      "text/plain": [
       "'train\\\\cat\\\\cat.2727.jpg'"
      ]
     },
     "execution_count": 51,
     "metadata": {},
     "output_type": "execute_result"
    },
    {
     "data": {
      "text/plain": [
       "'train\\\\cat\\\\cat.7990.jpg'"
      ]
     },
     "execution_count": 51,
     "metadata": {},
     "output_type": "execute_result"
    },
    {
     "data": {
      "text/plain": [
       "'train\\\\cat\\\\cat.9969.jpg'"
      ]
     },
     "execution_count": 51,
     "metadata": {},
     "output_type": "execute_result"
    },
    {
     "data": {
      "text/plain": [
       "'train\\\\cat\\\\cat.6391.jpg'"
      ]
     },
     "execution_count": 51,
     "metadata": {},
     "output_type": "execute_result"
    },
    {
     "data": {
      "text/plain": [
       "'train\\\\cat\\\\cat.4324.jpg'"
      ]
     },
     "execution_count": 51,
     "metadata": {},
     "output_type": "execute_result"
    },
    {
     "data": {
      "text/plain": [
       "'train\\\\cat\\\\cat.1297.jpg'"
      ]
     },
     "execution_count": 51,
     "metadata": {},
     "output_type": "execute_result"
    },
    {
     "data": {
      "text/plain": [
       "'train\\\\cat\\\\cat.1687.jpg'"
      ]
     },
     "execution_count": 51,
     "metadata": {},
     "output_type": "execute_result"
    },
    {
     "data": {
      "text/plain": [
       "'train\\\\cat\\\\cat.1479.jpg'"
      ]
     },
     "execution_count": 51,
     "metadata": {},
     "output_type": "execute_result"
    },
    {
     "data": {
      "text/plain": [
       "'train\\\\cat\\\\cat.9453.jpg'"
      ]
     },
     "execution_count": 51,
     "metadata": {},
     "output_type": "execute_result"
    },
    {
     "data": {
      "text/plain": [
       "'train\\\\cat\\\\cat.4001.jpg'"
      ]
     },
     "execution_count": 51,
     "metadata": {},
     "output_type": "execute_result"
    },
    {
     "data": {
      "text/plain": [
       "'train\\\\cat\\\\cat.2716.jpg'"
      ]
     },
     "execution_count": 51,
     "metadata": {},
     "output_type": "execute_result"
    },
    {
     "data": {
      "text/plain": [
       "'train\\\\cat\\\\cat.2734.jpg'"
      ]
     },
     "execution_count": 51,
     "metadata": {},
     "output_type": "execute_result"
    },
    {
     "data": {
      "text/plain": [
       "'train\\\\cat\\\\cat.8522.jpg'"
      ]
     },
     "execution_count": 51,
     "metadata": {},
     "output_type": "execute_result"
    },
    {
     "data": {
      "text/plain": [
       "'train\\\\cat\\\\cat.6462.jpg'"
      ]
     },
     "execution_count": 51,
     "metadata": {},
     "output_type": "execute_result"
    },
    {
     "data": {
      "text/plain": [
       "'train\\\\cat\\\\cat.11120.jpg'"
      ]
     },
     "execution_count": 51,
     "metadata": {},
     "output_type": "execute_result"
    },
    {
     "data": {
      "text/plain": [
       "'train\\\\cat\\\\cat.7485.jpg'"
      ]
     },
     "execution_count": 51,
     "metadata": {},
     "output_type": "execute_result"
    },
    {
     "data": {
      "text/plain": [
       "'train\\\\cat\\\\cat.8348.jpg'"
      ]
     },
     "execution_count": 51,
     "metadata": {},
     "output_type": "execute_result"
    },
    {
     "data": {
      "text/plain": [
       "'train\\\\cat\\\\cat.3224.jpg'"
      ]
     },
     "execution_count": 51,
     "metadata": {},
     "output_type": "execute_result"
    },
    {
     "data": {
      "text/plain": [
       "'train\\\\cat\\\\cat.11801.jpg'"
      ]
     },
     "execution_count": 51,
     "metadata": {},
     "output_type": "execute_result"
    },
    {
     "data": {
      "text/plain": [
       "'train\\\\cat\\\\cat.11938.jpg'"
      ]
     },
     "execution_count": 51,
     "metadata": {},
     "output_type": "execute_result"
    },
    {
     "data": {
      "text/plain": [
       "'train\\\\cat\\\\cat.3720.jpg'"
      ]
     },
     "execution_count": 51,
     "metadata": {},
     "output_type": "execute_result"
    },
    {
     "data": {
      "text/plain": [
       "'train\\\\cat\\\\cat.10329.jpg'"
      ]
     },
     "execution_count": 51,
     "metadata": {},
     "output_type": "execute_result"
    },
    {
     "data": {
      "text/plain": [
       "'train\\\\cat\\\\cat.2628.jpg'"
      ]
     },
     "execution_count": 51,
     "metadata": {},
     "output_type": "execute_result"
    },
    {
     "data": {
      "text/plain": [
       "'train\\\\cat\\\\cat.10776.jpg'"
      ]
     },
     "execution_count": 51,
     "metadata": {},
     "output_type": "execute_result"
    },
    {
     "data": {
      "text/plain": [
       "'train\\\\cat\\\\cat.12188.jpg'"
      ]
     },
     "execution_count": 51,
     "metadata": {},
     "output_type": "execute_result"
    },
    {
     "data": {
      "text/plain": [
       "'train\\\\cat\\\\cat.11509.jpg'"
      ]
     },
     "execution_count": 51,
     "metadata": {},
     "output_type": "execute_result"
    },
    {
     "data": {
      "text/plain": [
       "'train\\\\cat\\\\cat.249.jpg'"
      ]
     },
     "execution_count": 51,
     "metadata": {},
     "output_type": "execute_result"
    },
    {
     "data": {
      "text/plain": [
       "'train\\\\cat\\\\cat.1137.jpg'"
      ]
     },
     "execution_count": 51,
     "metadata": {},
     "output_type": "execute_result"
    },
    {
     "data": {
      "text/plain": [
       "'train\\\\cat\\\\cat.4752.jpg'"
      ]
     },
     "execution_count": 51,
     "metadata": {},
     "output_type": "execute_result"
    },
    {
     "data": {
      "text/plain": [
       "'train\\\\cat\\\\cat.1412.jpg'"
      ]
     },
     "execution_count": 51,
     "metadata": {},
     "output_type": "execute_result"
    },
    {
     "data": {
      "text/plain": [
       "'train\\\\cat\\\\cat.7704.jpg'"
      ]
     },
     "execution_count": 51,
     "metadata": {},
     "output_type": "execute_result"
    },
    {
     "data": {
      "text/plain": [
       "'train\\\\cat\\\\cat.10785.jpg'"
      ]
     },
     "execution_count": 51,
     "metadata": {},
     "output_type": "execute_result"
    },
    {
     "data": {
      "text/plain": [
       "'train\\\\cat\\\\cat.9234.jpg'"
      ]
     },
     "execution_count": 51,
     "metadata": {},
     "output_type": "execute_result"
    },
    {
     "data": {
      "text/plain": [
       "'train\\\\cat\\\\cat.10200.jpg'"
      ]
     },
     "execution_count": 51,
     "metadata": {},
     "output_type": "execute_result"
    },
    {
     "data": {
      "text/plain": [
       "'train\\\\cat\\\\cat.4577.jpg'"
      ]
     },
     "execution_count": 51,
     "metadata": {},
     "output_type": "execute_result"
    },
    {
     "data": {
      "text/plain": [
       "'train\\\\cat\\\\cat.4106.jpg'"
      ]
     },
     "execution_count": 51,
     "metadata": {},
     "output_type": "execute_result"
    },
    {
     "data": {
      "text/plain": [
       "'train\\\\cat\\\\cat.11611.jpg'"
      ]
     },
     "execution_count": 51,
     "metadata": {},
     "output_type": "execute_result"
    },
    {
     "data": {
      "text/plain": [
       "'train\\\\cat\\\\cat.9620.jpg'"
      ]
     },
     "execution_count": 51,
     "metadata": {},
     "output_type": "execute_result"
    },
    {
     "data": {
      "text/plain": [
       "'train\\\\cat\\\\cat.7342.jpg'"
      ]
     },
     "execution_count": 51,
     "metadata": {},
     "output_type": "execute_result"
    },
    {
     "data": {
      "text/plain": [
       "'train\\\\cat\\\\cat.11034.jpg'"
      ]
     },
     "execution_count": 51,
     "metadata": {},
     "output_type": "execute_result"
    },
    {
     "data": {
      "text/plain": [
       "'train\\\\cat\\\\cat.9949.jpg'"
      ]
     },
     "execution_count": 51,
     "metadata": {},
     "output_type": "execute_result"
    },
    {
     "data": {
      "text/plain": [
       "'train\\\\cat\\\\cat.7200.jpg'"
      ]
     },
     "execution_count": 51,
     "metadata": {},
     "output_type": "execute_result"
    },
    {
     "data": {
      "text/plain": [
       "'train\\\\cat\\\\cat.9656.jpg'"
      ]
     },
     "execution_count": 51,
     "metadata": {},
     "output_type": "execute_result"
    },
    {
     "data": {
      "text/plain": [
       "'train\\\\cat\\\\cat.5298.jpg'"
      ]
     },
     "execution_count": 51,
     "metadata": {},
     "output_type": "execute_result"
    },
    {
     "data": {
      "text/plain": [
       "'train\\\\cat\\\\cat.7050.jpg'"
      ]
     },
     "execution_count": 51,
     "metadata": {},
     "output_type": "execute_result"
    },
    {
     "data": {
      "text/plain": [
       "'train\\\\cat\\\\cat.70.jpg'"
      ]
     },
     "execution_count": 51,
     "metadata": {},
     "output_type": "execute_result"
    },
    {
     "data": {
      "text/plain": [
       "'train\\\\cat\\\\cat.525.jpg'"
      ]
     },
     "execution_count": 51,
     "metadata": {},
     "output_type": "execute_result"
    },
    {
     "data": {
      "text/plain": [
       "'train\\\\cat\\\\cat.8145.jpg'"
      ]
     },
     "execution_count": 51,
     "metadata": {},
     "output_type": "execute_result"
    },
    {
     "data": {
      "text/plain": [
       "'train\\\\cat\\\\cat.47.jpg'"
      ]
     },
     "execution_count": 51,
     "metadata": {},
     "output_type": "execute_result"
    },
    {
     "data": {
      "text/plain": [
       "'train\\\\cat\\\\cat.5398.jpg'"
      ]
     },
     "execution_count": 51,
     "metadata": {},
     "output_type": "execute_result"
    },
    {
     "data": {
      "text/plain": [
       "'train\\\\cat\\\\cat.6567.jpg'"
      ]
     },
     "execution_count": 51,
     "metadata": {},
     "output_type": "execute_result"
    },
    {
     "data": {
      "text/plain": [
       "'train\\\\cat\\\\cat.7571.jpg'"
      ]
     },
     "execution_count": 51,
     "metadata": {},
     "output_type": "execute_result"
    },
    {
     "data": {
      "text/plain": [
       "'train\\\\cat\\\\cat.4131.jpg'"
      ]
     },
     "execution_count": 51,
     "metadata": {},
     "output_type": "execute_result"
    },
    {
     "data": {
      "text/plain": [
       "'train\\\\cat\\\\cat.11188.jpg'"
      ]
     },
     "execution_count": 51,
     "metadata": {},
     "output_type": "execute_result"
    },
    {
     "data": {
      "text/plain": [
       "'train\\\\cat\\\\cat.2682.jpg'"
      ]
     },
     "execution_count": 51,
     "metadata": {},
     "output_type": "execute_result"
    },
    {
     "data": {
      "text/plain": [
       "'train\\\\cat\\\\cat.8670.jpg'"
      ]
     },
     "execution_count": 51,
     "metadata": {},
     "output_type": "execute_result"
    },
    {
     "data": {
      "text/plain": [
       "'train\\\\cat\\\\cat.5642.jpg'"
      ]
     },
     "execution_count": 51,
     "metadata": {},
     "output_type": "execute_result"
    },
    {
     "data": {
      "text/plain": [
       "'train\\\\cat\\\\cat.8059.jpg'"
      ]
     },
     "execution_count": 51,
     "metadata": {},
     "output_type": "execute_result"
    },
    {
     "data": {
      "text/plain": [
       "'train\\\\cat\\\\cat.4329.jpg'"
      ]
     },
     "execution_count": 51,
     "metadata": {},
     "output_type": "execute_result"
    },
    {
     "data": {
      "text/plain": [
       "'train\\\\cat\\\\cat.6977.jpg'"
      ]
     },
     "execution_count": 51,
     "metadata": {},
     "output_type": "execute_result"
    },
    {
     "data": {
      "text/plain": [
       "'train\\\\cat\\\\cat.5807.jpg'"
      ]
     },
     "execution_count": 51,
     "metadata": {},
     "output_type": "execute_result"
    },
    {
     "data": {
      "text/plain": [
       "'train\\\\cat\\\\cat.5805.jpg'"
      ]
     },
     "execution_count": 51,
     "metadata": {},
     "output_type": "execute_result"
    },
    {
     "data": {
      "text/plain": [
       "'train\\\\cat\\\\cat.5784.jpg'"
      ]
     },
     "execution_count": 51,
     "metadata": {},
     "output_type": "execute_result"
    },
    {
     "data": {
      "text/plain": [
       "'train\\\\cat\\\\cat.9337.jpg'"
      ]
     },
     "execution_count": 51,
     "metadata": {},
     "output_type": "execute_result"
    },
    {
     "data": {
      "text/plain": [
       "'train\\\\cat\\\\cat.11577.jpg'"
      ]
     },
     "execution_count": 51,
     "metadata": {},
     "output_type": "execute_result"
    },
    {
     "data": {
      "text/plain": [
       "'train\\\\cat\\\\cat.3504.jpg'"
      ]
     },
     "execution_count": 51,
     "metadata": {},
     "output_type": "execute_result"
    },
    {
     "data": {
      "text/plain": [
       "'train\\\\cat\\\\cat.10765.jpg'"
      ]
     },
     "execution_count": 51,
     "metadata": {},
     "output_type": "execute_result"
    },
    {
     "data": {
      "text/plain": [
       "'train\\\\cat\\\\cat.7164.jpg'"
      ]
     },
     "execution_count": 51,
     "metadata": {},
     "output_type": "execute_result"
    },
    {
     "data": {
      "text/plain": [
       "'train\\\\cat\\\\cat.7080.jpg'"
      ]
     },
     "execution_count": 51,
     "metadata": {},
     "output_type": "execute_result"
    },
    {
     "data": {
      "text/plain": [
       "'train\\\\cat\\\\cat.2064.jpg'"
      ]
     },
     "execution_count": 51,
     "metadata": {},
     "output_type": "execute_result"
    },
    {
     "data": {
      "text/plain": [
       "'train\\\\cat\\\\cat.7909.jpg'"
      ]
     },
     "execution_count": 51,
     "metadata": {},
     "output_type": "execute_result"
    },
    {
     "data": {
      "text/plain": [
       "'train\\\\cat\\\\cat.11621.jpg'"
      ]
     },
     "execution_count": 51,
     "metadata": {},
     "output_type": "execute_result"
    },
    {
     "data": {
      "text/plain": [
       "'train\\\\cat\\\\cat.1594.jpg'"
      ]
     },
     "execution_count": 51,
     "metadata": {},
     "output_type": "execute_result"
    },
    {
     "data": {
      "text/plain": [
       "'train\\\\cat\\\\cat.5542.jpg'"
      ]
     },
     "execution_count": 51,
     "metadata": {},
     "output_type": "execute_result"
    },
    {
     "data": {
      "text/plain": [
       "'train\\\\cat\\\\cat.1278.jpg'"
      ]
     },
     "execution_count": 51,
     "metadata": {},
     "output_type": "execute_result"
    },
    {
     "data": {
      "text/plain": [
       "'train\\\\cat\\\\cat.3429.jpg'"
      ]
     },
     "execution_count": 51,
     "metadata": {},
     "output_type": "execute_result"
    },
    {
     "data": {
      "text/plain": [
       "'train\\\\cat\\\\cat.11350.jpg'"
      ]
     },
     "execution_count": 51,
     "metadata": {},
     "output_type": "execute_result"
    },
    {
     "data": {
      "text/plain": [
       "'train\\\\cat\\\\cat.9505.jpg'"
      ]
     },
     "execution_count": 51,
     "metadata": {},
     "output_type": "execute_result"
    },
    {
     "data": {
      "text/plain": [
       "'train\\\\cat\\\\cat.10626.jpg'"
      ]
     },
     "execution_count": 51,
     "metadata": {},
     "output_type": "execute_result"
    },
    {
     "data": {
      "text/plain": [
       "'train\\\\cat\\\\cat.7437.jpg'"
      ]
     },
     "execution_count": 51,
     "metadata": {},
     "output_type": "execute_result"
    },
    {
     "data": {
      "text/plain": [
       "'train\\\\cat\\\\cat.12355.jpg'"
      ]
     },
     "execution_count": 51,
     "metadata": {},
     "output_type": "execute_result"
    },
    {
     "data": {
      "text/plain": [
       "'train\\\\cat\\\\cat.6828.jpg'"
      ]
     },
     "execution_count": 51,
     "metadata": {},
     "output_type": "execute_result"
    },
    {
     "data": {
      "text/plain": [
       "'train\\\\cat\\\\cat.4625.jpg'"
      ]
     },
     "execution_count": 51,
     "metadata": {},
     "output_type": "execute_result"
    },
    {
     "data": {
      "text/plain": [
       "'train\\\\cat\\\\cat.2960.jpg'"
      ]
     },
     "execution_count": 51,
     "metadata": {},
     "output_type": "execute_result"
    },
    {
     "data": {
      "text/plain": [
       "'train\\\\cat\\\\cat.11592.jpg'"
      ]
     },
     "execution_count": 51,
     "metadata": {},
     "output_type": "execute_result"
    },
    {
     "data": {
      "text/plain": [
       "'train\\\\cat\\\\cat.5408.jpg'"
      ]
     },
     "execution_count": 51,
     "metadata": {},
     "output_type": "execute_result"
    },
    {
     "data": {
      "text/plain": [
       "'train\\\\cat\\\\cat.9071.jpg'"
      ]
     },
     "execution_count": 51,
     "metadata": {},
     "output_type": "execute_result"
    },
    {
     "data": {
      "text/plain": [
       "'train\\\\cat\\\\cat.6147.jpg'"
      ]
     },
     "execution_count": 51,
     "metadata": {},
     "output_type": "execute_result"
    },
    {
     "data": {
      "text/plain": [
       "'train\\\\cat\\\\cat.7001.jpg'"
      ]
     },
     "execution_count": 51,
     "metadata": {},
     "output_type": "execute_result"
    },
    {
     "data": {
      "text/plain": [
       "'train\\\\cat\\\\cat.3494.jpg'"
      ]
     },
     "execution_count": 51,
     "metadata": {},
     "output_type": "execute_result"
    },
    {
     "data": {
      "text/plain": [
       "'train\\\\cat\\\\cat.10599.jpg'"
      ]
     },
     "execution_count": 51,
     "metadata": {},
     "output_type": "execute_result"
    },
    {
     "data": {
      "text/plain": [
       "'train\\\\cat\\\\cat.5795.jpg'"
      ]
     },
     "execution_count": 51,
     "metadata": {},
     "output_type": "execute_result"
    },
    {
     "data": {
      "text/plain": [
       "'train\\\\cat\\\\cat.7566.jpg'"
      ]
     },
     "execution_count": 51,
     "metadata": {},
     "output_type": "execute_result"
    },
    {
     "data": {
      "text/plain": [
       "'train\\\\cat\\\\cat.4368.jpg'"
      ]
     },
     "execution_count": 51,
     "metadata": {},
     "output_type": "execute_result"
    },
    {
     "data": {
      "text/plain": [
       "'train\\\\cat\\\\cat.6860.jpg'"
      ]
     },
     "execution_count": 51,
     "metadata": {},
     "output_type": "execute_result"
    },
    {
     "data": {
      "text/plain": [
       "'train\\\\cat\\\\cat.6613.jpg'"
      ]
     },
     "execution_count": 51,
     "metadata": {},
     "output_type": "execute_result"
    },
    {
     "data": {
      "text/plain": [
       "'train\\\\cat\\\\cat.2897.jpg'"
      ]
     },
     "execution_count": 51,
     "metadata": {},
     "output_type": "execute_result"
    },
    {
     "data": {
      "text/plain": [
       "'train\\\\cat\\\\cat.8425.jpg'"
      ]
     },
     "execution_count": 51,
     "metadata": {},
     "output_type": "execute_result"
    },
    {
     "data": {
      "text/plain": [
       "'train\\\\cat\\\\cat.4789.jpg'"
      ]
     },
     "execution_count": 51,
     "metadata": {},
     "output_type": "execute_result"
    },
    {
     "data": {
      "text/plain": [
       "'train\\\\cat\\\\cat.10463.jpg'"
      ]
     },
     "execution_count": 51,
     "metadata": {},
     "output_type": "execute_result"
    },
    {
     "data": {
      "text/plain": [
       "'train\\\\cat\\\\cat.2424.jpg'"
      ]
     },
     "execution_count": 51,
     "metadata": {},
     "output_type": "execute_result"
    },
    {
     "data": {
      "text/plain": [
       "'train\\\\cat\\\\cat.789.jpg'"
      ]
     },
     "execution_count": 51,
     "metadata": {},
     "output_type": "execute_result"
    },
    {
     "data": {
      "text/plain": [
       "'train\\\\cat\\\\cat.11446.jpg'"
      ]
     },
     "execution_count": 51,
     "metadata": {},
     "output_type": "execute_result"
    },
    {
     "data": {
      "text/plain": [
       "'train\\\\cat\\\\cat.8944.jpg'"
      ]
     },
     "execution_count": 51,
     "metadata": {},
     "output_type": "execute_result"
    },
    {
     "data": {
      "text/plain": [
       "'train\\\\cat\\\\cat.8262.jpg'"
      ]
     },
     "execution_count": 51,
     "metadata": {},
     "output_type": "execute_result"
    },
    {
     "data": {
      "text/plain": [
       "'train\\\\cat\\\\cat.4427.jpg'"
      ]
     },
     "execution_count": 51,
     "metadata": {},
     "output_type": "execute_result"
    },
    {
     "data": {
      "text/plain": [
       "'train\\\\cat\\\\cat.9005.jpg'"
      ]
     },
     "execution_count": 51,
     "metadata": {},
     "output_type": "execute_result"
    },
    {
     "data": {
      "text/plain": [
       "'train\\\\cat\\\\cat.5337.jpg'"
      ]
     },
     "execution_count": 51,
     "metadata": {},
     "output_type": "execute_result"
    },
    {
     "data": {
      "text/plain": [
       "'train\\\\cat\\\\cat.1700.jpg'"
      ]
     },
     "execution_count": 51,
     "metadata": {},
     "output_type": "execute_result"
    },
    {
     "data": {
      "text/plain": [
       "'train\\\\cat\\\\cat.12313.jpg'"
      ]
     },
     "execution_count": 51,
     "metadata": {},
     "output_type": "execute_result"
    },
    {
     "data": {
      "text/plain": [
       "'train\\\\cat\\\\cat.11836.jpg'"
      ]
     },
     "execution_count": 51,
     "metadata": {},
     "output_type": "execute_result"
    },
    {
     "data": {
      "text/plain": [
       "'train\\\\cat\\\\cat.1747.jpg'"
      ]
     },
     "execution_count": 51,
     "metadata": {},
     "output_type": "execute_result"
    },
    {
     "data": {
      "text/plain": [
       "'train\\\\cat\\\\cat.7732.jpg'"
      ]
     },
     "execution_count": 51,
     "metadata": {},
     "output_type": "execute_result"
    },
    {
     "data": {
      "text/plain": [
       "'train\\\\cat\\\\cat.10134.jpg'"
      ]
     },
     "execution_count": 51,
     "metadata": {},
     "output_type": "execute_result"
    },
    {
     "data": {
      "text/plain": [
       "'train\\\\cat\\\\cat.11015.jpg'"
      ]
     },
     "execution_count": 51,
     "metadata": {},
     "output_type": "execute_result"
    },
    {
     "data": {
      "text/plain": [
       "'train\\\\cat\\\\cat.1983.jpg'"
      ]
     },
     "execution_count": 51,
     "metadata": {},
     "output_type": "execute_result"
    },
    {
     "data": {
      "text/plain": [
       "'train\\\\cat\\\\cat.5062.jpg'"
      ]
     },
     "execution_count": 51,
     "metadata": {},
     "output_type": "execute_result"
    },
    {
     "data": {
      "text/plain": [
       "'train\\\\cat\\\\cat.1009.jpg'"
      ]
     },
     "execution_count": 51,
     "metadata": {},
     "output_type": "execute_result"
    },
    {
     "data": {
      "text/plain": [
       "'train\\\\cat\\\\cat.3273.jpg'"
      ]
     },
     "execution_count": 51,
     "metadata": {},
     "output_type": "execute_result"
    },
    {
     "data": {
      "text/plain": [
       "'train\\\\cat\\\\cat.4864.jpg'"
      ]
     },
     "execution_count": 51,
     "metadata": {},
     "output_type": "execute_result"
    },
    {
     "data": {
      "text/plain": [
       "'train\\\\cat\\\\cat.3645.jpg'"
      ]
     },
     "execution_count": 51,
     "metadata": {},
     "output_type": "execute_result"
    },
    {
     "data": {
      "text/plain": [
       "'train\\\\cat\\\\cat.2555.jpg'"
      ]
     },
     "execution_count": 51,
     "metadata": {},
     "output_type": "execute_result"
    },
    {
     "data": {
      "text/plain": [
       "'train\\\\cat\\\\cat.1099.jpg'"
      ]
     },
     "execution_count": 51,
     "metadata": {},
     "output_type": "execute_result"
    },
    {
     "data": {
      "text/plain": [
       "'train\\\\cat\\\\cat.7725.jpg'"
      ]
     },
     "execution_count": 51,
     "metadata": {},
     "output_type": "execute_result"
    },
    {
     "data": {
      "text/plain": [
       "'train\\\\cat\\\\cat.1519.jpg'"
      ]
     },
     "execution_count": 51,
     "metadata": {},
     "output_type": "execute_result"
    },
    {
     "data": {
      "text/plain": [
       "'train\\\\cat\\\\cat.4180.jpg'"
      ]
     },
     "execution_count": 51,
     "metadata": {},
     "output_type": "execute_result"
    },
    {
     "data": {
      "text/plain": [
       "'train\\\\cat\\\\cat.10378.jpg'"
      ]
     },
     "execution_count": 51,
     "metadata": {},
     "output_type": "execute_result"
    },
    {
     "data": {
      "text/plain": [
       "'train\\\\cat\\\\cat.4772.jpg'"
      ]
     },
     "execution_count": 51,
     "metadata": {},
     "output_type": "execute_result"
    },
    {
     "data": {
      "text/plain": [
       "'train\\\\cat\\\\cat.8015.jpg'"
      ]
     },
     "execution_count": 51,
     "metadata": {},
     "output_type": "execute_result"
    },
    {
     "data": {
      "text/plain": [
       "'train\\\\cat\\\\cat.1628.jpg'"
      ]
     },
     "execution_count": 51,
     "metadata": {},
     "output_type": "execute_result"
    },
    {
     "data": {
      "text/plain": [
       "'train\\\\cat\\\\cat.10069.jpg'"
      ]
     },
     "execution_count": 51,
     "metadata": {},
     "output_type": "execute_result"
    },
    {
     "data": {
      "text/plain": [
       "'train\\\\cat\\\\cat.6443.jpg'"
      ]
     },
     "execution_count": 51,
     "metadata": {},
     "output_type": "execute_result"
    },
    {
     "data": {
      "text/plain": [
       "'train\\\\cat\\\\cat.11544.jpg'"
      ]
     },
     "execution_count": 51,
     "metadata": {},
     "output_type": "execute_result"
    },
    {
     "data": {
      "text/plain": [
       "'train\\\\cat\\\\cat.8459.jpg'"
      ]
     },
     "execution_count": 51,
     "metadata": {},
     "output_type": "execute_result"
    },
    {
     "data": {
      "text/plain": [
       "'train\\\\cat\\\\cat.11348.jpg'"
      ]
     },
     "execution_count": 51,
     "metadata": {},
     "output_type": "execute_result"
    },
    {
     "data": {
      "text/plain": [
       "'train\\\\cat\\\\cat.8026.jpg'"
      ]
     },
     "execution_count": 51,
     "metadata": {},
     "output_type": "execute_result"
    },
    {
     "data": {
      "text/plain": [
       "'train\\\\cat\\\\cat.9988.jpg'"
      ]
     },
     "execution_count": 51,
     "metadata": {},
     "output_type": "execute_result"
    },
    {
     "data": {
      "text/plain": [
       "'train\\\\cat\\\\cat.3221.jpg'"
      ]
     },
     "execution_count": 51,
     "metadata": {},
     "output_type": "execute_result"
    },
    {
     "data": {
      "text/plain": [
       "'train\\\\cat\\\\cat.8646.jpg'"
      ]
     },
     "execution_count": 51,
     "metadata": {},
     "output_type": "execute_result"
    },
    {
     "data": {
      "text/plain": [
       "'train\\\\cat\\\\cat.10802.jpg'"
      ]
     },
     "execution_count": 51,
     "metadata": {},
     "output_type": "execute_result"
    },
    {
     "data": {
      "text/plain": [
       "'train\\\\cat\\\\cat.10435.jpg'"
      ]
     },
     "execution_count": 51,
     "metadata": {},
     "output_type": "execute_result"
    },
    {
     "data": {
      "text/plain": [
       "'train\\\\cat\\\\cat.4315.jpg'"
      ]
     },
     "execution_count": 51,
     "metadata": {},
     "output_type": "execute_result"
    },
    {
     "data": {
      "text/plain": [
       "'train\\\\cat\\\\cat.6651.jpg'"
      ]
     },
     "execution_count": 51,
     "metadata": {},
     "output_type": "execute_result"
    },
    {
     "data": {
      "text/plain": [
       "'train\\\\cat\\\\cat.4667.jpg'"
      ]
     },
     "execution_count": 51,
     "metadata": {},
     "output_type": "execute_result"
    },
    {
     "data": {
      "text/plain": [
       "'train\\\\cat\\\\cat.126.jpg'"
      ]
     },
     "execution_count": 51,
     "metadata": {},
     "output_type": "execute_result"
    },
    {
     "data": {
      "text/plain": [
       "'train\\\\cat\\\\cat.4233.jpg'"
      ]
     },
     "execution_count": 51,
     "metadata": {},
     "output_type": "execute_result"
    },
    {
     "data": {
      "text/plain": [
       "'train\\\\cat\\\\cat.2934.jpg'"
      ]
     },
     "execution_count": 51,
     "metadata": {},
     "output_type": "execute_result"
    },
    {
     "data": {
      "text/plain": [
       "'train\\\\cat\\\\cat.11315.jpg'"
      ]
     },
     "execution_count": 51,
     "metadata": {},
     "output_type": "execute_result"
    },
    {
     "data": {
      "text/plain": [
       "'train\\\\cat\\\\cat.11647.jpg'"
      ]
     },
     "execution_count": 51,
     "metadata": {},
     "output_type": "execute_result"
    },
    {
     "data": {
      "text/plain": [
       "'train\\\\cat\\\\cat.3709.jpg'"
      ]
     },
     "execution_count": 51,
     "metadata": {},
     "output_type": "execute_result"
    },
    {
     "data": {
      "text/plain": [
       "'train\\\\cat\\\\cat.9828.jpg'"
      ]
     },
     "execution_count": 51,
     "metadata": {},
     "output_type": "execute_result"
    },
    {
     "data": {
      "text/plain": [
       "'train\\\\cat\\\\cat.7312.jpg'"
      ]
     },
     "execution_count": 51,
     "metadata": {},
     "output_type": "execute_result"
    },
    {
     "data": {
      "text/plain": [
       "'train\\\\cat\\\\cat.6050.jpg'"
      ]
     },
     "execution_count": 51,
     "metadata": {},
     "output_type": "execute_result"
    },
    {
     "data": {
      "text/plain": [
       "'train\\\\cat\\\\cat.5466.jpg'"
      ]
     },
     "execution_count": 51,
     "metadata": {},
     "output_type": "execute_result"
    },
    {
     "data": {
      "text/plain": [
       "'train\\\\cat\\\\cat.5067.jpg'"
      ]
     },
     "execution_count": 51,
     "metadata": {},
     "output_type": "execute_result"
    },
    {
     "data": {
      "text/plain": [
       "'train\\\\cat\\\\cat.10075.jpg'"
      ]
     },
     "execution_count": 51,
     "metadata": {},
     "output_type": "execute_result"
    },
    {
     "data": {
      "text/plain": [
       "'train\\\\cat\\\\cat.1850.jpg'"
      ]
     },
     "execution_count": 51,
     "metadata": {},
     "output_type": "execute_result"
    },
    {
     "data": {
      "text/plain": [
       "'train\\\\cat\\\\cat.6751.jpg'"
      ]
     },
     "execution_count": 51,
     "metadata": {},
     "output_type": "execute_result"
    },
    {
     "data": {
      "text/plain": [
       "'train\\\\cat\\\\cat.6669.jpg'"
      ]
     },
     "execution_count": 51,
     "metadata": {},
     "output_type": "execute_result"
    },
    {
     "data": {
      "text/plain": [
       "'train\\\\cat\\\\cat.3901.jpg'"
      ]
     },
     "execution_count": 51,
     "metadata": {},
     "output_type": "execute_result"
    },
    {
     "data": {
      "text/plain": [
       "'train\\\\cat\\\\cat.9335.jpg'"
      ]
     },
     "execution_count": 51,
     "metadata": {},
     "output_type": "execute_result"
    },
    {
     "data": {
      "text/plain": [
       "'train\\\\cat\\\\cat.4072.jpg'"
      ]
     },
     "execution_count": 51,
     "metadata": {},
     "output_type": "execute_result"
    },
    {
     "data": {
      "text/plain": [
       "'train\\\\cat\\\\cat.9286.jpg'"
      ]
     },
     "execution_count": 51,
     "metadata": {},
     "output_type": "execute_result"
    },
    {
     "data": {
      "text/plain": [
       "'train\\\\cat\\\\cat.10049.jpg'"
      ]
     },
     "execution_count": 51,
     "metadata": {},
     "output_type": "execute_result"
    },
    {
     "data": {
      "text/plain": [
       "'train\\\\cat\\\\cat.2375.jpg'"
      ]
     },
     "execution_count": 51,
     "metadata": {},
     "output_type": "execute_result"
    },
    {
     "data": {
      "text/plain": [
       "'train\\\\cat\\\\cat.2442.jpg'"
      ]
     },
     "execution_count": 51,
     "metadata": {},
     "output_type": "execute_result"
    },
    {
     "data": {
      "text/plain": [
       "'train\\\\cat\\\\cat.10406.jpg'"
      ]
     },
     "execution_count": 51,
     "metadata": {},
     "output_type": "execute_result"
    },
    {
     "data": {
      "text/plain": [
       "'train\\\\cat\\\\cat.2627.jpg'"
      ]
     },
     "execution_count": 51,
     "metadata": {},
     "output_type": "execute_result"
    },
    {
     "data": {
      "text/plain": [
       "'train\\\\cat\\\\cat.11237.jpg'"
      ]
     },
     "execution_count": 51,
     "metadata": {},
     "output_type": "execute_result"
    },
    {
     "data": {
      "text/plain": [
       "'train\\\\cat\\\\cat.4686.jpg'"
      ]
     },
     "execution_count": 51,
     "metadata": {},
     "output_type": "execute_result"
    },
    {
     "data": {
      "text/plain": [
       "'train\\\\cat\\\\cat.7076.jpg'"
      ]
     },
     "execution_count": 51,
     "metadata": {},
     "output_type": "execute_result"
    },
    {
     "data": {
      "text/plain": [
       "'train\\\\cat\\\\cat.10410.jpg'"
      ]
     },
     "execution_count": 51,
     "metadata": {},
     "output_type": "execute_result"
    },
    {
     "data": {
      "text/plain": [
       "'train\\\\cat\\\\cat.4679.jpg'"
      ]
     },
     "execution_count": 51,
     "metadata": {},
     "output_type": "execute_result"
    },
    {
     "data": {
      "text/plain": [
       "'train\\\\cat\\\\cat.9204.jpg'"
      ]
     },
     "execution_count": 51,
     "metadata": {},
     "output_type": "execute_result"
    },
    {
     "data": {
      "text/plain": [
       "'train\\\\cat\\\\cat.10572.jpg'"
      ]
     },
     "execution_count": 51,
     "metadata": {},
     "output_type": "execute_result"
    },
    {
     "data": {
      "text/plain": [
       "'train\\\\cat\\\\cat.10554.jpg'"
      ]
     },
     "execution_count": 51,
     "metadata": {},
     "output_type": "execute_result"
    },
    {
     "data": {
      "text/plain": [
       "'train\\\\cat\\\\cat.299.jpg'"
      ]
     },
     "execution_count": 51,
     "metadata": {},
     "output_type": "execute_result"
    },
    {
     "data": {
      "text/plain": [
       "'train\\\\cat\\\\cat.1741.jpg'"
      ]
     },
     "execution_count": 51,
     "metadata": {},
     "output_type": "execute_result"
    },
    {
     "data": {
      "text/plain": [
       "'train\\\\cat\\\\cat.6625.jpg'"
      ]
     },
     "execution_count": 51,
     "metadata": {},
     "output_type": "execute_result"
    },
    {
     "data": {
      "text/plain": [
       "'train\\\\cat\\\\cat.9687.jpg'"
      ]
     },
     "execution_count": 51,
     "metadata": {},
     "output_type": "execute_result"
    },
    {
     "data": {
      "text/plain": [
       "'train\\\\cat\\\\cat.10377.jpg'"
      ]
     },
     "execution_count": 51,
     "metadata": {},
     "output_type": "execute_result"
    },
    {
     "data": {
      "text/plain": [
       "'train\\\\cat\\\\cat.8151.jpg'"
      ]
     },
     "execution_count": 51,
     "metadata": {},
     "output_type": "execute_result"
    },
    {
     "data": {
      "text/plain": [
       "'train\\\\cat\\\\cat.3953.jpg'"
      ]
     },
     "execution_count": 51,
     "metadata": {},
     "output_type": "execute_result"
    },
    {
     "data": {
      "text/plain": [
       "'train\\\\cat\\\\cat.11767.jpg'"
      ]
     },
     "execution_count": 51,
     "metadata": {},
     "output_type": "execute_result"
    },
    {
     "data": {
      "text/plain": [
       "'train\\\\cat\\\\cat.11218.jpg'"
      ]
     },
     "execution_count": 51,
     "metadata": {},
     "output_type": "execute_result"
    },
    {
     "data": {
      "text/plain": [
       "'train\\\\cat\\\\cat.1652.jpg'"
      ]
     },
     "execution_count": 51,
     "metadata": {},
     "output_type": "execute_result"
    },
    {
     "data": {
      "text/plain": [
       "'train\\\\cat\\\\cat.11280.jpg'"
      ]
     },
     "execution_count": 51,
     "metadata": {},
     "output_type": "execute_result"
    },
    {
     "data": {
      "text/plain": [
       "'train\\\\cat\\\\cat.9867.jpg'"
      ]
     },
     "execution_count": 51,
     "metadata": {},
     "output_type": "execute_result"
    },
    {
     "data": {
      "text/plain": [
       "'train\\\\cat\\\\cat.6440.jpg'"
      ]
     },
     "execution_count": 51,
     "metadata": {},
     "output_type": "execute_result"
    },
    {
     "data": {
      "text/plain": [
       "'train\\\\cat\\\\cat.12476.jpg'"
      ]
     },
     "execution_count": 51,
     "metadata": {},
     "output_type": "execute_result"
    },
    {
     "data": {
      "text/plain": [
       "'train\\\\cat\\\\cat.8374.jpg'"
      ]
     },
     "execution_count": 51,
     "metadata": {},
     "output_type": "execute_result"
    },
    {
     "data": {
      "text/plain": [
       "'train\\\\cat\\\\cat.3286.jpg'"
      ]
     },
     "execution_count": 51,
     "metadata": {},
     "output_type": "execute_result"
    },
    {
     "data": {
      "text/plain": [
       "'train\\\\cat\\\\cat.4231.jpg'"
      ]
     },
     "execution_count": 51,
     "metadata": {},
     "output_type": "execute_result"
    },
    {
     "data": {
      "text/plain": [
       "'train\\\\cat\\\\cat.4300.jpg'"
      ]
     },
     "execution_count": 51,
     "metadata": {},
     "output_type": "execute_result"
    },
    {
     "data": {
      "text/plain": [
       "'train\\\\cat\\\\cat.1082.jpg'"
      ]
     },
     "execution_count": 51,
     "metadata": {},
     "output_type": "execute_result"
    },
    {
     "data": {
      "text/plain": [
       "'train\\\\cat\\\\cat.6775.jpg'"
      ]
     },
     "execution_count": 51,
     "metadata": {},
     "output_type": "execute_result"
    },
    {
     "data": {
      "text/plain": [
       "'train\\\\cat\\\\cat.2086.jpg'"
      ]
     },
     "execution_count": 51,
     "metadata": {},
     "output_type": "execute_result"
    },
    {
     "data": {
      "text/plain": [
       "'train\\\\cat\\\\cat.5035.jpg'"
      ]
     },
     "execution_count": 51,
     "metadata": {},
     "output_type": "execute_result"
    },
    {
     "data": {
      "text/plain": [
       "'train\\\\cat\\\\cat.10528.jpg'"
      ]
     },
     "execution_count": 51,
     "metadata": {},
     "output_type": "execute_result"
    },
    {
     "data": {
      "text/plain": [
       "'train\\\\cat\\\\cat.11464.jpg'"
      ]
     },
     "execution_count": 51,
     "metadata": {},
     "output_type": "execute_result"
    },
    {
     "data": {
      "text/plain": [
       "'train\\\\cat\\\\cat.10006.jpg'"
      ]
     },
     "execution_count": 51,
     "metadata": {},
     "output_type": "execute_result"
    },
    {
     "data": {
      "text/plain": [
       "'train\\\\cat\\\\cat.10186.jpg'"
      ]
     },
     "execution_count": 51,
     "metadata": {},
     "output_type": "execute_result"
    },
    {
     "data": {
      "text/plain": [
       "'train\\\\cat\\\\cat.7556.jpg'"
      ]
     },
     "execution_count": 51,
     "metadata": {},
     "output_type": "execute_result"
    },
    {
     "data": {
      "text/plain": [
       "'train\\\\cat\\\\cat.3167.jpg'"
      ]
     },
     "execution_count": 51,
     "metadata": {},
     "output_type": "execute_result"
    },
    {
     "data": {
      "text/plain": [
       "'train\\\\cat\\\\cat.10286.jpg'"
      ]
     },
     "execution_count": 51,
     "metadata": {},
     "output_type": "execute_result"
    },
    {
     "data": {
      "text/plain": [
       "'train\\\\cat\\\\cat.11906.jpg'"
      ]
     },
     "execution_count": 51,
     "metadata": {},
     "output_type": "execute_result"
    },
    {
     "data": {
      "text/plain": [
       "'train\\\\cat\\\\cat.6202.jpg'"
      ]
     },
     "execution_count": 51,
     "metadata": {},
     "output_type": "execute_result"
    },
    {
     "data": {
      "text/plain": [
       "'train\\\\cat\\\\cat.5745.jpg'"
      ]
     },
     "execution_count": 51,
     "metadata": {},
     "output_type": "execute_result"
    },
    {
     "data": {
      "text/plain": [
       "'train\\\\cat\\\\cat.4683.jpg'"
      ]
     },
     "execution_count": 51,
     "metadata": {},
     "output_type": "execute_result"
    },
    {
     "data": {
      "text/plain": [
       "'train\\\\cat\\\\cat.723.jpg'"
      ]
     },
     "execution_count": 51,
     "metadata": {},
     "output_type": "execute_result"
    },
    {
     "data": {
      "text/plain": [
       "'train\\\\cat\\\\cat.3521.jpg'"
      ]
     },
     "execution_count": 51,
     "metadata": {},
     "output_type": "execute_result"
    },
    {
     "data": {
      "text/plain": [
       "'train\\\\cat\\\\cat.10323.jpg'"
      ]
     },
     "execution_count": 51,
     "metadata": {},
     "output_type": "execute_result"
    },
    {
     "data": {
      "text/plain": [
       "'train\\\\cat\\\\cat.7624.jpg'"
      ]
     },
     "execution_count": 51,
     "metadata": {},
     "output_type": "execute_result"
    },
    {
     "data": {
      "text/plain": [
       "'train\\\\cat\\\\cat.11029.jpg'"
      ]
     },
     "execution_count": 51,
     "metadata": {},
     "output_type": "execute_result"
    },
    {
     "data": {
      "text/plain": [
       "'train\\\\cat\\\\cat.7101.jpg'"
      ]
     },
     "execution_count": 51,
     "metadata": {},
     "output_type": "execute_result"
    },
    {
     "data": {
      "text/plain": [
       "'train\\\\cat\\\\cat.2118.jpg'"
      ]
     },
     "execution_count": 51,
     "metadata": {},
     "output_type": "execute_result"
    },
    {
     "data": {
      "text/plain": [
       "'train\\\\cat\\\\cat.6170.jpg'"
      ]
     },
     "execution_count": 51,
     "metadata": {},
     "output_type": "execute_result"
    },
    {
     "data": {
      "text/plain": [
       "'train\\\\cat\\\\cat.2999.jpg'"
      ]
     },
     "execution_count": 51,
     "metadata": {},
     "output_type": "execute_result"
    },
    {
     "data": {
      "text/plain": [
       "'train\\\\cat\\\\cat.10182.jpg'"
      ]
     },
     "execution_count": 51,
     "metadata": {},
     "output_type": "execute_result"
    },
    {
     "data": {
      "text/plain": [
       "'train\\\\cat\\\\cat.11779.jpg'"
      ]
     },
     "execution_count": 51,
     "metadata": {},
     "output_type": "execute_result"
    },
    {
     "data": {
      "text/plain": [
       "'train\\\\cat\\\\cat.1970.jpg'"
      ]
     },
     "execution_count": 51,
     "metadata": {},
     "output_type": "execute_result"
    },
    {
     "data": {
      "text/plain": [
       "'train\\\\cat\\\\cat.11049.jpg'"
      ]
     },
     "execution_count": 51,
     "metadata": {},
     "output_type": "execute_result"
    },
    {
     "data": {
      "text/plain": [
       "'train\\\\cat\\\\cat.7260.jpg'"
      ]
     },
     "execution_count": 51,
     "metadata": {},
     "output_type": "execute_result"
    },
    {
     "data": {
      "text/plain": [
       "'train\\\\cat\\\\cat.4391.jpg'"
      ]
     },
     "execution_count": 51,
     "metadata": {},
     "output_type": "execute_result"
    },
    {
     "data": {
      "text/plain": [
       "'train\\\\cat\\\\cat.6155.jpg'"
      ]
     },
     "execution_count": 51,
     "metadata": {},
     "output_type": "execute_result"
    },
    {
     "data": {
      "text/plain": [
       "'train\\\\cat\\\\cat.9503.jpg'"
      ]
     },
     "execution_count": 51,
     "metadata": {},
     "output_type": "execute_result"
    },
    {
     "data": {
      "text/plain": [
       "'train\\\\cat\\\\cat.5893.jpg'"
      ]
     },
     "execution_count": 51,
     "metadata": {},
     "output_type": "execute_result"
    },
    {
     "data": {
      "text/plain": [
       "'train\\\\cat\\\\cat.4557.jpg'"
      ]
     },
     "execution_count": 51,
     "metadata": {},
     "output_type": "execute_result"
    },
    {
     "data": {
      "text/plain": [
       "'train\\\\cat\\\\cat.9521.jpg'"
      ]
     },
     "execution_count": 51,
     "metadata": {},
     "output_type": "execute_result"
    },
    {
     "data": {
      "text/plain": [
       "'train\\\\cat\\\\cat.8761.jpg'"
      ]
     },
     "execution_count": 51,
     "metadata": {},
     "output_type": "execute_result"
    },
    {
     "data": {
      "text/plain": [
       "'train\\\\cat\\\\cat.528.jpg'"
      ]
     },
     "execution_count": 51,
     "metadata": {},
     "output_type": "execute_result"
    },
    {
     "data": {
      "text/plain": [
       "'train\\\\cat\\\\cat.12078.jpg'"
      ]
     },
     "execution_count": 51,
     "metadata": {},
     "output_type": "execute_result"
    },
    {
     "data": {
      "text/plain": [
       "'train\\\\cat\\\\cat.11529.jpg'"
      ]
     },
     "execution_count": 51,
     "metadata": {},
     "output_type": "execute_result"
    },
    {
     "data": {
      "text/plain": [
       "'train\\\\cat\\\\cat.229.jpg'"
      ]
     },
     "execution_count": 51,
     "metadata": {},
     "output_type": "execute_result"
    },
    {
     "data": {
      "text/plain": [
       "'train\\\\cat\\\\cat.10482.jpg'"
      ]
     },
     "execution_count": 51,
     "metadata": {},
     "output_type": "execute_result"
    },
    {
     "data": {
      "text/plain": [
       "'train\\\\cat\\\\cat.5310.jpg'"
      ]
     },
     "execution_count": 51,
     "metadata": {},
     "output_type": "execute_result"
    },
    {
     "data": {
      "text/plain": [
       "'train\\\\cat\\\\cat.11033.jpg'"
      ]
     },
     "execution_count": 51,
     "metadata": {},
     "output_type": "execute_result"
    },
    {
     "data": {
      "text/plain": [
       "'train\\\\cat\\\\cat.10768.jpg'"
      ]
     },
     "execution_count": 51,
     "metadata": {},
     "output_type": "execute_result"
    },
    {
     "data": {
      "text/plain": [
       "'train\\\\cat\\\\cat.2456.jpg'"
      ]
     },
     "execution_count": 51,
     "metadata": {},
     "output_type": "execute_result"
    },
    {
     "data": {
      "text/plain": [
       "'train\\\\cat\\\\cat.2820.jpg'"
      ]
     },
     "execution_count": 51,
     "metadata": {},
     "output_type": "execute_result"
    },
    {
     "data": {
      "text/plain": [
       "'train\\\\cat\\\\cat.5679.jpg'"
      ]
     },
     "execution_count": 51,
     "metadata": {},
     "output_type": "execute_result"
    },
    {
     "data": {
      "text/plain": [
       "'train\\\\cat\\\\cat.5690.jpg'"
      ]
     },
     "execution_count": 51,
     "metadata": {},
     "output_type": "execute_result"
    },
    {
     "data": {
      "text/plain": [
       "'train\\\\cat\\\\cat.9865.jpg'"
      ]
     },
     "execution_count": 51,
     "metadata": {},
     "output_type": "execute_result"
    },
    {
     "data": {
      "text/plain": [
       "'train\\\\cat\\\\cat.1264.jpg'"
      ]
     },
     "execution_count": 51,
     "metadata": {},
     "output_type": "execute_result"
    },
    {
     "data": {
      "text/plain": [
       "'train\\\\cat\\\\cat.102.jpg'"
      ]
     },
     "execution_count": 51,
     "metadata": {},
     "output_type": "execute_result"
    },
    {
     "data": {
      "text/plain": [
       "'train\\\\cat\\\\cat.3341.jpg'"
      ]
     },
     "execution_count": 51,
     "metadata": {},
     "output_type": "execute_result"
    },
    {
     "data": {
      "text/plain": [
       "'train\\\\cat\\\\cat.1374.jpg'"
      ]
     },
     "execution_count": 51,
     "metadata": {},
     "output_type": "execute_result"
    },
    {
     "data": {
      "text/plain": [
       "'train\\\\cat\\\\cat.11960.jpg'"
      ]
     },
     "execution_count": 51,
     "metadata": {},
     "output_type": "execute_result"
    },
    {
     "data": {
      "text/plain": [
       "'train\\\\cat\\\\cat.6803.jpg'"
      ]
     },
     "execution_count": 51,
     "metadata": {},
     "output_type": "execute_result"
    },
    {
     "data": {
      "text/plain": [
       "'train\\\\cat\\\\cat.3696.jpg'"
      ]
     },
     "execution_count": 51,
     "metadata": {},
     "output_type": "execute_result"
    },
    {
     "data": {
      "text/plain": [
       "'train\\\\cat\\\\cat.6183.jpg'"
      ]
     },
     "execution_count": 51,
     "metadata": {},
     "output_type": "execute_result"
    },
    {
     "data": {
      "text/plain": [
       "'train\\\\cat\\\\cat.5543.jpg'"
      ]
     },
     "execution_count": 51,
     "metadata": {},
     "output_type": "execute_result"
    },
    {
     "data": {
      "text/plain": [
       "'train\\\\cat\\\\cat.5292.jpg'"
      ]
     },
     "execution_count": 51,
     "metadata": {},
     "output_type": "execute_result"
    },
    {
     "data": {
      "text/plain": [
       "'train\\\\cat\\\\cat.3068.jpg'"
      ]
     },
     "execution_count": 51,
     "metadata": {},
     "output_type": "execute_result"
    },
    {
     "data": {
      "text/plain": [
       "'train\\\\cat\\\\cat.2705.jpg'"
      ]
     },
     "execution_count": 51,
     "metadata": {},
     "output_type": "execute_result"
    },
    {
     "data": {
      "text/plain": [
       "'train\\\\cat\\\\cat.8347.jpg'"
      ]
     },
     "execution_count": 51,
     "metadata": {},
     "output_type": "execute_result"
    },
    {
     "data": {
      "text/plain": [
       "'train\\\\cat\\\\cat.9832.jpg'"
      ]
     },
     "execution_count": 51,
     "metadata": {},
     "output_type": "execute_result"
    },
    {
     "data": {
      "text/plain": [
       "'train\\\\cat\\\\cat.4567.jpg'"
      ]
     },
     "execution_count": 51,
     "metadata": {},
     "output_type": "execute_result"
    },
    {
     "data": {
      "text/plain": [
       "'train\\\\cat\\\\cat.2293.jpg'"
      ]
     },
     "execution_count": 51,
     "metadata": {},
     "output_type": "execute_result"
    },
    {
     "data": {
      "text/plain": [
       "'train\\\\cat\\\\cat.3640.jpg'"
      ]
     },
     "execution_count": 51,
     "metadata": {},
     "output_type": "execute_result"
    },
    {
     "data": {
      "text/plain": [
       "'train\\\\cat\\\\cat.4499.jpg'"
      ]
     },
     "execution_count": 51,
     "metadata": {},
     "output_type": "execute_result"
    },
    {
     "data": {
      "text/plain": [
       "'train\\\\cat\\\\cat.2507.jpg'"
      ]
     },
     "execution_count": 51,
     "metadata": {},
     "output_type": "execute_result"
    },
    {
     "data": {
      "text/plain": [
       "'train\\\\cat\\\\cat.3837.jpg'"
      ]
     },
     "execution_count": 51,
     "metadata": {},
     "output_type": "execute_result"
    },
    {
     "data": {
      "text/plain": [
       "'train\\\\cat\\\\cat.4046.jpg'"
      ]
     },
     "execution_count": 51,
     "metadata": {},
     "output_type": "execute_result"
    },
    {
     "data": {
      "text/plain": [
       "'train\\\\cat\\\\cat.2388.jpg'"
      ]
     },
     "execution_count": 51,
     "metadata": {},
     "output_type": "execute_result"
    },
    {
     "data": {
      "text/plain": [
       "'train\\\\cat\\\\cat.9904.jpg'"
      ]
     },
     "execution_count": 51,
     "metadata": {},
     "output_type": "execute_result"
    },
    {
     "data": {
      "text/plain": [
       "'train\\\\cat\\\\cat.6311.jpg'"
      ]
     },
     "execution_count": 51,
     "metadata": {},
     "output_type": "execute_result"
    },
    {
     "data": {
      "text/plain": [
       "'train\\\\cat\\\\cat.4570.jpg'"
      ]
     },
     "execution_count": 51,
     "metadata": {},
     "output_type": "execute_result"
    },
    {
     "data": {
      "text/plain": [
       "'train\\\\cat\\\\cat.5304.jpg'"
      ]
     },
     "execution_count": 51,
     "metadata": {},
     "output_type": "execute_result"
    },
    {
     "data": {
      "text/plain": [
       "'train\\\\cat\\\\cat.7914.jpg'"
      ]
     },
     "execution_count": 51,
     "metadata": {},
     "output_type": "execute_result"
    },
    {
     "data": {
      "text/plain": [
       "'train\\\\cat\\\\cat.5527.jpg'"
      ]
     },
     "execution_count": 51,
     "metadata": {},
     "output_type": "execute_result"
    },
    {
     "data": {
      "text/plain": [
       "'train\\\\cat\\\\cat.7142.jpg'"
      ]
     },
     "execution_count": 51,
     "metadata": {},
     "output_type": "execute_result"
    },
    {
     "data": {
      "text/plain": [
       "'train\\\\cat\\\\cat.9879.jpg'"
      ]
     },
     "execution_count": 51,
     "metadata": {},
     "output_type": "execute_result"
    },
    {
     "data": {
      "text/plain": [
       "'train\\\\cat\\\\cat.8394.jpg'"
      ]
     },
     "execution_count": 51,
     "metadata": {},
     "output_type": "execute_result"
    },
    {
     "data": {
      "text/plain": [
       "'train\\\\cat\\\\cat.9229.jpg'"
      ]
     },
     "execution_count": 51,
     "metadata": {},
     "output_type": "execute_result"
    },
    {
     "data": {
      "text/plain": [
       "'train\\\\cat\\\\cat.11330.jpg'"
      ]
     },
     "execution_count": 51,
     "metadata": {},
     "output_type": "execute_result"
    },
    {
     "data": {
      "text/plain": [
       "'train\\\\cat\\\\cat.12376.jpg'"
      ]
     },
     "execution_count": 51,
     "metadata": {},
     "output_type": "execute_result"
    },
    {
     "data": {
      "text/plain": [
       "'train\\\\cat\\\\cat.4946.jpg'"
      ]
     },
     "execution_count": 51,
     "metadata": {},
     "output_type": "execute_result"
    },
    {
     "data": {
      "text/plain": [
       "'train\\\\cat\\\\cat.9196.jpg'"
      ]
     },
     "execution_count": 51,
     "metadata": {},
     "output_type": "execute_result"
    },
    {
     "data": {
      "text/plain": [
       "'train\\\\cat\\\\cat.4336.jpg'"
      ]
     },
     "execution_count": 51,
     "metadata": {},
     "output_type": "execute_result"
    },
    {
     "data": {
      "text/plain": [
       "'train\\\\cat\\\\cat.4805.jpg'"
      ]
     },
     "execution_count": 51,
     "metadata": {},
     "output_type": "execute_result"
    },
    {
     "data": {
      "text/plain": [
       "'train\\\\cat\\\\cat.860.jpg'"
      ]
     },
     "execution_count": 51,
     "metadata": {},
     "output_type": "execute_result"
    },
    {
     "data": {
      "text/plain": [
       "'train\\\\cat\\\\cat.9834.jpg'"
      ]
     },
     "execution_count": 51,
     "metadata": {},
     "output_type": "execute_result"
    },
    {
     "data": {
      "text/plain": [
       "'train\\\\cat\\\\cat.4246.jpg'"
      ]
     },
     "execution_count": 51,
     "metadata": {},
     "output_type": "execute_result"
    },
    {
     "data": {
      "text/plain": [
       "'train\\\\cat\\\\cat.8615.jpg'"
      ]
     },
     "execution_count": 51,
     "metadata": {},
     "output_type": "execute_result"
    },
    {
     "data": {
      "text/plain": [
       "'train\\\\cat\\\\cat.886.jpg'"
      ]
     },
     "execution_count": 51,
     "metadata": {},
     "output_type": "execute_result"
    },
    {
     "data": {
      "text/plain": [
       "'train\\\\cat\\\\cat.6561.jpg'"
      ]
     },
     "execution_count": 51,
     "metadata": {},
     "output_type": "execute_result"
    },
    {
     "data": {
      "text/plain": [
       "'train\\\\cat\\\\cat.10939.jpg'"
      ]
     },
     "execution_count": 51,
     "metadata": {},
     "output_type": "execute_result"
    },
    {
     "data": {
      "text/plain": [
       "'train\\\\cat\\\\cat.7625.jpg'"
      ]
     },
     "execution_count": 51,
     "metadata": {},
     "output_type": "execute_result"
    },
    {
     "data": {
      "text/plain": [
       "'train\\\\cat\\\\cat.7390.jpg'"
      ]
     },
     "execution_count": 51,
     "metadata": {},
     "output_type": "execute_result"
    },
    {
     "data": {
      "text/plain": [
       "'train\\\\cat\\\\cat.6355.jpg'"
      ]
     },
     "execution_count": 51,
     "metadata": {},
     "output_type": "execute_result"
    },
    {
     "data": {
      "text/plain": [
       "'train\\\\cat\\\\cat.5296.jpg'"
      ]
     },
     "execution_count": 51,
     "metadata": {},
     "output_type": "execute_result"
    },
    {
     "data": {
      "text/plain": [
       "'train\\\\cat\\\\cat.2229.jpg'"
      ]
     },
     "execution_count": 51,
     "metadata": {},
     "output_type": "execute_result"
    },
    {
     "data": {
      "text/plain": [
       "'train\\\\cat\\\\cat.5952.jpg'"
      ]
     },
     "execution_count": 51,
     "metadata": {},
     "output_type": "execute_result"
    },
    {
     "data": {
      "text/plain": [
       "'train\\\\cat\\\\cat.6214.jpg'"
      ]
     },
     "execution_count": 51,
     "metadata": {},
     "output_type": "execute_result"
    },
    {
     "data": {
      "text/plain": [
       "'train\\\\cat\\\\cat.9401.jpg'"
      ]
     },
     "execution_count": 51,
     "metadata": {},
     "output_type": "execute_result"
    },
    {
     "data": {
      "text/plain": [
       "'train\\\\cat\\\\cat.3531.jpg'"
      ]
     },
     "execution_count": 51,
     "metadata": {},
     "output_type": "execute_result"
    },
    {
     "data": {
      "text/plain": [
       "'train\\\\cat\\\\cat.4473.jpg'"
      ]
     },
     "execution_count": 51,
     "metadata": {},
     "output_type": "execute_result"
    },
    {
     "data": {
      "text/plain": [
       "'train\\\\cat\\\\cat.7864.jpg'"
      ]
     },
     "execution_count": 51,
     "metadata": {},
     "output_type": "execute_result"
    },
    {
     "data": {
      "text/plain": [
       "'train\\\\cat\\\\cat.8096.jpg'"
      ]
     },
     "execution_count": 51,
     "metadata": {},
     "output_type": "execute_result"
    },
    {
     "data": {
      "text/plain": [
       "'train\\\\cat\\\\cat.8261.jpg'"
      ]
     },
     "execution_count": 51,
     "metadata": {},
     "output_type": "execute_result"
    },
    {
     "data": {
      "text/plain": [
       "'train\\\\cat\\\\cat.4634.jpg'"
      ]
     },
     "execution_count": 51,
     "metadata": {},
     "output_type": "execute_result"
    },
    {
     "data": {
      "text/plain": [
       "'train\\\\cat\\\\cat.7972.jpg'"
      ]
     },
     "execution_count": 51,
     "metadata": {},
     "output_type": "execute_result"
    },
    {
     "data": {
      "text/plain": [
       "'train\\\\cat\\\\cat.5023.jpg'"
      ]
     },
     "execution_count": 51,
     "metadata": {},
     "output_type": "execute_result"
    },
    {
     "data": {
      "text/plain": [
       "'train\\\\cat\\\\cat.6113.jpg'"
      ]
     },
     "execution_count": 51,
     "metadata": {},
     "output_type": "execute_result"
    },
    {
     "data": {
      "text/plain": [
       "'train\\\\dog\\\\dog.1041.jpg'"
      ]
     },
     "execution_count": 51,
     "metadata": {},
     "output_type": "execute_result"
    },
    {
     "data": {
      "text/plain": [
       "'train\\\\dog\\\\dog.5048.jpg'"
      ]
     },
     "execution_count": 51,
     "metadata": {},
     "output_type": "execute_result"
    },
    {
     "data": {
      "text/plain": [
       "'train\\\\dog\\\\dog.10235.jpg'"
      ]
     },
     "execution_count": 51,
     "metadata": {},
     "output_type": "execute_result"
    },
    {
     "data": {
      "text/plain": [
       "'train\\\\dog\\\\dog.3448.jpg'"
      ]
     },
     "execution_count": 51,
     "metadata": {},
     "output_type": "execute_result"
    },
    {
     "data": {
      "text/plain": [
       "'train\\\\dog\\\\dog.3841.jpg'"
      ]
     },
     "execution_count": 51,
     "metadata": {},
     "output_type": "execute_result"
    },
    {
     "data": {
      "text/plain": [
       "'train\\\\dog\\\\dog.4555.jpg'"
      ]
     },
     "execution_count": 51,
     "metadata": {},
     "output_type": "execute_result"
    },
    {
     "data": {
      "text/plain": [
       "'train\\\\dog\\\\dog.5091.jpg'"
      ]
     },
     "execution_count": 51,
     "metadata": {},
     "output_type": "execute_result"
    },
    {
     "data": {
      "text/plain": [
       "'train\\\\dog\\\\dog.9972.jpg'"
      ]
     },
     "execution_count": 51,
     "metadata": {},
     "output_type": "execute_result"
    },
    {
     "data": {
      "text/plain": [
       "'train\\\\dog\\\\dog.1460.jpg'"
      ]
     },
     "execution_count": 51,
     "metadata": {},
     "output_type": "execute_result"
    },
    {
     "data": {
      "text/plain": [
       "'train\\\\dog\\\\dog.7011.jpg'"
      ]
     },
     "execution_count": 51,
     "metadata": {},
     "output_type": "execute_result"
    },
    {
     "data": {
      "text/plain": [
       "'train\\\\dog\\\\dog.8786.jpg'"
      ]
     },
     "execution_count": 51,
     "metadata": {},
     "output_type": "execute_result"
    },
    {
     "data": {
      "text/plain": [
       "'train\\\\dog\\\\dog.1220.jpg'"
      ]
     },
     "execution_count": 51,
     "metadata": {},
     "output_type": "execute_result"
    },
    {
     "data": {
      "text/plain": [
       "'train\\\\dog\\\\dog.10589.jpg'"
      ]
     },
     "execution_count": 51,
     "metadata": {},
     "output_type": "execute_result"
    },
    {
     "data": {
      "text/plain": [
       "'train\\\\dog\\\\dog.2452.jpg'"
      ]
     },
     "execution_count": 51,
     "metadata": {},
     "output_type": "execute_result"
    },
    {
     "data": {
      "text/plain": [
       "'train\\\\dog\\\\dog.1669.jpg'"
      ]
     },
     "execution_count": 51,
     "metadata": {},
     "output_type": "execute_result"
    },
    {
     "data": {
      "text/plain": [
       "'train\\\\dog\\\\dog.9572.jpg'"
      ]
     },
     "execution_count": 51,
     "metadata": {},
     "output_type": "execute_result"
    },
    {
     "data": {
      "text/plain": [
       "'train\\\\dog\\\\dog.9784.jpg'"
      ]
     },
     "execution_count": 51,
     "metadata": {},
     "output_type": "execute_result"
    },
    {
     "data": {
      "text/plain": [
       "'train\\\\dog\\\\dog.6669.jpg'"
      ]
     },
     "execution_count": 51,
     "metadata": {},
     "output_type": "execute_result"
    },
    {
     "data": {
      "text/plain": [
       "'train\\\\dog\\\\dog.4508.jpg'"
      ]
     },
     "execution_count": 51,
     "metadata": {},
     "output_type": "execute_result"
    },
    {
     "data": {
      "text/plain": [
       "'train\\\\dog\\\\dog.8099.jpg'"
      ]
     },
     "execution_count": 51,
     "metadata": {},
     "output_type": "execute_result"
    },
    {
     "data": {
      "text/plain": [
       "'train\\\\dog\\\\dog.4665.jpg'"
      ]
     },
     "execution_count": 51,
     "metadata": {},
     "output_type": "execute_result"
    },
    {
     "data": {
      "text/plain": [
       "'train\\\\dog\\\\dog.12305.jpg'"
      ]
     },
     "execution_count": 51,
     "metadata": {},
     "output_type": "execute_result"
    },
    {
     "data": {
      "text/plain": [
       "'train\\\\dog\\\\dog.10167.jpg'"
      ]
     },
     "execution_count": 51,
     "metadata": {},
     "output_type": "execute_result"
    },
    {
     "data": {
      "text/plain": [
       "'train\\\\dog\\\\dog.10917.jpg'"
      ]
     },
     "execution_count": 51,
     "metadata": {},
     "output_type": "execute_result"
    },
    {
     "data": {
      "text/plain": [
       "'train\\\\dog\\\\dog.5399.jpg'"
      ]
     },
     "execution_count": 51,
     "metadata": {},
     "output_type": "execute_result"
    },
    {
     "data": {
      "text/plain": [
       "'train\\\\dog\\\\dog.12459.jpg'"
      ]
     },
     "execution_count": 51,
     "metadata": {},
     "output_type": "execute_result"
    },
    {
     "data": {
      "text/plain": [
       "'train\\\\dog\\\\dog.2027.jpg'"
      ]
     },
     "execution_count": 51,
     "metadata": {},
     "output_type": "execute_result"
    },
    {
     "data": {
      "text/plain": [
       "'train\\\\dog\\\\dog.7064.jpg'"
      ]
     },
     "execution_count": 51,
     "metadata": {},
     "output_type": "execute_result"
    },
    {
     "data": {
      "text/plain": [
       "'train\\\\dog\\\\dog.8424.jpg'"
      ]
     },
     "execution_count": 51,
     "metadata": {},
     "output_type": "execute_result"
    },
    {
     "data": {
      "text/plain": [
       "'train\\\\dog\\\\dog.9682.jpg'"
      ]
     },
     "execution_count": 51,
     "metadata": {},
     "output_type": "execute_result"
    },
    {
     "data": {
      "text/plain": [
       "'train\\\\dog\\\\dog.8664.jpg'"
      ]
     },
     "execution_count": 51,
     "metadata": {},
     "output_type": "execute_result"
    },
    {
     "data": {
      "text/plain": [
       "'train\\\\dog\\\\dog.3276.jpg'"
      ]
     },
     "execution_count": 51,
     "metadata": {},
     "output_type": "execute_result"
    },
    {
     "data": {
      "text/plain": [
       "'train\\\\dog\\\\dog.8755.jpg'"
      ]
     },
     "execution_count": 51,
     "metadata": {},
     "output_type": "execute_result"
    },
    {
     "data": {
      "text/plain": [
       "'train\\\\dog\\\\dog.3264.jpg'"
      ]
     },
     "execution_count": 51,
     "metadata": {},
     "output_type": "execute_result"
    },
    {
     "data": {
      "text/plain": [
       "'train\\\\dog\\\\dog.6820.jpg'"
      ]
     },
     "execution_count": 51,
     "metadata": {},
     "output_type": "execute_result"
    },
    {
     "data": {
      "text/plain": [
       "'train\\\\dog\\\\dog.11778.jpg'"
      ]
     },
     "execution_count": 51,
     "metadata": {},
     "output_type": "execute_result"
    },
    {
     "data": {
      "text/plain": [
       "'train\\\\dog\\\\dog.2274.jpg'"
      ]
     },
     "execution_count": 51,
     "metadata": {},
     "output_type": "execute_result"
    },
    {
     "data": {
      "text/plain": [
       "'train\\\\dog\\\\dog.1708.jpg'"
      ]
     },
     "execution_count": 51,
     "metadata": {},
     "output_type": "execute_result"
    },
    {
     "data": {
      "text/plain": [
       "'train\\\\dog\\\\dog.9324.jpg'"
      ]
     },
     "execution_count": 51,
     "metadata": {},
     "output_type": "execute_result"
    },
    {
     "data": {
      "text/plain": [
       "'train\\\\dog\\\\dog.9194.jpg'"
      ]
     },
     "execution_count": 51,
     "metadata": {},
     "output_type": "execute_result"
    },
    {
     "data": {
      "text/plain": [
       "'train\\\\dog\\\\dog.74.jpg'"
      ]
     },
     "execution_count": 51,
     "metadata": {},
     "output_type": "execute_result"
    },
    {
     "data": {
      "text/plain": [
       "'train\\\\dog\\\\dog.6018.jpg'"
      ]
     },
     "execution_count": 51,
     "metadata": {},
     "output_type": "execute_result"
    },
    {
     "data": {
      "text/plain": [
       "'train\\\\dog\\\\dog.4480.jpg'"
      ]
     },
     "execution_count": 51,
     "metadata": {},
     "output_type": "execute_result"
    },
    {
     "data": {
      "text/plain": [
       "'train\\\\dog\\\\dog.2801.jpg'"
      ]
     },
     "execution_count": 51,
     "metadata": {},
     "output_type": "execute_result"
    },
    {
     "data": {
      "text/plain": [
       "'train\\\\dog\\\\dog.284.jpg'"
      ]
     },
     "execution_count": 51,
     "metadata": {},
     "output_type": "execute_result"
    },
    {
     "data": {
      "text/plain": [
       "'train\\\\dog\\\\dog.754.jpg'"
      ]
     },
     "execution_count": 51,
     "metadata": {},
     "output_type": "execute_result"
    },
    {
     "data": {
      "text/plain": [
       "'train\\\\dog\\\\dog.839.jpg'"
      ]
     },
     "execution_count": 51,
     "metadata": {},
     "output_type": "execute_result"
    },
    {
     "data": {
      "text/plain": [
       "'train\\\\dog\\\\dog.11372.jpg'"
      ]
     },
     "execution_count": 51,
     "metadata": {},
     "output_type": "execute_result"
    },
    {
     "data": {
      "text/plain": [
       "'train\\\\dog\\\\dog.7710.jpg'"
      ]
     },
     "execution_count": 51,
     "metadata": {},
     "output_type": "execute_result"
    },
    {
     "data": {
      "text/plain": [
       "'train\\\\dog\\\\dog.11910.jpg'"
      ]
     },
     "execution_count": 51,
     "metadata": {},
     "output_type": "execute_result"
    },
    {
     "data": {
      "text/plain": [
       "'train\\\\dog\\\\dog.1320.jpg'"
      ]
     },
     "execution_count": 51,
     "metadata": {},
     "output_type": "execute_result"
    },
    {
     "data": {
      "text/plain": [
       "'train\\\\dog\\\\dog.5488.jpg'"
      ]
     },
     "execution_count": 51,
     "metadata": {},
     "output_type": "execute_result"
    },
    {
     "data": {
      "text/plain": [
       "'train\\\\dog\\\\dog.4631.jpg'"
      ]
     },
     "execution_count": 51,
     "metadata": {},
     "output_type": "execute_result"
    },
    {
     "data": {
      "text/plain": [
       "'train\\\\dog\\\\dog.5781.jpg'"
      ]
     },
     "execution_count": 51,
     "metadata": {},
     "output_type": "execute_result"
    },
    {
     "data": {
      "text/plain": [
       "'train\\\\dog\\\\dog.11218.jpg'"
      ]
     },
     "execution_count": 51,
     "metadata": {},
     "output_type": "execute_result"
    },
    {
     "data": {
      "text/plain": [
       "'train\\\\dog\\\\dog.7.jpg'"
      ]
     },
     "execution_count": 51,
     "metadata": {},
     "output_type": "execute_result"
    },
    {
     "data": {
      "text/plain": [
       "'train\\\\dog\\\\dog.6610.jpg'"
      ]
     },
     "execution_count": 51,
     "metadata": {},
     "output_type": "execute_result"
    },
    {
     "data": {
      "text/plain": [
       "'train\\\\dog\\\\dog.652.jpg'"
      ]
     },
     "execution_count": 51,
     "metadata": {},
     "output_type": "execute_result"
    },
    {
     "data": {
      "text/plain": [
       "'train\\\\dog\\\\dog.11064.jpg'"
      ]
     },
     "execution_count": 51,
     "metadata": {},
     "output_type": "execute_result"
    },
    {
     "data": {
      "text/plain": [
       "'train\\\\dog\\\\dog.7998.jpg'"
      ]
     },
     "execution_count": 51,
     "metadata": {},
     "output_type": "execute_result"
    },
    {
     "data": {
      "text/plain": [
       "'train\\\\dog\\\\dog.5434.jpg'"
      ]
     },
     "execution_count": 51,
     "metadata": {},
     "output_type": "execute_result"
    },
    {
     "data": {
      "text/plain": [
       "'train\\\\dog\\\\dog.11476.jpg'"
      ]
     },
     "execution_count": 51,
     "metadata": {},
     "output_type": "execute_result"
    },
    {
     "data": {
      "text/plain": [
       "'train\\\\dog\\\\dog.2346.jpg'"
      ]
     },
     "execution_count": 51,
     "metadata": {},
     "output_type": "execute_result"
    },
    {
     "data": {
      "text/plain": [
       "'train\\\\dog\\\\dog.2504.jpg'"
      ]
     },
     "execution_count": 51,
     "metadata": {},
     "output_type": "execute_result"
    },
    {
     "data": {
      "text/plain": [
       "'train\\\\dog\\\\dog.2910.jpg'"
      ]
     },
     "execution_count": 51,
     "metadata": {},
     "output_type": "execute_result"
    },
    {
     "data": {
      "text/plain": [
       "'train\\\\dog\\\\dog.6448.jpg'"
      ]
     },
     "execution_count": 51,
     "metadata": {},
     "output_type": "execute_result"
    },
    {
     "data": {
      "text/plain": [
       "'train\\\\dog\\\\dog.3367.jpg'"
      ]
     },
     "execution_count": 51,
     "metadata": {},
     "output_type": "execute_result"
    },
    {
     "data": {
      "text/plain": [
       "'train\\\\dog\\\\dog.574.jpg'"
      ]
     },
     "execution_count": 51,
     "metadata": {},
     "output_type": "execute_result"
    },
    {
     "data": {
      "text/plain": [
       "'train\\\\dog\\\\dog.11202.jpg'"
      ]
     },
     "execution_count": 51,
     "metadata": {},
     "output_type": "execute_result"
    },
    {
     "data": {
      "text/plain": [
       "'train\\\\dog\\\\dog.4226.jpg'"
      ]
     },
     "execution_count": 51,
     "metadata": {},
     "output_type": "execute_result"
    },
    {
     "data": {
      "text/plain": [
       "'train\\\\dog\\\\dog.11245.jpg'"
      ]
     },
     "execution_count": 51,
     "metadata": {},
     "output_type": "execute_result"
    },
    {
     "data": {
      "text/plain": [
       "'train\\\\dog\\\\dog.2276.jpg'"
      ]
     },
     "execution_count": 51,
     "metadata": {},
     "output_type": "execute_result"
    },
    {
     "data": {
      "text/plain": [
       "'train\\\\dog\\\\dog.4864.jpg'"
      ]
     },
     "execution_count": 51,
     "metadata": {},
     "output_type": "execute_result"
    },
    {
     "data": {
      "text/plain": [
       "'train\\\\dog\\\\dog.11352.jpg'"
      ]
     },
     "execution_count": 51,
     "metadata": {},
     "output_type": "execute_result"
    },
    {
     "data": {
      "text/plain": [
       "'train\\\\dog\\\\dog.253.jpg'"
      ]
     },
     "execution_count": 51,
     "metadata": {},
     "output_type": "execute_result"
    },
    {
     "data": {
      "text/plain": [
       "'train\\\\dog\\\\dog.7750.jpg'"
      ]
     },
     "execution_count": 51,
     "metadata": {},
     "output_type": "execute_result"
    },
    {
     "data": {
      "text/plain": [
       "'train\\\\dog\\\\dog.7855.jpg'"
      ]
     },
     "execution_count": 51,
     "metadata": {},
     "output_type": "execute_result"
    },
    {
     "data": {
      "text/plain": [
       "'train\\\\dog\\\\dog.5608.jpg'"
      ]
     },
     "execution_count": 51,
     "metadata": {},
     "output_type": "execute_result"
    },
    {
     "data": {
      "text/plain": [
       "'train\\\\dog\\\\dog.7495.jpg'"
      ]
     },
     "execution_count": 51,
     "metadata": {},
     "output_type": "execute_result"
    },
    {
     "data": {
      "text/plain": [
       "'train\\\\dog\\\\dog.7502.jpg'"
      ]
     },
     "execution_count": 51,
     "metadata": {},
     "output_type": "execute_result"
    },
    {
     "data": {
      "text/plain": [
       "'train\\\\dog\\\\dog.6437.jpg'"
      ]
     },
     "execution_count": 51,
     "metadata": {},
     "output_type": "execute_result"
    },
    {
     "data": {
      "text/plain": [
       "'train\\\\dog\\\\dog.8204.jpg'"
      ]
     },
     "execution_count": 51,
     "metadata": {},
     "output_type": "execute_result"
    },
    {
     "data": {
      "text/plain": [
       "'train\\\\dog\\\\dog.666.jpg'"
      ]
     },
     "execution_count": 51,
     "metadata": {},
     "output_type": "execute_result"
    },
    {
     "data": {
      "text/plain": [
       "'train\\\\dog\\\\dog.2718.jpg'"
      ]
     },
     "execution_count": 51,
     "metadata": {},
     "output_type": "execute_result"
    },
    {
     "data": {
      "text/plain": [
       "'train\\\\dog\\\\dog.5364.jpg'"
      ]
     },
     "execution_count": 51,
     "metadata": {},
     "output_type": "execute_result"
    },
    {
     "data": {
      "text/plain": [
       "'train\\\\dog\\\\dog.12394.jpg'"
      ]
     },
     "execution_count": 51,
     "metadata": {},
     "output_type": "execute_result"
    },
    {
     "data": {
      "text/plain": [
       "'train\\\\dog\\\\dog.3503.jpg'"
      ]
     },
     "execution_count": 51,
     "metadata": {},
     "output_type": "execute_result"
    },
    {
     "data": {
      "text/plain": [
       "'train\\\\dog\\\\dog.3248.jpg'"
      ]
     },
     "execution_count": 51,
     "metadata": {},
     "output_type": "execute_result"
    },
    {
     "data": {
      "text/plain": [
       "'train\\\\dog\\\\dog.3429.jpg'"
      ]
     },
     "execution_count": 51,
     "metadata": {},
     "output_type": "execute_result"
    },
    {
     "data": {
      "text/plain": [
       "'train\\\\dog\\\\dog.4590.jpg'"
      ]
     },
     "execution_count": 51,
     "metadata": {},
     "output_type": "execute_result"
    },
    {
     "data": {
      "text/plain": [
       "'train\\\\dog\\\\dog.7611.jpg'"
      ]
     },
     "execution_count": 51,
     "metadata": {},
     "output_type": "execute_result"
    },
    {
     "data": {
      "text/plain": [
       "'train\\\\dog\\\\dog.2404.jpg'"
      ]
     },
     "execution_count": 51,
     "metadata": {},
     "output_type": "execute_result"
    },
    {
     "data": {
      "text/plain": [
       "'train\\\\dog\\\\dog.11426.jpg'"
      ]
     },
     "execution_count": 51,
     "metadata": {},
     "output_type": "execute_result"
    },
    {
     "data": {
      "text/plain": [
       "'train\\\\dog\\\\dog.1648.jpg'"
      ]
     },
     "execution_count": 51,
     "metadata": {},
     "output_type": "execute_result"
    },
    {
     "data": {
      "text/plain": [
       "'train\\\\dog\\\\dog.6779.jpg'"
      ]
     },
     "execution_count": 51,
     "metadata": {},
     "output_type": "execute_result"
    },
    {
     "data": {
      "text/plain": [
       "'train\\\\dog\\\\dog.10815.jpg'"
      ]
     },
     "execution_count": 51,
     "metadata": {},
     "output_type": "execute_result"
    },
    {
     "data": {
      "text/plain": [
       "'train\\\\dog\\\\dog.10123.jpg'"
      ]
     },
     "execution_count": 51,
     "metadata": {},
     "output_type": "execute_result"
    },
    {
     "data": {
      "text/plain": [
       "'train\\\\dog\\\\dog.6105.jpg'"
      ]
     },
     "execution_count": 51,
     "metadata": {},
     "output_type": "execute_result"
    },
    {
     "data": {
      "text/plain": [
       "'train\\\\dog\\\\dog.4780.jpg'"
      ]
     },
     "execution_count": 51,
     "metadata": {},
     "output_type": "execute_result"
    },
    {
     "data": {
      "text/plain": [
       "'train\\\\dog\\\\dog.10104.jpg'"
      ]
     },
     "execution_count": 51,
     "metadata": {},
     "output_type": "execute_result"
    },
    {
     "data": {
      "text/plain": [
       "'train\\\\dog\\\\dog.8314.jpg'"
      ]
     },
     "execution_count": 51,
     "metadata": {},
     "output_type": "execute_result"
    },
    {
     "data": {
      "text/plain": [
       "'train\\\\dog\\\\dog.2442.jpg'"
      ]
     },
     "execution_count": 51,
     "metadata": {},
     "output_type": "execute_result"
    },
    {
     "data": {
      "text/plain": [
       "'train\\\\dog\\\\dog.339.jpg'"
      ]
     },
     "execution_count": 51,
     "metadata": {},
     "output_type": "execute_result"
    },
    {
     "data": {
      "text/plain": [
       "'train\\\\dog\\\\dog.2110.jpg'"
      ]
     },
     "execution_count": 51,
     "metadata": {},
     "output_type": "execute_result"
    },
    {
     "data": {
      "text/plain": [
       "'train\\\\dog\\\\dog.4114.jpg'"
      ]
     },
     "execution_count": 51,
     "metadata": {},
     "output_type": "execute_result"
    },
    {
     "data": {
      "text/plain": [
       "'train\\\\dog\\\\dog.553.jpg'"
      ]
     },
     "execution_count": 51,
     "metadata": {},
     "output_type": "execute_result"
    },
    {
     "data": {
      "text/plain": [
       "'train\\\\dog\\\\dog.9817.jpg'"
      ]
     },
     "execution_count": 51,
     "metadata": {},
     "output_type": "execute_result"
    },
    {
     "data": {
      "text/plain": [
       "'train\\\\dog\\\\dog.6369.jpg'"
      ]
     },
     "execution_count": 51,
     "metadata": {},
     "output_type": "execute_result"
    },
    {
     "data": {
      "text/plain": [
       "'train\\\\dog\\\\dog.10710.jpg'"
      ]
     },
     "execution_count": 51,
     "metadata": {},
     "output_type": "execute_result"
    },
    {
     "data": {
      "text/plain": [
       "'train\\\\dog\\\\dog.5894.jpg'"
      ]
     },
     "execution_count": 51,
     "metadata": {},
     "output_type": "execute_result"
    },
    {
     "data": {
      "text/plain": [
       "'train\\\\dog\\\\dog.1982.jpg'"
      ]
     },
     "execution_count": 51,
     "metadata": {},
     "output_type": "execute_result"
    },
    {
     "data": {
      "text/plain": [
       "'train\\\\dog\\\\dog.6117.jpg'"
      ]
     },
     "execution_count": 51,
     "metadata": {},
     "output_type": "execute_result"
    },
    {
     "data": {
      "text/plain": [
       "'train\\\\dog\\\\dog.4451.jpg'"
      ]
     },
     "execution_count": 51,
     "metadata": {},
     "output_type": "execute_result"
    },
    {
     "data": {
      "text/plain": [
       "'train\\\\dog\\\\dog.7898.jpg'"
      ]
     },
     "execution_count": 51,
     "metadata": {},
     "output_type": "execute_result"
    },
    {
     "data": {
      "text/plain": [
       "'train\\\\dog\\\\dog.9769.jpg'"
      ]
     },
     "execution_count": 51,
     "metadata": {},
     "output_type": "execute_result"
    },
    {
     "data": {
      "text/plain": [
       "'train\\\\dog\\\\dog.9198.jpg'"
      ]
     },
     "execution_count": 51,
     "metadata": {},
     "output_type": "execute_result"
    },
    {
     "data": {
      "text/plain": [
       "'train\\\\dog\\\\dog.9816.jpg'"
      ]
     },
     "execution_count": 51,
     "metadata": {},
     "output_type": "execute_result"
    },
    {
     "data": {
      "text/plain": [
       "'train\\\\dog\\\\dog.5714.jpg'"
      ]
     },
     "execution_count": 51,
     "metadata": {},
     "output_type": "execute_result"
    },
    {
     "data": {
      "text/plain": [
       "'train\\\\dog\\\\dog.6965.jpg'"
      ]
     },
     "execution_count": 51,
     "metadata": {},
     "output_type": "execute_result"
    },
    {
     "data": {
      "text/plain": [
       "'train\\\\dog\\\\dog.2862.jpg'"
      ]
     },
     "execution_count": 51,
     "metadata": {},
     "output_type": "execute_result"
    },
    {
     "data": {
      "text/plain": [
       "'train\\\\dog\\\\dog.6681.jpg'"
      ]
     },
     "execution_count": 51,
     "metadata": {},
     "output_type": "execute_result"
    },
    {
     "data": {
      "text/plain": [
       "'train\\\\dog\\\\dog.11610.jpg'"
      ]
     },
     "execution_count": 51,
     "metadata": {},
     "output_type": "execute_result"
    },
    {
     "data": {
      "text/plain": [
       "'train\\\\dog\\\\dog.1887.jpg'"
      ]
     },
     "execution_count": 51,
     "metadata": {},
     "output_type": "execute_result"
    },
    {
     "data": {
      "text/plain": [
       "'train\\\\dog\\\\dog.10663.jpg'"
      ]
     },
     "execution_count": 51,
     "metadata": {},
     "output_type": "execute_result"
    },
    {
     "data": {
      "text/plain": [
       "'train\\\\dog\\\\dog.4020.jpg'"
      ]
     },
     "execution_count": 51,
     "metadata": {},
     "output_type": "execute_result"
    },
    {
     "data": {
      "text/plain": [
       "'train\\\\dog\\\\dog.7061.jpg'"
      ]
     },
     "execution_count": 51,
     "metadata": {},
     "output_type": "execute_result"
    },
    {
     "data": {
      "text/plain": [
       "'train\\\\dog\\\\dog.10659.jpg'"
      ]
     },
     "execution_count": 51,
     "metadata": {},
     "output_type": "execute_result"
    },
    {
     "data": {
      "text/plain": [
       "'train\\\\dog\\\\dog.2264.jpg'"
      ]
     },
     "execution_count": 51,
     "metadata": {},
     "output_type": "execute_result"
    },
    {
     "data": {
      "text/plain": [
       "'train\\\\dog\\\\dog.7033.jpg'"
      ]
     },
     "execution_count": 51,
     "metadata": {},
     "output_type": "execute_result"
    },
    {
     "data": {
      "text/plain": [
       "'train\\\\dog\\\\dog.9047.jpg'"
      ]
     },
     "execution_count": 51,
     "metadata": {},
     "output_type": "execute_result"
    },
    {
     "data": {
      "text/plain": [
       "'train\\\\dog\\\\dog.3834.jpg'"
      ]
     },
     "execution_count": 51,
     "metadata": {},
     "output_type": "execute_result"
    },
    {
     "data": {
      "text/plain": [
       "'train\\\\dog\\\\dog.9841.jpg'"
      ]
     },
     "execution_count": 51,
     "metadata": {},
     "output_type": "execute_result"
    },
    {
     "data": {
      "text/plain": [
       "'train\\\\dog\\\\dog.11785.jpg'"
      ]
     },
     "execution_count": 51,
     "metadata": {},
     "output_type": "execute_result"
    },
    {
     "data": {
      "text/plain": [
       "'train\\\\dog\\\\dog.2339.jpg'"
      ]
     },
     "execution_count": 51,
     "metadata": {},
     "output_type": "execute_result"
    },
    {
     "data": {
      "text/plain": [
       "'train\\\\dog\\\\dog.3790.jpg'"
      ]
     },
     "execution_count": 51,
     "metadata": {},
     "output_type": "execute_result"
    },
    {
     "data": {
      "text/plain": [
       "'train\\\\dog\\\\dog.435.jpg'"
      ]
     },
     "execution_count": 51,
     "metadata": {},
     "output_type": "execute_result"
    },
    {
     "data": {
      "text/plain": [
       "'train\\\\dog\\\\dog.11819.jpg'"
      ]
     },
     "execution_count": 51,
     "metadata": {},
     "output_type": "execute_result"
    },
    {
     "data": {
      "text/plain": [
       "'train\\\\dog\\\\dog.5693.jpg'"
      ]
     },
     "execution_count": 51,
     "metadata": {},
     "output_type": "execute_result"
    },
    {
     "data": {
      "text/plain": [
       "'train\\\\dog\\\\dog.8523.jpg'"
      ]
     },
     "execution_count": 51,
     "metadata": {},
     "output_type": "execute_result"
    },
    {
     "data": {
      "text/plain": [
       "'train\\\\dog\\\\dog.5789.jpg'"
      ]
     },
     "execution_count": 51,
     "metadata": {},
     "output_type": "execute_result"
    },
    {
     "data": {
      "text/plain": [
       "'train\\\\dog\\\\dog.1765.jpg'"
      ]
     },
     "execution_count": 51,
     "metadata": {},
     "output_type": "execute_result"
    },
    {
     "data": {
      "text/plain": [
       "'train\\\\dog\\\\dog.1446.jpg'"
      ]
     },
     "execution_count": 51,
     "metadata": {},
     "output_type": "execute_result"
    },
    {
     "data": {
      "text/plain": [
       "'train\\\\dog\\\\dog.10036.jpg'"
      ]
     },
     "execution_count": 51,
     "metadata": {},
     "output_type": "execute_result"
    },
    {
     "data": {
      "text/plain": [
       "'train\\\\dog\\\\dog.9665.jpg'"
      ]
     },
     "execution_count": 51,
     "metadata": {},
     "output_type": "execute_result"
    },
    {
     "data": {
      "text/plain": [
       "'train\\\\dog\\\\dog.7772.jpg'"
      ]
     },
     "execution_count": 51,
     "metadata": {},
     "output_type": "execute_result"
    },
    {
     "data": {
      "text/plain": [
       "'train\\\\dog\\\\dog.188.jpg'"
      ]
     },
     "execution_count": 51,
     "metadata": {},
     "output_type": "execute_result"
    },
    {
     "data": {
      "text/plain": [
       "'train\\\\dog\\\\dog.3461.jpg'"
      ]
     },
     "execution_count": 51,
     "metadata": {},
     "output_type": "execute_result"
    },
    {
     "data": {
      "text/plain": [
       "'train\\\\dog\\\\dog.3256.jpg'"
      ]
     },
     "execution_count": 51,
     "metadata": {},
     "output_type": "execute_result"
    },
    {
     "data": {
      "text/plain": [
       "'train\\\\dog\\\\dog.2728.jpg'"
      ]
     },
     "execution_count": 51,
     "metadata": {},
     "output_type": "execute_result"
    },
    {
     "data": {
      "text/plain": [
       "'train\\\\dog\\\\dog.3943.jpg'"
      ]
     },
     "execution_count": 51,
     "metadata": {},
     "output_type": "execute_result"
    },
    {
     "data": {
      "text/plain": [
       "'train\\\\dog\\\\dog.5873.jpg'"
      ]
     },
     "execution_count": 51,
     "metadata": {},
     "output_type": "execute_result"
    },
    {
     "data": {
      "text/plain": [
       "'train\\\\dog\\\\dog.11150.jpg'"
      ]
     },
     "execution_count": 51,
     "metadata": {},
     "output_type": "execute_result"
    },
    {
     "data": {
      "text/plain": [
       "'train\\\\dog\\\\dog.5596.jpg'"
      ]
     },
     "execution_count": 51,
     "metadata": {},
     "output_type": "execute_result"
    },
    {
     "data": {
      "text/plain": [
       "'train\\\\dog\\\\dog.2575.jpg'"
      ]
     },
     "execution_count": 51,
     "metadata": {},
     "output_type": "execute_result"
    },
    {
     "data": {
      "text/plain": [
       "'train\\\\dog\\\\dog.12152.jpg'"
      ]
     },
     "execution_count": 51,
     "metadata": {},
     "output_type": "execute_result"
    },
    {
     "data": {
      "text/plain": [
       "'train\\\\dog\\\\dog.7066.jpg'"
      ]
     },
     "execution_count": 51,
     "metadata": {},
     "output_type": "execute_result"
    },
    {
     "data": {
      "text/plain": [
       "'train\\\\dog\\\\dog.705.jpg'"
      ]
     },
     "execution_count": 51,
     "metadata": {},
     "output_type": "execute_result"
    },
    {
     "data": {
      "text/plain": [
       "'train\\\\dog\\\\dog.11301.jpg'"
      ]
     },
     "execution_count": 51,
     "metadata": {},
     "output_type": "execute_result"
    },
    {
     "data": {
      "text/plain": [
       "'train\\\\dog\\\\dog.7263.jpg'"
      ]
     },
     "execution_count": 51,
     "metadata": {},
     "output_type": "execute_result"
    },
    {
     "data": {
      "text/plain": [
       "'train\\\\dog\\\\dog.10209.jpg'"
      ]
     },
     "execution_count": 51,
     "metadata": {},
     "output_type": "execute_result"
    },
    {
     "data": {
      "text/plain": [
       "'train\\\\dog\\\\dog.11861.jpg'"
      ]
     },
     "execution_count": 51,
     "metadata": {},
     "output_type": "execute_result"
    },
    {
     "data": {
      "text/plain": [
       "'train\\\\dog\\\\dog.11066.jpg'"
      ]
     },
     "execution_count": 51,
     "metadata": {},
     "output_type": "execute_result"
    },
    {
     "data": {
      "text/plain": [
       "'train\\\\dog\\\\dog.5322.jpg'"
      ]
     },
     "execution_count": 51,
     "metadata": {},
     "output_type": "execute_result"
    },
    {
     "data": {
      "text/plain": [
       "'train\\\\dog\\\\dog.750.jpg'"
      ]
     },
     "execution_count": 51,
     "metadata": {},
     "output_type": "execute_result"
    },
    {
     "data": {
      "text/plain": [
       "'train\\\\dog\\\\dog.4301.jpg'"
      ]
     },
     "execution_count": 51,
     "metadata": {},
     "output_type": "execute_result"
    },
    {
     "data": {
      "text/plain": [
       "'train\\\\dog\\\\dog.803.jpg'"
      ]
     },
     "execution_count": 51,
     "metadata": {},
     "output_type": "execute_result"
    },
    {
     "data": {
      "text/plain": [
       "'train\\\\dog\\\\dog.8891.jpg'"
      ]
     },
     "execution_count": 51,
     "metadata": {},
     "output_type": "execute_result"
    },
    {
     "data": {
      "text/plain": [
       "'train\\\\dog\\\\dog.18.jpg'"
      ]
     },
     "execution_count": 51,
     "metadata": {},
     "output_type": "execute_result"
    },
    {
     "data": {
      "text/plain": [
       "'train\\\\dog\\\\dog.8004.jpg'"
      ]
     },
     "execution_count": 51,
     "metadata": {},
     "output_type": "execute_result"
    },
    {
     "data": {
      "text/plain": [
       "'train\\\\dog\\\\dog.9636.jpg'"
      ]
     },
     "execution_count": 51,
     "metadata": {},
     "output_type": "execute_result"
    },
    {
     "data": {
      "text/plain": [
       "'train\\\\dog\\\\dog.1960.jpg'"
      ]
     },
     "execution_count": 51,
     "metadata": {},
     "output_type": "execute_result"
    },
    {
     "data": {
      "text/plain": [
       "'train\\\\dog\\\\dog.11348.jpg'"
      ]
     },
     "execution_count": 51,
     "metadata": {},
     "output_type": "execute_result"
    },
    {
     "data": {
      "text/plain": [
       "'train\\\\dog\\\\dog.5951.jpg'"
      ]
     },
     "execution_count": 51,
     "metadata": {},
     "output_type": "execute_result"
    },
    {
     "data": {
      "text/plain": [
       "'train\\\\dog\\\\dog.6530.jpg'"
      ]
     },
     "execution_count": 51,
     "metadata": {},
     "output_type": "execute_result"
    },
    {
     "data": {
      "text/plain": [
       "'train\\\\dog\\\\dog.10269.jpg'"
      ]
     },
     "execution_count": 51,
     "metadata": {},
     "output_type": "execute_result"
    },
    {
     "data": {
      "text/plain": [
       "'train\\\\dog\\\\dog.3375.jpg'"
      ]
     },
     "execution_count": 51,
     "metadata": {},
     "output_type": "execute_result"
    },
    {
     "data": {
      "text/plain": [
       "'train\\\\dog\\\\dog.10931.jpg'"
      ]
     },
     "execution_count": 51,
     "metadata": {},
     "output_type": "execute_result"
    },
    {
     "data": {
      "text/plain": [
       "'train\\\\dog\\\\dog.11140.jpg'"
      ]
     },
     "execution_count": 51,
     "metadata": {},
     "output_type": "execute_result"
    },
    {
     "data": {
      "text/plain": [
       "'train\\\\dog\\\\dog.6986.jpg'"
      ]
     },
     "execution_count": 51,
     "metadata": {},
     "output_type": "execute_result"
    },
    {
     "data": {
      "text/plain": [
       "'train\\\\dog\\\\dog.8290.jpg'"
      ]
     },
     "execution_count": 51,
     "metadata": {},
     "output_type": "execute_result"
    },
    {
     "data": {
      "text/plain": [
       "'train\\\\dog\\\\dog.2662.jpg'"
      ]
     },
     "execution_count": 51,
     "metadata": {},
     "output_type": "execute_result"
    },
    {
     "data": {
      "text/plain": [
       "'train\\\\dog\\\\dog.7732.jpg'"
      ]
     },
     "execution_count": 51,
     "metadata": {},
     "output_type": "execute_result"
    },
    {
     "data": {
      "text/plain": [
       "'train\\\\dog\\\\dog.10702.jpg'"
      ]
     },
     "execution_count": 51,
     "metadata": {},
     "output_type": "execute_result"
    },
    {
     "data": {
      "text/plain": [
       "'train\\\\dog\\\\dog.9657.jpg'"
      ]
     },
     "execution_count": 51,
     "metadata": {},
     "output_type": "execute_result"
    },
    {
     "data": {
      "text/plain": [
       "'train\\\\dog\\\\dog.1936.jpg'"
      ]
     },
     "execution_count": 51,
     "metadata": {},
     "output_type": "execute_result"
    },
    {
     "data": {
      "text/plain": [
       "'train\\\\dog\\\\dog.12460.jpg'"
      ]
     },
     "execution_count": 51,
     "metadata": {},
     "output_type": "execute_result"
    },
    {
     "data": {
      "text/plain": [
       "'train\\\\dog\\\\dog.12339.jpg'"
      ]
     },
     "execution_count": 51,
     "metadata": {},
     "output_type": "execute_result"
    },
    {
     "data": {
      "text/plain": [
       "'train\\\\dog\\\\dog.4686.jpg'"
      ]
     },
     "execution_count": 51,
     "metadata": {},
     "output_type": "execute_result"
    },
    {
     "data": {
      "text/plain": [
       "'train\\\\dog\\\\dog.6703.jpg'"
      ]
     },
     "execution_count": 51,
     "metadata": {},
     "output_type": "execute_result"
    },
    {
     "data": {
      "text/plain": [
       "'train\\\\dog\\\\dog.830.jpg'"
      ]
     },
     "execution_count": 51,
     "metadata": {},
     "output_type": "execute_result"
    },
    {
     "data": {
      "text/plain": [
       "'train\\\\dog\\\\dog.11555.jpg'"
      ]
     },
     "execution_count": 51,
     "metadata": {},
     "output_type": "execute_result"
    },
    {
     "data": {
      "text/plain": [
       "'train\\\\dog\\\\dog.9162.jpg'"
      ]
     },
     "execution_count": 51,
     "metadata": {},
     "output_type": "execute_result"
    },
    {
     "data": {
      "text/plain": [
       "'train\\\\dog\\\\dog.2529.jpg'"
      ]
     },
     "execution_count": 51,
     "metadata": {},
     "output_type": "execute_result"
    },
    {
     "data": {
      "text/plain": [
       "'train\\\\dog\\\\dog.2591.jpg'"
      ]
     },
     "execution_count": 51,
     "metadata": {},
     "output_type": "execute_result"
    },
    {
     "data": {
      "text/plain": [
       "'train\\\\dog\\\\dog.10096.jpg'"
      ]
     },
     "execution_count": 51,
     "metadata": {},
     "output_type": "execute_result"
    },
    {
     "data": {
      "text/plain": [
       "'train\\\\dog\\\\dog.852.jpg'"
      ]
     },
     "execution_count": 51,
     "metadata": {},
     "output_type": "execute_result"
    },
    {
     "data": {
      "text/plain": [
       "'train\\\\dog\\\\dog.11042.jpg'"
      ]
     },
     "execution_count": 51,
     "metadata": {},
     "output_type": "execute_result"
    },
    {
     "data": {
      "text/plain": [
       "'train\\\\dog\\\\dog.6628.jpg'"
      ]
     },
     "execution_count": 51,
     "metadata": {},
     "output_type": "execute_result"
    },
    {
     "data": {
      "text/plain": [
       "'train\\\\dog\\\\dog.2953.jpg'"
      ]
     },
     "execution_count": 51,
     "metadata": {},
     "output_type": "execute_result"
    },
    {
     "data": {
      "text/plain": [
       "'train\\\\dog\\\\dog.1541.jpg'"
      ]
     },
     "execution_count": 51,
     "metadata": {},
     "output_type": "execute_result"
    },
    {
     "data": {
      "text/plain": [
       "'train\\\\dog\\\\dog.4998.jpg'"
      ]
     },
     "execution_count": 51,
     "metadata": {},
     "output_type": "execute_result"
    },
    {
     "data": {
      "text/plain": [
       "'train\\\\dog\\\\dog.7164.jpg'"
      ]
     },
     "execution_count": 51,
     "metadata": {},
     "output_type": "execute_result"
    },
    {
     "data": {
      "text/plain": [
       "'train\\\\dog\\\\dog.4327.jpg'"
      ]
     },
     "execution_count": 51,
     "metadata": {},
     "output_type": "execute_result"
    },
    {
     "data": {
      "text/plain": [
       "'train\\\\dog\\\\dog.6166.jpg'"
      ]
     },
     "execution_count": 51,
     "metadata": {},
     "output_type": "execute_result"
    },
    {
     "data": {
      "text/plain": [
       "'train\\\\dog\\\\dog.11511.jpg'"
      ]
     },
     "execution_count": 51,
     "metadata": {},
     "output_type": "execute_result"
    },
    {
     "data": {
      "text/plain": [
       "'train\\\\dog\\\\dog.9357.jpg'"
      ]
     },
     "execution_count": 51,
     "metadata": {},
     "output_type": "execute_result"
    },
    {
     "data": {
      "text/plain": [
       "'train\\\\dog\\\\dog.11827.jpg'"
      ]
     },
     "execution_count": 51,
     "metadata": {},
     "output_type": "execute_result"
    },
    {
     "data": {
      "text/plain": [
       "'train\\\\dog\\\\dog.277.jpg'"
      ]
     },
     "execution_count": 51,
     "metadata": {},
     "output_type": "execute_result"
    },
    {
     "data": {
      "text/plain": [
       "'train\\\\dog\\\\dog.4198.jpg'"
      ]
     },
     "execution_count": 51,
     "metadata": {},
     "output_type": "execute_result"
    },
    {
     "data": {
      "text/plain": [
       "'train\\\\dog\\\\dog.5603.jpg'"
      ]
     },
     "execution_count": 51,
     "metadata": {},
     "output_type": "execute_result"
    },
    {
     "data": {
      "text/plain": [
       "'train\\\\dog\\\\dog.2812.jpg'"
      ]
     },
     "execution_count": 51,
     "metadata": {},
     "output_type": "execute_result"
    },
    {
     "data": {
      "text/plain": [
       "'train\\\\dog\\\\dog.9239.jpg'"
      ]
     },
     "execution_count": 51,
     "metadata": {},
     "output_type": "execute_result"
    },
    {
     "data": {
      "text/plain": [
       "'train\\\\dog\\\\dog.10289.jpg'"
      ]
     },
     "execution_count": 51,
     "metadata": {},
     "output_type": "execute_result"
    },
    {
     "data": {
      "text/plain": [
       "'train\\\\dog\\\\dog.11199.jpg'"
      ]
     },
     "execution_count": 51,
     "metadata": {},
     "output_type": "execute_result"
    },
    {
     "data": {
      "text/plain": [
       "'train\\\\dog\\\\dog.3568.jpg'"
      ]
     },
     "execution_count": 51,
     "metadata": {},
     "output_type": "execute_result"
    },
    {
     "data": {
      "text/plain": [
       "'train\\\\dog\\\\dog.495.jpg'"
      ]
     },
     "execution_count": 51,
     "metadata": {},
     "output_type": "execute_result"
    },
    {
     "data": {
      "text/plain": [
       "'train\\\\dog\\\\dog.11794.jpg'"
      ]
     },
     "execution_count": 51,
     "metadata": {},
     "output_type": "execute_result"
    },
    {
     "data": {
      "text/plain": [
       "'train\\\\dog\\\\dog.10852.jpg'"
      ]
     },
     "execution_count": 51,
     "metadata": {},
     "output_type": "execute_result"
    },
    {
     "data": {
      "text/plain": [
       "'train\\\\dog\\\\dog.12479.jpg'"
      ]
     },
     "execution_count": 51,
     "metadata": {},
     "output_type": "execute_result"
    },
    {
     "data": {
      "text/plain": [
       "'train\\\\dog\\\\dog.12353.jpg'"
      ]
     },
     "execution_count": 51,
     "metadata": {},
     "output_type": "execute_result"
    },
    {
     "data": {
      "text/plain": [
       "'train\\\\dog\\\\dog.9553.jpg'"
      ]
     },
     "execution_count": 51,
     "metadata": {},
     "output_type": "execute_result"
    },
    {
     "data": {
      "text/plain": [
       "'train\\\\dog\\\\dog.7008.jpg'"
      ]
     },
     "execution_count": 51,
     "metadata": {},
     "output_type": "execute_result"
    },
    {
     "data": {
      "text/plain": [
       "'train\\\\dog\\\\dog.6911.jpg'"
      ]
     },
     "execution_count": 51,
     "metadata": {},
     "output_type": "execute_result"
    },
    {
     "data": {
      "text/plain": [
       "'train\\\\dog\\\\dog.8943.jpg'"
      ]
     },
     "execution_count": 51,
     "metadata": {},
     "output_type": "execute_result"
    },
    {
     "data": {
      "text/plain": [
       "'train\\\\dog\\\\dog.5830.jpg'"
      ]
     },
     "execution_count": 51,
     "metadata": {},
     "output_type": "execute_result"
    },
    {
     "data": {
      "text/plain": [
       "'train\\\\dog\\\\dog.11633.jpg'"
      ]
     },
     "execution_count": 51,
     "metadata": {},
     "output_type": "execute_result"
    },
    {
     "data": {
      "text/plain": [
       "'train\\\\dog\\\\dog.4847.jpg'"
      ]
     },
     "execution_count": 51,
     "metadata": {},
     "output_type": "execute_result"
    },
    {
     "data": {
      "text/plain": [
       "'train\\\\dog\\\\dog.11818.jpg'"
      ]
     },
     "execution_count": 51,
     "metadata": {},
     "output_type": "execute_result"
    },
    {
     "data": {
      "text/plain": [
       "'train\\\\dog\\\\dog.9617.jpg'"
      ]
     },
     "execution_count": 51,
     "metadata": {},
     "output_type": "execute_result"
    },
    {
     "data": {
      "text/plain": [
       "'train\\\\dog\\\\dog.9237.jpg'"
      ]
     },
     "execution_count": 51,
     "metadata": {},
     "output_type": "execute_result"
    },
    {
     "data": {
      "text/plain": [
       "'train\\\\dog\\\\dog.1675.jpg'"
      ]
     },
     "execution_count": 51,
     "metadata": {},
     "output_type": "execute_result"
    },
    {
     "data": {
      "text/plain": [
       "'train\\\\dog\\\\dog.7167.jpg'"
      ]
     },
     "execution_count": 51,
     "metadata": {},
     "output_type": "execute_result"
    },
    {
     "data": {
      "text/plain": [
       "'train\\\\dog\\\\dog.11670.jpg'"
      ]
     },
     "execution_count": 51,
     "metadata": {},
     "output_type": "execute_result"
    },
    {
     "data": {
      "text/plain": [
       "'train\\\\dog\\\\dog.2075.jpg'"
      ]
     },
     "execution_count": 51,
     "metadata": {},
     "output_type": "execute_result"
    },
    {
     "data": {
      "text/plain": [
       "'train\\\\dog\\\\dog.1462.jpg'"
      ]
     },
     "execution_count": 51,
     "metadata": {},
     "output_type": "execute_result"
    },
    {
     "data": {
      "text/plain": [
       "'train\\\\dog\\\\dog.4501.jpg'"
      ]
     },
     "execution_count": 51,
     "metadata": {},
     "output_type": "execute_result"
    },
    {
     "data": {
      "text/plain": [
       "'train\\\\dog\\\\dog.11674.jpg'"
      ]
     },
     "execution_count": 51,
     "metadata": {},
     "output_type": "execute_result"
    },
    {
     "data": {
      "text/plain": [
       "'train\\\\dog\\\\dog.10866.jpg'"
      ]
     },
     "execution_count": 51,
     "metadata": {},
     "output_type": "execute_result"
    },
    {
     "data": {
      "text/plain": [
       "'train\\\\dog\\\\dog.7663.jpg'"
      ]
     },
     "execution_count": 51,
     "metadata": {},
     "output_type": "execute_result"
    },
    {
     "data": {
      "text/plain": [
       "'train\\\\dog\\\\dog.2417.jpg'"
      ]
     },
     "execution_count": 51,
     "metadata": {},
     "output_type": "execute_result"
    },
    {
     "data": {
      "text/plain": [
       "'train\\\\dog\\\\dog.11418.jpg'"
      ]
     },
     "execution_count": 51,
     "metadata": {},
     "output_type": "execute_result"
    },
    {
     "data": {
      "text/plain": [
       "'train\\\\dog\\\\dog.6330.jpg'"
      ]
     },
     "execution_count": 51,
     "metadata": {},
     "output_type": "execute_result"
    },
    {
     "data": {
      "text/plain": [
       "'train\\\\dog\\\\dog.560.jpg'"
      ]
     },
     "execution_count": 51,
     "metadata": {},
     "output_type": "execute_result"
    },
    {
     "data": {
      "text/plain": [
       "'train\\\\dog\\\\dog.10133.jpg'"
      ]
     },
     "execution_count": 51,
     "metadata": {},
     "output_type": "execute_result"
    },
    {
     "data": {
      "text/plain": [
       "'train\\\\dog\\\\dog.7313.jpg'"
      ]
     },
     "execution_count": 51,
     "metadata": {},
     "output_type": "execute_result"
    },
    {
     "data": {
      "text/plain": [
       "'train\\\\dog\\\\dog.6430.jpg'"
      ]
     },
     "execution_count": 51,
     "metadata": {},
     "output_type": "execute_result"
    },
    {
     "data": {
      "text/plain": [
       "'train\\\\dog\\\\dog.648.jpg'"
      ]
     },
     "execution_count": 51,
     "metadata": {},
     "output_type": "execute_result"
    },
    {
     "data": {
      "text/plain": [
       "'train\\\\dog\\\\dog.228.jpg'"
      ]
     },
     "execution_count": 51,
     "metadata": {},
     "output_type": "execute_result"
    },
    {
     "data": {
      "text/plain": [
       "'train\\\\dog\\\\dog.11736.jpg'"
      ]
     },
     "execution_count": 51,
     "metadata": {},
     "output_type": "execute_result"
    },
    {
     "data": {
      "text/plain": [
       "'train\\\\dog\\\\dog.3980.jpg'"
      ]
     },
     "execution_count": 51,
     "metadata": {},
     "output_type": "execute_result"
    },
    {
     "data": {
      "text/plain": [
       "'train\\\\dog\\\\dog.12286.jpg'"
      ]
     },
     "execution_count": 51,
     "metadata": {},
     "output_type": "execute_result"
    },
    {
     "data": {
      "text/plain": [
       "'train\\\\dog\\\\dog.4248.jpg'"
      ]
     },
     "execution_count": 51,
     "metadata": {},
     "output_type": "execute_result"
    },
    {
     "data": {
      "text/plain": [
       "'train\\\\dog\\\\dog.6939.jpg'"
      ]
     },
     "execution_count": 51,
     "metadata": {},
     "output_type": "execute_result"
    },
    {
     "data": {
      "text/plain": [
       "'train\\\\dog\\\\dog.11667.jpg'"
      ]
     },
     "execution_count": 51,
     "metadata": {},
     "output_type": "execute_result"
    },
    {
     "data": {
      "text/plain": [
       "'train\\\\dog\\\\dog.2777.jpg'"
      ]
     },
     "execution_count": 51,
     "metadata": {},
     "output_type": "execute_result"
    },
    {
     "data": {
      "text/plain": [
       "'train\\\\dog\\\\dog.1587.jpg'"
      ]
     },
     "execution_count": 51,
     "metadata": {},
     "output_type": "execute_result"
    },
    {
     "data": {
      "text/plain": [
       "'train\\\\dog\\\\dog.4201.jpg'"
      ]
     },
     "execution_count": 51,
     "metadata": {},
     "output_type": "execute_result"
    },
    {
     "data": {
      "text/plain": [
       "'train\\\\dog\\\\dog.6806.jpg'"
      ]
     },
     "execution_count": 51,
     "metadata": {},
     "output_type": "execute_result"
    },
    {
     "data": {
      "text/plain": [
       "'train\\\\dog\\\\dog.10099.jpg'"
      ]
     },
     "execution_count": 51,
     "metadata": {},
     "output_type": "execute_result"
    },
    {
     "data": {
      "text/plain": [
       "'train\\\\dog\\\\dog.11119.jpg'"
      ]
     },
     "execution_count": 51,
     "metadata": {},
     "output_type": "execute_result"
    },
    {
     "data": {
      "text/plain": [
       "'train\\\\dog\\\\dog.897.jpg'"
      ]
     },
     "execution_count": 51,
     "metadata": {},
     "output_type": "execute_result"
    },
    {
     "data": {
      "text/plain": [
       "'train\\\\dog\\\\dog.841.jpg'"
      ]
     },
     "execution_count": 51,
     "metadata": {},
     "output_type": "execute_result"
    },
    {
     "data": {
      "text/plain": [
       "'train\\\\dog\\\\dog.127.jpg'"
      ]
     },
     "execution_count": 51,
     "metadata": {},
     "output_type": "execute_result"
    },
    {
     "data": {
      "text/plain": [
       "'train\\\\dog\\\\dog.4815.jpg'"
      ]
     },
     "execution_count": 51,
     "metadata": {},
     "output_type": "execute_result"
    },
    {
     "data": {
      "text/plain": [
       "'train\\\\dog\\\\dog.10032.jpg'"
      ]
     },
     "execution_count": 51,
     "metadata": {},
     "output_type": "execute_result"
    },
    {
     "data": {
      "text/plain": [
       "'train\\\\dog\\\\dog.11647.jpg'"
      ]
     },
     "execution_count": 51,
     "metadata": {},
     "output_type": "execute_result"
    },
    {
     "data": {
      "text/plain": [
       "'train\\\\dog\\\\dog.4612.jpg'"
      ]
     },
     "execution_count": 51,
     "metadata": {},
     "output_type": "execute_result"
    },
    {
     "data": {
      "text/plain": [
       "'train\\\\dog\\\\dog.12263.jpg'"
      ]
     },
     "execution_count": 51,
     "metadata": {},
     "output_type": "execute_result"
    },
    {
     "data": {
      "text/plain": [
       "'train\\\\dog\\\\dog.419.jpg'"
      ]
     },
     "execution_count": 51,
     "metadata": {},
     "output_type": "execute_result"
    },
    {
     "data": {
      "text/plain": [
       "'train\\\\dog\\\\dog.7058.jpg'"
      ]
     },
     "execution_count": 51,
     "metadata": {},
     "output_type": "execute_result"
    },
    {
     "data": {
      "text/plain": [
       "'train\\\\dog\\\\dog.159.jpg'"
      ]
     },
     "execution_count": 51,
     "metadata": {},
     "output_type": "execute_result"
    },
    {
     "data": {
      "text/plain": [
       "'train\\\\dog\\\\dog.7127.jpg'"
      ]
     },
     "execution_count": 51,
     "metadata": {},
     "output_type": "execute_result"
    },
    {
     "data": {
      "text/plain": [
       "'train\\\\dog\\\\dog.2120.jpg'"
      ]
     },
     "execution_count": 51,
     "metadata": {},
     "output_type": "execute_result"
    },
    {
     "data": {
      "text/plain": [
       "'train\\\\dog\\\\dog.4897.jpg'"
      ]
     },
     "execution_count": 51,
     "metadata": {},
     "output_type": "execute_result"
    },
    {
     "data": {
      "text/plain": [
       "'train\\\\dog\\\\dog.5511.jpg'"
      ]
     },
     "execution_count": 51,
     "metadata": {},
     "output_type": "execute_result"
    },
    {
     "data": {
      "text/plain": [
       "'train\\\\dog\\\\dog.5262.jpg'"
      ]
     },
     "execution_count": 51,
     "metadata": {},
     "output_type": "execute_result"
    },
    {
     "data": {
      "text/plain": [
       "'train\\\\dog\\\\dog.10148.jpg'"
      ]
     },
     "execution_count": 51,
     "metadata": {},
     "output_type": "execute_result"
    },
    {
     "data": {
      "text/plain": [
       "'train\\\\dog\\\\dog.10422.jpg'"
      ]
     },
     "execution_count": 51,
     "metadata": {},
     "output_type": "execute_result"
    },
    {
     "data": {
      "text/plain": [
       "'train\\\\dog\\\\dog.11768.jpg'"
      ]
     },
     "execution_count": 51,
     "metadata": {},
     "output_type": "execute_result"
    },
    {
     "data": {
      "text/plain": [
       "'train\\\\dog\\\\dog.1537.jpg'"
      ]
     },
     "execution_count": 51,
     "metadata": {},
     "output_type": "execute_result"
    },
    {
     "data": {
      "text/plain": [
       "'train\\\\dog\\\\dog.6350.jpg'"
      ]
     },
     "execution_count": 51,
     "metadata": {},
     "output_type": "execute_result"
    },
    {
     "data": {
      "text/plain": [
       "'train\\\\dog\\\\dog.822.jpg'"
      ]
     },
     "execution_count": 51,
     "metadata": {},
     "output_type": "execute_result"
    },
    {
     "data": {
      "text/plain": [
       "'train\\\\dog\\\\dog.5555.jpg'"
      ]
     },
     "execution_count": 51,
     "metadata": {},
     "output_type": "execute_result"
    },
    {
     "data": {
      "text/plain": [
       "'train\\\\dog\\\\dog.8913.jpg'"
      ]
     },
     "execution_count": 51,
     "metadata": {},
     "output_type": "execute_result"
    },
    {
     "data": {
      "text/plain": [
       "'train\\\\dog\\\\dog.3778.jpg'"
      ]
     },
     "execution_count": 51,
     "metadata": {},
     "output_type": "execute_result"
    },
    {
     "data": {
      "text/plain": [
       "'train\\\\dog\\\\dog.3706.jpg'"
      ]
     },
     "execution_count": 51,
     "metadata": {},
     "output_type": "execute_result"
    },
    {
     "data": {
      "text/plain": [
       "'train\\\\dog\\\\dog.2617.jpg'"
      ]
     },
     "execution_count": 51,
     "metadata": {},
     "output_type": "execute_result"
    },
    {
     "data": {
      "text/plain": [
       "'train\\\\dog\\\\dog.2109.jpg'"
      ]
     },
     "execution_count": 51,
     "metadata": {},
     "output_type": "execute_result"
    },
    {
     "data": {
      "text/plain": [
       "'train\\\\dog\\\\dog.2857.jpg'"
      ]
     },
     "execution_count": 51,
     "metadata": {},
     "output_type": "execute_result"
    },
    {
     "data": {
      "text/plain": [
       "'train\\\\dog\\\\dog.10807.jpg'"
      ]
     },
     "execution_count": 51,
     "metadata": {},
     "output_type": "execute_result"
    },
    {
     "data": {
      "text/plain": [
       "'train\\\\dog\\\\dog.11043.jpg'"
      ]
     },
     "execution_count": 51,
     "metadata": {},
     "output_type": "execute_result"
    },
    {
     "data": {
      "text/plain": [
       "'train\\\\dog\\\\dog.482.jpg'"
      ]
     },
     "execution_count": 51,
     "metadata": {},
     "output_type": "execute_result"
    },
    {
     "data": {
      "text/plain": [
       "'train\\\\dog\\\\dog.4269.jpg'"
      ]
     },
     "execution_count": 51,
     "metadata": {},
     "output_type": "execute_result"
    },
    {
     "data": {
      "text/plain": [
       "'train\\\\dog\\\\dog.4570.jpg'"
      ]
     },
     "execution_count": 51,
     "metadata": {},
     "output_type": "execute_result"
    },
    {
     "data": {
      "text/plain": [
       "'train\\\\dog\\\\dog.9962.jpg'"
      ]
     },
     "execution_count": 51,
     "metadata": {},
     "output_type": "execute_result"
    },
    {
     "data": {
      "text/plain": [
       "'train\\\\dog\\\\dog.50.jpg'"
      ]
     },
     "execution_count": 51,
     "metadata": {},
     "output_type": "execute_result"
    },
    {
     "data": {
      "text/plain": [
       "'train\\\\dog\\\\dog.8327.jpg'"
      ]
     },
     "execution_count": 51,
     "metadata": {},
     "output_type": "execute_result"
    },
    {
     "data": {
      "text/plain": [
       "'train\\\\dog\\\\dog.7977.jpg'"
      ]
     },
     "execution_count": 51,
     "metadata": {},
     "output_type": "execute_result"
    },
    {
     "data": {
      "text/plain": [
       "'train\\\\dog\\\\dog.5910.jpg'"
      ]
     },
     "execution_count": 51,
     "metadata": {},
     "output_type": "execute_result"
    },
    {
     "data": {
      "text/plain": [
       "'train\\\\dog\\\\dog.8532.jpg'"
      ]
     },
     "execution_count": 51,
     "metadata": {},
     "output_type": "execute_result"
    },
    {
     "data": {
      "text/plain": [
       "'train\\\\dog\\\\dog.2013.jpg'"
      ]
     },
     "execution_count": 51,
     "metadata": {},
     "output_type": "execute_result"
    },
    {
     "data": {
      "text/plain": [
       "'train\\\\dog\\\\dog.7044.jpg'"
      ]
     },
     "execution_count": 51,
     "metadata": {},
     "output_type": "execute_result"
    },
    {
     "data": {
      "text/plain": [
       "'train\\\\dog\\\\dog.10861.jpg'"
      ]
     },
     "execution_count": 51,
     "metadata": {},
     "output_type": "execute_result"
    },
    {
     "data": {
      "text/plain": [
       "'train\\\\dog\\\\dog.8785.jpg'"
      ]
     },
     "execution_count": 51,
     "metadata": {},
     "output_type": "execute_result"
    },
    {
     "data": {
      "text/plain": [
       "'train\\\\dog\\\\dog.14.jpg'"
      ]
     },
     "execution_count": 51,
     "metadata": {},
     "output_type": "execute_result"
    },
    {
     "data": {
      "text/plain": [
       "'train\\\\dog\\\\dog.4757.jpg'"
      ]
     },
     "execution_count": 51,
     "metadata": {},
     "output_type": "execute_result"
    },
    {
     "data": {
      "text/plain": [
       "'train\\\\dog\\\\dog.6951.jpg'"
      ]
     },
     "execution_count": 51,
     "metadata": {},
     "output_type": "execute_result"
    },
    {
     "data": {
      "text/plain": [
       "'train\\\\dog\\\\dog.4989.jpg'"
      ]
     },
     "execution_count": 51,
     "metadata": {},
     "output_type": "execute_result"
    },
    {
     "data": {
      "text/plain": [
       "'train\\\\dog\\\\dog.7012.jpg'"
      ]
     },
     "execution_count": 51,
     "metadata": {},
     "output_type": "execute_result"
    },
    {
     "data": {
      "text/plain": [
       "'train\\\\dog\\\\dog.3368.jpg'"
      ]
     },
     "execution_count": 51,
     "metadata": {},
     "output_type": "execute_result"
    },
    {
     "data": {
      "text/plain": [
       "'train\\\\dog\\\\dog.1970.jpg'"
      ]
     },
     "execution_count": 51,
     "metadata": {},
     "output_type": "execute_result"
    },
    {
     "data": {
      "text/plain": [
       "'train\\\\dog\\\\dog.2664.jpg'"
      ]
     },
     "execution_count": 51,
     "metadata": {},
     "output_type": "execute_result"
    },
    {
     "data": {
      "text/plain": [
       "'train\\\\dog\\\\dog.1375.jpg'"
      ]
     },
     "execution_count": 51,
     "metadata": {},
     "output_type": "execute_result"
    },
    {
     "data": {
      "text/plain": [
       "'train\\\\dog\\\\dog.8338.jpg'"
      ]
     },
     "execution_count": 51,
     "metadata": {},
     "output_type": "execute_result"
    },
    {
     "data": {
      "text/plain": [
       "'train\\\\dog\\\\dog.2166.jpg'"
      ]
     },
     "execution_count": 51,
     "metadata": {},
     "output_type": "execute_result"
    },
    {
     "data": {
      "text/plain": [
       "'train\\\\dog\\\\dog.1315.jpg'"
      ]
     },
     "execution_count": 51,
     "metadata": {},
     "output_type": "execute_result"
    },
    {
     "data": {
      "text/plain": [
       "'train\\\\dog\\\\dog.3765.jpg'"
      ]
     },
     "execution_count": 51,
     "metadata": {},
     "output_type": "execute_result"
    },
    {
     "data": {
      "text/plain": [
       "'train\\\\dog\\\\dog.3141.jpg'"
      ]
     },
     "execution_count": 51,
     "metadata": {},
     "output_type": "execute_result"
    },
    {
     "data": {
      "text/plain": [
       "'train\\\\dog\\\\dog.5701.jpg'"
      ]
     },
     "execution_count": 51,
     "metadata": {},
     "output_type": "execute_result"
    },
    {
     "data": {
      "text/plain": [
       "'train\\\\dog\\\\dog.7351.jpg'"
      ]
     },
     "execution_count": 51,
     "metadata": {},
     "output_type": "execute_result"
    },
    {
     "data": {
      "text/plain": [
       "'train\\\\dog\\\\dog.2878.jpg'"
      ]
     },
     "execution_count": 51,
     "metadata": {},
     "output_type": "execute_result"
    },
    {
     "data": {
      "text/plain": [
       "'train\\\\dog\\\\dog.9891.jpg'"
      ]
     },
     "execution_count": 51,
     "metadata": {},
     "output_type": "execute_result"
    },
    {
     "data": {
      "text/plain": [
       "'train\\\\dog\\\\dog.5753.jpg'"
      ]
     },
     "execution_count": 51,
     "metadata": {},
     "output_type": "execute_result"
    },
    {
     "data": {
      "text/plain": [
       "'train\\\\dog\\\\dog.4376.jpg'"
      ]
     },
     "execution_count": 51,
     "metadata": {},
     "output_type": "execute_result"
    },
    {
     "data": {
      "text/plain": [
       "'train\\\\dog\\\\dog.2824.jpg'"
      ]
     },
     "execution_count": 51,
     "metadata": {},
     "output_type": "execute_result"
    },
    {
     "data": {
      "text/plain": [
       "'train\\\\dog\\\\dog.9185.jpg'"
      ]
     },
     "execution_count": 51,
     "metadata": {},
     "output_type": "execute_result"
    },
    {
     "data": {
      "text/plain": [
       "'train\\\\dog\\\\dog.9686.jpg'"
      ]
     },
     "execution_count": 51,
     "metadata": {},
     "output_type": "execute_result"
    },
    {
     "data": {
      "text/plain": [
       "'train\\\\dog\\\\dog.8926.jpg'"
      ]
     },
     "execution_count": 51,
     "metadata": {},
     "output_type": "execute_result"
    },
    {
     "data": {
      "text/plain": [
       "'train\\\\dog\\\\dog.9263.jpg'"
      ]
     },
     "execution_count": 51,
     "metadata": {},
     "output_type": "execute_result"
    },
    {
     "data": {
      "text/plain": [
       "'train\\\\dog\\\\dog.3759.jpg'"
      ]
     },
     "execution_count": 51,
     "metadata": {},
     "output_type": "execute_result"
    },
    {
     "data": {
      "text/plain": [
       "'train\\\\dog\\\\dog.8904.jpg'"
      ]
     },
     "execution_count": 51,
     "metadata": {},
     "output_type": "execute_result"
    },
    {
     "data": {
      "text/plain": [
       "'train\\\\dog\\\\dog.7964.jpg'"
      ]
     },
     "execution_count": 51,
     "metadata": {},
     "output_type": "execute_result"
    },
    {
     "data": {
      "text/plain": [
       "'train\\\\dog\\\\dog.216.jpg'"
      ]
     },
     "execution_count": 51,
     "metadata": {},
     "output_type": "execute_result"
    },
    {
     "data": {
      "text/plain": [
       "'train\\\\dog\\\\dog.2680.jpg'"
      ]
     },
     "execution_count": 51,
     "metadata": {},
     "output_type": "execute_result"
    },
    {
     "data": {
      "text/plain": [
       "'train\\\\dog\\\\dog.3748.jpg'"
      ]
     },
     "execution_count": 51,
     "metadata": {},
     "output_type": "execute_result"
    },
    {
     "data": {
      "text/plain": [
       "'train\\\\dog\\\\dog.2474.jpg'"
      ]
     },
     "execution_count": 51,
     "metadata": {},
     "output_type": "execute_result"
    },
    {
     "data": {
      "text/plain": [
       "'train\\\\dog\\\\dog.7590.jpg'"
      ]
     },
     "execution_count": 51,
     "metadata": {},
     "output_type": "execute_result"
    },
    {
     "data": {
      "text/plain": [
       "'train\\\\dog\\\\dog.6572.jpg'"
      ]
     },
     "execution_count": 51,
     "metadata": {},
     "output_type": "execute_result"
    },
    {
     "data": {
      "text/plain": [
       "'train\\\\dog\\\\dog.8617.jpg'"
      ]
     },
     "execution_count": 51,
     "metadata": {},
     "output_type": "execute_result"
    },
    {
     "data": {
      "text/plain": [
       "'train\\\\dog\\\\dog.2884.jpg'"
      ]
     },
     "execution_count": 51,
     "metadata": {},
     "output_type": "execute_result"
    },
    {
     "data": {
      "text/plain": [
       "'train\\\\dog\\\\dog.3766.jpg'"
      ]
     },
     "execution_count": 51,
     "metadata": {},
     "output_type": "execute_result"
    },
    {
     "data": {
      "text/plain": [
       "'train\\\\dog\\\\dog.8469.jpg'"
      ]
     },
     "execution_count": 51,
     "metadata": {},
     "output_type": "execute_result"
    },
    {
     "data": {
      "text/plain": [
       "'train\\\\dog\\\\dog.2457.jpg'"
      ]
     },
     "execution_count": 51,
     "metadata": {},
     "output_type": "execute_result"
    },
    {
     "data": {
      "text/plain": [
       "'train\\\\dog\\\\dog.10532.jpg'"
      ]
     },
     "execution_count": 51,
     "metadata": {},
     "output_type": "execute_result"
    },
    {
     "data": {
      "text/plain": [
       "'train\\\\dog\\\\dog.5415.jpg'"
      ]
     },
     "execution_count": 51,
     "metadata": {},
     "output_type": "execute_result"
    },
    {
     "data": {
      "text/plain": [
       "'train\\\\dog\\\\dog.7534.jpg'"
      ]
     },
     "execution_count": 51,
     "metadata": {},
     "output_type": "execute_result"
    },
    {
     "data": {
      "text/plain": [
       "'train\\\\dog\\\\dog.8495.jpg'"
      ]
     },
     "execution_count": 51,
     "metadata": {},
     "output_type": "execute_result"
    },
    {
     "data": {
      "text/plain": [
       "'train\\\\dog\\\\dog.181.jpg'"
      ]
     },
     "execution_count": 51,
     "metadata": {},
     "output_type": "execute_result"
    },
    {
     "data": {
      "text/plain": [
       "'train\\\\dog\\\\dog.7109.jpg'"
      ]
     },
     "execution_count": 51,
     "metadata": {},
     "output_type": "execute_result"
    },
    {
     "data": {
      "text/plain": [
       "'train\\\\dog\\\\dog.4475.jpg'"
      ]
     },
     "execution_count": 51,
     "metadata": {},
     "output_type": "execute_result"
    },
    {
     "data": {
      "text/plain": [
       "'train\\\\dog\\\\dog.1778.jpg'"
      ]
     },
     "execution_count": 51,
     "metadata": {},
     "output_type": "execute_result"
    },
    {
     "data": {
      "text/plain": [
       "'train\\\\dog\\\\dog.8228.jpg'"
      ]
     },
     "execution_count": 51,
     "metadata": {},
     "output_type": "execute_result"
    },
    {
     "data": {
      "text/plain": [
       "'train\\\\dog\\\\dog.4625.jpg'"
      ]
     },
     "execution_count": 51,
     "metadata": {},
     "output_type": "execute_result"
    },
    {
     "data": {
      "text/plain": [
       "'train\\\\dog\\\\dog.8298.jpg'"
      ]
     },
     "execution_count": 51,
     "metadata": {},
     "output_type": "execute_result"
    },
    {
     "data": {
      "text/plain": [
       "'train\\\\dog\\\\dog.6290.jpg'"
      ]
     },
     "execution_count": 51,
     "metadata": {},
     "output_type": "execute_result"
    },
    {
     "data": {
      "text/plain": [
       "'train\\\\dog\\\\dog.11897.jpg'"
      ]
     },
     "execution_count": 51,
     "metadata": {},
     "output_type": "execute_result"
    },
    {
     "data": {
      "text/plain": [
       "'train\\\\dog\\\\dog.9112.jpg'"
      ]
     },
     "execution_count": 51,
     "metadata": {},
     "output_type": "execute_result"
    },
    {
     "data": {
      "text/plain": [
       "'train\\\\dog\\\\dog.1344.jpg'"
      ]
     },
     "execution_count": 51,
     "metadata": {},
     "output_type": "execute_result"
    },
    {
     "data": {
      "text/plain": [
       "'train\\\\dog\\\\dog.9591.jpg'"
      ]
     },
     "execution_count": 51,
     "metadata": {},
     "output_type": "execute_result"
    },
    {
     "data": {
      "text/plain": [
       "'train\\\\dog\\\\dog.2387.jpg'"
      ]
     },
     "execution_count": 51,
     "metadata": {},
     "output_type": "execute_result"
    },
    {
     "data": {
      "text/plain": [
       "'train\\\\dog\\\\dog.506.jpg'"
      ]
     },
     "execution_count": 51,
     "metadata": {},
     "output_type": "execute_result"
    },
    {
     "data": {
      "text/plain": [
       "'train\\\\dog\\\\dog.11293.jpg'"
      ]
     },
     "execution_count": 51,
     "metadata": {},
     "output_type": "execute_result"
    },
    {
     "data": {
      "text/plain": [
       "'train\\\\dog\\\\dog.11616.jpg'"
      ]
     },
     "execution_count": 51,
     "metadata": {},
     "output_type": "execute_result"
    },
    {
     "data": {
      "text/plain": [
       "'train\\\\dog\\\\dog.9552.jpg'"
      ]
     },
     "execution_count": 51,
     "metadata": {},
     "output_type": "execute_result"
    },
    {
     "data": {
      "text/plain": [
       "'train\\\\dog\\\\dog.5125.jpg'"
      ]
     },
     "execution_count": 51,
     "metadata": {},
     "output_type": "execute_result"
    },
    {
     "data": {
      "text/plain": [
       "'train\\\\dog\\\\dog.7407.jpg'"
      ]
     },
     "execution_count": 51,
     "metadata": {},
     "output_type": "execute_result"
    },
    {
     "data": {
      "text/plain": [
       "'train\\\\dog\\\\dog.4655.jpg'"
      ]
     },
     "execution_count": 51,
     "metadata": {},
     "output_type": "execute_result"
    },
    {
     "data": {
      "text/plain": [
       "'train\\\\dog\\\\dog.5526.jpg'"
      ]
     },
     "execution_count": 51,
     "metadata": {},
     "output_type": "execute_result"
    },
    {
     "data": {
      "text/plain": [
       "'train\\\\dog\\\\dog.2931.jpg'"
      ]
     },
     "execution_count": 51,
     "metadata": {},
     "output_type": "execute_result"
    },
    {
     "data": {
      "text/plain": [
       "'train\\\\dog\\\\dog.7218.jpg'"
      ]
     },
     "execution_count": 51,
     "metadata": {},
     "output_type": "execute_result"
    },
    {
     "data": {
      "text/plain": [
       "'train\\\\dog\\\\dog.9332.jpg'"
      ]
     },
     "execution_count": 51,
     "metadata": {},
     "output_type": "execute_result"
    },
    {
     "data": {
      "text/plain": [
       "'train\\\\dog\\\\dog.1620.jpg'"
      ]
     },
     "execution_count": 51,
     "metadata": {},
     "output_type": "execute_result"
    },
    {
     "data": {
      "text/plain": [
       "'train\\\\dog\\\\dog.1934.jpg'"
      ]
     },
     "execution_count": 51,
     "metadata": {},
     "output_type": "execute_result"
    },
    {
     "data": {
      "text/plain": [
       "'train\\\\dog\\\\dog.5463.jpg'"
      ]
     },
     "execution_count": 51,
     "metadata": {},
     "output_type": "execute_result"
    },
    {
     "data": {
      "text/plain": [
       "'train\\\\dog\\\\dog.4548.jpg'"
      ]
     },
     "execution_count": 51,
     "metadata": {},
     "output_type": "execute_result"
    },
    {
     "data": {
      "text/plain": [
       "'train\\\\dog\\\\dog.11717.jpg'"
      ]
     },
     "execution_count": 51,
     "metadata": {},
     "output_type": "execute_result"
    },
    {
     "data": {
      "text/plain": [
       "'train\\\\dog\\\\dog.7847.jpg'"
      ]
     },
     "execution_count": 51,
     "metadata": {},
     "output_type": "execute_result"
    },
    {
     "data": {
      "text/plain": [
       "'train\\\\dog\\\\dog.12495.jpg'"
      ]
     },
     "execution_count": 51,
     "metadata": {},
     "output_type": "execute_result"
    },
    {
     "data": {
      "text/plain": [
       "'train\\\\dog\\\\dog.1328.jpg'"
      ]
     },
     "execution_count": 51,
     "metadata": {},
     "output_type": "execute_result"
    },
    {
     "data": {
      "text/plain": [
       "'train\\\\dog\\\\dog.3311.jpg'"
      ]
     },
     "execution_count": 51,
     "metadata": {},
     "output_type": "execute_result"
    },
    {
     "data": {
      "text/plain": [
       "'train\\\\dog\\\\dog.3583.jpg'"
      ]
     },
     "execution_count": 51,
     "metadata": {},
     "output_type": "execute_result"
    },
    {
     "data": {
      "text/plain": [
       "'train\\\\dog\\\\dog.1980.jpg'"
      ]
     },
     "execution_count": 51,
     "metadata": {},
     "output_type": "execute_result"
    },
    {
     "data": {
      "text/plain": [
       "'train\\\\dog\\\\dog.7370.jpg'"
      ]
     },
     "execution_count": 51,
     "metadata": {},
     "output_type": "execute_result"
    },
    {
     "data": {
      "text/plain": [
       "'train\\\\dog\\\\dog.12115.jpg'"
      ]
     },
     "execution_count": 51,
     "metadata": {},
     "output_type": "execute_result"
    },
    {
     "data": {
      "text/plain": [
       "'train\\\\dog\\\\dog.1534.jpg'"
      ]
     },
     "execution_count": 51,
     "metadata": {},
     "output_type": "execute_result"
    },
    {
     "data": {
      "text/plain": [
       "'train\\\\dog\\\\dog.11399.jpg'"
      ]
     },
     "execution_count": 51,
     "metadata": {},
     "output_type": "execute_result"
    },
    {
     "data": {
      "text/plain": [
       "'train\\\\dog\\\\dog.12026.jpg'"
      ]
     },
     "execution_count": 51,
     "metadata": {},
     "output_type": "execute_result"
    },
    {
     "data": {
      "text/plain": [
       "'train\\\\dog\\\\dog.8279.jpg'"
      ]
     },
     "execution_count": 51,
     "metadata": {},
     "output_type": "execute_result"
    },
    {
     "data": {
      "text/plain": [
       "'train\\\\dog\\\\dog.10445.jpg'"
      ]
     },
     "execution_count": 51,
     "metadata": {},
     "output_type": "execute_result"
    },
    {
     "data": {
      "text/plain": [
       "'train\\\\dog\\\\dog.9355.jpg'"
      ]
     },
     "execution_count": 51,
     "metadata": {},
     "output_type": "execute_result"
    },
    {
     "data": {
      "text/plain": [
       "'train\\\\dog\\\\dog.12083.jpg'"
      ]
     },
     "execution_count": 51,
     "metadata": {},
     "output_type": "execute_result"
    },
    {
     "data": {
      "text/plain": [
       "'train\\\\dog\\\\dog.12262.jpg'"
      ]
     },
     "execution_count": 51,
     "metadata": {},
     "output_type": "execute_result"
    },
    {
     "data": {
      "text/plain": [
       "'train\\\\dog\\\\dog.6705.jpg'"
      ]
     },
     "execution_count": 51,
     "metadata": {},
     "output_type": "execute_result"
    },
    {
     "data": {
      "text/plain": [
       "'train\\\\dog\\\\dog.1574.jpg'"
      ]
     },
     "execution_count": 51,
     "metadata": {},
     "output_type": "execute_result"
    },
    {
     "data": {
      "text/plain": [
       "'train\\\\dog\\\\dog.6120.jpg'"
      ]
     },
     "execution_count": 51,
     "metadata": {},
     "output_type": "execute_result"
    },
    {
     "data": {
      "text/plain": [
       "'train\\\\dog\\\\dog.2136.jpg'"
      ]
     },
     "execution_count": 51,
     "metadata": {},
     "output_type": "execute_result"
    },
    {
     "data": {
      "text/plain": [
       "'train\\\\dog\\\\dog.9086.jpg'"
      ]
     },
     "execution_count": 51,
     "metadata": {},
     "output_type": "execute_result"
    },
    {
     "data": {
      "text/plain": [
       "'train\\\\dog\\\\dog.8197.jpg'"
      ]
     },
     "execution_count": 51,
     "metadata": {},
     "output_type": "execute_result"
    },
    {
     "data": {
      "text/plain": [
       "'train\\\\dog\\\\dog.2378.jpg'"
      ]
     },
     "execution_count": 51,
     "metadata": {},
     "output_type": "execute_result"
    },
    {
     "data": {
      "text/plain": [
       "'train\\\\dog\\\\dog.11958.jpg'"
      ]
     },
     "execution_count": 51,
     "metadata": {},
     "output_type": "execute_result"
    },
    {
     "data": {
      "text/plain": [
       "'train\\\\dog\\\\dog.9457.jpg'"
      ]
     },
     "execution_count": 51,
     "metadata": {},
     "output_type": "execute_result"
    },
    {
     "data": {
      "text/plain": [
       "'train\\\\dog\\\\dog.95.jpg'"
      ]
     },
     "execution_count": 51,
     "metadata": {},
     "output_type": "execute_result"
    },
    {
     "data": {
      "text/plain": [
       "'train\\\\dog\\\\dog.4339.jpg'"
      ]
     },
     "execution_count": 51,
     "metadata": {},
     "output_type": "execute_result"
    },
    {
     "data": {
      "text/plain": [
       "'train\\\\dog\\\\dog.12065.jpg'"
      ]
     },
     "execution_count": 51,
     "metadata": {},
     "output_type": "execute_result"
    },
    {
     "data": {
      "text/plain": [
       "'train\\\\dog\\\\dog.5741.jpg'"
      ]
     },
     "execution_count": 51,
     "metadata": {},
     "output_type": "execute_result"
    },
    {
     "data": {
      "text/plain": [
       "'train\\\\dog\\\\dog.5300.jpg'"
      ]
     },
     "execution_count": 51,
     "metadata": {},
     "output_type": "execute_result"
    },
    {
     "data": {
      "text/plain": [
       "'train\\\\dog\\\\dog.8.jpg'"
      ]
     },
     "execution_count": 51,
     "metadata": {},
     "output_type": "execute_result"
    },
    {
     "data": {
      "text/plain": [
       "'train\\\\dog\\\\dog.10408.jpg'"
      ]
     },
     "execution_count": 51,
     "metadata": {},
     "output_type": "execute_result"
    },
    {
     "data": {
      "text/plain": [
       "'train\\\\dog\\\\dog.6231.jpg'"
      ]
     },
     "execution_count": 51,
     "metadata": {},
     "output_type": "execute_result"
    },
    {
     "data": {
      "text/plain": [
       "'train\\\\dog\\\\dog.9450.jpg'"
      ]
     },
     "execution_count": 51,
     "metadata": {},
     "output_type": "execute_result"
    },
    {
     "data": {
      "text/plain": [
       "'train\\\\dog\\\\dog.4045.jpg'"
      ]
     },
     "execution_count": 51,
     "metadata": {},
     "output_type": "execute_result"
    },
    {
     "data": {
      "text/plain": [
       "'train\\\\dog\\\\dog.6741.jpg'"
      ]
     },
     "execution_count": 51,
     "metadata": {},
     "output_type": "execute_result"
    },
    {
     "data": {
      "text/plain": [
       "'train\\\\dog\\\\dog.7398.jpg'"
      ]
     },
     "execution_count": 51,
     "metadata": {},
     "output_type": "execute_result"
    },
    {
     "data": {
      "text/plain": [
       "'train\\\\dog\\\\dog.4870.jpg'"
      ]
     },
     "execution_count": 51,
     "metadata": {},
     "output_type": "execute_result"
    },
    {
     "data": {
      "text/plain": [
       "'train\\\\dog\\\\dog.5137.jpg'"
      ]
     },
     "execution_count": 51,
     "metadata": {},
     "output_type": "execute_result"
    },
    {
     "data": {
      "text/plain": [
       "'train\\\\dog\\\\dog.2137.jpg'"
      ]
     },
     "execution_count": 51,
     "metadata": {},
     "output_type": "execute_result"
    },
    {
     "data": {
      "text/plain": [
       "'train\\\\dog\\\\dog.5509.jpg'"
      ]
     },
     "execution_count": 51,
     "metadata": {},
     "output_type": "execute_result"
    },
    {
     "data": {
      "text/plain": [
       "'train\\\\dog\\\\dog.8015.jpg'"
      ]
     },
     "execution_count": 51,
     "metadata": {},
     "output_type": "execute_result"
    },
    {
     "data": {
      "text/plain": [
       "'train\\\\dog\\\\dog.7528.jpg'"
      ]
     },
     "execution_count": 51,
     "metadata": {},
     "output_type": "execute_result"
    },
    {
     "data": {
      "text/plain": [
       "'train\\\\dog\\\\dog.9044.jpg'"
      ]
     },
     "execution_count": 51,
     "metadata": {},
     "output_type": "execute_result"
    },
    {
     "data": {
      "text/plain": [
       "'train\\\\dog\\\\dog.6571.jpg'"
      ]
     },
     "execution_count": 51,
     "metadata": {},
     "output_type": "execute_result"
    },
    {
     "data": {
      "text/plain": [
       "'train\\\\dog\\\\dog.1556.jpg'"
      ]
     },
     "execution_count": 51,
     "metadata": {},
     "output_type": "execute_result"
    },
    {
     "data": {
      "text/plain": [
       "'train\\\\dog\\\\dog.498.jpg'"
      ]
     },
     "execution_count": 51,
     "metadata": {},
     "output_type": "execute_result"
    },
    {
     "data": {
      "text/plain": [
       "'train\\\\dog\\\\dog.1752.jpg'"
      ]
     },
     "execution_count": 51,
     "metadata": {},
     "output_type": "execute_result"
    },
    {
     "data": {
      "text/plain": [
       "'train\\\\dog\\\\dog.9241.jpg'"
      ]
     },
     "execution_count": 51,
     "metadata": {},
     "output_type": "execute_result"
    },
    {
     "data": {
      "text/plain": [
       "'train\\\\dog\\\\dog.1938.jpg'"
      ]
     },
     "execution_count": 51,
     "metadata": {},
     "output_type": "execute_result"
    },
    {
     "data": {
      "text/plain": [
       "'train\\\\dog\\\\dog.10713.jpg'"
      ]
     },
     "execution_count": 51,
     "metadata": {},
     "output_type": "execute_result"
    },
    {
     "data": {
      "text/plain": [
       "'train\\\\dog\\\\dog.9676.jpg'"
      ]
     },
     "execution_count": 51,
     "metadata": {},
     "output_type": "execute_result"
    },
    {
     "data": {
      "text/plain": [
       "'train\\\\dog\\\\dog.981.jpg'"
      ]
     },
     "execution_count": 51,
     "metadata": {},
     "output_type": "execute_result"
    },
    {
     "data": {
      "text/plain": [
       "'train\\\\dog\\\\dog.4274.jpg'"
      ]
     },
     "execution_count": 51,
     "metadata": {},
     "output_type": "execute_result"
    },
    {
     "data": {
      "text/plain": [
       "'train\\\\dog\\\\dog.8468.jpg'"
      ]
     },
     "execution_count": 51,
     "metadata": {},
     "output_type": "execute_result"
    },
    {
     "data": {
      "text/plain": [
       "'train\\\\dog\\\\dog.6589.jpg'"
      ]
     },
     "execution_count": 51,
     "metadata": {},
     "output_type": "execute_result"
    },
    {
     "data": {
      "text/plain": [
       "'train\\\\dog\\\\dog.6698.jpg'"
      ]
     },
     "execution_count": 51,
     "metadata": {},
     "output_type": "execute_result"
    },
    {
     "data": {
      "text/plain": [
       "'train\\\\dog\\\\dog.4471.jpg'"
      ]
     },
     "execution_count": 51,
     "metadata": {},
     "output_type": "execute_result"
    },
    {
     "data": {
      "text/plain": [
       "'train\\\\dog\\\\dog.2658.jpg'"
      ]
     },
     "execution_count": 51,
     "metadata": {},
     "output_type": "execute_result"
    },
    {
     "data": {
      "text/plain": [
       "'train\\\\dog\\\\dog.5384.jpg'"
      ]
     },
     "execution_count": 51,
     "metadata": {},
     "output_type": "execute_result"
    },
    {
     "data": {
      "text/plain": [
       "'train\\\\dog\\\\dog.10752.jpg'"
      ]
     },
     "execution_count": 51,
     "metadata": {},
     "output_type": "execute_result"
    },
    {
     "data": {
      "text/plain": [
       "'train\\\\dog\\\\dog.2916.jpg'"
      ]
     },
     "execution_count": 51,
     "metadata": {},
     "output_type": "execute_result"
    },
    {
     "data": {
      "text/plain": [
       "'train\\\\dog\\\\dog.394.jpg'"
      ]
     },
     "execution_count": 51,
     "metadata": {},
     "output_type": "execute_result"
    },
    {
     "data": {
      "text/plain": [
       "'train\\\\dog\\\\dog.5370.jpg'"
      ]
     },
     "execution_count": 51,
     "metadata": {},
     "output_type": "execute_result"
    },
    {
     "data": {
      "text/plain": [
       "'train\\\\dog\\\\dog.5289.jpg'"
      ]
     },
     "execution_count": 51,
     "metadata": {},
     "output_type": "execute_result"
    },
    {
     "data": {
      "text/plain": [
       "'train\\\\dog\\\\dog.2017.jpg'"
      ]
     },
     "execution_count": 51,
     "metadata": {},
     "output_type": "execute_result"
    },
    {
     "data": {
      "text/plain": [
       "'train\\\\dog\\\\dog.1845.jpg'"
      ]
     },
     "execution_count": 51,
     "metadata": {},
     "output_type": "execute_result"
    },
    {
     "data": {
      "text/plain": [
       "'train\\\\dog\\\\dog.9085.jpg'"
      ]
     },
     "execution_count": 51,
     "metadata": {},
     "output_type": "execute_result"
    },
    {
     "data": {
      "text/plain": [
       "'train\\\\dog\\\\dog.1953.jpg'"
      ]
     },
     "execution_count": 51,
     "metadata": {},
     "output_type": "execute_result"
    },
    {
     "data": {
      "text/plain": [
       "'train\\\\dog\\\\dog.1312.jpg'"
      ]
     },
     "execution_count": 51,
     "metadata": {},
     "output_type": "execute_result"
    },
    {
     "data": {
      "text/plain": [
       "'train\\\\dog\\\\dog.8062.jpg'"
      ]
     },
     "execution_count": 51,
     "metadata": {},
     "output_type": "execute_result"
    },
    {
     "data": {
      "text/plain": [
       "'train\\\\dog\\\\dog.6308.jpg'"
      ]
     },
     "execution_count": 51,
     "metadata": {},
     "output_type": "execute_result"
    },
    {
     "data": {
      "text/plain": [
       "'train\\\\dog\\\\dog.624.jpg'"
      ]
     },
     "execution_count": 51,
     "metadata": {},
     "output_type": "execute_result"
    },
    {
     "data": {
      "text/plain": [
       "'train\\\\dog\\\\dog.1883.jpg'"
      ]
     },
     "execution_count": 51,
     "metadata": {},
     "output_type": "execute_result"
    },
    {
     "data": {
      "text/plain": [
       "'train\\\\dog\\\\dog.5644.jpg'"
      ]
     },
     "execution_count": 51,
     "metadata": {},
     "output_type": "execute_result"
    },
    {
     "data": {
      "text/plain": [
       "'train\\\\dog\\\\dog.9741.jpg'"
      ]
     },
     "execution_count": 51,
     "metadata": {},
     "output_type": "execute_result"
    },
    {
     "data": {
      "text/plain": [
       "'train\\\\dog\\\\dog.9278.jpg'"
      ]
     },
     "execution_count": 51,
     "metadata": {},
     "output_type": "execute_result"
    },
    {
     "data": {
      "text/plain": [
       "'train\\\\dog\\\\dog.12456.jpg'"
      ]
     },
     "execution_count": 51,
     "metadata": {},
     "output_type": "execute_result"
    },
    {
     "data": {
      "text/plain": [
       "'train\\\\dog\\\\dog.3585.jpg'"
      ]
     },
     "execution_count": 51,
     "metadata": {},
     "output_type": "execute_result"
    },
    {
     "data": {
      "text/plain": [
       "'train\\\\dog\\\\dog.1189.jpg'"
      ]
     },
     "execution_count": 51,
     "metadata": {},
     "output_type": "execute_result"
    },
    {
     "data": {
      "text/plain": [
       "'train\\\\dog\\\\dog.4794.jpg'"
      ]
     },
     "execution_count": 51,
     "metadata": {},
     "output_type": "execute_result"
    },
    {
     "data": {
      "text/plain": [
       "'train\\\\dog\\\\dog.11267.jpg'"
      ]
     },
     "execution_count": 51,
     "metadata": {},
     "output_type": "execute_result"
    },
    {
     "data": {
      "text/plain": [
       "'train\\\\dog\\\\dog.8476.jpg'"
      ]
     },
     "execution_count": 51,
     "metadata": {},
     "output_type": "execute_result"
    },
    {
     "data": {
      "text/plain": [
       "'train\\\\dog\\\\dog.11377.jpg'"
      ]
     },
     "execution_count": 51,
     "metadata": {},
     "output_type": "execute_result"
    },
    {
     "data": {
      "text/plain": [
       "'train\\\\dog\\\\dog.6439.jpg'"
      ]
     },
     "execution_count": 51,
     "metadata": {},
     "output_type": "execute_result"
    },
    {
     "data": {
      "text/plain": [
       "'train\\\\dog\\\\dog.6816.jpg'"
      ]
     },
     "execution_count": 51,
     "metadata": {},
     "output_type": "execute_result"
    },
    {
     "data": {
      "text/plain": [
       "'train\\\\dog\\\\dog.7797.jpg'"
      ]
     },
     "execution_count": 51,
     "metadata": {},
     "output_type": "execute_result"
    },
    {
     "data": {
      "text/plain": [
       "'train\\\\dog\\\\dog.9827.jpg'"
      ]
     },
     "execution_count": 51,
     "metadata": {},
     "output_type": "execute_result"
    },
    {
     "data": {
      "text/plain": [
       "'train\\\\dog\\\\dog.5587.jpg'"
      ]
     },
     "execution_count": 51,
     "metadata": {},
     "output_type": "execute_result"
    },
    {
     "data": {
      "text/plain": [
       "'train\\\\dog\\\\dog.5840.jpg'"
      ]
     },
     "execution_count": 51,
     "metadata": {},
     "output_type": "execute_result"
    },
    {
     "data": {
      "text/plain": [
       "'train\\\\dog\\\\dog.1262.jpg'"
      ]
     },
     "execution_count": 51,
     "metadata": {},
     "output_type": "execute_result"
    },
    {
     "data": {
      "text/plain": [
       "'train\\\\dog\\\\dog.2012.jpg'"
      ]
     },
     "execution_count": 51,
     "metadata": {},
     "output_type": "execute_result"
    },
    {
     "data": {
      "text/plain": [
       "'train\\\\dog\\\\dog.1095.jpg'"
      ]
     },
     "execution_count": 51,
     "metadata": {},
     "output_type": "execute_result"
    },
    {
     "data": {
      "text/plain": [
       "'train\\\\dog\\\\dog.8967.jpg'"
      ]
     },
     "execution_count": 51,
     "metadata": {},
     "output_type": "execute_result"
    },
    {
     "data": {
      "text/plain": [
       "'train\\\\dog\\\\dog.366.jpg'"
      ]
     },
     "execution_count": 51,
     "metadata": {},
     "output_type": "execute_result"
    },
    {
     "data": {
      "text/plain": [
       "'train\\\\dog\\\\dog.11099.jpg'"
      ]
     },
     "execution_count": 51,
     "metadata": {},
     "output_type": "execute_result"
    },
    {
     "data": {
      "text/plain": [
       "'train\\\\dog\\\\dog.4809.jpg'"
      ]
     },
     "execution_count": 51,
     "metadata": {},
     "output_type": "execute_result"
    },
    {
     "data": {
      "text/plain": [
       "'train\\\\dog\\\\dog.10011.jpg'"
      ]
     },
     "execution_count": 51,
     "metadata": {},
     "output_type": "execute_result"
    },
    {
     "data": {
      "text/plain": [
       "'train\\\\dog\\\\dog.6745.jpg'"
      ]
     },
     "execution_count": 51,
     "metadata": {},
     "output_type": "execute_result"
    },
    {
     "data": {
      "text/plain": [
       "'train\\\\dog\\\\dog.4335.jpg'"
      ]
     },
     "execution_count": 51,
     "metadata": {},
     "output_type": "execute_result"
    },
    {
     "data": {
      "text/plain": [
       "'train\\\\dog\\\\dog.9551.jpg'"
      ]
     },
     "execution_count": 51,
     "metadata": {},
     "output_type": "execute_result"
    },
    {
     "data": {
      "text/plain": [
       "'train\\\\dog\\\\dog.4585.jpg'"
      ]
     },
     "execution_count": 51,
     "metadata": {},
     "output_type": "execute_result"
    },
    {
     "data": {
      "text/plain": [
       "'train\\\\dog\\\\dog.521.jpg'"
      ]
     },
     "execution_count": 51,
     "metadata": {},
     "output_type": "execute_result"
    },
    {
     "data": {
      "text/plain": [
       "'train\\\\dog\\\\dog.270.jpg'"
      ]
     },
     "execution_count": 51,
     "metadata": {},
     "output_type": "execute_result"
    },
    {
     "data": {
      "text/plain": [
       "'train\\\\dog\\\\dog.8095.jpg'"
      ]
     },
     "execution_count": 51,
     "metadata": {},
     "output_type": "execute_result"
    },
    {
     "data": {
      "text/plain": [
       "'train\\\\dog\\\\dog.8732.jpg'"
      ]
     },
     "execution_count": 51,
     "metadata": {},
     "output_type": "execute_result"
    },
    {
     "data": {
      "text/plain": [
       "'train\\\\dog\\\\dog.2322.jpg'"
      ]
     },
     "execution_count": 51,
     "metadata": {},
     "output_type": "execute_result"
    },
    {
     "data": {
      "text/plain": [
       "'train\\\\dog\\\\dog.9790.jpg'"
      ]
     },
     "execution_count": 51,
     "metadata": {},
     "output_type": "execute_result"
    },
    {
     "data": {
      "text/plain": [
       "'train\\\\dog\\\\dog.4236.jpg'"
      ]
     },
     "execution_count": 51,
     "metadata": {},
     "output_type": "execute_result"
    },
    {
     "data": {
      "text/plain": [
       "'train\\\\dog\\\\dog.9199.jpg'"
      ]
     },
     "execution_count": 51,
     "metadata": {},
     "output_type": "execute_result"
    },
    {
     "data": {
      "text/plain": [
       "'train\\\\dog\\\\dog.10130.jpg'"
      ]
     },
     "execution_count": 51,
     "metadata": {},
     "output_type": "execute_result"
    },
    {
     "data": {
      "text/plain": [
       "'train\\\\dog\\\\dog.7122.jpg'"
      ]
     },
     "execution_count": 51,
     "metadata": {},
     "output_type": "execute_result"
    },
    {
     "data": {
      "text/plain": [
       "'train\\\\dog\\\\dog.6203.jpg'"
      ]
     },
     "execution_count": 51,
     "metadata": {},
     "output_type": "execute_result"
    },
    {
     "data": {
      "text/plain": [
       "'train\\\\dog\\\\dog.7215.jpg'"
      ]
     },
     "execution_count": 51,
     "metadata": {},
     "output_type": "execute_result"
    },
    {
     "data": {
      "text/plain": [
       "'train\\\\dog\\\\dog.8203.jpg'"
      ]
     },
     "execution_count": 51,
     "metadata": {},
     "output_type": "execute_result"
    },
    {
     "data": {
      "text/plain": [
       "'train\\\\dog\\\\dog.1291.jpg'"
      ]
     },
     "execution_count": 51,
     "metadata": {},
     "output_type": "execute_result"
    },
    {
     "data": {
      "text/plain": [
       "'train\\\\dog\\\\dog.1852.jpg'"
      ]
     },
     "execution_count": 51,
     "metadata": {},
     "output_type": "execute_result"
    },
    {
     "data": {
      "text/plain": [
       "'train\\\\dog\\\\dog.732.jpg'"
      ]
     },
     "execution_count": 51,
     "metadata": {},
     "output_type": "execute_result"
    },
    {
     "data": {
      "text/plain": [
       "'train\\\\dog\\\\dog.815.jpg'"
      ]
     },
     "execution_count": 51,
     "metadata": {},
     "output_type": "execute_result"
    },
    {
     "data": {
      "text/plain": [
       "'train\\\\dog\\\\dog.7005.jpg'"
      ]
     },
     "execution_count": 51,
     "metadata": {},
     "output_type": "execute_result"
    },
    {
     "data": {
      "text/plain": [
       "'train\\\\dog\\\\dog.4002.jpg'"
      ]
     },
     "execution_count": 51,
     "metadata": {},
     "output_type": "execute_result"
    },
    {
     "data": {
      "text/plain": [
       "'train\\\\dog\\\\dog.3218.jpg'"
      ]
     },
     "execution_count": 51,
     "metadata": {},
     "output_type": "execute_result"
    },
    {
     "data": {
      "text/plain": [
       "'train\\\\dog\\\\dog.6206.jpg'"
      ]
     },
     "execution_count": 51,
     "metadata": {},
     "output_type": "execute_result"
    },
    {
     "data": {
      "text/plain": [
       "'train\\\\dog\\\\dog.10387.jpg'"
      ]
     },
     "execution_count": 51,
     "metadata": {},
     "output_type": "execute_result"
    },
    {
     "data": {
      "text/plain": [
       "'valid\\\\cat\\\\cat.8264.jpg'"
      ]
     },
     "execution_count": 51,
     "metadata": {},
     "output_type": "execute_result"
    },
    {
     "data": {
      "text/plain": [
       "'valid\\\\cat\\\\cat.9588.jpg'"
      ]
     },
     "execution_count": 51,
     "metadata": {},
     "output_type": "execute_result"
    },
    {
     "data": {
      "text/plain": [
       "'valid\\\\cat\\\\cat.9400.jpg'"
      ]
     },
     "execution_count": 51,
     "metadata": {},
     "output_type": "execute_result"
    },
    {
     "data": {
      "text/plain": [
       "'valid\\\\cat\\\\cat.7890.jpg'"
      ]
     },
     "execution_count": 51,
     "metadata": {},
     "output_type": "execute_result"
    },
    {
     "data": {
      "text/plain": [
       "'valid\\\\cat\\\\cat.10812.jpg'"
      ]
     },
     "execution_count": 51,
     "metadata": {},
     "output_type": "execute_result"
    },
    {
     "data": {
      "text/plain": [
       "'valid\\\\cat\\\\cat.9427.jpg'"
      ]
     },
     "execution_count": 51,
     "metadata": {},
     "output_type": "execute_result"
    },
    {
     "data": {
      "text/plain": [
       "'valid\\\\cat\\\\cat.10133.jpg'"
      ]
     },
     "execution_count": 51,
     "metadata": {},
     "output_type": "execute_result"
    },
    {
     "data": {
      "text/plain": [
       "'valid\\\\cat\\\\cat.1254.jpg'"
      ]
     },
     "execution_count": 51,
     "metadata": {},
     "output_type": "execute_result"
    },
    {
     "data": {
      "text/plain": [
       "'valid\\\\cat\\\\cat.9660.jpg'"
      ]
     },
     "execution_count": 51,
     "metadata": {},
     "output_type": "execute_result"
    },
    {
     "data": {
      "text/plain": [
       "'valid\\\\cat\\\\cat.8809.jpg'"
      ]
     },
     "execution_count": 51,
     "metadata": {},
     "output_type": "execute_result"
    },
    {
     "data": {
      "text/plain": [
       "'valid\\\\cat\\\\cat.8328.jpg'"
      ]
     },
     "execution_count": 51,
     "metadata": {},
     "output_type": "execute_result"
    },
    {
     "data": {
      "text/plain": [
       "'valid\\\\cat\\\\cat.5098.jpg'"
      ]
     },
     "execution_count": 51,
     "metadata": {},
     "output_type": "execute_result"
    },
    {
     "data": {
      "text/plain": [
       "'valid\\\\cat\\\\cat.9849.jpg'"
      ]
     },
     "execution_count": 51,
     "metadata": {},
     "output_type": "execute_result"
    },
    {
     "data": {
      "text/plain": [
       "'valid\\\\cat\\\\cat.3597.jpg'"
      ]
     },
     "execution_count": 51,
     "metadata": {},
     "output_type": "execute_result"
    },
    {
     "data": {
      "text/plain": [
       "'valid\\\\cat\\\\cat.10877.jpg'"
      ]
     },
     "execution_count": 51,
     "metadata": {},
     "output_type": "execute_result"
    },
    {
     "data": {
      "text/plain": [
       "'valid\\\\cat\\\\cat.5237.jpg'"
      ]
     },
     "execution_count": 51,
     "metadata": {},
     "output_type": "execute_result"
    },
    {
     "data": {
      "text/plain": [
       "'valid\\\\cat\\\\cat.9641.jpg'"
      ]
     },
     "execution_count": 51,
     "metadata": {},
     "output_type": "execute_result"
    },
    {
     "data": {
      "text/plain": [
       "'valid\\\\cat\\\\cat.3437.jpg'"
      ]
     },
     "execution_count": 51,
     "metadata": {},
     "output_type": "execute_result"
    },
    {
     "data": {
      "text/plain": [
       "'valid\\\\cat\\\\cat.8887.jpg'"
      ]
     },
     "execution_count": 51,
     "metadata": {},
     "output_type": "execute_result"
    },
    {
     "data": {
      "text/plain": [
       "'valid\\\\cat\\\\cat.204.jpg'"
      ]
     },
     "execution_count": 51,
     "metadata": {},
     "output_type": "execute_result"
    },
    {
     "data": {
      "text/plain": [
       "'valid\\\\cat\\\\cat.3013.jpg'"
      ]
     },
     "execution_count": 51,
     "metadata": {},
     "output_type": "execute_result"
    },
    {
     "data": {
      "text/plain": [
       "'valid\\\\cat\\\\cat.9870.jpg'"
      ]
     },
     "execution_count": 51,
     "metadata": {},
     "output_type": "execute_result"
    },
    {
     "data": {
      "text/plain": [
       "'valid\\\\cat\\\\cat.7480.jpg'"
      ]
     },
     "execution_count": 51,
     "metadata": {},
     "output_type": "execute_result"
    },
    {
     "data": {
      "text/plain": [
       "'valid\\\\cat\\\\cat.4213.jpg'"
      ]
     },
     "execution_count": 51,
     "metadata": {},
     "output_type": "execute_result"
    },
    {
     "data": {
      "text/plain": [
       "'valid\\\\cat\\\\cat.3432.jpg'"
      ]
     },
     "execution_count": 51,
     "metadata": {},
     "output_type": "execute_result"
    },
    {
     "data": {
      "text/plain": [
       "'valid\\\\cat\\\\cat.2184.jpg'"
      ]
     },
     "execution_count": 51,
     "metadata": {},
     "output_type": "execute_result"
    },
    {
     "data": {
      "text/plain": [
       "'valid\\\\cat\\\\cat.4268.jpg'"
      ]
     },
     "execution_count": 51,
     "metadata": {},
     "output_type": "execute_result"
    },
    {
     "data": {
      "text/plain": [
       "'valid\\\\cat\\\\cat.5224.jpg'"
      ]
     },
     "execution_count": 51,
     "metadata": {},
     "output_type": "execute_result"
    },
    {
     "data": {
      "text/plain": [
       "'valid\\\\cat\\\\cat.10382.jpg'"
      ]
     },
     "execution_count": 51,
     "metadata": {},
     "output_type": "execute_result"
    },
    {
     "data": {
      "text/plain": [
       "'valid\\\\cat\\\\cat.4934.jpg'"
      ]
     },
     "execution_count": 51,
     "metadata": {},
     "output_type": "execute_result"
    },
    {
     "data": {
      "text/plain": [
       "'valid\\\\cat\\\\cat.5506.jpg'"
      ]
     },
     "execution_count": 51,
     "metadata": {},
     "output_type": "execute_result"
    },
    {
     "data": {
      "text/plain": [
       "'valid\\\\cat\\\\cat.5482.jpg'"
      ]
     },
     "execution_count": 51,
     "metadata": {},
     "output_type": "execute_result"
    },
    {
     "data": {
      "text/plain": [
       "'valid\\\\cat\\\\cat.8308.jpg'"
      ]
     },
     "execution_count": 51,
     "metadata": {},
     "output_type": "execute_result"
    },
    {
     "data": {
      "text/plain": [
       "'valid\\\\cat\\\\cat.3551.jpg'"
      ]
     },
     "execution_count": 51,
     "metadata": {},
     "output_type": "execute_result"
    },
    {
     "data": {
      "text/plain": [
       "'valid\\\\cat\\\\cat.11776.jpg'"
      ]
     },
     "execution_count": 51,
     "metadata": {},
     "output_type": "execute_result"
    },
    {
     "data": {
      "text/plain": [
       "'valid\\\\cat\\\\cat.7242.jpg'"
      ]
     },
     "execution_count": 51,
     "metadata": {},
     "output_type": "execute_result"
    },
    {
     "data": {
      "text/plain": [
       "'valid\\\\cat\\\\cat.4840.jpg'"
      ]
     },
     "execution_count": 51,
     "metadata": {},
     "output_type": "execute_result"
    },
    {
     "data": {
      "text/plain": [
       "'valid\\\\cat\\\\cat.8655.jpg'"
      ]
     },
     "execution_count": 51,
     "metadata": {},
     "output_type": "execute_result"
    },
    {
     "data": {
      "text/plain": [
       "'valid\\\\cat\\\\cat.8865.jpg'"
      ]
     },
     "execution_count": 51,
     "metadata": {},
     "output_type": "execute_result"
    },
    {
     "data": {
      "text/plain": [
       "'valid\\\\cat\\\\cat.61.jpg'"
      ]
     },
     "execution_count": 51,
     "metadata": {},
     "output_type": "execute_result"
    },
    {
     "data": {
      "text/plain": [
       "'valid\\\\cat\\\\cat.9780.jpg'"
      ]
     },
     "execution_count": 51,
     "metadata": {},
     "output_type": "execute_result"
    },
    {
     "data": {
      "text/plain": [
       "'valid\\\\cat\\\\cat.3280.jpg'"
      ]
     },
     "execution_count": 51,
     "metadata": {},
     "output_type": "execute_result"
    },
    {
     "data": {
      "text/plain": [
       "'valid\\\\cat\\\\cat.6467.jpg'"
      ]
     },
     "execution_count": 51,
     "metadata": {},
     "output_type": "execute_result"
    },
    {
     "data": {
      "text/plain": [
       "'valid\\\\cat\\\\cat.2736.jpg'"
      ]
     },
     "execution_count": 51,
     "metadata": {},
     "output_type": "execute_result"
    },
    {
     "data": {
      "text/plain": [
       "'valid\\\\cat\\\\cat.9853.jpg'"
      ]
     },
     "execution_count": 51,
     "metadata": {},
     "output_type": "execute_result"
    },
    {
     "data": {
      "text/plain": [
       "'valid\\\\cat\\\\cat.996.jpg'"
      ]
     },
     "execution_count": 51,
     "metadata": {},
     "output_type": "execute_result"
    },
    {
     "data": {
      "text/plain": [
       "'valid\\\\cat\\\\cat.5991.jpg'"
      ]
     },
     "execution_count": 51,
     "metadata": {},
     "output_type": "execute_result"
    },
    {
     "data": {
      "text/plain": [
       "'valid\\\\cat\\\\cat.2890.jpg'"
      ]
     },
     "execution_count": 51,
     "metadata": {},
     "output_type": "execute_result"
    },
    {
     "data": {
      "text/plain": [
       "'valid\\\\cat\\\\cat.11088.jpg'"
      ]
     },
     "execution_count": 51,
     "metadata": {},
     "output_type": "execute_result"
    },
    {
     "data": {
      "text/plain": [
       "'valid\\\\cat\\\\cat.6906.jpg'"
      ]
     },
     "execution_count": 51,
     "metadata": {},
     "output_type": "execute_result"
    },
    {
     "data": {
      "text/plain": [
       "'valid\\\\cat\\\\cat.1052.jpg'"
      ]
     },
     "execution_count": 51,
     "metadata": {},
     "output_type": "execute_result"
    },
    {
     "data": {
      "text/plain": [
       "'valid\\\\cat\\\\cat.1460.jpg'"
      ]
     },
     "execution_count": 51,
     "metadata": {},
     "output_type": "execute_result"
    },
    {
     "data": {
      "text/plain": [
       "'valid\\\\cat\\\\cat.10811.jpg'"
      ]
     },
     "execution_count": 51,
     "metadata": {},
     "output_type": "execute_result"
    },
    {
     "data": {
      "text/plain": [
       "'valid\\\\cat\\\\cat.8404.jpg'"
      ]
     },
     "execution_count": 51,
     "metadata": {},
     "output_type": "execute_result"
    },
    {
     "data": {
      "text/plain": [
       "'valid\\\\cat\\\\cat.11555.jpg'"
      ]
     },
     "execution_count": 51,
     "metadata": {},
     "output_type": "execute_result"
    },
    {
     "data": {
      "text/plain": [
       "'valid\\\\cat\\\\cat.10270.jpg'"
      ]
     },
     "execution_count": 51,
     "metadata": {},
     "output_type": "execute_result"
    },
    {
     "data": {
      "text/plain": [
       "'valid\\\\cat\\\\cat.9578.jpg'"
      ]
     },
     "execution_count": 51,
     "metadata": {},
     "output_type": "execute_result"
    },
    {
     "data": {
      "text/plain": [
       "'valid\\\\cat\\\\cat.9809.jpg'"
      ]
     },
     "execution_count": 51,
     "metadata": {},
     "output_type": "execute_result"
    },
    {
     "data": {
      "text/plain": [
       "'valid\\\\cat\\\\cat.2112.jpg'"
      ]
     },
     "execution_count": 51,
     "metadata": {},
     "output_type": "execute_result"
    },
    {
     "data": {
      "text/plain": [
       "'valid\\\\cat\\\\cat.5938.jpg'"
      ]
     },
     "execution_count": 51,
     "metadata": {},
     "output_type": "execute_result"
    },
    {
     "data": {
      "text/plain": [
       "'valid\\\\cat\\\\cat.8862.jpg'"
      ]
     },
     "execution_count": 51,
     "metadata": {},
     "output_type": "execute_result"
    },
    {
     "data": {
      "text/plain": [
       "'valid\\\\cat\\\\cat.3855.jpg'"
      ]
     },
     "execution_count": 51,
     "metadata": {},
     "output_type": "execute_result"
    },
    {
     "data": {
      "text/plain": [
       "'valid\\\\cat\\\\cat.8010.jpg'"
      ]
     },
     "execution_count": 51,
     "metadata": {},
     "output_type": "execute_result"
    },
    {
     "data": {
      "text/plain": [
       "'valid\\\\cat\\\\cat.2657.jpg'"
      ]
     },
     "execution_count": 51,
     "metadata": {},
     "output_type": "execute_result"
    },
    {
     "data": {
      "text/plain": [
       "'valid\\\\cat\\\\cat.3581.jpg'"
      ]
     },
     "execution_count": 51,
     "metadata": {},
     "output_type": "execute_result"
    },
    {
     "data": {
      "text/plain": [
       "'valid\\\\cat\\\\cat.12437.jpg'"
      ]
     },
     "execution_count": 51,
     "metadata": {},
     "output_type": "execute_result"
    },
    {
     "data": {
      "text/plain": [
       "'valid\\\\cat\\\\cat.10161.jpg'"
      ]
     },
     "execution_count": 51,
     "metadata": {},
     "output_type": "execute_result"
    },
    {
     "data": {
      "text/plain": [
       "'valid\\\\cat\\\\cat.4200.jpg'"
      ]
     },
     "execution_count": 51,
     "metadata": {},
     "output_type": "execute_result"
    },
    {
     "data": {
      "text/plain": [
       "'valid\\\\cat\\\\cat.1325.jpg'"
      ]
     },
     "execution_count": 51,
     "metadata": {},
     "output_type": "execute_result"
    },
    {
     "data": {
      "text/plain": [
       "'valid\\\\cat\\\\cat.2105.jpg'"
      ]
     },
     "execution_count": 51,
     "metadata": {},
     "output_type": "execute_result"
    },
    {
     "data": {
      "text/plain": [
       "'valid\\\\cat\\\\cat.6971.jpg'"
      ]
     },
     "execution_count": 51,
     "metadata": {},
     "output_type": "execute_result"
    },
    {
     "data": {
      "text/plain": [
       "'valid\\\\cat\\\\cat.9514.jpg'"
      ]
     },
     "execution_count": 51,
     "metadata": {},
     "output_type": "execute_result"
    },
    {
     "data": {
      "text/plain": [
       "'valid\\\\cat\\\\cat.11756.jpg'"
      ]
     },
     "execution_count": 51,
     "metadata": {},
     "output_type": "execute_result"
    },
    {
     "data": {
      "text/plain": [
       "'valid\\\\cat\\\\cat.3503.jpg'"
      ]
     },
     "execution_count": 51,
     "metadata": {},
     "output_type": "execute_result"
    },
    {
     "data": {
      "text/plain": [
       "'valid\\\\cat\\\\cat.5239.jpg'"
      ]
     },
     "execution_count": 51,
     "metadata": {},
     "output_type": "execute_result"
    },
    {
     "data": {
      "text/plain": [
       "'valid\\\\cat\\\\cat.4954.jpg'"
      ]
     },
     "execution_count": 51,
     "metadata": {},
     "output_type": "execute_result"
    },
    {
     "data": {
      "text/plain": [
       "'valid\\\\cat\\\\cat.9983.jpg'"
      ]
     },
     "execution_count": 51,
     "metadata": {},
     "output_type": "execute_result"
    },
    {
     "data": {
      "text/plain": [
       "'valid\\\\cat\\\\cat.3012.jpg'"
      ]
     },
     "execution_count": 51,
     "metadata": {},
     "output_type": "execute_result"
    },
    {
     "data": {
      "text/plain": [
       "'valid\\\\cat\\\\cat.1613.jpg'"
      ]
     },
     "execution_count": 51,
     "metadata": {},
     "output_type": "execute_result"
    },
    {
     "data": {
      "text/plain": [
       "'valid\\\\cat\\\\cat.9781.jpg'"
      ]
     },
     "execution_count": 51,
     "metadata": {},
     "output_type": "execute_result"
    },
    {
     "data": {
      "text/plain": [
       "'valid\\\\cat\\\\cat.9573.jpg'"
      ]
     },
     "execution_count": 51,
     "metadata": {},
     "output_type": "execute_result"
    },
    {
     "data": {
      "text/plain": [
       "'valid\\\\cat\\\\cat.9254.jpg'"
      ]
     },
     "execution_count": 51,
     "metadata": {},
     "output_type": "execute_result"
    },
    {
     "data": {
      "text/plain": [
       "'valid\\\\cat\\\\cat.8242.jpg'"
      ]
     },
     "execution_count": 51,
     "metadata": {},
     "output_type": "execute_result"
    },
    {
     "data": {
      "text/plain": [
       "'valid\\\\cat\\\\cat.7741.jpg'"
      ]
     },
     "execution_count": 51,
     "metadata": {},
     "output_type": "execute_result"
    },
    {
     "data": {
      "text/plain": [
       "'valid\\\\cat\\\\cat.9883.jpg'"
      ]
     },
     "execution_count": 51,
     "metadata": {},
     "output_type": "execute_result"
    },
    {
     "data": {
      "text/plain": [
       "'valid\\\\cat\\\\cat.4257.jpg'"
      ]
     },
     "execution_count": 51,
     "metadata": {},
     "output_type": "execute_result"
    },
    {
     "data": {
      "text/plain": [
       "'valid\\\\cat\\\\cat.4939.jpg'"
      ]
     },
     "execution_count": 51,
     "metadata": {},
     "output_type": "execute_result"
    },
    {
     "data": {
      "text/plain": [
       "'valid\\\\cat\\\\cat.8320.jpg'"
      ]
     },
     "execution_count": 51,
     "metadata": {},
     "output_type": "execute_result"
    },
    {
     "data": {
      "text/plain": [
       "'valid\\\\cat\\\\cat.6535.jpg'"
      ]
     },
     "execution_count": 51,
     "metadata": {},
     "output_type": "execute_result"
    },
    {
     "data": {
      "text/plain": [
       "'valid\\\\cat\\\\cat.11914.jpg'"
      ]
     },
     "execution_count": 51,
     "metadata": {},
     "output_type": "execute_result"
    },
    {
     "data": {
      "text/plain": [
       "'valid\\\\cat\\\\cat.5888.jpg'"
      ]
     },
     "execution_count": 51,
     "metadata": {},
     "output_type": "execute_result"
    },
    {
     "data": {
      "text/plain": [
       "'valid\\\\cat\\\\cat.1860.jpg'"
      ]
     },
     "execution_count": 51,
     "metadata": {},
     "output_type": "execute_result"
    },
    {
     "data": {
      "text/plain": [
       "'valid\\\\cat\\\\cat.11671.jpg'"
      ]
     },
     "execution_count": 51,
     "metadata": {},
     "output_type": "execute_result"
    },
    {
     "data": {
      "text/plain": [
       "'valid\\\\cat\\\\cat.3989.jpg'"
      ]
     },
     "execution_count": 51,
     "metadata": {},
     "output_type": "execute_result"
    },
    {
     "data": {
      "text/plain": [
       "'valid\\\\cat\\\\cat.2719.jpg'"
      ]
     },
     "execution_count": 51,
     "metadata": {},
     "output_type": "execute_result"
    },
    {
     "data": {
      "text/plain": [
       "'valid\\\\cat\\\\cat.2549.jpg'"
      ]
     },
     "execution_count": 51,
     "metadata": {},
     "output_type": "execute_result"
    },
    {
     "data": {
      "text/plain": [
       "'valid\\\\cat\\\\cat.7412.jpg'"
      ]
     },
     "execution_count": 51,
     "metadata": {},
     "output_type": "execute_result"
    },
    {
     "data": {
      "text/plain": [
       "'valid\\\\cat\\\\cat.4516.jpg'"
      ]
     },
     "execution_count": 51,
     "metadata": {},
     "output_type": "execute_result"
    },
    {
     "data": {
      "text/plain": [
       "'valid\\\\cat\\\\cat.5161.jpg'"
      ]
     },
     "execution_count": 51,
     "metadata": {},
     "output_type": "execute_result"
    },
    {
     "data": {
      "text/plain": [
       "'valid\\\\cat\\\\cat.6466.jpg'"
      ]
     },
     "execution_count": 51,
     "metadata": {},
     "output_type": "execute_result"
    },
    {
     "data": {
      "text/plain": [
       "'valid\\\\dog\\\\dog.4453.jpg'"
      ]
     },
     "execution_count": 51,
     "metadata": {},
     "output_type": "execute_result"
    },
    {
     "data": {
      "text/plain": [
       "'valid\\\\dog\\\\dog.11400.jpg'"
      ]
     },
     "execution_count": 51,
     "metadata": {},
     "output_type": "execute_result"
    },
    {
     "data": {
      "text/plain": [
       "'valid\\\\dog\\\\dog.8293.jpg'"
      ]
     },
     "execution_count": 51,
     "metadata": {},
     "output_type": "execute_result"
    },
    {
     "data": {
      "text/plain": [
       "'valid\\\\dog\\\\dog.9958.jpg'"
      ]
     },
     "execution_count": 51,
     "metadata": {},
     "output_type": "execute_result"
    },
    {
     "data": {
      "text/plain": [
       "'valid\\\\dog\\\\dog.1638.jpg'"
      ]
     },
     "execution_count": 51,
     "metadata": {},
     "output_type": "execute_result"
    },
    {
     "data": {
      "text/plain": [
       "'valid\\\\dog\\\\dog.2919.jpg'"
      ]
     },
     "execution_count": 51,
     "metadata": {},
     "output_type": "execute_result"
    },
    {
     "data": {
      "text/plain": [
       "'valid\\\\dog\\\\dog.12455.jpg'"
      ]
     },
     "execution_count": 51,
     "metadata": {},
     "output_type": "execute_result"
    },
    {
     "data": {
      "text/plain": [
       "'valid\\\\dog\\\\dog.3466.jpg'"
      ]
     },
     "execution_count": 51,
     "metadata": {},
     "output_type": "execute_result"
    },
    {
     "data": {
      "text/plain": [
       "'valid\\\\dog\\\\dog.1084.jpg'"
      ]
     },
     "execution_count": 51,
     "metadata": {},
     "output_type": "execute_result"
    },
    {
     "data": {
      "text/plain": [
       "'valid\\\\dog\\\\dog.2131.jpg'"
      ]
     },
     "execution_count": 51,
     "metadata": {},
     "output_type": "execute_result"
    },
    {
     "data": {
      "text/plain": [
       "'valid\\\\dog\\\\dog.3237.jpg'"
      ]
     },
     "execution_count": 51,
     "metadata": {},
     "output_type": "execute_result"
    },
    {
     "data": {
      "text/plain": [
       "'valid\\\\dog\\\\dog.5440.jpg'"
      ]
     },
     "execution_count": 51,
     "metadata": {},
     "output_type": "execute_result"
    },
    {
     "data": {
      "text/plain": [
       "'valid\\\\dog\\\\dog.3186.jpg'"
      ]
     },
     "execution_count": 51,
     "metadata": {},
     "output_type": "execute_result"
    },
    {
     "data": {
      "text/plain": [
       "'valid\\\\dog\\\\dog.5681.jpg'"
      ]
     },
     "execution_count": 51,
     "metadata": {},
     "output_type": "execute_result"
    },
    {
     "data": {
      "text/plain": [
       "'valid\\\\dog\\\\dog.2107.jpg'"
      ]
     },
     "execution_count": 51,
     "metadata": {},
     "output_type": "execute_result"
    },
    {
     "data": {
      "text/plain": [
       "'valid\\\\dog\\\\dog.10448.jpg'"
      ]
     },
     "execution_count": 51,
     "metadata": {},
     "output_type": "execute_result"
    },
    {
     "data": {
      "text/plain": [
       "'valid\\\\dog\\\\dog.9043.jpg'"
      ]
     },
     "execution_count": 51,
     "metadata": {},
     "output_type": "execute_result"
    },
    {
     "data": {
      "text/plain": [
       "'valid\\\\dog\\\\dog.8759.jpg'"
      ]
     },
     "execution_count": 51,
     "metadata": {},
     "output_type": "execute_result"
    },
    {
     "data": {
      "text/plain": [
       "'valid\\\\dog\\\\dog.10966.jpg'"
      ]
     },
     "execution_count": 51,
     "metadata": {},
     "output_type": "execute_result"
    },
    {
     "data": {
      "text/plain": [
       "'valid\\\\dog\\\\dog.3810.jpg'"
      ]
     },
     "execution_count": 51,
     "metadata": {},
     "output_type": "execute_result"
    },
    {
     "data": {
      "text/plain": [
       "'valid\\\\dog\\\\dog.502.jpg'"
      ]
     },
     "execution_count": 51,
     "metadata": {},
     "output_type": "execute_result"
    },
    {
     "data": {
      "text/plain": [
       "'valid\\\\dog\\\\dog.1932.jpg'"
      ]
     },
     "execution_count": 51,
     "metadata": {},
     "output_type": "execute_result"
    },
    {
     "data": {
      "text/plain": [
       "'valid\\\\dog\\\\dog.10598.jpg'"
      ]
     },
     "execution_count": 51,
     "metadata": {},
     "output_type": "execute_result"
    },
    {
     "data": {
      "text/plain": [
       "'valid\\\\dog\\\\dog.2821.jpg'"
      ]
     },
     "execution_count": 51,
     "metadata": {},
     "output_type": "execute_result"
    },
    {
     "data": {
      "text/plain": [
       "'valid\\\\dog\\\\dog.3437.jpg'"
      ]
     },
     "execution_count": 51,
     "metadata": {},
     "output_type": "execute_result"
    },
    {
     "data": {
      "text/plain": [
       "'valid\\\\dog\\\\dog.4396.jpg'"
      ]
     },
     "execution_count": 51,
     "metadata": {},
     "output_type": "execute_result"
    },
    {
     "data": {
      "text/plain": [
       "'valid\\\\dog\\\\dog.8258.jpg'"
      ]
     },
     "execution_count": 51,
     "metadata": {},
     "output_type": "execute_result"
    },
    {
     "data": {
      "text/plain": [
       "'valid\\\\dog\\\\dog.9021.jpg'"
      ]
     },
     "execution_count": 51,
     "metadata": {},
     "output_type": "execute_result"
    },
    {
     "data": {
      "text/plain": [
       "'valid\\\\dog\\\\dog.155.jpg'"
      ]
     },
     "execution_count": 51,
     "metadata": {},
     "output_type": "execute_result"
    },
    {
     "data": {
      "text/plain": [
       "'valid\\\\dog\\\\dog.10830.jpg'"
      ]
     },
     "execution_count": 51,
     "metadata": {},
     "output_type": "execute_result"
    },
    {
     "data": {
      "text/plain": [
       "'valid\\\\dog\\\\dog.5342.jpg'"
      ]
     },
     "execution_count": 51,
     "metadata": {},
     "output_type": "execute_result"
    },
    {
     "data": {
      "text/plain": [
       "'valid\\\\dog\\\\dog.11242.jpg'"
      ]
     },
     "execution_count": 51,
     "metadata": {},
     "output_type": "execute_result"
    },
    {
     "data": {
      "text/plain": [
       "'valid\\\\dog\\\\dog.8781.jpg'"
      ]
     },
     "execution_count": 51,
     "metadata": {},
     "output_type": "execute_result"
    },
    {
     "data": {
      "text/plain": [
       "'valid\\\\dog\\\\dog.344.jpg'"
      ]
     },
     "execution_count": 51,
     "metadata": {},
     "output_type": "execute_result"
    },
    {
     "data": {
      "text/plain": [
       "'valid\\\\dog\\\\dog.12229.jpg'"
      ]
     },
     "execution_count": 51,
     "metadata": {},
     "output_type": "execute_result"
    },
    {
     "data": {
      "text/plain": [
       "'valid\\\\dog\\\\dog.10286.jpg'"
      ]
     },
     "execution_count": 51,
     "metadata": {},
     "output_type": "execute_result"
    },
    {
     "data": {
      "text/plain": [
       "'valid\\\\dog\\\\dog.1532.jpg'"
      ]
     },
     "execution_count": 51,
     "metadata": {},
     "output_type": "execute_result"
    },
    {
     "data": {
      "text/plain": [
       "'valid\\\\dog\\\\dog.5062.jpg'"
      ]
     },
     "execution_count": 51,
     "metadata": {},
     "output_type": "execute_result"
    },
    {
     "data": {
      "text/plain": [
       "'valid\\\\dog\\\\dog.11529.jpg'"
      ]
     },
     "execution_count": 51,
     "metadata": {},
     "output_type": "execute_result"
    },
    {
     "data": {
      "text/plain": [
       "'valid\\\\dog\\\\dog.360.jpg'"
      ]
     },
     "execution_count": 51,
     "metadata": {},
     "output_type": "execute_result"
    },
    {
     "data": {
      "text/plain": [
       "'valid\\\\dog\\\\dog.7317.jpg'"
      ]
     },
     "execution_count": 51,
     "metadata": {},
     "output_type": "execute_result"
    },
    {
     "data": {
      "text/plain": [
       "'valid\\\\dog\\\\dog.1868.jpg'"
      ]
     },
     "execution_count": 51,
     "metadata": {},
     "output_type": "execute_result"
    },
    {
     "data": {
      "text/plain": [
       "'valid\\\\dog\\\\dog.3907.jpg'"
      ]
     },
     "execution_count": 51,
     "metadata": {},
     "output_type": "execute_result"
    },
    {
     "data": {
      "text/plain": [
       "'valid\\\\dog\\\\dog.9895.jpg'"
      ]
     },
     "execution_count": 51,
     "metadata": {},
     "output_type": "execute_result"
    },
    {
     "data": {
      "text/plain": [
       "'valid\\\\dog\\\\dog.2877.jpg'"
      ]
     },
     "execution_count": 51,
     "metadata": {},
     "output_type": "execute_result"
    },
    {
     "data": {
      "text/plain": [
       "'valid\\\\dog\\\\dog.2330.jpg'"
      ]
     },
     "execution_count": 51,
     "metadata": {},
     "output_type": "execute_result"
    },
    {
     "data": {
      "text/plain": [
       "'valid\\\\dog\\\\dog.178.jpg'"
      ]
     },
     "execution_count": 51,
     "metadata": {},
     "output_type": "execute_result"
    },
    {
     "data": {
      "text/plain": [
       "'valid\\\\dog\\\\dog.9659.jpg'"
      ]
     },
     "execution_count": 51,
     "metadata": {},
     "output_type": "execute_result"
    },
    {
     "data": {
      "text/plain": [
       "'valid\\\\dog\\\\dog.5694.jpg'"
      ]
     },
     "execution_count": 51,
     "metadata": {},
     "output_type": "execute_result"
    },
    {
     "data": {
      "text/plain": [
       "'valid\\\\dog\\\\dog.8344.jpg'"
      ]
     },
     "execution_count": 51,
     "metadata": {},
     "output_type": "execute_result"
    },
    {
     "data": {
      "text/plain": [
       "'valid\\\\dog\\\\dog.8965.jpg'"
      ]
     },
     "execution_count": 51,
     "metadata": {},
     "output_type": "execute_result"
    },
    {
     "data": {
      "text/plain": [
       "'valid\\\\dog\\\\dog.12447.jpg'"
      ]
     },
     "execution_count": 51,
     "metadata": {},
     "output_type": "execute_result"
    },
    {
     "data": {
      "text/plain": [
       "'valid\\\\dog\\\\dog.9018.jpg'"
      ]
     },
     "execution_count": 51,
     "metadata": {},
     "output_type": "execute_result"
    },
    {
     "data": {
      "text/plain": [
       "'valid\\\\dog\\\\dog.8984.jpg'"
      ]
     },
     "execution_count": 51,
     "metadata": {},
     "output_type": "execute_result"
    },
    {
     "data": {
      "text/plain": [
       "'valid\\\\dog\\\\dog.4753.jpg'"
      ]
     },
     "execution_count": 51,
     "metadata": {},
     "output_type": "execute_result"
    },
    {
     "data": {
      "text/plain": [
       "'valid\\\\dog\\\\dog.7931.jpg'"
      ]
     },
     "execution_count": 51,
     "metadata": {},
     "output_type": "execute_result"
    },
    {
     "data": {
      "text/plain": [
       "'valid\\\\dog\\\\dog.10836.jpg'"
      ]
     },
     "execution_count": 51,
     "metadata": {},
     "output_type": "execute_result"
    },
    {
     "data": {
      "text/plain": [
       "'valid\\\\dog\\\\dog.3181.jpg'"
      ]
     },
     "execution_count": 51,
     "metadata": {},
     "output_type": "execute_result"
    },
    {
     "data": {
      "text/plain": [
       "'valid\\\\dog\\\\dog.404.jpg'"
      ]
     },
     "execution_count": 51,
     "metadata": {},
     "output_type": "execute_result"
    },
    {
     "data": {
      "text/plain": [
       "'valid\\\\dog\\\\dog.2382.jpg'"
      ]
     },
     "execution_count": 51,
     "metadata": {},
     "output_type": "execute_result"
    },
    {
     "data": {
      "text/plain": [
       "'valid\\\\dog\\\\dog.11930.jpg'"
      ]
     },
     "execution_count": 51,
     "metadata": {},
     "output_type": "execute_result"
    },
    {
     "data": {
      "text/plain": [
       "'valid\\\\dog\\\\dog.12480.jpg'"
      ]
     },
     "execution_count": 51,
     "metadata": {},
     "output_type": "execute_result"
    },
    {
     "data": {
      "text/plain": [
       "'valid\\\\dog\\\\dog.3846.jpg'"
      ]
     },
     "execution_count": 51,
     "metadata": {},
     "output_type": "execute_result"
    },
    {
     "data": {
      "text/plain": [
       "'valid\\\\dog\\\\dog.3243.jpg'"
      ]
     },
     "execution_count": 51,
     "metadata": {},
     "output_type": "execute_result"
    },
    {
     "data": {
      "text/plain": [
       "'valid\\\\dog\\\\dog.6823.jpg'"
      ]
     },
     "execution_count": 51,
     "metadata": {},
     "output_type": "execute_result"
    },
    {
     "data": {
      "text/plain": [
       "'valid\\\\dog\\\\dog.4854.jpg'"
      ]
     },
     "execution_count": 51,
     "metadata": {},
     "output_type": "execute_result"
    },
    {
     "data": {
      "text/plain": [
       "'valid\\\\dog\\\\dog.4869.jpg'"
      ]
     },
     "execution_count": 51,
     "metadata": {},
     "output_type": "execute_result"
    },
    {
     "data": {
      "text/plain": [
       "'valid\\\\dog\\\\dog.3602.jpg'"
      ]
     },
     "execution_count": 51,
     "metadata": {},
     "output_type": "execute_result"
    },
    {
     "data": {
      "text/plain": [
       "'valid\\\\dog\\\\dog.10226.jpg'"
      ]
     },
     "execution_count": 51,
     "metadata": {},
     "output_type": "execute_result"
    },
    {
     "data": {
      "text/plain": [
       "'valid\\\\dog\\\\dog.4600.jpg'"
      ]
     },
     "execution_count": 51,
     "metadata": {},
     "output_type": "execute_result"
    },
    {
     "data": {
      "text/plain": [
       "'valid\\\\dog\\\\dog.11653.jpg'"
      ]
     },
     "execution_count": 51,
     "metadata": {},
     "output_type": "execute_result"
    },
    {
     "data": {
      "text/plain": [
       "'valid\\\\dog\\\\dog.10827.jpg'"
      ]
     },
     "execution_count": 51,
     "metadata": {},
     "output_type": "execute_result"
    },
    {
     "data": {
      "text/plain": [
       "'valid\\\\dog\\\\dog.7204.jpg'"
      ]
     },
     "execution_count": 51,
     "metadata": {},
     "output_type": "execute_result"
    },
    {
     "data": {
      "text/plain": [
       "'valid\\\\dog\\\\dog.6332.jpg'"
      ]
     },
     "execution_count": 51,
     "metadata": {},
     "output_type": "execute_result"
    },
    {
     "data": {
      "text/plain": [
       "'valid\\\\dog\\\\dog.11005.jpg'"
      ]
     },
     "execution_count": 51,
     "metadata": {},
     "output_type": "execute_result"
    },
    {
     "data": {
      "text/plain": [
       "'valid\\\\dog\\\\dog.11216.jpg'"
      ]
     },
     "execution_count": 51,
     "metadata": {},
     "output_type": "execute_result"
    },
    {
     "data": {
      "text/plain": [
       "'valid\\\\dog\\\\dog.11521.jpg'"
      ]
     },
     "execution_count": 51,
     "metadata": {},
     "output_type": "execute_result"
    },
    {
     "data": {
      "text/plain": [
       "'valid\\\\dog\\\\dog.8028.jpg'"
      ]
     },
     "execution_count": 51,
     "metadata": {},
     "output_type": "execute_result"
    },
    {
     "data": {
      "text/plain": [
       "'valid\\\\dog\\\\dog.2173.jpg'"
      ]
     },
     "execution_count": 51,
     "metadata": {},
     "output_type": "execute_result"
    },
    {
     "data": {
      "text/plain": [
       "'valid\\\\dog\\\\dog.2831.jpg'"
      ]
     },
     "execution_count": 51,
     "metadata": {},
     "output_type": "execute_result"
    },
    {
     "data": {
      "text/plain": [
       "'valid\\\\dog\\\\dog.4704.jpg'"
      ]
     },
     "execution_count": 51,
     "metadata": {},
     "output_type": "execute_result"
    },
    {
     "data": {
      "text/plain": [
       "'valid\\\\dog\\\\dog.466.jpg'"
      ]
     },
     "execution_count": 51,
     "metadata": {},
     "output_type": "execute_result"
    },
    {
     "data": {
      "text/plain": [
       "'valid\\\\dog\\\\dog.3905.jpg'"
      ]
     },
     "execution_count": 51,
     "metadata": {},
     "output_type": "execute_result"
    },
    {
     "data": {
      "text/plain": [
       "'valid\\\\dog\\\\dog.11524.jpg'"
      ]
     },
     "execution_count": 51,
     "metadata": {},
     "output_type": "execute_result"
    },
    {
     "data": {
      "text/plain": [
       "'valid\\\\dog\\\\dog.7376.jpg'"
      ]
     },
     "execution_count": 51,
     "metadata": {},
     "output_type": "execute_result"
    },
    {
     "data": {
      "text/plain": [
       "'valid\\\\dog\\\\dog.9135.jpg'"
      ]
     },
     "execution_count": 51,
     "metadata": {},
     "output_type": "execute_result"
    },
    {
     "data": {
      "text/plain": [
       "'valid\\\\dog\\\\dog.1023.jpg'"
      ]
     },
     "execution_count": 51,
     "metadata": {},
     "output_type": "execute_result"
    },
    {
     "data": {
      "text/plain": [
       "'valid\\\\dog\\\\dog.4494.jpg'"
      ]
     },
     "execution_count": 51,
     "metadata": {},
     "output_type": "execute_result"
    },
    {
     "data": {
      "text/plain": [
       "'valid\\\\dog\\\\dog.10948.jpg'"
      ]
     },
     "execution_count": 51,
     "metadata": {},
     "output_type": "execute_result"
    },
    {
     "data": {
      "text/plain": [
       "'valid\\\\dog\\\\dog.2988.jpg'"
      ]
     },
     "execution_count": 51,
     "metadata": {},
     "output_type": "execute_result"
    },
    {
     "data": {
      "text/plain": [
       "'valid\\\\dog\\\\dog.3659.jpg'"
      ]
     },
     "execution_count": 51,
     "metadata": {},
     "output_type": "execute_result"
    },
    {
     "data": {
      "text/plain": [
       "'valid\\\\dog\\\\dog.12110.jpg'"
      ]
     },
     "execution_count": 51,
     "metadata": {},
     "output_type": "execute_result"
    },
    {
     "data": {
      "text/plain": [
       "'valid\\\\dog\\\\dog.10328.jpg'"
      ]
     },
     "execution_count": 51,
     "metadata": {},
     "output_type": "execute_result"
    },
    {
     "data": {
      "text/plain": [
       "'valid\\\\dog\\\\dog.2853.jpg'"
      ]
     },
     "execution_count": 51,
     "metadata": {},
     "output_type": "execute_result"
    },
    {
     "data": {
      "text/plain": [
       "'valid\\\\dog\\\\dog.11656.jpg'"
      ]
     },
     "execution_count": 51,
     "metadata": {},
     "output_type": "execute_result"
    },
    {
     "data": {
      "text/plain": [
       "'valid\\\\dog\\\\dog.11919.jpg'"
      ]
     },
     "execution_count": 51,
     "metadata": {},
     "output_type": "execute_result"
    },
    {
     "data": {
      "text/plain": [
       "'valid\\\\dog\\\\dog.2270.jpg'"
      ]
     },
     "execution_count": 51,
     "metadata": {},
     "output_type": "execute_result"
    },
    {
     "data": {
      "text/plain": [
       "'valid\\\\dog\\\\dog.505.jpg'"
      ]
     },
     "execution_count": 51,
     "metadata": {},
     "output_type": "execute_result"
    },
    {
     "data": {
      "text/plain": [
       "'valid\\\\dog\\\\dog.6254.jpg'"
      ]
     },
     "execution_count": 51,
     "metadata": {},
     "output_type": "execute_result"
    },
    {
     "data": {
      "text/plain": [
       "'valid\\\\dog\\\\dog.4682.jpg'"
      ]
     },
     "execution_count": 51,
     "metadata": {},
     "output_type": "execute_result"
    },
    {
     "data": {
      "text/plain": [
       "'test\\\\cat\\\\cat.3625.jpg'"
      ]
     },
     "execution_count": 51,
     "metadata": {},
     "output_type": "execute_result"
    },
    {
     "data": {
      "text/plain": [
       "'test\\\\cat\\\\cat.4729.jpg'"
      ]
     },
     "execution_count": 51,
     "metadata": {},
     "output_type": "execute_result"
    },
    {
     "data": {
      "text/plain": [
       "'test\\\\cat\\\\cat.792.jpg'"
      ]
     },
     "execution_count": 51,
     "metadata": {},
     "output_type": "execute_result"
    },
    {
     "data": {
      "text/plain": [
       "'test\\\\cat\\\\cat.6256.jpg'"
      ]
     },
     "execution_count": 51,
     "metadata": {},
     "output_type": "execute_result"
    },
    {
     "data": {
      "text/plain": [
       "'test\\\\cat\\\\cat.11983.jpg'"
      ]
     },
     "execution_count": 51,
     "metadata": {},
     "output_type": "execute_result"
    },
    {
     "data": {
      "text/plain": [
       "'test\\\\cat\\\\cat.10342.jpg'"
      ]
     },
     "execution_count": 51,
     "metadata": {},
     "output_type": "execute_result"
    },
    {
     "data": {
      "text/plain": [
       "'test\\\\cat\\\\cat.7958.jpg'"
      ]
     },
     "execution_count": 51,
     "metadata": {},
     "output_type": "execute_result"
    },
    {
     "data": {
      "text/plain": [
       "'test\\\\cat\\\\cat.1306.jpg'"
      ]
     },
     "execution_count": 51,
     "metadata": {},
     "output_type": "execute_result"
    },
    {
     "data": {
      "text/plain": [
       "'test\\\\cat\\\\cat.3063.jpg'"
      ]
     },
     "execution_count": 51,
     "metadata": {},
     "output_type": "execute_result"
    },
    {
     "data": {
      "text/plain": [
       "'test\\\\cat\\\\cat.1093.jpg'"
      ]
     },
     "execution_count": 51,
     "metadata": {},
     "output_type": "execute_result"
    },
    {
     "data": {
      "text/plain": [
       "'test\\\\cat\\\\cat.8274.jpg'"
      ]
     },
     "execution_count": 51,
     "metadata": {},
     "output_type": "execute_result"
    },
    {
     "data": {
      "text/plain": [
       "'test\\\\cat\\\\cat.845.jpg'"
      ]
     },
     "execution_count": 51,
     "metadata": {},
     "output_type": "execute_result"
    },
    {
     "data": {
      "text/plain": [
       "'test\\\\cat\\\\cat.10246.jpg'"
      ]
     },
     "execution_count": 51,
     "metadata": {},
     "output_type": "execute_result"
    },
    {
     "data": {
      "text/plain": [
       "'test\\\\cat\\\\cat.7941.jpg'"
      ]
     },
     "execution_count": 51,
     "metadata": {},
     "output_type": "execute_result"
    },
    {
     "data": {
      "text/plain": [
       "'test\\\\cat\\\\cat.5385.jpg'"
      ]
     },
     "execution_count": 51,
     "metadata": {},
     "output_type": "execute_result"
    },
    {
     "data": {
      "text/plain": [
       "'test\\\\cat\\\\cat.3767.jpg'"
      ]
     },
     "execution_count": 51,
     "metadata": {},
     "output_type": "execute_result"
    },
    {
     "data": {
      "text/plain": [
       "'test\\\\cat\\\\cat.551.jpg'"
      ]
     },
     "execution_count": 51,
     "metadata": {},
     "output_type": "execute_result"
    },
    {
     "data": {
      "text/plain": [
       "'test\\\\cat\\\\cat.2916.jpg'"
      ]
     },
     "execution_count": 51,
     "metadata": {},
     "output_type": "execute_result"
    },
    {
     "data": {
      "text/plain": [
       "'test\\\\cat\\\\cat.4904.jpg'"
      ]
     },
     "execution_count": 51,
     "metadata": {},
     "output_type": "execute_result"
    },
    {
     "data": {
      "text/plain": [
       "'test\\\\cat\\\\cat.1726.jpg'"
      ]
     },
     "execution_count": 51,
     "metadata": {},
     "output_type": "execute_result"
    },
    {
     "data": {
      "text/plain": [
       "'test\\\\cat\\\\cat.7746.jpg'"
      ]
     },
     "execution_count": 51,
     "metadata": {},
     "output_type": "execute_result"
    },
    {
     "data": {
      "text/plain": [
       "'test\\\\cat\\\\cat.6387.jpg'"
      ]
     },
     "execution_count": 51,
     "metadata": {},
     "output_type": "execute_result"
    },
    {
     "data": {
      "text/plain": [
       "'test\\\\cat\\\\cat.2223.jpg'"
      ]
     },
     "execution_count": 51,
     "metadata": {},
     "output_type": "execute_result"
    },
    {
     "data": {
      "text/plain": [
       "'test\\\\cat\\\\cat.12200.jpg'"
      ]
     },
     "execution_count": 51,
     "metadata": {},
     "output_type": "execute_result"
    },
    {
     "data": {
      "text/plain": [
       "'test\\\\cat\\\\cat.11634.jpg'"
      ]
     },
     "execution_count": 51,
     "metadata": {},
     "output_type": "execute_result"
    },
    {
     "data": {
      "text/plain": [
       "'test\\\\cat\\\\cat.10629.jpg'"
      ]
     },
     "execution_count": 51,
     "metadata": {},
     "output_type": "execute_result"
    },
    {
     "data": {
      "text/plain": [
       "'test\\\\cat\\\\cat.1328.jpg'"
      ]
     },
     "execution_count": 51,
     "metadata": {},
     "output_type": "execute_result"
    },
    {
     "data": {
      "text/plain": [
       "'test\\\\cat\\\\cat.7764.jpg'"
      ]
     },
     "execution_count": 51,
     "metadata": {},
     "output_type": "execute_result"
    },
    {
     "data": {
      "text/plain": [
       "'test\\\\cat\\\\cat.2510.jpg'"
      ]
     },
     "execution_count": 51,
     "metadata": {},
     "output_type": "execute_result"
    },
    {
     "data": {
      "text/plain": [
       "'test\\\\cat\\\\cat.238.jpg'"
      ]
     },
     "execution_count": 51,
     "metadata": {},
     "output_type": "execute_result"
    },
    {
     "data": {
      "text/plain": [
       "'test\\\\cat\\\\cat.1097.jpg'"
      ]
     },
     "execution_count": 51,
     "metadata": {},
     "output_type": "execute_result"
    },
    {
     "data": {
      "text/plain": [
       "'test\\\\cat\\\\cat.3422.jpg'"
      ]
     },
     "execution_count": 51,
     "metadata": {},
     "output_type": "execute_result"
    },
    {
     "data": {
      "text/plain": [
       "'test\\\\cat\\\\cat.6254.jpg'"
      ]
     },
     "execution_count": 51,
     "metadata": {},
     "output_type": "execute_result"
    },
    {
     "data": {
      "text/plain": [
       "'test\\\\cat\\\\cat.8915.jpg'"
      ]
     },
     "execution_count": 51,
     "metadata": {},
     "output_type": "execute_result"
    },
    {
     "data": {
      "text/plain": [
       "'test\\\\cat\\\\cat.3845.jpg'"
      ]
     },
     "execution_count": 51,
     "metadata": {},
     "output_type": "execute_result"
    },
    {
     "data": {
      "text/plain": [
       "'test\\\\cat\\\\cat.2967.jpg'"
      ]
     },
     "execution_count": 51,
     "metadata": {},
     "output_type": "execute_result"
    },
    {
     "data": {
      "text/plain": [
       "'test\\\\cat\\\\cat.6581.jpg'"
      ]
     },
     "execution_count": 51,
     "metadata": {},
     "output_type": "execute_result"
    },
    {
     "data": {
      "text/plain": [
       "'test\\\\cat\\\\cat.11263.jpg'"
      ]
     },
     "execution_count": 51,
     "metadata": {},
     "output_type": "execute_result"
    },
    {
     "data": {
      "text/plain": [
       "'test\\\\cat\\\\cat.3927.jpg'"
      ]
     },
     "execution_count": 51,
     "metadata": {},
     "output_type": "execute_result"
    },
    {
     "data": {
      "text/plain": [
       "'test\\\\cat\\\\cat.7814.jpg'"
      ]
     },
     "execution_count": 51,
     "metadata": {},
     "output_type": "execute_result"
    },
    {
     "data": {
      "text/plain": [
       "'test\\\\cat\\\\cat.11644.jpg'"
      ]
     },
     "execution_count": 51,
     "metadata": {},
     "output_type": "execute_result"
    },
    {
     "data": {
      "text/plain": [
       "'test\\\\cat\\\\cat.4709.jpg'"
      ]
     },
     "execution_count": 51,
     "metadata": {},
     "output_type": "execute_result"
    },
    {
     "data": {
      "text/plain": [
       "'test\\\\cat\\\\cat.785.jpg'"
      ]
     },
     "execution_count": 51,
     "metadata": {},
     "output_type": "execute_result"
    },
    {
     "data": {
      "text/plain": [
       "'test\\\\cat\\\\cat.8574.jpg'"
      ]
     },
     "execution_count": 51,
     "metadata": {},
     "output_type": "execute_result"
    },
    {
     "data": {
      "text/plain": [
       "'test\\\\cat\\\\cat.10636.jpg'"
      ]
     },
     "execution_count": 51,
     "metadata": {},
     "output_type": "execute_result"
    },
    {
     "data": {
      "text/plain": [
       "'test\\\\cat\\\\cat.3685.jpg'"
      ]
     },
     "execution_count": 51,
     "metadata": {},
     "output_type": "execute_result"
    },
    {
     "data": {
      "text/plain": [
       "'test\\\\cat\\\\cat.8255.jpg'"
      ]
     },
     "execution_count": 51,
     "metadata": {},
     "output_type": "execute_result"
    },
    {
     "data": {
      "text/plain": [
       "'test\\\\cat\\\\cat.9749.jpg'"
      ]
     },
     "execution_count": 51,
     "metadata": {},
     "output_type": "execute_result"
    },
    {
     "data": {
      "text/plain": [
       "'test\\\\cat\\\\cat.1954.jpg'"
      ]
     },
     "execution_count": 51,
     "metadata": {},
     "output_type": "execute_result"
    },
    {
     "data": {
      "text/plain": [
       "'test\\\\cat\\\\cat.7402.jpg'"
      ]
     },
     "execution_count": 51,
     "metadata": {},
     "output_type": "execute_result"
    },
    {
     "data": {
      "text/plain": [
       "'test\\\\dog\\\\dog.8787.jpg'"
      ]
     },
     "execution_count": 51,
     "metadata": {},
     "output_type": "execute_result"
    },
    {
     "data": {
      "text/plain": [
       "'test\\\\dog\\\\dog.6113.jpg'"
      ]
     },
     "execution_count": 51,
     "metadata": {},
     "output_type": "execute_result"
    },
    {
     "data": {
      "text/plain": [
       "'test\\\\dog\\\\dog.9316.jpg'"
      ]
     },
     "execution_count": 51,
     "metadata": {},
     "output_type": "execute_result"
    },
    {
     "data": {
      "text/plain": [
       "'test\\\\dog\\\\dog.5838.jpg'"
      ]
     },
     "execution_count": 51,
     "metadata": {},
     "output_type": "execute_result"
    },
    {
     "data": {
      "text/plain": [
       "'test\\\\dog\\\\dog.10569.jpg'"
      ]
     },
     "execution_count": 51,
     "metadata": {},
     "output_type": "execute_result"
    },
    {
     "data": {
      "text/plain": [
       "'test\\\\dog\\\\dog.5745.jpg'"
      ]
     },
     "execution_count": 51,
     "metadata": {},
     "output_type": "execute_result"
    },
    {
     "data": {
      "text/plain": [
       "'test\\\\dog\\\\dog.10460.jpg'"
      ]
     },
     "execution_count": 51,
     "metadata": {},
     "output_type": "execute_result"
    },
    {
     "data": {
      "text/plain": [
       "'test\\\\dog\\\\dog.11975.jpg'"
      ]
     },
     "execution_count": 51,
     "metadata": {},
     "output_type": "execute_result"
    },
    {
     "data": {
      "text/plain": [
       "'test\\\\dog\\\\dog.745.jpg'"
      ]
     },
     "execution_count": 51,
     "metadata": {},
     "output_type": "execute_result"
    },
    {
     "data": {
      "text/plain": [
       "'test\\\\dog\\\\dog.6592.jpg'"
      ]
     },
     "execution_count": 51,
     "metadata": {},
     "output_type": "execute_result"
    },
    {
     "data": {
      "text/plain": [
       "'test\\\\dog\\\\dog.927.jpg'"
      ]
     },
     "execution_count": 51,
     "metadata": {},
     "output_type": "execute_result"
    },
    {
     "data": {
      "text/plain": [
       "'test\\\\dog\\\\dog.3381.jpg'"
      ]
     },
     "execution_count": 51,
     "metadata": {},
     "output_type": "execute_result"
    },
    {
     "data": {
      "text/plain": [
       "'test\\\\dog\\\\dog.9651.jpg'"
      ]
     },
     "execution_count": 51,
     "metadata": {},
     "output_type": "execute_result"
    },
    {
     "data": {
      "text/plain": [
       "'test\\\\dog\\\\dog.4051.jpg'"
      ]
     },
     "execution_count": 51,
     "metadata": {},
     "output_type": "execute_result"
    },
    {
     "data": {
      "text/plain": [
       "'test\\\\dog\\\\dog.5008.jpg'"
      ]
     },
     "execution_count": 51,
     "metadata": {},
     "output_type": "execute_result"
    },
    {
     "data": {
      "text/plain": [
       "'test\\\\dog\\\\dog.1893.jpg'"
      ]
     },
     "execution_count": 51,
     "metadata": {},
     "output_type": "execute_result"
    },
    {
     "data": {
      "text/plain": [
       "'test\\\\dog\\\\dog.2548.jpg'"
      ]
     },
     "execution_count": 51,
     "metadata": {},
     "output_type": "execute_result"
    },
    {
     "data": {
      "text/plain": [
       "'test\\\\dog\\\\dog.4158.jpg'"
      ]
     },
     "execution_count": 51,
     "metadata": {},
     "output_type": "execute_result"
    },
    {
     "data": {
      "text/plain": [
       "'test\\\\dog\\\\dog.5597.jpg'"
      ]
     },
     "execution_count": 51,
     "metadata": {},
     "output_type": "execute_result"
    },
    {
     "data": {
      "text/plain": [
       "'test\\\\dog\\\\dog.4746.jpg'"
      ]
     },
     "execution_count": 51,
     "metadata": {},
     "output_type": "execute_result"
    },
    {
     "data": {
      "text/plain": [
       "'test\\\\dog\\\\dog.1033.jpg'"
      ]
     },
     "execution_count": 51,
     "metadata": {},
     "output_type": "execute_result"
    },
    {
     "data": {
      "text/plain": [
       "'test\\\\dog\\\\dog.10048.jpg'"
      ]
     },
     "execution_count": 51,
     "metadata": {},
     "output_type": "execute_result"
    },
    {
     "data": {
      "text/plain": [
       "'test\\\\dog\\\\dog.10751.jpg'"
      ]
     },
     "execution_count": 51,
     "metadata": {},
     "output_type": "execute_result"
    },
    {
     "data": {
      "text/plain": [
       "'test\\\\dog\\\\dog.6335.jpg'"
      ]
     },
     "execution_count": 51,
     "metadata": {},
     "output_type": "execute_result"
    },
    {
     "data": {
      "text/plain": [
       "'test\\\\dog\\\\dog.1854.jpg'"
      ]
     },
     "execution_count": 51,
     "metadata": {},
     "output_type": "execute_result"
    },
    {
     "data": {
      "text/plain": [
       "'test\\\\dog\\\\dog.9537.jpg'"
      ]
     },
     "execution_count": 51,
     "metadata": {},
     "output_type": "execute_result"
    },
    {
     "data": {
      "text/plain": [
       "'test\\\\dog\\\\dog.11078.jpg'"
      ]
     },
     "execution_count": 51,
     "metadata": {},
     "output_type": "execute_result"
    },
    {
     "data": {
      "text/plain": [
       "'test\\\\dog\\\\dog.8393.jpg'"
      ]
     },
     "execution_count": 51,
     "metadata": {},
     "output_type": "execute_result"
    },
    {
     "data": {
      "text/plain": [
       "'test\\\\dog\\\\dog.6723.jpg'"
      ]
     },
     "execution_count": 51,
     "metadata": {},
     "output_type": "execute_result"
    },
    {
     "data": {
      "text/plain": [
       "'test\\\\dog\\\\dog.3895.jpg'"
      ]
     },
     "execution_count": 51,
     "metadata": {},
     "output_type": "execute_result"
    },
    {
     "data": {
      "text/plain": [
       "'test\\\\dog\\\\dog.9176.jpg'"
      ]
     },
     "execution_count": 51,
     "metadata": {},
     "output_type": "execute_result"
    },
    {
     "data": {
      "text/plain": [
       "'test\\\\dog\\\\dog.4378.jpg'"
      ]
     },
     "execution_count": 51,
     "metadata": {},
     "output_type": "execute_result"
    },
    {
     "data": {
      "text/plain": [
       "'test\\\\dog\\\\dog.919.jpg'"
      ]
     },
     "execution_count": 51,
     "metadata": {},
     "output_type": "execute_result"
    },
    {
     "data": {
      "text/plain": [
       "'test\\\\dog\\\\dog.5017.jpg'"
      ]
     },
     "execution_count": 51,
     "metadata": {},
     "output_type": "execute_result"
    },
    {
     "data": {
      "text/plain": [
       "'test\\\\dog\\\\dog.7375.jpg'"
      ]
     },
     "execution_count": 51,
     "metadata": {},
     "output_type": "execute_result"
    },
    {
     "data": {
      "text/plain": [
       "'test\\\\dog\\\\dog.9515.jpg'"
      ]
     },
     "execution_count": 51,
     "metadata": {},
     "output_type": "execute_result"
    },
    {
     "data": {
      "text/plain": [
       "'test\\\\dog\\\\dog.9276.jpg'"
      ]
     },
     "execution_count": 51,
     "metadata": {},
     "output_type": "execute_result"
    },
    {
     "data": {
      "text/plain": [
       "'test\\\\dog\\\\dog.2244.jpg'"
      ]
     },
     "execution_count": 51,
     "metadata": {},
     "output_type": "execute_result"
    },
    {
     "data": {
      "text/plain": [
       "'test\\\\dog\\\\dog.10450.jpg'"
      ]
     },
     "execution_count": 51,
     "metadata": {},
     "output_type": "execute_result"
    },
    {
     "data": {
      "text/plain": [
       "'test\\\\dog\\\\dog.8052.jpg'"
      ]
     },
     "execution_count": 51,
     "metadata": {},
     "output_type": "execute_result"
    },
    {
     "data": {
      "text/plain": [
       "'test\\\\dog\\\\dog.4315.jpg'"
      ]
     },
     "execution_count": 51,
     "metadata": {},
     "output_type": "execute_result"
    },
    {
     "data": {
      "text/plain": [
       "'test\\\\dog\\\\dog.10396.jpg'"
      ]
     },
     "execution_count": 51,
     "metadata": {},
     "output_type": "execute_result"
    },
    {
     "data": {
      "text/plain": [
       "'test\\\\dog\\\\dog.6444.jpg'"
      ]
     },
     "execution_count": 51,
     "metadata": {},
     "output_type": "execute_result"
    },
    {
     "data": {
      "text/plain": [
       "'test\\\\dog\\\\dog.2563.jpg'"
      ]
     },
     "execution_count": 51,
     "metadata": {},
     "output_type": "execute_result"
    },
    {
     "data": {
      "text/plain": [
       "'test\\\\dog\\\\dog.8313.jpg'"
      ]
     },
     "execution_count": 51,
     "metadata": {},
     "output_type": "execute_result"
    },
    {
     "data": {
      "text/plain": [
       "'test\\\\dog\\\\dog.3166.jpg'"
      ]
     },
     "execution_count": 51,
     "metadata": {},
     "output_type": "execute_result"
    },
    {
     "data": {
      "text/plain": [
       "'test\\\\dog\\\\dog.7148.jpg'"
      ]
     },
     "execution_count": 51,
     "metadata": {},
     "output_type": "execute_result"
    },
    {
     "data": {
      "text/plain": [
       "'test\\\\dog\\\\dog.2030.jpg'"
      ]
     },
     "execution_count": 51,
     "metadata": {},
     "output_type": "execute_result"
    },
    {
     "data": {
      "text/plain": [
       "'test\\\\dog\\\\dog.11900.jpg'"
      ]
     },
     "execution_count": 51,
     "metadata": {},
     "output_type": "execute_result"
    },
    {
     "data": {
      "text/plain": [
       "'test\\\\dog\\\\dog.218.jpg'"
      ]
     },
     "execution_count": 51,
     "metadata": {},
     "output_type": "execute_result"
    }
   ],
   "source": [
    "\n",
    "if os.path.isdir('train\\dog') is False:\n",
    "    os.makedirs('train\\dog')\n",
    "    os.makedirs('train\\cat')\n",
    "    os.makedirs('valid\\dog')\n",
    "    os.makedirs('valid\\cat')\n",
    "    os.makedirs('test\\dog')\n",
    "    os.makedirs('test\\cat')\n",
    "\n",
    "    for i in random.sample(glob.glob('cat*'), 500):\n",
    "        shutil.move(i, 'train\\cat')      \n",
    "    for i in random.sample(glob.glob('dog*'), 500):\n",
    "        shutil.move(i, 'train\\dog')\n",
    "    for i in random.sample(glob.glob('cat*'), 100):\n",
    "        shutil.move(i, 'valid\\cat')        \n",
    "    for i in random.sample(glob.glob('dog*'), 100):\n",
    "        shutil.move(i, 'valid\\dog')\n",
    "    for i in random.sample(glob.glob('cat*'), 50):\n",
    "        shutil.move(i, 'test\\cat')      \n",
    "    for i in random.sample(glob.glob('dog*'), 50):\n",
    "        shutil.move(i, 'test\\dog')\n"
   ]
  },
  {
   "cell_type": "code",
   "execution_count": 69,
   "id": "fb73f769",
   "metadata": {},
   "outputs": [],
   "source": [
    "os.chdir(r'C:\\Users\\Stephen\\OneDrive\\Northwestern\\422 ML\\Dogs_v_Cats')"
   ]
  },
  {
   "cell_type": "code",
   "execution_count": 70,
   "id": "b122a0f0",
   "metadata": {},
   "outputs": [
    {
     "data": {
      "text/plain": [
       "'C:\\\\Users\\\\Stephen\\\\OneDrive\\\\Northwestern\\\\422 ML\\\\Dogs_v_Cats'"
      ]
     },
     "execution_count": 70,
     "metadata": {},
     "output_type": "execute_result"
    }
   ],
   "source": [
    "%pwd"
   ]
  },
  {
   "cell_type": "code",
   "execution_count": 71,
   "id": "6fd33183",
   "metadata": {},
   "outputs": [],
   "source": [
    "train_path = 'train'\n",
    "valid_path = 'valid'\n",
    "test_path = 'test'"
   ]
  },
  {
   "cell_type": "code",
   "execution_count": 72,
   "id": "4d1e3a15",
   "metadata": {},
   "outputs": [
    {
     "name": "stdout",
     "output_type": "stream",
     "text": [
      "Found 1000 images belonging to 2 classes.\n",
      "Found 200 images belonging to 2 classes.\n",
      "Found 100 images belonging to 2 classes.\n"
     ]
    }
   ],
   "source": [
    "train_batches = ImageDataGenerator(preprocessing_function=tf.keras.applications.vgg16.preprocess_input) \\\n",
    "    .flow_from_directory(directory=train_path, target_size=(224,224), classes=['cat', 'dog'], batch_size=10)\n",
    "valid_batches = ImageDataGenerator(preprocessing_function=tf.keras.applications.vgg16.preprocess_input) \\\n",
    "    .flow_from_directory(directory=valid_path, target_size=(224,224), classes=['cat', 'dog'], batch_size=10)\n",
    "test_batches = ImageDataGenerator(preprocessing_function=tf.keras.applications.vgg16.preprocess_input) \\\n",
    "    .flow_from_directory(directory=test_path, target_size=(224,224), classes=['cat', 'dog'], batch_size=10, shuffle=False)"
   ]
  },
  {
   "cell_type": "code",
   "execution_count": 73,
   "id": "4cda4076",
   "metadata": {},
   "outputs": [],
   "source": [
    "imgs, labels = next(train_batches)"
   ]
  },
  {
   "cell_type": "code",
   "execution_count": 74,
   "id": "65fe8a30",
   "metadata": {},
   "outputs": [],
   "source": [
    "def plotImages(images_arr):\n",
    "    fig, axes = plt.subplots(1, 10, figsize=(20,20))\n",
    "    axes = axes.flatten()\n",
    "    for img, ax in zip( images_arr, axes):\n",
    "        ax.imshow(img)\n",
    "        ax.axis('off')\n",
    "    plt.tight_layout()\n",
    "    plt.show()"
   ]
  },
  {
   "cell_type": "code",
   "execution_count": 75,
   "id": "1a7c047b",
   "metadata": {},
   "outputs": [
    {
     "name": "stderr",
     "output_type": "stream",
     "text": [
      "Clipping input data to the valid range for imshow with RGB data ([0..1] for floats or [0..255] for integers).\n",
      "Clipping input data to the valid range for imshow with RGB data ([0..1] for floats or [0..255] for integers).\n",
      "Clipping input data to the valid range for imshow with RGB data ([0..1] for floats or [0..255] for integers).\n",
      "Clipping input data to the valid range for imshow with RGB data ([0..1] for floats or [0..255] for integers).\n",
      "Clipping input data to the valid range for imshow with RGB data ([0..1] for floats or [0..255] for integers).\n",
      "Clipping input data to the valid range for imshow with RGB data ([0..1] for floats or [0..255] for integers).\n",
      "Clipping input data to the valid range for imshow with RGB data ([0..1] for floats or [0..255] for integers).\n",
      "Clipping input data to the valid range for imshow with RGB data ([0..1] for floats or [0..255] for integers).\n",
      "Clipping input data to the valid range for imshow with RGB data ([0..1] for floats or [0..255] for integers).\n",
      "Clipping input data to the valid range for imshow with RGB data ([0..1] for floats or [0..255] for integers).\n"
     ]
    },
    {
     "data": {
      "image/png": "[encoded data removed]",
      "text/plain": [
       "<Figure size 1440x1440 with 10 Axes>"
      ]
     },
     "metadata": {
      "needs_background": "light"
     },
     "output_type": "display_data"
    },
    {
     "name": "stdout",
     "output_type": "stream",
     "text": [
      "[[0. 1.]\n",
      " [0. 1.]\n",
      " [1. 0.]\n",
      " [1. 0.]\n",
      " [0. 1.]\n",
      " [1. 0.]\n",
      " [0. 1.]\n",
      " [1. 0.]\n",
      " [1. 0.]\n",
      " [1. 0.]]\n"
     ]
    }
   ],
   "source": [
    "plotImages(imgs)\n",
    "print(labels)"
   ]
  },
  {
   "cell_type": "code",
   "execution_count": 76,
   "id": "038f70e1",
   "metadata": {},
   "outputs": [],
   "source": [
    "model = Sequential([\n",
    "    Conv2D(filters=32, kernel_size=(3, 3), activation='relu', padding = 'same', input_shape=(224,224,3)),\n",
    "    MaxPool2D(pool_size=(2, 2), strides=2),\n",
    "    Conv2D(filters=64, kernel_size=(3, 3), activation='relu', padding = 'same'),\n",
    "    MaxPool2D(pool_size=(2, 2), strides=2),\n",
    "    Flatten(),\n",
    "    Dense(units=2, activation='softmax')\n",
    "])"
   ]
  },
  {
   "cell_type": "code",
   "execution_count": 77,
   "id": "cfaf9174",
   "metadata": {},
   "outputs": [
    {
     "name": "stdout",
     "output_type": "stream",
     "text": [
      "Model: \"sequential\"\n",
      "_________________________________________________________________\n",
      " Layer (type)                Output Shape              Param #   \n",
      "=================================================================\n",
      " conv2d (Conv2D)             (None, 224, 224, 32)      896       \n",
      "                                                                 \n",
      " max_pooling2d (MaxPooling2D  (None, 112, 112, 32)     0         \n",
      " )                                                               \n",
      "                                                                 \n",
      " conv2d_1 (Conv2D)           (None, 112, 112, 64)      18496     \n",
      "                                                                 \n",
      " max_pooling2d_1 (MaxPooling  (None, 56, 56, 64)       0         \n",
      " 2D)                                                             \n",
      "                                                                 \n",
      " flatten (Flatten)           (None, 200704)            0         \n",
      "                                                                 \n",
      " dense (Dense)               (None, 2)                 401410    \n",
      "                                                                 \n",
      "=================================================================\n",
      "Total params: 420,802\n",
      "Trainable params: 420,802\n",
      "Non-trainable params: 0\n",
      "_________________________________________________________________\n"
     ]
    }
   ],
   "source": [
    "model.summary()"
   ]
  },
  {
   "cell_type": "code",
   "execution_count": 80,
   "id": "42dc64de",
   "metadata": {},
   "outputs": [],
   "source": [
    "model.compile(optimizer=Adam(learning_rate=0.0001), \n",
    "    loss='categorical_crossentropy', metrics=['accuracy'])"
   ]
  },
  {
   "cell_type": "code",
   "execution_count": 79,
   "id": "ecfc149a",
   "metadata": {},
   "outputs": [
    {
     "name": "stdout",
     "output_type": "stream",
     "text": [
      "Epoch 1/10\n",
      "100/100 - 25s - loss: 17.3753 - accuracy: 0.5560 - val_loss: 8.4786 - val_accuracy: 0.5800 - 25s/epoch - 245ms/step\n",
      "Epoch 2/10\n",
      "100/100 - 23s - loss: 3.4720 - accuracy: 0.7460 - val_loss: 6.2786 - val_accuracy: 0.5650 - 23s/epoch - 234ms/step\n",
      "Epoch 3/10\n",
      "100/100 - 24s - loss: 1.0298 - accuracy: 0.8730 - val_loss: 5.3573 - val_accuracy: 0.6200 - 24s/epoch - 238ms/step\n",
      "Epoch 4/10\n",
      "100/100 - 23s - loss: 0.4380 - accuracy: 0.9220 - val_loss: 4.1057 - val_accuracy: 0.6000 - 23s/epoch - 234ms/step\n",
      "Epoch 5/10\n",
      "100/100 - 24s - loss: 0.1202 - accuracy: 0.9670 - val_loss: 3.3702 - val_accuracy: 0.6550 - 24s/epoch - 237ms/step\n",
      "Epoch 6/10\n",
      "100/100 - 24s - loss: 0.0082 - accuracy: 0.9960 - val_loss: 3.0367 - val_accuracy: 0.6500 - 24s/epoch - 240ms/step\n",
      "Epoch 7/10\n",
      "100/100 - 23s - loss: 0.0021 - accuracy: 1.0000 - val_loss: 3.1199 - val_accuracy: 0.6550 - 23s/epoch - 235ms/step\n",
      "Epoch 8/10\n",
      "100/100 - 24s - loss: 5.5317e-04 - accuracy: 1.0000 - val_loss: 3.1163 - val_accuracy: 0.6500 - 24s/epoch - 237ms/step\n",
      "Epoch 9/10\n",
      "100/100 - 23s - loss: 3.3614e-04 - accuracy: 1.0000 - val_loss: 3.1186 - val_accuracy: 0.6500 - 23s/epoch - 228ms/step\n",
      "Epoch 10/10\n",
      "100/100 - 23s - loss: 2.7709e-04 - accuracy: 1.0000 - val_loss: 3.1159 - val_accuracy: 0.6500 - 23s/epoch - 234ms/step\n"
     ]
    },
    {
     "data": {
      "text/plain": [
       "<keras.callbacks.History at 0x236d9f7cfa0>"
      ]
     },
     "execution_count": 79,
     "metadata": {},
     "output_type": "execute_result"
    }
   ],
   "source": [
    "model.fit(x=train_batches,\n",
    "    steps_per_epoch=len(train_batches),\n",
    "    validation_data=valid_batches,\n",
    "    validation_steps=len(valid_batches),\n",
    "    epochs=10,\n",
    "    verbose=2\n",
    ")"
   ]
  },
  {
   "cell_type": "code",
   "execution_count": 82,
   "id": "4ad79d4d",
   "metadata": {},
   "outputs": [
    {
     "name": "stdout",
     "output_type": "stream",
     "text": [
      "Downloading data from https://storage.googleapis.com/tensorflow/keras-applications/vgg16/vgg16_weights_tf_dim_ordering_tf_kernels.h5\n",
      "553467904/553467096 [==============================] - 699s 1us/step\n",
      "553476096/553467096 [==============================] - 699s 1us/step\n"
     ]
    }
   ],
   "source": [
    "#vgg16 model\n",
    "\n",
    "vgg16_model = tf.keras.applications.vgg16.VGG16()"
   ]
  },
  {
   "cell_type": "code",
   "execution_count": 83,
   "id": "10409218",
   "metadata": {},
   "outputs": [
    {
     "name": "stdout",
     "output_type": "stream",
     "text": [
      "Model: \"vgg16\"\n",
      "_________________________________________________________________\n",
      " Layer (type)                Output Shape              Param #   \n",
      "=================================================================\n",
      " input_1 (InputLayer)        [(None, 224, 224, 3)]     0         \n",
      "                                                                 \n",
      " block1_conv1 (Conv2D)       (None, 224, 224, 64)      1792      \n",
      "                                                                 \n",
      " block1_conv2 (Conv2D)       (None, 224, 224, 64)      36928     \n",
      "                                                                 \n",
      " block1_pool (MaxPooling2D)  (None, 112, 112, 64)      0         \n",
      "                                                                 \n",
      " block2_conv1 (Conv2D)       (None, 112, 112, 128)     73856     \n",
      "                                                                 \n",
      " block2_conv2 (Conv2D)       (None, 112, 112, 128)     147584    \n",
      "                                                                 \n",
      " block2_pool (MaxPooling2D)  (None, 56, 56, 128)       0         \n",
      "                                                                 \n",
      " block3_conv1 (Conv2D)       (None, 56, 56, 256)       295168    \n",
      "                                                                 \n",
      " block3_conv2 (Conv2D)       (None, 56, 56, 256)       590080    \n",
      "                                                                 \n",
      " block3_conv3 (Conv2D)       (None, 56, 56, 256)       590080    \n",
      "                                                                 \n",
      " block3_pool (MaxPooling2D)  (None, 28, 28, 256)       0         \n",
      "                                                                 \n",
      " block4_conv1 (Conv2D)       (None, 28, 28, 512)       1180160   \n",
      "                                                                 \n",
      " block4_conv2 (Conv2D)       (None, 28, 28, 512)       2359808   \n",
      "                                                                 \n",
      " block4_conv3 (Conv2D)       (None, 28, 28, 512)       2359808   \n",
      "                                                                 \n",
      " block4_pool (MaxPooling2D)  (None, 14, 14, 512)       0         \n",
      "                                                                 \n",
      " block5_conv1 (Conv2D)       (None, 14, 14, 512)       2359808   \n",
      "                                                                 \n",
      " block5_conv2 (Conv2D)       (None, 14, 14, 512)       2359808   \n",
      "                                                                 \n",
      " block5_conv3 (Conv2D)       (None, 14, 14, 512)       2359808   \n",
      "                                                                 \n",
      " block5_pool (MaxPooling2D)  (None, 7, 7, 512)         0         \n",
      "                                                                 \n",
      " flatten (Flatten)           (None, 25088)             0         \n",
      "                                                                 \n",
      " fc1 (Dense)                 (None, 4096)              102764544 \n",
      "                                                                 \n",
      " fc2 (Dense)                 (None, 4096)              16781312  \n",
      "                                                                 \n",
      " predictions (Dense)         (None, 1000)              4097000   \n",
      "                                                                 \n",
      "=================================================================\n",
      "Total params: 138,357,544\n",
      "Trainable params: 138,357,544\n",
      "Non-trainable params: 0\n",
      "_________________________________________________________________\n"
     ]
    }
   ],
   "source": [
    "vgg16_model.summary()"
   ]
  },
  {
   "cell_type": "code",
   "execution_count": 84,
   "id": "8b5290de",
   "metadata": {},
   "outputs": [
    {
     "data": {
      "text/plain": [
       "keras.engine.functional.Functional"
      ]
     },
     "execution_count": 84,
     "metadata": {},
     "output_type": "execute_result"
    }
   ],
   "source": [
    "type(vgg16_model)"
   ]
  },
  {
   "cell_type": "code",
   "execution_count": 85,
   "id": "e44f1eee",
   "metadata": {},
   "outputs": [],
   "source": [
    "model = Sequential()\n",
    "for layer in vgg16_model.layers[:-1]:\n",
    "    model.add(layer)"
   ]
  },
  {
   "cell_type": "code",
   "execution_count": 86,
   "id": "d195e9be",
   "metadata": {},
   "outputs": [],
   "source": [
    "for layer in model.layers:\n",
    "    layer.trainable = False"
   ]
  },
  {
   "cell_type": "code",
   "execution_count": 87,
   "id": "33dfb5b5",
   "metadata": {},
   "outputs": [],
   "source": [
    "model.add(Dense(units=2, activation='softmax'))"
   ]
  },
  {
   "cell_type": "code",
   "execution_count": 88,
   "id": "7ff16717",
   "metadata": {},
   "outputs": [
    {
     "name": "stdout",
     "output_type": "stream",
     "text": [
      "Model: \"sequential_1\"\n",
      "_________________________________________________________________\n",
      " Layer (type)                Output Shape              Param #   \n",
      "=================================================================\n",
      " block1_conv1 (Conv2D)       (None, 224, 224, 64)      1792      \n",
      "                                                                 \n",
      " block1_conv2 (Conv2D)       (None, 224, 224, 64)      36928     \n",
      "                                                                 \n",
      " block1_pool (MaxPooling2D)  (None, 112, 112, 64)      0         \n",
      "                                                                 \n",
      " block2_conv1 (Conv2D)       (None, 112, 112, 128)     73856     \n",
      "                                                                 \n",
      " block2_conv2 (Conv2D)       (None, 112, 112, 128)     147584    \n",
      "                                                                 \n",
      " block2_pool (MaxPooling2D)  (None, 56, 56, 128)       0         \n",
      "                                                                 \n",
      " block3_conv1 (Conv2D)       (None, 56, 56, 256)       295168    \n",
      "                                                                 \n",
      " block3_conv2 (Conv2D)       (None, 56, 56, 256)       590080    \n",
      "                                                                 \n",
      " block3_conv3 (Conv2D)       (None, 56, 56, 256)       590080    \n",
      "                                                                 \n",
      " block3_pool (MaxPooling2D)  (None, 28, 28, 256)       0         \n",
      "                                                                 \n",
      " block4_conv1 (Conv2D)       (None, 28, 28, 512)       1180160   \n",
      "                                                                 \n",
      " block4_conv2 (Conv2D)       (None, 28, 28, 512)       2359808   \n",
      "                                                                 \n",
      " block4_conv3 (Conv2D)       (None, 28, 28, 512)       2359808   \n",
      "                                                                 \n",
      " block4_pool (MaxPooling2D)  (None, 14, 14, 512)       0         \n",
      "                                                                 \n",
      " block5_conv1 (Conv2D)       (None, 14, 14, 512)       2359808   \n",
      "                                                                 \n",
      " block5_conv2 (Conv2D)       (None, 14, 14, 512)       2359808   \n",
      "                                                                 \n",
      " block5_conv3 (Conv2D)       (None, 14, 14, 512)       2359808   \n",
      "                                                                 \n",
      " block5_pool (MaxPooling2D)  (None, 7, 7, 512)         0         \n",
      "                                                                 \n",
      " flatten (Flatten)           (None, 25088)             0         \n",
      "                                                                 \n",
      " fc1 (Dense)                 (None, 4096)              102764544 \n",
      "                                                                 \n",
      " fc2 (Dense)                 (None, 4096)              16781312  \n",
      "                                                                 \n",
      " dense_1 (Dense)             (None, 2)                 8194      \n",
      "                                                                 \n",
      "=================================================================\n",
      "Total params: 134,268,738\n",
      "Trainable params: 8,194\n",
      "Non-trainable params: 134,260,544\n",
      "_________________________________________________________________\n"
     ]
    }
   ],
   "source": [
    "model.summary()"
   ]
  },
  {
   "cell_type": "code",
   "execution_count": 90,
   "id": "c0671ea4",
   "metadata": {},
   "outputs": [],
   "source": [
    "model.compile(optimizer=Adam(learning_rate=0.0001), \n",
    "    loss='categorical_crossentropy', metrics=['accuracy'])"
   ]
  },
  {
   "cell_type": "code",
   "execution_count": 91,
   "id": "86c9eddf",
   "metadata": {},
   "outputs": [
    {
     "name": "stdout",
     "output_type": "stream",
     "text": [
      "Epoch 1/5\n",
      "100/100 - 84s - loss: 0.3734 - accuracy: 0.8370 - val_loss: 0.1241 - val_accuracy: 0.9600 - 84s/epoch - 840ms/step\n",
      "Epoch 2/5\n",
      "100/100 - 84s - loss: 0.0904 - accuracy: 0.9650 - val_loss: 0.0993 - val_accuracy: 0.9700 - 84s/epoch - 845ms/step\n",
      "Epoch 3/5\n",
      "100/100 - 83s - loss: 0.0601 - accuracy: 0.9760 - val_loss: 0.0915 - val_accuracy: 0.9700 - 83s/epoch - 834ms/step\n",
      "Epoch 4/5\n",
      "100/100 - 83s - loss: 0.0433 - accuracy: 0.9880 - val_loss: 0.0909 - val_accuracy: 0.9750 - 83s/epoch - 826ms/step\n",
      "Epoch 5/5\n",
      "100/100 - 83s - loss: 0.0318 - accuracy: 0.9920 - val_loss: 0.0897 - val_accuracy: 0.9750 - 83s/epoch - 831ms/step\n"
     ]
    },
    {
     "data": {
      "text/plain": [
       "<keras.callbacks.History at 0x23680463f10>"
      ]
     },
     "execution_count": 91,
     "metadata": {},
     "output_type": "execute_result"
    }
   ],
   "source": [
    "model.fit(x=train_batches,\n",
    "          steps_per_epoch=len(train_batches),\n",
    "          validation_data=valid_batches,\n",
    "          validation_steps=len(valid_batches),\n",
    "          epochs=5,\n",
    "          verbose=2\n",
    ")"
   ]
  },
  {
   "cell_type": "code",
   "execution_count": 92,
   "id": "e3e00fd3",
   "metadata": {},
   "outputs": [
    {
     "name": "stderr",
     "output_type": "stream",
     "text": [
      "Clipping input data to the valid range for imshow with RGB data ([0..1] for floats or [0..255] for integers).\n",
      "Clipping input data to the valid range for imshow with RGB data ([0..1] for floats or [0..255] for integers).\n",
      "Clipping input data to the valid range for imshow with RGB data ([0..1] for floats or [0..255] for integers).\n",
      "Clipping input data to the valid range for imshow with RGB data ([0..1] for floats or [0..255] for integers).\n",
      "Clipping input data to the valid range for imshow with RGB data ([0..1] for floats or [0..255] for integers).\n",
      "Clipping input data to the valid range for imshow with RGB data ([0..1] for floats or [0..255] for integers).\n",
      "Clipping input data to the valid range for imshow with RGB data ([0..1] for floats or [0..255] for integers).\n",
      "Clipping input data to the valid range for imshow with RGB data ([0..1] for floats or [0..255] for integers).\n",
      "Clipping input data to the valid range for imshow with RGB data ([0..1] for floats or [0..255] for integers).\n",
      "Clipping input data to the valid range for imshow with RGB data ([0..1] for floats or [0..255] for integers).\n"
     ]
    },
    {
     "data": {
      "image/png": "[encoded data removed]",
      "text/plain": [
       "<Figure size 1440x1440 with 10 Axes>"
      ]
     },
     "metadata": {
      "needs_background": "light"
     },
     "output_type": "display_data"
    },
    {
     "name": "stdout",
     "output_type": "stream",
     "text": [
      "[[1. 0.]\n",
      " [1. 0.]\n",
      " [1. 0.]\n",
      " [1. 0.]\n",
      " [1. 0.]\n",
      " [1. 0.]\n",
      " [1. 0.]\n",
      " [1. 0.]\n",
      " [1. 0.]\n",
      " [1. 0.]]\n"
     ]
    }
   ],
   "source": [
    "test_imgs, test_labels = next(test_batches)\n",
    "plotImages(test_imgs)\n",
    "print(test_labels)"
   ]
  },
  {
   "cell_type": "code",
   "execution_count": 96,
   "id": "61543a68",
   "metadata": {},
   "outputs": [],
   "source": [
    "test_imgs, test_labels = next(test_batches)"
   ]
  },
  {
   "cell_type": "code",
   "execution_count": 97,
   "id": "6be1d18d",
   "metadata": {},
   "outputs": [],
   "source": [
    "predictions = model.predict(x=test_batches, steps=len(test_batches), verbose=0)"
   ]
  },
  {
   "cell_type": "code",
   "execution_count": 141,
   "id": "d5ab1ab2",
   "metadata": {},
   "outputs": [
    {
     "data": {
      "text/plain": [
       "(100, 2)"
      ]
     },
     "execution_count": 141,
     "metadata": {},
     "output_type": "execute_result"
    },
    {
     "data": {
      "text/plain": [
       "array([9.9995625e-01, 4.3768126e-05], dtype=float32)"
      ]
     },
     "execution_count": 141,
     "metadata": {},
     "output_type": "execute_result"
    }
   ],
   "source": [
    "predictions.shape\n",
    "\n",
    "predictions[1]"
   ]
  },
  {
   "cell_type": "code",
   "execution_count": 99,
   "id": "71957e64",
   "metadata": {},
   "outputs": [],
   "source": [
    "def plot_confusion_matrix(cm, classes,\n",
    "                        normalize=False,\n",
    "                        title='Confusion matrix',\n",
    "                        cmap=plt.cm.Blues):\n",
    "    \"\"\"\n",
    "    This function prints and plots the confusion matrix.\n",
    "    Normalization can be applied by setting `normalize=True`.\n",
    "    \"\"\"\n",
    "    plt.imshow(cm, interpolation='nearest', cmap=cmap)\n",
    "    plt.title(title)\n",
    "    plt.colorbar()\n",
    "    tick_marks = np.arange(len(classes))\n",
    "    plt.xticks(tick_marks, classes, rotation=45)\n",
    "    plt.yticks(tick_marks, classes)\n",
    "\n",
    "    if normalize:\n",
    "        cm = cm.astype('float') / cm.sum(axis=1)[:, np.newaxis]\n",
    "        print(\"Normalized confusion matrix\")\n",
    "    else:\n",
    "        print('Confusion matrix, without normalization')\n",
    "\n",
    "    print(cm)\n",
    "\n",
    "    thresh = cm.max() / 2.\n",
    "    for i, j in itertools.product(range(cm.shape[0]), range(cm.shape[1])):\n",
    "        plt.text(j, i, cm[i, j],\n",
    "            horizontalalignment=\"center\",\n",
    "            color=\"white\" if cm[i, j] > thresh else \"black\")\n",
    "\n",
    "    plt.tight_layout()\n",
    "    plt.ylabel('True label')\n",
    "    plt.xlabel('Predicted label')"
   ]
  },
  {
   "cell_type": "code",
   "execution_count": 100,
   "id": "d5ff61b3",
   "metadata": {},
   "outputs": [
    {
     "name": "stdout",
     "output_type": "stream",
     "text": [
      "Confusion matrix, without normalization\n",
      "[[49  1]\n",
      " [ 1 49]]\n"
     ]
    },
    {
     "data": {
      "image/png": "[encoded data removed]",
      "text/plain": [
       "<Figure size 432x288 with 2 Axes>"
      ]
     },
     "metadata": {
      "needs_background": "light"
     },
     "output_type": "display_data"
    }
   ],
   "source": [
    "%matplotlib inline\n",
    "from sklearn.metrics import confusion_matrix\n",
    "import itertools\n",
    "import matplotlib.pyplot as plt\n",
    "\n",
    "cm = confusion_matrix(y_true=test_batches.classes, y_pred=np.argmax(predictions, axis=-1))\n",
    "cm_plot_labels = ['cat','dog']\n",
    "plot_confusion_matrix(cm=cm, classes=cm_plot_labels, title='Confusion Matrix')"
   ]
  },
  {
   "cell_type": "code",
   "execution_count": 142,
   "id": "b389b85a",
   "metadata": {},
   "outputs": [
    {
     "data": {
      "text/plain": [
       "array([0, 0, 0, 0, 0, 0, 0, 0, 0, 0, 0, 0, 0, 0, 0, 0, 0, 0, 0, 0, 0, 0,\n",
       "       0, 0, 0, 1, 0, 0, 0, 0, 0, 0, 0, 0, 0, 0, 0, 0, 0, 0, 0, 0, 0, 0,\n",
       "       0, 0, 0, 0, 0, 0, 1, 1, 1, 1, 1, 1, 1, 1, 1, 1, 1, 1, 1, 1, 1, 1,\n",
       "       1, 1, 1, 1, 1, 1, 1, 1, 1, 1, 1, 1, 1, 1, 1, 1, 1, 1, 1, 1, 1, 1,\n",
       "       1, 1, 1, 1, 1, 1, 0, 1, 1, 1, 1, 1], dtype=int64)"
      ]
     },
     "execution_count": 142,
     "metadata": {},
     "output_type": "execute_result"
    }
   ],
   "source": [
    "np.argmax(predictions, axis=-1)"
   ]
  },
  {
   "cell_type": "code",
   "execution_count": 147,
   "id": "73845fd6",
   "metadata": {},
   "outputs": [
    {
     "data": {
      "text/plain": [
       "array([0, 0, 0, 0, 0, 0, 0, 0, 0, 0, 0, 0, 0, 0, 0, 0, 0, 0, 0, 0, 0, 0,\n",
       "       0, 0, 0, 0, 0, 0, 0, 0, 0, 0, 0, 0, 0, 0, 0, 0, 0, 0, 0, 0, 0, 0,\n",
       "       0, 0, 0, 0, 0, 0, 1, 1, 1, 1, 1, 1, 1, 1, 1, 1, 1, 1, 1, 1, 1, 1,\n",
       "       1, 1, 1, 1, 1, 1, 1, 1, 1, 1, 1, 1, 1, 1, 1, 1, 1, 1, 1, 1, 1, 1,\n",
       "       1, 1, 1, 1, 1, 1, 1, 1, 1, 1, 1, 1])"
      ]
     },
     "execution_count": 147,
     "metadata": {},
     "output_type": "execute_result"
    }
   ],
   "source": [
    "test_batches.classes"
   ]
  },
  {
   "cell_type": "code",
   "execution_count": 105,
   "id": "c03cb56d",
   "metadata": {},
   "outputs": [],
   "source": [
    "os.chdir(r'C:\\Users\\Stephen\\OneDrive\\Northwestern\\422 ML\\Dogs data Store')"
   ]
  },
  {
   "cell_type": "code",
   "execution_count": 106,
   "id": "55657331",
   "metadata": {},
   "outputs": [
    {
     "data": {
      "text/plain": [
       "'C:\\\\Users\\\\Stephen\\\\OneDrive\\\\Northwestern\\\\422 ML\\\\Dogs data Store'"
      ]
     },
     "execution_count": 106,
     "metadata": {},
     "output_type": "execute_result"
    }
   ],
   "source": [
    "%pwd"
   ]
  },
  {
   "cell_type": "code",
   "execution_count": 201,
   "id": "9e6c256b",
   "metadata": {},
   "outputs": [],
   "source": [
    "test_data_path = 'test\\data'"
   ]
  },
  {
   "cell_type": "code",
   "execution_count": 205,
   "id": "d6938441",
   "metadata": {},
   "outputs": [
    {
     "data": {
      "text/plain": [
       "['1.jpg',\n",
       " '10.jpg',\n",
       " '100.jpg',\n",
       " '1000.jpg',\n",
       " '10000.jpg',\n",
       " '10001.jpg',\n",
       " '10002.jpg',\n",
       " '10003.jpg',\n",
       " '10004.jpg',\n",
       " '10005.jpg',\n",
       " '10006.jpg',\n",
       " '10007.jpg',\n",
       " '10008.jpg',\n",
       " '10009.jpg',\n",
       " '1001.jpg',\n",
       " '10010.jpg',\n",
       " '10011.jpg',\n",
       " '10012.jpg',\n",
       " '10013.jpg',\n",
       " '10014.jpg',\n",
       " '10015.jpg',\n",
       " '10016.jpg',\n",
       " '10017.jpg',\n",
       " '10018.jpg',\n",
       " '10019.jpg',\n",
       " '1002.jpg',\n",
       " '10020.jpg',\n",
       " '10021.jpg',\n",
       " '10022.jpg',\n",
       " '10023.jpg',\n",
       " '10024.jpg',\n",
       " '10025.jpg',\n",
       " '10026.jpg',\n",
       " '10027.jpg',\n",
       " '10028.jpg',\n",
       " '10029.jpg',\n",
       " '1003.jpg',\n",
       " '10030.jpg',\n",
       " '10031.jpg',\n",
       " '10032.jpg',\n",
       " '10033.jpg',\n",
       " '10034.jpg',\n",
       " '10035.jpg',\n",
       " '10036.jpg',\n",
       " '10037.jpg',\n",
       " '10038.jpg',\n",
       " '10039.jpg',\n",
       " '1004.jpg',\n",
       " '10040.jpg',\n",
       " '10041.jpg',\n",
       " '10042.jpg',\n",
       " '10043.jpg',\n",
       " '10044.jpg',\n",
       " '10045.jpg',\n",
       " '10046.jpg',\n",
       " '10047.jpg',\n",
       " '10048.jpg',\n",
       " '10049.jpg',\n",
       " '1005.jpg',\n",
       " '10050.jpg',\n",
       " '10051.jpg',\n",
       " '10052.jpg',\n",
       " '10053.jpg',\n",
       " '10054.jpg',\n",
       " '10055.jpg',\n",
       " '10056.jpg',\n",
       " '10057.jpg',\n",
       " '10058.jpg',\n",
       " '10059.jpg',\n",
       " '1006.jpg',\n",
       " '10060.jpg',\n",
       " '10061.jpg',\n",
       " '10062.jpg',\n",
       " '10063.jpg',\n",
       " '10064.jpg',\n",
       " '10065.jpg',\n",
       " '10066.jpg',\n",
       " '10067.jpg',\n",
       " '10068.jpg',\n",
       " '10069.jpg',\n",
       " '1007.jpg',\n",
       " '10070.jpg',\n",
       " '10071.jpg',\n",
       " '10072.jpg',\n",
       " '10073.jpg',\n",
       " '10074.jpg',\n",
       " '10075.jpg',\n",
       " '10076.jpg',\n",
       " '10077.jpg',\n",
       " '10078.jpg',\n",
       " '10079.jpg',\n",
       " '1008.jpg',\n",
       " '10080.jpg',\n",
       " '10081.jpg',\n",
       " '10082.jpg',\n",
       " '10083.jpg',\n",
       " '10084.jpg',\n",
       " '10085.jpg',\n",
       " '10086.jpg',\n",
       " '10087.jpg',\n",
       " '10088.jpg',\n",
       " '10089.jpg',\n",
       " '1009.jpg',\n",
       " '10090.jpg',\n",
       " '10091.jpg',\n",
       " '10092.jpg',\n",
       " '10093.jpg',\n",
       " '10094.jpg',\n",
       " '10095.jpg',\n",
       " '10096.jpg',\n",
       " '10097.jpg',\n",
       " '10098.jpg',\n",
       " '10099.jpg',\n",
       " '101.jpg',\n",
       " '1010.jpg',\n",
       " '10100.jpg',\n",
       " '10101.jpg',\n",
       " '10102.jpg',\n",
       " '10103.jpg',\n",
       " '10104.jpg',\n",
       " '10105.jpg',\n",
       " '10106.jpg',\n",
       " '10107.jpg',\n",
       " '10108.jpg',\n",
       " '10109.jpg',\n",
       " '1011.jpg',\n",
       " '10110.jpg',\n",
       " '10111.jpg',\n",
       " '10112.jpg',\n",
       " '10113.jpg',\n",
       " '10114.jpg',\n",
       " '10115.jpg',\n",
       " '10116.jpg',\n",
       " '10117.jpg',\n",
       " '10118.jpg',\n",
       " '10119.jpg',\n",
       " '1012.jpg',\n",
       " '10120.jpg',\n",
       " '10121.jpg',\n",
       " '10122.jpg',\n",
       " '10123.jpg',\n",
       " '10124.jpg',\n",
       " '10125.jpg',\n",
       " '10126.jpg',\n",
       " '10127.jpg',\n",
       " '10128.jpg',\n",
       " '10129.jpg',\n",
       " '1013.jpg',\n",
       " '10130.jpg',\n",
       " '10131.jpg',\n",
       " '10132.jpg',\n",
       " '10133.jpg',\n",
       " '10134.jpg',\n",
       " '10135.jpg',\n",
       " '10136.jpg',\n",
       " '10137.jpg',\n",
       " '10138.jpg',\n",
       " '10139.jpg',\n",
       " '1014.jpg',\n",
       " '10140.jpg',\n",
       " '10141.jpg',\n",
       " '10142.jpg',\n",
       " '10143.jpg',\n",
       " '10144.jpg',\n",
       " '10145.jpg',\n",
       " '10146.jpg',\n",
       " '10147.jpg',\n",
       " '10148.jpg',\n",
       " '10149.jpg',\n",
       " '1015.jpg',\n",
       " '10150.jpg',\n",
       " '10151.jpg',\n",
       " '10152.jpg',\n",
       " '10153.jpg',\n",
       " '10154.jpg',\n",
       " '10155.jpg',\n",
       " '10156.jpg',\n",
       " '10157.jpg',\n",
       " '10158.jpg',\n",
       " '10159.jpg',\n",
       " '1016.jpg',\n",
       " '10160.jpg',\n",
       " '10161.jpg',\n",
       " '10162.jpg',\n",
       " '10163.jpg',\n",
       " '10164.jpg',\n",
       " '10165.jpg',\n",
       " '10166.jpg',\n",
       " '10167.jpg',\n",
       " '10168.jpg',\n",
       " '10169.jpg',\n",
       " '1017.jpg',\n",
       " '10170.jpg',\n",
       " '10171.jpg',\n",
       " '10172.jpg',\n",
       " '10173.jpg',\n",
       " '10174.jpg',\n",
       " '10175.jpg',\n",
       " '10176.jpg',\n",
       " '10177.jpg',\n",
       " '10178.jpg',\n",
       " '10179.jpg',\n",
       " '1018.jpg',\n",
       " '10180.jpg',\n",
       " '10181.jpg',\n",
       " '10182.jpg',\n",
       " '10183.jpg',\n",
       " '10184.jpg',\n",
       " '10185.jpg',\n",
       " '10186.jpg',\n",
       " '10187.jpg',\n",
       " '10188.jpg',\n",
       " '10189.jpg',\n",
       " '1019.jpg',\n",
       " '10190.jpg',\n",
       " '10191.jpg',\n",
       " '10192.jpg',\n",
       " '10193.jpg',\n",
       " '10194.jpg',\n",
       " '10195.jpg',\n",
       " '10196.jpg',\n",
       " '10197.jpg',\n",
       " '10198.jpg',\n",
       " '10199.jpg',\n",
       " '102.jpg',\n",
       " '1020.jpg',\n",
       " '10200.jpg',\n",
       " '10201.jpg',\n",
       " '10202.jpg',\n",
       " '10203.jpg',\n",
       " '10204.jpg',\n",
       " '10205.jpg',\n",
       " '10206.jpg',\n",
       " '10207.jpg',\n",
       " '10208.jpg',\n",
       " '10209.jpg',\n",
       " '1021.jpg',\n",
       " '10210.jpg',\n",
       " '10211.jpg',\n",
       " '10212.jpg',\n",
       " '10213.jpg',\n",
       " '10214.jpg',\n",
       " '10215.jpg',\n",
       " '10216.jpg',\n",
       " '10217.jpg',\n",
       " '10218.jpg',\n",
       " '10219.jpg',\n",
       " '1022.jpg',\n",
       " '10220.jpg',\n",
       " '10221.jpg',\n",
       " '10222.jpg',\n",
       " '10223.jpg',\n",
       " '10224.jpg',\n",
       " '10225.jpg',\n",
       " '10226.jpg',\n",
       " '10227.jpg',\n",
       " '10228.jpg',\n",
       " '10229.jpg',\n",
       " '1023.jpg',\n",
       " '10230.jpg',\n",
       " '10231.jpg',\n",
       " '10232.jpg',\n",
       " '10233.jpg',\n",
       " '10234.jpg',\n",
       " '10235.jpg',\n",
       " '10236.jpg',\n",
       " '10237.jpg',\n",
       " '10238.jpg',\n",
       " '10239.jpg',\n",
       " '1024.jpg',\n",
       " '10240.jpg',\n",
       " '10241.jpg',\n",
       " '10242.jpg',\n",
       " '10243.jpg',\n",
       " '10244.jpg',\n",
       " '10245.jpg',\n",
       " '10246.jpg',\n",
       " '10247.jpg',\n",
       " '10248.jpg',\n",
       " '10249.jpg',\n",
       " '1025.jpg',\n",
       " '10250.jpg',\n",
       " '10251.jpg',\n",
       " '10252.jpg',\n",
       " '10253.jpg',\n",
       " '10254.jpg',\n",
       " '10255.jpg',\n",
       " '10256.jpg',\n",
       " '10257.jpg',\n",
       " '10258.jpg',\n",
       " '10259.jpg',\n",
       " '1026.jpg',\n",
       " '10260.jpg',\n",
       " '10261.jpg',\n",
       " '10262.jpg',\n",
       " '10263.jpg',\n",
       " '10264.jpg',\n",
       " '10265.jpg',\n",
       " '10266.jpg',\n",
       " '10267.jpg',\n",
       " '10268.jpg',\n",
       " '10269.jpg',\n",
       " '1027.jpg',\n",
       " '10270.jpg',\n",
       " '10271.jpg',\n",
       " '10272.jpg',\n",
       " '10273.jpg',\n",
       " '10274.jpg',\n",
       " '10275.jpg',\n",
       " '10276.jpg',\n",
       " '10277.jpg',\n",
       " '10278.jpg',\n",
       " '10279.jpg',\n",
       " '1028.jpg',\n",
       " '10280.jpg',\n",
       " '10281.jpg',\n",
       " '10282.jpg',\n",
       " '10283.jpg',\n",
       " '10284.jpg',\n",
       " '10285.jpg',\n",
       " '10286.jpg',\n",
       " '10287.jpg',\n",
       " '10288.jpg',\n",
       " '10289.jpg',\n",
       " '1029.jpg',\n",
       " '10290.jpg',\n",
       " '10291.jpg',\n",
       " '10292.jpg',\n",
       " '10293.jpg',\n",
       " '10294.jpg',\n",
       " '10295.jpg',\n",
       " '10296.jpg',\n",
       " '10297.jpg',\n",
       " '10298.jpg',\n",
       " '10299.jpg',\n",
       " '103.jpg',\n",
       " '1030.jpg',\n",
       " '10300.jpg',\n",
       " '10301.jpg',\n",
       " '10302.jpg',\n",
       " '10303.jpg',\n",
       " '10304.jpg',\n",
       " '10305.jpg',\n",
       " '10306.jpg',\n",
       " '10307.jpg',\n",
       " '10308.jpg',\n",
       " '10309.jpg',\n",
       " '1031.jpg',\n",
       " '10310.jpg',\n",
       " '10311.jpg',\n",
       " '10312.jpg',\n",
       " '10313.jpg',\n",
       " '10314.jpg',\n",
       " '10315.jpg',\n",
       " '10316.jpg',\n",
       " '10317.jpg',\n",
       " '10318.jpg',\n",
       " '10319.jpg',\n",
       " '1032.jpg',\n",
       " '10320.jpg',\n",
       " '10321.jpg',\n",
       " '10322.jpg',\n",
       " '10323.jpg',\n",
       " '10324.jpg',\n",
       " '10325.jpg',\n",
       " '10326.jpg',\n",
       " '10327.jpg',\n",
       " '10328.jpg',\n",
       " '10329.jpg',\n",
       " '1033.jpg',\n",
       " '10330.jpg',\n",
       " '10331.jpg',\n",
       " '10332.jpg',\n",
       " '10333.jpg',\n",
       " '10334.jpg',\n",
       " '10335.jpg',\n",
       " '10336.jpg',\n",
       " '10337.jpg',\n",
       " '10338.jpg',\n",
       " '10339.jpg',\n",
       " '1034.jpg',\n",
       " '10340.jpg',\n",
       " '10341.jpg',\n",
       " '10342.jpg',\n",
       " '10343.jpg',\n",
       " '10344.jpg',\n",
       " '10345.jpg',\n",
       " '10346.jpg',\n",
       " '10347.jpg',\n",
       " '10348.jpg',\n",
       " '10349.jpg',\n",
       " '1035.jpg',\n",
       " '10350.jpg',\n",
       " '10351.jpg',\n",
       " '10352.jpg',\n",
       " '10353.jpg',\n",
       " '10354.jpg',\n",
       " '10355.jpg',\n",
       " '10356.jpg',\n",
       " '10357.jpg',\n",
       " '10358.jpg',\n",
       " '10359.jpg',\n",
       " '1036.jpg',\n",
       " '10360.jpg',\n",
       " '10361.jpg',\n",
       " '10362.jpg',\n",
       " '10363.jpg',\n",
       " '10364.jpg',\n",
       " '10365.jpg',\n",
       " '10366.jpg',\n",
       " '10367.jpg',\n",
       " '10368.jpg',\n",
       " '10369.jpg',\n",
       " '1037.jpg',\n",
       " '10370.jpg',\n",
       " '10371.jpg',\n",
       " '10372.jpg',\n",
       " '10373.jpg',\n",
       " '10374.jpg',\n",
       " '10375.jpg',\n",
       " '10376.jpg',\n",
       " '10377.jpg',\n",
       " '10378.jpg',\n",
       " '10379.jpg',\n",
       " '1038.jpg',\n",
       " '10380.jpg',\n",
       " '10381.jpg',\n",
       " '10382.jpg',\n",
       " '10383.jpg',\n",
       " '10384.jpg',\n",
       " '10385.jpg',\n",
       " '10386.jpg',\n",
       " '10387.jpg',\n",
       " '10388.jpg',\n",
       " '10389.jpg',\n",
       " '1039.jpg',\n",
       " '10390.jpg',\n",
       " '10391.jpg',\n",
       " '10392.jpg',\n",
       " '10393.jpg',\n",
       " '10394.jpg',\n",
       " '10395.jpg',\n",
       " '10396.jpg',\n",
       " '10397.jpg',\n",
       " '10398.jpg',\n",
       " '10399.jpg',\n",
       " '104.jpg',\n",
       " '1040.jpg',\n",
       " '10400.jpg',\n",
       " '10401.jpg',\n",
       " '10402.jpg',\n",
       " '10403.jpg',\n",
       " '10404.jpg',\n",
       " '10405.jpg',\n",
       " '10406.jpg',\n",
       " '10407.jpg',\n",
       " '10408.jpg',\n",
       " '10409.jpg',\n",
       " '1041.jpg',\n",
       " '10410.jpg',\n",
       " '10411.jpg',\n",
       " '10412.jpg',\n",
       " '10413.jpg',\n",
       " '10414.jpg',\n",
       " '10415.jpg',\n",
       " '10416.jpg',\n",
       " '10417.jpg',\n",
       " '10418.jpg',\n",
       " '10419.jpg',\n",
       " '1042.jpg',\n",
       " '10420.jpg',\n",
       " '10421.jpg',\n",
       " '10422.jpg',\n",
       " '10423.jpg',\n",
       " '10424.jpg',\n",
       " '10425.jpg',\n",
       " '10426.jpg',\n",
       " '10427.jpg',\n",
       " '10428.jpg',\n",
       " '10429.jpg',\n",
       " '1043.jpg',\n",
       " '10430.jpg',\n",
       " '10431.jpg',\n",
       " '10432.jpg',\n",
       " '10433.jpg',\n",
       " '10434.jpg',\n",
       " '10435.jpg',\n",
       " '10436.jpg',\n",
       " '10437.jpg',\n",
       " '10438.jpg',\n",
       " '10439.jpg',\n",
       " '1044.jpg',\n",
       " '10440.jpg',\n",
       " '10441.jpg',\n",
       " '10442.jpg',\n",
       " '10443.jpg',\n",
       " '10444.jpg',\n",
       " '10445.jpg',\n",
       " '10446.jpg',\n",
       " '10447.jpg',\n",
       " '10448.jpg',\n",
       " '10449.jpg',\n",
       " '1045.jpg',\n",
       " '10450.jpg',\n",
       " '10451.jpg',\n",
       " '10452.jpg',\n",
       " '10453.jpg',\n",
       " '10454.jpg',\n",
       " '10455.jpg',\n",
       " '10456.jpg',\n",
       " '10457.jpg',\n",
       " '10458.jpg',\n",
       " '10459.jpg',\n",
       " '1046.jpg',\n",
       " '10460.jpg',\n",
       " '10461.jpg',\n",
       " '10462.jpg',\n",
       " '10463.jpg',\n",
       " '10464.jpg',\n",
       " '10465.jpg',\n",
       " '10466.jpg',\n",
       " '10467.jpg',\n",
       " '10468.jpg',\n",
       " '10469.jpg',\n",
       " '1047.jpg',\n",
       " '10470.jpg',\n",
       " '10471.jpg',\n",
       " '10472.jpg',\n",
       " '10473.jpg',\n",
       " '10474.jpg',\n",
       " '10475.jpg',\n",
       " '10476.jpg',\n",
       " '10477.jpg',\n",
       " '10478.jpg',\n",
       " '10479.jpg',\n",
       " '1048.jpg',\n",
       " '10480.jpg',\n",
       " '10481.jpg',\n",
       " '10482.jpg',\n",
       " '10483.jpg',\n",
       " '10484.jpg',\n",
       " '10485.jpg',\n",
       " '10486.jpg',\n",
       " '10487.jpg',\n",
       " '10488.jpg',\n",
       " '10489.jpg',\n",
       " '1049.jpg',\n",
       " '10490.jpg',\n",
       " '10491.jpg',\n",
       " '10492.jpg',\n",
       " '10493.jpg',\n",
       " '10494.jpg',\n",
       " '10495.jpg',\n",
       " '10496.jpg',\n",
       " '10497.jpg',\n",
       " '10498.jpg',\n",
       " '10499.jpg',\n",
       " '105.jpg',\n",
       " '1050.jpg',\n",
       " '10500.jpg',\n",
       " '10501.jpg',\n",
       " '10502.jpg',\n",
       " '10503.jpg',\n",
       " '10504.jpg',\n",
       " '10505.jpg',\n",
       " '10506.jpg',\n",
       " '10507.jpg',\n",
       " '10508.jpg',\n",
       " '10509.jpg',\n",
       " '1051.jpg',\n",
       " '10510.jpg',\n",
       " '10511.jpg',\n",
       " '10512.jpg',\n",
       " '10513.jpg',\n",
       " '10514.jpg',\n",
       " '10515.jpg',\n",
       " '10516.jpg',\n",
       " '10517.jpg',\n",
       " '10518.jpg',\n",
       " '10519.jpg',\n",
       " '1052.jpg',\n",
       " '10520.jpg',\n",
       " '10521.jpg',\n",
       " '10522.jpg',\n",
       " '10523.jpg',\n",
       " '10524.jpg',\n",
       " '10525.jpg',\n",
       " '10526.jpg',\n",
       " '10527.jpg',\n",
       " '10528.jpg',\n",
       " '10529.jpg',\n",
       " '1053.jpg',\n",
       " '10530.jpg',\n",
       " '10531.jpg',\n",
       " '10532.jpg',\n",
       " '10533.jpg',\n",
       " '10534.jpg',\n",
       " '10535.jpg',\n",
       " '10536.jpg',\n",
       " '10537.jpg',\n",
       " '10538.jpg',\n",
       " '10539.jpg',\n",
       " '1054.jpg',\n",
       " '10540.jpg',\n",
       " '10541.jpg',\n",
       " '10542.jpg',\n",
       " '10543.jpg',\n",
       " '10544.jpg',\n",
       " '10545.jpg',\n",
       " '10546.jpg',\n",
       " '10547.jpg',\n",
       " '10548.jpg',\n",
       " '10549.jpg',\n",
       " '1055.jpg',\n",
       " '10550.jpg',\n",
       " '10551.jpg',\n",
       " '10552.jpg',\n",
       " '10553.jpg',\n",
       " '10554.jpg',\n",
       " '10555.jpg',\n",
       " '10556.jpg',\n",
       " '10557.jpg',\n",
       " '10558.jpg',\n",
       " '10559.jpg',\n",
       " '1056.jpg',\n",
       " '10560.jpg',\n",
       " '10561.jpg',\n",
       " '10562.jpg',\n",
       " '10563.jpg',\n",
       " '10564.jpg',\n",
       " '10565.jpg',\n",
       " '10566.jpg',\n",
       " '10567.jpg',\n",
       " '10568.jpg',\n",
       " '10569.jpg',\n",
       " '1057.jpg',\n",
       " '10570.jpg',\n",
       " '10571.jpg',\n",
       " '10572.jpg',\n",
       " '10573.jpg',\n",
       " '10574.jpg',\n",
       " '10575.jpg',\n",
       " '10576.jpg',\n",
       " '10577.jpg',\n",
       " '10578.jpg',\n",
       " '10579.jpg',\n",
       " '1058.jpg',\n",
       " '10580.jpg',\n",
       " '10581.jpg',\n",
       " '10582.jpg',\n",
       " '10583.jpg',\n",
       " '10584.jpg',\n",
       " '10585.jpg',\n",
       " '10586.jpg',\n",
       " '10587.jpg',\n",
       " '10588.jpg',\n",
       " '10589.jpg',\n",
       " '1059.jpg',\n",
       " '10590.jpg',\n",
       " '10591.jpg',\n",
       " '10592.jpg',\n",
       " '10593.jpg',\n",
       " '10594.jpg',\n",
       " '10595.jpg',\n",
       " '10596.jpg',\n",
       " '10597.jpg',\n",
       " '10598.jpg',\n",
       " '10599.jpg',\n",
       " '106.jpg',\n",
       " '1060.jpg',\n",
       " '10600.jpg',\n",
       " '10601.jpg',\n",
       " '10602.jpg',\n",
       " '10603.jpg',\n",
       " '10604.jpg',\n",
       " '10605.jpg',\n",
       " '10606.jpg',\n",
       " '10607.jpg',\n",
       " '10608.jpg',\n",
       " '10609.jpg',\n",
       " '1061.jpg',\n",
       " '10610.jpg',\n",
       " '10611.jpg',\n",
       " '10612.jpg',\n",
       " '10613.jpg',\n",
       " '10614.jpg',\n",
       " '10615.jpg',\n",
       " '10616.jpg',\n",
       " '10617.jpg',\n",
       " '10618.jpg',\n",
       " '10619.jpg',\n",
       " '1062.jpg',\n",
       " '10620.jpg',\n",
       " '10621.jpg',\n",
       " '10622.jpg',\n",
       " '10623.jpg',\n",
       " '10624.jpg',\n",
       " '10625.jpg',\n",
       " '10626.jpg',\n",
       " '10627.jpg',\n",
       " '10628.jpg',\n",
       " '10629.jpg',\n",
       " '1063.jpg',\n",
       " '10630.jpg',\n",
       " '10631.jpg',\n",
       " '10632.jpg',\n",
       " '10633.jpg',\n",
       " '10634.jpg',\n",
       " '10635.jpg',\n",
       " '10636.jpg',\n",
       " '10637.jpg',\n",
       " '10638.jpg',\n",
       " '10639.jpg',\n",
       " '1064.jpg',\n",
       " '10640.jpg',\n",
       " '10641.jpg',\n",
       " '10642.jpg',\n",
       " '10643.jpg',\n",
       " '10644.jpg',\n",
       " '10645.jpg',\n",
       " '10646.jpg',\n",
       " '10647.jpg',\n",
       " '10648.jpg',\n",
       " '10649.jpg',\n",
       " '1065.jpg',\n",
       " '10650.jpg',\n",
       " '10651.jpg',\n",
       " '10652.jpg',\n",
       " '10653.jpg',\n",
       " '10654.jpg',\n",
       " '10655.jpg',\n",
       " '10656.jpg',\n",
       " '10657.jpg',\n",
       " '10658.jpg',\n",
       " '10659.jpg',\n",
       " '1066.jpg',\n",
       " '10660.jpg',\n",
       " '10661.jpg',\n",
       " '10662.jpg',\n",
       " '10663.jpg',\n",
       " '10664.jpg',\n",
       " '10665.jpg',\n",
       " '10666.jpg',\n",
       " '10667.jpg',\n",
       " '10668.jpg',\n",
       " '10669.jpg',\n",
       " '1067.jpg',\n",
       " '10670.jpg',\n",
       " '10671.jpg',\n",
       " '10672.jpg',\n",
       " '10673.jpg',\n",
       " '10674.jpg',\n",
       " '10675.jpg',\n",
       " '10676.jpg',\n",
       " '10677.jpg',\n",
       " '10678.jpg',\n",
       " '10679.jpg',\n",
       " '1068.jpg',\n",
       " '10680.jpg',\n",
       " '10681.jpg',\n",
       " '10682.jpg',\n",
       " '10683.jpg',\n",
       " '10684.jpg',\n",
       " '10685.jpg',\n",
       " '10686.jpg',\n",
       " '10687.jpg',\n",
       " '10688.jpg',\n",
       " '10689.jpg',\n",
       " '1069.jpg',\n",
       " '10690.jpg',\n",
       " '10691.jpg',\n",
       " '10692.jpg',\n",
       " '10693.jpg',\n",
       " '10694.jpg',\n",
       " '10695.jpg',\n",
       " '10696.jpg',\n",
       " '10697.jpg',\n",
       " '10698.jpg',\n",
       " '10699.jpg',\n",
       " '107.jpg',\n",
       " '1070.jpg',\n",
       " '10700.jpg',\n",
       " '10701.jpg',\n",
       " '10702.jpg',\n",
       " '10703.jpg',\n",
       " '10704.jpg',\n",
       " '10705.jpg',\n",
       " '10706.jpg',\n",
       " '10707.jpg',\n",
       " '10708.jpg',\n",
       " '10709.jpg',\n",
       " '1071.jpg',\n",
       " '10710.jpg',\n",
       " '10711.jpg',\n",
       " '10712.jpg',\n",
       " '10713.jpg',\n",
       " '10714.jpg',\n",
       " '10715.jpg',\n",
       " '10716.jpg',\n",
       " '10717.jpg',\n",
       " '10718.jpg',\n",
       " '10719.jpg',\n",
       " '1072.jpg',\n",
       " '10720.jpg',\n",
       " '10721.jpg',\n",
       " '10722.jpg',\n",
       " '10723.jpg',\n",
       " '10724.jpg',\n",
       " '10725.jpg',\n",
       " '10726.jpg',\n",
       " '10727.jpg',\n",
       " '10728.jpg',\n",
       " '10729.jpg',\n",
       " '1073.jpg',\n",
       " '10730.jpg',\n",
       " '10731.jpg',\n",
       " '10732.jpg',\n",
       " '10733.jpg',\n",
       " '10734.jpg',\n",
       " '10735.jpg',\n",
       " '10736.jpg',\n",
       " '10737.jpg',\n",
       " '10738.jpg',\n",
       " '10739.jpg',\n",
       " '1074.jpg',\n",
       " '10740.jpg',\n",
       " '10741.jpg',\n",
       " '10742.jpg',\n",
       " '10743.jpg',\n",
       " '10744.jpg',\n",
       " '10745.jpg',\n",
       " '10746.jpg',\n",
       " '10747.jpg',\n",
       " '10748.jpg',\n",
       " '10749.jpg',\n",
       " '1075.jpg',\n",
       " '10750.jpg',\n",
       " '10751.jpg',\n",
       " '10752.jpg',\n",
       " '10753.jpg',\n",
       " '10754.jpg',\n",
       " '10755.jpg',\n",
       " '10756.jpg',\n",
       " '10757.jpg',\n",
       " '10758.jpg',\n",
       " '10759.jpg',\n",
       " '1076.jpg',\n",
       " '10760.jpg',\n",
       " '10761.jpg',\n",
       " '10762.jpg',\n",
       " '10763.jpg',\n",
       " '10764.jpg',\n",
       " '10765.jpg',\n",
       " '10766.jpg',\n",
       " '10767.jpg',\n",
       " '10768.jpg',\n",
       " '10769.jpg',\n",
       " '1077.jpg',\n",
       " '10770.jpg',\n",
       " '10771.jpg',\n",
       " '10772.jpg',\n",
       " '10773.jpg',\n",
       " '10774.jpg',\n",
       " '10775.jpg',\n",
       " '10776.jpg',\n",
       " '10777.jpg',\n",
       " '10778.jpg',\n",
       " '10779.jpg',\n",
       " '1078.jpg',\n",
       " '10780.jpg',\n",
       " '10781.jpg',\n",
       " '10782.jpg',\n",
       " '10783.jpg',\n",
       " '10784.jpg',\n",
       " '10785.jpg',\n",
       " '10786.jpg',\n",
       " '10787.jpg',\n",
       " '10788.jpg',\n",
       " '10789.jpg',\n",
       " '1079.jpg',\n",
       " '10790.jpg',\n",
       " '10791.jpg',\n",
       " '10792.jpg',\n",
       " '10793.jpg',\n",
       " '10794.jpg',\n",
       " '10795.jpg',\n",
       " '10796.jpg',\n",
       " '10797.jpg',\n",
       " '10798.jpg',\n",
       " '10799.jpg',\n",
       " '108.jpg',\n",
       " '1080.jpg',\n",
       " '10800.jpg',\n",
       " '10801.jpg',\n",
       " '10802.jpg',\n",
       " '10803.jpg',\n",
       " '10804.jpg',\n",
       " '10805.jpg',\n",
       " '10806.jpg',\n",
       " '10807.jpg',\n",
       " '10808.jpg',\n",
       " '10809.jpg',\n",
       " '1081.jpg',\n",
       " '10810.jpg',\n",
       " '10811.jpg',\n",
       " '10812.jpg',\n",
       " '10813.jpg',\n",
       " '10814.jpg',\n",
       " '10815.jpg',\n",
       " '10816.jpg',\n",
       " '10817.jpg',\n",
       " '10818.jpg',\n",
       " '10819.jpg',\n",
       " '1082.jpg',\n",
       " '10820.jpg',\n",
       " '10821.jpg',\n",
       " '10822.jpg',\n",
       " '10823.jpg',\n",
       " '10824.jpg',\n",
       " '10825.jpg',\n",
       " '10826.jpg',\n",
       " '10827.jpg',\n",
       " '10828.jpg',\n",
       " '10829.jpg',\n",
       " '1083.jpg',\n",
       " '10830.jpg',\n",
       " '10831.jpg',\n",
       " '10832.jpg',\n",
       " '10833.jpg',\n",
       " '10834.jpg',\n",
       " '10835.jpg',\n",
       " '10836.jpg',\n",
       " '10837.jpg',\n",
       " '10838.jpg',\n",
       " '10839.jpg',\n",
       " '1084.jpg',\n",
       " '10840.jpg',\n",
       " '10841.jpg',\n",
       " '10842.jpg',\n",
       " '10843.jpg',\n",
       " '10844.jpg',\n",
       " '10845.jpg',\n",
       " '10846.jpg',\n",
       " '10847.jpg',\n",
       " '10848.jpg',\n",
       " '10849.jpg',\n",
       " '1085.jpg',\n",
       " '10850.jpg',\n",
       " '10851.jpg',\n",
       " '10852.jpg',\n",
       " '10853.jpg',\n",
       " '10854.jpg',\n",
       " '10855.jpg',\n",
       " '10856.jpg',\n",
       " '10857.jpg',\n",
       " '10858.jpg',\n",
       " '10859.jpg',\n",
       " '1086.jpg',\n",
       " '10860.jpg',\n",
       " '10861.jpg',\n",
       " '10862.jpg',\n",
       " '10863.jpg',\n",
       " '10864.jpg',\n",
       " '10865.jpg',\n",
       " '10866.jpg',\n",
       " '10867.jpg',\n",
       " '10868.jpg',\n",
       " '10869.jpg',\n",
       " '1087.jpg',\n",
       " '10870.jpg',\n",
       " '10871.jpg',\n",
       " '10872.jpg',\n",
       " '10873.jpg',\n",
       " '10874.jpg',\n",
       " '10875.jpg',\n",
       " '10876.jpg',\n",
       " '10877.jpg',\n",
       " '10878.jpg',\n",
       " '10879.jpg',\n",
       " '1088.jpg',\n",
       " '10880.jpg',\n",
       " '10881.jpg',\n",
       " '10882.jpg',\n",
       " '10883.jpg',\n",
       " '10884.jpg',\n",
       " '10885.jpg',\n",
       " '10886.jpg',\n",
       " '10887.jpg',\n",
       " '10888.jpg',\n",
       " '10889.jpg',\n",
       " '1089.jpg',\n",
       " '10890.jpg',\n",
       " '10891.jpg',\n",
       " '10892.jpg',\n",
       " '10893.jpg',\n",
       " '10894.jpg',\n",
       " '10895.jpg',\n",
       " '10896.jpg',\n",
       " '10897.jpg',\n",
       " '10898.jpg',\n",
       " ...]"
      ]
     },
     "execution_count": 205,
     "metadata": {},
     "output_type": "execute_result"
    }
   ],
   "source": [
    "os.listdir(test_data_path)"
   ]
  },
  {
   "cell_type": "code",
   "execution_count": 206,
   "id": "1ac23013",
   "metadata": {},
   "outputs": [
    {
     "data": {
      "text/plain": [
       "['dog.10226.jpg',\n",
       " 'dog.1023.jpg',\n",
       " 'dog.10286.jpg',\n",
       " 'dog.10328.jpg',\n",
       " 'dog.10448.jpg',\n",
       " 'dog.10598.jpg',\n",
       " 'dog.10827.jpg',\n",
       " 'dog.10830.jpg',\n",
       " 'dog.10836.jpg',\n",
       " 'dog.1084.jpg',\n",
       " 'dog.10948.jpg',\n",
       " 'dog.10966.jpg',\n",
       " 'dog.11005.jpg',\n",
       " 'dog.11216.jpg',\n",
       " 'dog.11242.jpg',\n",
       " 'dog.11400.jpg',\n",
       " 'dog.11521.jpg',\n",
       " 'dog.11524.jpg',\n",
       " 'dog.11529.jpg',\n",
       " 'dog.11653.jpg',\n",
       " 'dog.11656.jpg',\n",
       " 'dog.11919.jpg',\n",
       " 'dog.11930.jpg',\n",
       " 'dog.12110.jpg',\n",
       " 'dog.12229.jpg',\n",
       " 'dog.12447.jpg',\n",
       " 'dog.12455.jpg',\n",
       " 'dog.12480.jpg',\n",
       " 'dog.1532.jpg',\n",
       " 'dog.155.jpg',\n",
       " 'dog.1638.jpg',\n",
       " 'dog.178.jpg',\n",
       " 'dog.1868.jpg',\n",
       " 'dog.1932.jpg',\n",
       " 'dog.2107.jpg',\n",
       " 'dog.2131.jpg',\n",
       " 'dog.2173.jpg',\n",
       " 'dog.2270.jpg',\n",
       " 'dog.2330.jpg',\n",
       " 'dog.2382.jpg',\n",
       " 'dog.2821.jpg',\n",
       " 'dog.2831.jpg',\n",
       " 'dog.2853.jpg',\n",
       " 'dog.2877.jpg',\n",
       " 'dog.2919.jpg',\n",
       " 'dog.2988.jpg',\n",
       " 'dog.3181.jpg',\n",
       " 'dog.3186.jpg',\n",
       " 'dog.3237.jpg',\n",
       " 'dog.3243.jpg',\n",
       " 'dog.3437.jpg',\n",
       " 'dog.344.jpg',\n",
       " 'dog.3466.jpg',\n",
       " 'dog.360.jpg',\n",
       " 'dog.3602.jpg',\n",
       " 'dog.3659.jpg',\n",
       " 'dog.3810.jpg',\n",
       " 'dog.3846.jpg',\n",
       " 'dog.3905.jpg',\n",
       " 'dog.3907.jpg',\n",
       " 'dog.404.jpg',\n",
       " 'dog.4396.jpg',\n",
       " 'dog.4453.jpg',\n",
       " 'dog.4494.jpg',\n",
       " 'dog.4600.jpg',\n",
       " 'dog.466.jpg',\n",
       " 'dog.4682.jpg',\n",
       " 'dog.4704.jpg',\n",
       " 'dog.4753.jpg',\n",
       " 'dog.4854.jpg',\n",
       " 'dog.4869.jpg',\n",
       " 'dog.502.jpg',\n",
       " 'dog.505.jpg',\n",
       " 'dog.5062.jpg',\n",
       " 'dog.5342.jpg',\n",
       " 'dog.5440.jpg',\n",
       " 'dog.5681.jpg',\n",
       " 'dog.5694.jpg',\n",
       " 'dog.6254.jpg',\n",
       " 'dog.6332.jpg',\n",
       " 'dog.6823.jpg',\n",
       " 'dog.7204.jpg',\n",
       " 'dog.7317.jpg',\n",
       " 'dog.7376.jpg',\n",
       " 'dog.7931.jpg',\n",
       " 'dog.8028.jpg',\n",
       " 'dog.8258.jpg',\n",
       " 'dog.8293.jpg',\n",
       " 'dog.8344.jpg',\n",
       " 'dog.8759.jpg',\n",
       " 'dog.8781.jpg',\n",
       " 'dog.8965.jpg',\n",
       " 'dog.8984.jpg',\n",
       " 'dog.9018.jpg',\n",
       " 'dog.9021.jpg',\n",
       " 'dog.9043.jpg',\n",
       " 'dog.9135.jpg',\n",
       " 'dog.9659.jpg',\n",
       " 'dog.9895.jpg',\n",
       " 'dog.9958.jpg']"
      ]
     },
     "execution_count": 206,
     "metadata": {},
     "output_type": "execute_result"
    }
   ],
   "source": [
    "os.listdir(r'C:\\Users\\Stephen\\OneDrive\\Northwestern\\422 ML\\Dogs_v_Cats\\valid\\dog')"
   ]
  },
  {
   "cell_type": "code",
   "execution_count": 112,
   "id": "d6fa2c88",
   "metadata": {},
   "outputs": [
    {
     "name": "stdout",
     "output_type": "stream",
     "text": [
      "Found 0 images belonging to 0 classes.\n"
     ]
    }
   ],
   "source": [
    "#Prepare Test Data for Prediction\n",
    "\n",
    "test_data = ImageDataGenerator(preprocessing_function=tf.keras.applications.vgg16.preprocess_input) \\\n",
    "    .flow_from_directory(directory=test_data_path, target_size=(224,224), class_mode='categorical', batch_size=10, shuffle=False)"
   ]
  },
  {
   "cell_type": "code",
   "execution_count": 131,
   "id": "c5b0e80f",
   "metadata": {},
   "outputs": [
    {
     "name": "stdout",
     "output_type": "stream",
     "text": [
      "Found 12500 images belonging to 1 classes.\n"
     ]
    }
   ],
   "source": [
    "test_datagen = ImageDataGenerator(preprocessing_function=tf.keras.applications.vgg16.preprocess_input)\n",
    "\n",
    "test_generator = test_datagen.flow_from_directory(\n",
    "    directory=r'C:\\Users\\Stephen\\OneDrive\\Northwestern\\422 ML\\Dogs data Store\\test', \n",
    "    target_size=(224, 224), \n",
    "    #color_mode = 'rgb',\n",
    "    batch_size=1,\n",
    "    class_mode=None,  \n",
    "    shuffle=False)"
   ]
  },
  {
   "cell_type": "code",
   "execution_count": 213,
   "id": "7330107f",
   "metadata": {},
   "outputs": [
    {
     "data": {
      "text/plain": [
       "['data\\\\1.jpg',\n",
       " 'data\\\\10.jpg',\n",
       " 'data\\\\100.jpg',\n",
       " 'data\\\\1000.jpg',\n",
       " 'data\\\\10000.jpg',\n",
       " 'data\\\\10001.jpg',\n",
       " 'data\\\\10002.jpg',\n",
       " 'data\\\\10003.jpg',\n",
       " 'data\\\\10004.jpg',\n",
       " 'data\\\\10005.jpg',\n",
       " 'data\\\\10006.jpg',\n",
       " 'data\\\\10007.jpg',\n",
       " 'data\\\\10008.jpg',\n",
       " 'data\\\\10009.jpg',\n",
       " 'data\\\\1001.jpg',\n",
       " 'data\\\\10010.jpg',\n",
       " 'data\\\\10011.jpg',\n",
       " 'data\\\\10012.jpg',\n",
       " 'data\\\\10013.jpg',\n",
       " 'data\\\\10014.jpg',\n",
       " 'data\\\\10015.jpg',\n",
       " 'data\\\\10016.jpg',\n",
       " 'data\\\\10017.jpg',\n",
       " 'data\\\\10018.jpg',\n",
       " 'data\\\\10019.jpg',\n",
       " 'data\\\\1002.jpg',\n",
       " 'data\\\\10020.jpg',\n",
       " 'data\\\\10021.jpg',\n",
       " 'data\\\\10022.jpg',\n",
       " 'data\\\\10023.jpg',\n",
       " 'data\\\\10024.jpg',\n",
       " 'data\\\\10025.jpg',\n",
       " 'data\\\\10026.jpg',\n",
       " 'data\\\\10027.jpg',\n",
       " 'data\\\\10028.jpg',\n",
       " 'data\\\\10029.jpg',\n",
       " 'data\\\\1003.jpg',\n",
       " 'data\\\\10030.jpg',\n",
       " 'data\\\\10031.jpg',\n",
       " 'data\\\\10032.jpg',\n",
       " 'data\\\\10033.jpg',\n",
       " 'data\\\\10034.jpg',\n",
       " 'data\\\\10035.jpg',\n",
       " 'data\\\\10036.jpg',\n",
       " 'data\\\\10037.jpg',\n",
       " 'data\\\\10038.jpg',\n",
       " 'data\\\\10039.jpg',\n",
       " 'data\\\\1004.jpg',\n",
       " 'data\\\\10040.jpg',\n",
       " 'data\\\\10041.jpg',\n",
       " 'data\\\\10042.jpg',\n",
       " 'data\\\\10043.jpg',\n",
       " 'data\\\\10044.jpg',\n",
       " 'data\\\\10045.jpg',\n",
       " 'data\\\\10046.jpg',\n",
       " 'data\\\\10047.jpg',\n",
       " 'data\\\\10048.jpg',\n",
       " 'data\\\\10049.jpg',\n",
       " 'data\\\\1005.jpg',\n",
       " 'data\\\\10050.jpg',\n",
       " 'data\\\\10051.jpg',\n",
       " 'data\\\\10052.jpg',\n",
       " 'data\\\\10053.jpg',\n",
       " 'data\\\\10054.jpg',\n",
       " 'data\\\\10055.jpg',\n",
       " 'data\\\\10056.jpg',\n",
       " 'data\\\\10057.jpg',\n",
       " 'data\\\\10058.jpg',\n",
       " 'data\\\\10059.jpg',\n",
       " 'data\\\\1006.jpg',\n",
       " 'data\\\\10060.jpg',\n",
       " 'data\\\\10061.jpg',\n",
       " 'data\\\\10062.jpg',\n",
       " 'data\\\\10063.jpg',\n",
       " 'data\\\\10064.jpg',\n",
       " 'data\\\\10065.jpg',\n",
       " 'data\\\\10066.jpg',\n",
       " 'data\\\\10067.jpg',\n",
       " 'data\\\\10068.jpg',\n",
       " 'data\\\\10069.jpg',\n",
       " 'data\\\\1007.jpg',\n",
       " 'data\\\\10070.jpg',\n",
       " 'data\\\\10071.jpg',\n",
       " 'data\\\\10072.jpg',\n",
       " 'data\\\\10073.jpg',\n",
       " 'data\\\\10074.jpg',\n",
       " 'data\\\\10075.jpg',\n",
       " 'data\\\\10076.jpg',\n",
       " 'data\\\\10077.jpg',\n",
       " 'data\\\\10078.jpg',\n",
       " 'data\\\\10079.jpg',\n",
       " 'data\\\\1008.jpg',\n",
       " 'data\\\\10080.jpg',\n",
       " 'data\\\\10081.jpg',\n",
       " 'data\\\\10082.jpg',\n",
       " 'data\\\\10083.jpg',\n",
       " 'data\\\\10084.jpg',\n",
       " 'data\\\\10085.jpg',\n",
       " 'data\\\\10086.jpg',\n",
       " 'data\\\\10087.jpg',\n",
       " 'data\\\\10088.jpg',\n",
       " 'data\\\\10089.jpg',\n",
       " 'data\\\\1009.jpg',\n",
       " 'data\\\\10090.jpg',\n",
       " 'data\\\\10091.jpg',\n",
       " 'data\\\\10092.jpg',\n",
       " 'data\\\\10093.jpg',\n",
       " 'data\\\\10094.jpg',\n",
       " 'data\\\\10095.jpg',\n",
       " 'data\\\\10096.jpg',\n",
       " 'data\\\\10097.jpg',\n",
       " 'data\\\\10098.jpg',\n",
       " 'data\\\\10099.jpg',\n",
       " 'data\\\\101.jpg',\n",
       " 'data\\\\1010.jpg',\n",
       " 'data\\\\10100.jpg',\n",
       " 'data\\\\10101.jpg',\n",
       " 'data\\\\10102.jpg',\n",
       " 'data\\\\10103.jpg',\n",
       " 'data\\\\10104.jpg',\n",
       " 'data\\\\10105.jpg',\n",
       " 'data\\\\10106.jpg',\n",
       " 'data\\\\10107.jpg',\n",
       " 'data\\\\10108.jpg',\n",
       " 'data\\\\10109.jpg',\n",
       " 'data\\\\1011.jpg',\n",
       " 'data\\\\10110.jpg',\n",
       " 'data\\\\10111.jpg',\n",
       " 'data\\\\10112.jpg',\n",
       " 'data\\\\10113.jpg',\n",
       " 'data\\\\10114.jpg',\n",
       " 'data\\\\10115.jpg',\n",
       " 'data\\\\10116.jpg',\n",
       " 'data\\\\10117.jpg',\n",
       " 'data\\\\10118.jpg',\n",
       " 'data\\\\10119.jpg',\n",
       " 'data\\\\1012.jpg',\n",
       " 'data\\\\10120.jpg',\n",
       " 'data\\\\10121.jpg',\n",
       " 'data\\\\10122.jpg',\n",
       " 'data\\\\10123.jpg',\n",
       " 'data\\\\10124.jpg',\n",
       " 'data\\\\10125.jpg',\n",
       " 'data\\\\10126.jpg',\n",
       " 'data\\\\10127.jpg',\n",
       " 'data\\\\10128.jpg',\n",
       " 'data\\\\10129.jpg',\n",
       " 'data\\\\1013.jpg',\n",
       " 'data\\\\10130.jpg',\n",
       " 'data\\\\10131.jpg',\n",
       " 'data\\\\10132.jpg',\n",
       " 'data\\\\10133.jpg',\n",
       " 'data\\\\10134.jpg',\n",
       " 'data\\\\10135.jpg',\n",
       " 'data\\\\10136.jpg',\n",
       " 'data\\\\10137.jpg',\n",
       " 'data\\\\10138.jpg',\n",
       " 'data\\\\10139.jpg',\n",
       " 'data\\\\1014.jpg',\n",
       " 'data\\\\10140.jpg',\n",
       " 'data\\\\10141.jpg',\n",
       " 'data\\\\10142.jpg',\n",
       " 'data\\\\10143.jpg',\n",
       " 'data\\\\10144.jpg',\n",
       " 'data\\\\10145.jpg',\n",
       " 'data\\\\10146.jpg',\n",
       " 'data\\\\10147.jpg',\n",
       " 'data\\\\10148.jpg',\n",
       " 'data\\\\10149.jpg',\n",
       " 'data\\\\1015.jpg',\n",
       " 'data\\\\10150.jpg',\n",
       " 'data\\\\10151.jpg',\n",
       " 'data\\\\10152.jpg',\n",
       " 'data\\\\10153.jpg',\n",
       " 'data\\\\10154.jpg',\n",
       " 'data\\\\10155.jpg',\n",
       " 'data\\\\10156.jpg',\n",
       " 'data\\\\10157.jpg',\n",
       " 'data\\\\10158.jpg',\n",
       " 'data\\\\10159.jpg',\n",
       " 'data\\\\1016.jpg',\n",
       " 'data\\\\10160.jpg',\n",
       " 'data\\\\10161.jpg',\n",
       " 'data\\\\10162.jpg',\n",
       " 'data\\\\10163.jpg',\n",
       " 'data\\\\10164.jpg',\n",
       " 'data\\\\10165.jpg',\n",
       " 'data\\\\10166.jpg',\n",
       " 'data\\\\10167.jpg',\n",
       " 'data\\\\10168.jpg',\n",
       " 'data\\\\10169.jpg',\n",
       " 'data\\\\1017.jpg',\n",
       " 'data\\\\10170.jpg',\n",
       " 'data\\\\10171.jpg',\n",
       " 'data\\\\10172.jpg',\n",
       " 'data\\\\10173.jpg',\n",
       " 'data\\\\10174.jpg',\n",
       " 'data\\\\10175.jpg',\n",
       " 'data\\\\10176.jpg',\n",
       " 'data\\\\10177.jpg',\n",
       " 'data\\\\10178.jpg',\n",
       " 'data\\\\10179.jpg',\n",
       " 'data\\\\1018.jpg',\n",
       " 'data\\\\10180.jpg',\n",
       " 'data\\\\10181.jpg',\n",
       " 'data\\\\10182.jpg',\n",
       " 'data\\\\10183.jpg',\n",
       " 'data\\\\10184.jpg',\n",
       " 'data\\\\10185.jpg',\n",
       " 'data\\\\10186.jpg',\n",
       " 'data\\\\10187.jpg',\n",
       " 'data\\\\10188.jpg',\n",
       " 'data\\\\10189.jpg',\n",
       " 'data\\\\1019.jpg',\n",
       " 'data\\\\10190.jpg',\n",
       " 'data\\\\10191.jpg',\n",
       " 'data\\\\10192.jpg',\n",
       " 'data\\\\10193.jpg',\n",
       " 'data\\\\10194.jpg',\n",
       " 'data\\\\10195.jpg',\n",
       " 'data\\\\10196.jpg',\n",
       " 'data\\\\10197.jpg',\n",
       " 'data\\\\10198.jpg',\n",
       " 'data\\\\10199.jpg',\n",
       " 'data\\\\102.jpg',\n",
       " 'data\\\\1020.jpg',\n",
       " 'data\\\\10200.jpg',\n",
       " 'data\\\\10201.jpg',\n",
       " 'data\\\\10202.jpg',\n",
       " 'data\\\\10203.jpg',\n",
       " 'data\\\\10204.jpg',\n",
       " 'data\\\\10205.jpg',\n",
       " 'data\\\\10206.jpg',\n",
       " 'data\\\\10207.jpg',\n",
       " 'data\\\\10208.jpg',\n",
       " 'data\\\\10209.jpg',\n",
       " 'data\\\\1021.jpg',\n",
       " 'data\\\\10210.jpg',\n",
       " 'data\\\\10211.jpg',\n",
       " 'data\\\\10212.jpg',\n",
       " 'data\\\\10213.jpg',\n",
       " 'data\\\\10214.jpg',\n",
       " 'data\\\\10215.jpg',\n",
       " 'data\\\\10216.jpg',\n",
       " 'data\\\\10217.jpg',\n",
       " 'data\\\\10218.jpg',\n",
       " 'data\\\\10219.jpg',\n",
       " 'data\\\\1022.jpg',\n",
       " 'data\\\\10220.jpg',\n",
       " 'data\\\\10221.jpg',\n",
       " 'data\\\\10222.jpg',\n",
       " 'data\\\\10223.jpg',\n",
       " 'data\\\\10224.jpg',\n",
       " 'data\\\\10225.jpg',\n",
       " 'data\\\\10226.jpg',\n",
       " 'data\\\\10227.jpg',\n",
       " 'data\\\\10228.jpg',\n",
       " 'data\\\\10229.jpg',\n",
       " 'data\\\\1023.jpg',\n",
       " 'data\\\\10230.jpg',\n",
       " 'data\\\\10231.jpg',\n",
       " 'data\\\\10232.jpg',\n",
       " 'data\\\\10233.jpg',\n",
       " 'data\\\\10234.jpg',\n",
       " 'data\\\\10235.jpg',\n",
       " 'data\\\\10236.jpg',\n",
       " 'data\\\\10237.jpg',\n",
       " 'data\\\\10238.jpg',\n",
       " 'data\\\\10239.jpg',\n",
       " 'data\\\\1024.jpg',\n",
       " 'data\\\\10240.jpg',\n",
       " 'data\\\\10241.jpg',\n",
       " 'data\\\\10242.jpg',\n",
       " 'data\\\\10243.jpg',\n",
       " 'data\\\\10244.jpg',\n",
       " 'data\\\\10245.jpg',\n",
       " 'data\\\\10246.jpg',\n",
       " 'data\\\\10247.jpg',\n",
       " 'data\\\\10248.jpg',\n",
       " 'data\\\\10249.jpg',\n",
       " 'data\\\\1025.jpg',\n",
       " 'data\\\\10250.jpg',\n",
       " 'data\\\\10251.jpg',\n",
       " 'data\\\\10252.jpg',\n",
       " 'data\\\\10253.jpg',\n",
       " 'data\\\\10254.jpg',\n",
       " 'data\\\\10255.jpg',\n",
       " 'data\\\\10256.jpg',\n",
       " 'data\\\\10257.jpg',\n",
       " 'data\\\\10258.jpg',\n",
       " 'data\\\\10259.jpg',\n",
       " 'data\\\\1026.jpg',\n",
       " 'data\\\\10260.jpg',\n",
       " 'data\\\\10261.jpg',\n",
       " 'data\\\\10262.jpg',\n",
       " 'data\\\\10263.jpg',\n",
       " 'data\\\\10264.jpg',\n",
       " 'data\\\\10265.jpg',\n",
       " 'data\\\\10266.jpg',\n",
       " 'data\\\\10267.jpg',\n",
       " 'data\\\\10268.jpg',\n",
       " 'data\\\\10269.jpg',\n",
       " 'data\\\\1027.jpg',\n",
       " 'data\\\\10270.jpg',\n",
       " 'data\\\\10271.jpg',\n",
       " 'data\\\\10272.jpg',\n",
       " 'data\\\\10273.jpg',\n",
       " 'data\\\\10274.jpg',\n",
       " 'data\\\\10275.jpg',\n",
       " 'data\\\\10276.jpg',\n",
       " 'data\\\\10277.jpg',\n",
       " 'data\\\\10278.jpg',\n",
       " 'data\\\\10279.jpg',\n",
       " 'data\\\\1028.jpg',\n",
       " 'data\\\\10280.jpg',\n",
       " 'data\\\\10281.jpg',\n",
       " 'data\\\\10282.jpg',\n",
       " 'data\\\\10283.jpg',\n",
       " 'data\\\\10284.jpg',\n",
       " 'data\\\\10285.jpg',\n",
       " 'data\\\\10286.jpg',\n",
       " 'data\\\\10287.jpg',\n",
       " 'data\\\\10288.jpg',\n",
       " 'data\\\\10289.jpg',\n",
       " 'data\\\\1029.jpg',\n",
       " 'data\\\\10290.jpg',\n",
       " 'data\\\\10291.jpg',\n",
       " 'data\\\\10292.jpg',\n",
       " 'data\\\\10293.jpg',\n",
       " 'data\\\\10294.jpg',\n",
       " 'data\\\\10295.jpg',\n",
       " 'data\\\\10296.jpg',\n",
       " 'data\\\\10297.jpg',\n",
       " 'data\\\\10298.jpg',\n",
       " 'data\\\\10299.jpg',\n",
       " 'data\\\\103.jpg',\n",
       " 'data\\\\1030.jpg',\n",
       " 'data\\\\10300.jpg',\n",
       " 'data\\\\10301.jpg',\n",
       " 'data\\\\10302.jpg',\n",
       " 'data\\\\10303.jpg',\n",
       " 'data\\\\10304.jpg',\n",
       " 'data\\\\10305.jpg',\n",
       " 'data\\\\10306.jpg',\n",
       " 'data\\\\10307.jpg',\n",
       " 'data\\\\10308.jpg',\n",
       " 'data\\\\10309.jpg',\n",
       " 'data\\\\1031.jpg',\n",
       " 'data\\\\10310.jpg',\n",
       " 'data\\\\10311.jpg',\n",
       " 'data\\\\10312.jpg',\n",
       " 'data\\\\10313.jpg',\n",
       " 'data\\\\10314.jpg',\n",
       " 'data\\\\10315.jpg',\n",
       " 'data\\\\10316.jpg',\n",
       " 'data\\\\10317.jpg',\n",
       " 'data\\\\10318.jpg',\n",
       " 'data\\\\10319.jpg',\n",
       " 'data\\\\1032.jpg',\n",
       " 'data\\\\10320.jpg',\n",
       " 'data\\\\10321.jpg',\n",
       " 'data\\\\10322.jpg',\n",
       " 'data\\\\10323.jpg',\n",
       " 'data\\\\10324.jpg',\n",
       " 'data\\\\10325.jpg',\n",
       " 'data\\\\10326.jpg',\n",
       " 'data\\\\10327.jpg',\n",
       " 'data\\\\10328.jpg',\n",
       " 'data\\\\10329.jpg',\n",
       " 'data\\\\1033.jpg',\n",
       " 'data\\\\10330.jpg',\n",
       " 'data\\\\10331.jpg',\n",
       " 'data\\\\10332.jpg',\n",
       " 'data\\\\10333.jpg',\n",
       " 'data\\\\10334.jpg',\n",
       " 'data\\\\10335.jpg',\n",
       " 'data\\\\10336.jpg',\n",
       " 'data\\\\10337.jpg',\n",
       " 'data\\\\10338.jpg',\n",
       " 'data\\\\10339.jpg',\n",
       " 'data\\\\1034.jpg',\n",
       " 'data\\\\10340.jpg',\n",
       " 'data\\\\10341.jpg',\n",
       " 'data\\\\10342.jpg',\n",
       " 'data\\\\10343.jpg',\n",
       " 'data\\\\10344.jpg',\n",
       " 'data\\\\10345.jpg',\n",
       " 'data\\\\10346.jpg',\n",
       " 'data\\\\10347.jpg',\n",
       " 'data\\\\10348.jpg',\n",
       " 'data\\\\10349.jpg',\n",
       " 'data\\\\1035.jpg',\n",
       " 'data\\\\10350.jpg',\n",
       " 'data\\\\10351.jpg',\n",
       " 'data\\\\10352.jpg',\n",
       " 'data\\\\10353.jpg',\n",
       " 'data\\\\10354.jpg',\n",
       " 'data\\\\10355.jpg',\n",
       " 'data\\\\10356.jpg',\n",
       " 'data\\\\10357.jpg',\n",
       " 'data\\\\10358.jpg',\n",
       " 'data\\\\10359.jpg',\n",
       " 'data\\\\1036.jpg',\n",
       " 'data\\\\10360.jpg',\n",
       " 'data\\\\10361.jpg',\n",
       " 'data\\\\10362.jpg',\n",
       " 'data\\\\10363.jpg',\n",
       " 'data\\\\10364.jpg',\n",
       " 'data\\\\10365.jpg',\n",
       " 'data\\\\10366.jpg',\n",
       " 'data\\\\10367.jpg',\n",
       " 'data\\\\10368.jpg',\n",
       " 'data\\\\10369.jpg',\n",
       " 'data\\\\1037.jpg',\n",
       " 'data\\\\10370.jpg',\n",
       " 'data\\\\10371.jpg',\n",
       " 'data\\\\10372.jpg',\n",
       " 'data\\\\10373.jpg',\n",
       " 'data\\\\10374.jpg',\n",
       " 'data\\\\10375.jpg',\n",
       " 'data\\\\10376.jpg',\n",
       " 'data\\\\10377.jpg',\n",
       " 'data\\\\10378.jpg',\n",
       " 'data\\\\10379.jpg',\n",
       " 'data\\\\1038.jpg',\n",
       " 'data\\\\10380.jpg',\n",
       " 'data\\\\10381.jpg',\n",
       " 'data\\\\10382.jpg',\n",
       " 'data\\\\10383.jpg',\n",
       " 'data\\\\10384.jpg',\n",
       " 'data\\\\10385.jpg',\n",
       " 'data\\\\10386.jpg',\n",
       " 'data\\\\10387.jpg',\n",
       " 'data\\\\10388.jpg',\n",
       " 'data\\\\10389.jpg',\n",
       " 'data\\\\1039.jpg',\n",
       " 'data\\\\10390.jpg',\n",
       " 'data\\\\10391.jpg',\n",
       " 'data\\\\10392.jpg',\n",
       " 'data\\\\10393.jpg',\n",
       " 'data\\\\10394.jpg',\n",
       " 'data\\\\10395.jpg',\n",
       " 'data\\\\10396.jpg',\n",
       " 'data\\\\10397.jpg',\n",
       " 'data\\\\10398.jpg',\n",
       " 'data\\\\10399.jpg',\n",
       " 'data\\\\104.jpg',\n",
       " 'data\\\\1040.jpg',\n",
       " 'data\\\\10400.jpg',\n",
       " 'data\\\\10401.jpg',\n",
       " 'data\\\\10402.jpg',\n",
       " 'data\\\\10403.jpg',\n",
       " 'data\\\\10404.jpg',\n",
       " 'data\\\\10405.jpg',\n",
       " 'data\\\\10406.jpg',\n",
       " 'data\\\\10407.jpg',\n",
       " 'data\\\\10408.jpg',\n",
       " 'data\\\\10409.jpg',\n",
       " 'data\\\\1041.jpg',\n",
       " 'data\\\\10410.jpg',\n",
       " 'data\\\\10411.jpg',\n",
       " 'data\\\\10412.jpg',\n",
       " 'data\\\\10413.jpg',\n",
       " 'data\\\\10414.jpg',\n",
       " 'data\\\\10415.jpg',\n",
       " 'data\\\\10416.jpg',\n",
       " 'data\\\\10417.jpg',\n",
       " 'data\\\\10418.jpg',\n",
       " 'data\\\\10419.jpg',\n",
       " 'data\\\\1042.jpg',\n",
       " 'data\\\\10420.jpg',\n",
       " 'data\\\\10421.jpg',\n",
       " 'data\\\\10422.jpg',\n",
       " 'data\\\\10423.jpg',\n",
       " 'data\\\\10424.jpg',\n",
       " 'data\\\\10425.jpg',\n",
       " 'data\\\\10426.jpg',\n",
       " 'data\\\\10427.jpg',\n",
       " 'data\\\\10428.jpg',\n",
       " 'data\\\\10429.jpg',\n",
       " 'data\\\\1043.jpg',\n",
       " 'data\\\\10430.jpg',\n",
       " 'data\\\\10431.jpg',\n",
       " 'data\\\\10432.jpg',\n",
       " 'data\\\\10433.jpg',\n",
       " 'data\\\\10434.jpg',\n",
       " 'data\\\\10435.jpg',\n",
       " 'data\\\\10436.jpg',\n",
       " 'data\\\\10437.jpg',\n",
       " 'data\\\\10438.jpg',\n",
       " 'data\\\\10439.jpg',\n",
       " 'data\\\\1044.jpg',\n",
       " 'data\\\\10440.jpg',\n",
       " 'data\\\\10441.jpg',\n",
       " 'data\\\\10442.jpg',\n",
       " 'data\\\\10443.jpg',\n",
       " 'data\\\\10444.jpg',\n",
       " 'data\\\\10445.jpg',\n",
       " 'data\\\\10446.jpg',\n",
       " 'data\\\\10447.jpg',\n",
       " 'data\\\\10448.jpg',\n",
       " 'data\\\\10449.jpg',\n",
       " 'data\\\\1045.jpg',\n",
       " 'data\\\\10450.jpg',\n",
       " 'data\\\\10451.jpg',\n",
       " 'data\\\\10452.jpg',\n",
       " 'data\\\\10453.jpg',\n",
       " 'data\\\\10454.jpg',\n",
       " 'data\\\\10455.jpg',\n",
       " 'data\\\\10456.jpg',\n",
       " 'data\\\\10457.jpg',\n",
       " 'data\\\\10458.jpg',\n",
       " 'data\\\\10459.jpg',\n",
       " 'data\\\\1046.jpg',\n",
       " 'data\\\\10460.jpg',\n",
       " 'data\\\\10461.jpg',\n",
       " 'data\\\\10462.jpg',\n",
       " 'data\\\\10463.jpg',\n",
       " 'data\\\\10464.jpg',\n",
       " 'data\\\\10465.jpg',\n",
       " 'data\\\\10466.jpg',\n",
       " 'data\\\\10467.jpg',\n",
       " 'data\\\\10468.jpg',\n",
       " 'data\\\\10469.jpg',\n",
       " 'data\\\\1047.jpg',\n",
       " 'data\\\\10470.jpg',\n",
       " 'data\\\\10471.jpg',\n",
       " 'data\\\\10472.jpg',\n",
       " 'data\\\\10473.jpg',\n",
       " 'data\\\\10474.jpg',\n",
       " 'data\\\\10475.jpg',\n",
       " 'data\\\\10476.jpg',\n",
       " 'data\\\\10477.jpg',\n",
       " 'data\\\\10478.jpg',\n",
       " 'data\\\\10479.jpg',\n",
       " 'data\\\\1048.jpg',\n",
       " 'data\\\\10480.jpg',\n",
       " 'data\\\\10481.jpg',\n",
       " 'data\\\\10482.jpg',\n",
       " 'data\\\\10483.jpg',\n",
       " 'data\\\\10484.jpg',\n",
       " 'data\\\\10485.jpg',\n",
       " 'data\\\\10486.jpg',\n",
       " 'data\\\\10487.jpg',\n",
       " 'data\\\\10488.jpg',\n",
       " 'data\\\\10489.jpg',\n",
       " 'data\\\\1049.jpg',\n",
       " 'data\\\\10490.jpg',\n",
       " 'data\\\\10491.jpg',\n",
       " 'data\\\\10492.jpg',\n",
       " 'data\\\\10493.jpg',\n",
       " 'data\\\\10494.jpg',\n",
       " 'data\\\\10495.jpg',\n",
       " 'data\\\\10496.jpg',\n",
       " 'data\\\\10497.jpg',\n",
       " 'data\\\\10498.jpg',\n",
       " 'data\\\\10499.jpg',\n",
       " 'data\\\\105.jpg',\n",
       " 'data\\\\1050.jpg',\n",
       " 'data\\\\10500.jpg',\n",
       " 'data\\\\10501.jpg',\n",
       " 'data\\\\10502.jpg',\n",
       " 'data\\\\10503.jpg',\n",
       " 'data\\\\10504.jpg',\n",
       " 'data\\\\10505.jpg',\n",
       " 'data\\\\10506.jpg',\n",
       " 'data\\\\10507.jpg',\n",
       " 'data\\\\10508.jpg',\n",
       " 'data\\\\10509.jpg',\n",
       " 'data\\\\1051.jpg',\n",
       " 'data\\\\10510.jpg',\n",
       " 'data\\\\10511.jpg',\n",
       " 'data\\\\10512.jpg',\n",
       " 'data\\\\10513.jpg',\n",
       " 'data\\\\10514.jpg',\n",
       " 'data\\\\10515.jpg',\n",
       " 'data\\\\10516.jpg',\n",
       " 'data\\\\10517.jpg',\n",
       " 'data\\\\10518.jpg',\n",
       " 'data\\\\10519.jpg',\n",
       " 'data\\\\1052.jpg',\n",
       " 'data\\\\10520.jpg',\n",
       " 'data\\\\10521.jpg',\n",
       " 'data\\\\10522.jpg',\n",
       " 'data\\\\10523.jpg',\n",
       " 'data\\\\10524.jpg',\n",
       " 'data\\\\10525.jpg',\n",
       " 'data\\\\10526.jpg',\n",
       " 'data\\\\10527.jpg',\n",
       " 'data\\\\10528.jpg',\n",
       " 'data\\\\10529.jpg',\n",
       " 'data\\\\1053.jpg',\n",
       " 'data\\\\10530.jpg',\n",
       " 'data\\\\10531.jpg',\n",
       " 'data\\\\10532.jpg',\n",
       " 'data\\\\10533.jpg',\n",
       " 'data\\\\10534.jpg',\n",
       " 'data\\\\10535.jpg',\n",
       " 'data\\\\10536.jpg',\n",
       " 'data\\\\10537.jpg',\n",
       " 'data\\\\10538.jpg',\n",
       " 'data\\\\10539.jpg',\n",
       " 'data\\\\1054.jpg',\n",
       " 'data\\\\10540.jpg',\n",
       " 'data\\\\10541.jpg',\n",
       " 'data\\\\10542.jpg',\n",
       " 'data\\\\10543.jpg',\n",
       " 'data\\\\10544.jpg',\n",
       " 'data\\\\10545.jpg',\n",
       " 'data\\\\10546.jpg',\n",
       " 'data\\\\10547.jpg',\n",
       " 'data\\\\10548.jpg',\n",
       " 'data\\\\10549.jpg',\n",
       " 'data\\\\1055.jpg',\n",
       " 'data\\\\10550.jpg',\n",
       " 'data\\\\10551.jpg',\n",
       " 'data\\\\10552.jpg',\n",
       " 'data\\\\10553.jpg',\n",
       " 'data\\\\10554.jpg',\n",
       " 'data\\\\10555.jpg',\n",
       " 'data\\\\10556.jpg',\n",
       " 'data\\\\10557.jpg',\n",
       " 'data\\\\10558.jpg',\n",
       " 'data\\\\10559.jpg',\n",
       " 'data\\\\1056.jpg',\n",
       " 'data\\\\10560.jpg',\n",
       " 'data\\\\10561.jpg',\n",
       " 'data\\\\10562.jpg',\n",
       " 'data\\\\10563.jpg',\n",
       " 'data\\\\10564.jpg',\n",
       " 'data\\\\10565.jpg',\n",
       " 'data\\\\10566.jpg',\n",
       " 'data\\\\10567.jpg',\n",
       " 'data\\\\10568.jpg',\n",
       " 'data\\\\10569.jpg',\n",
       " 'data\\\\1057.jpg',\n",
       " 'data\\\\10570.jpg',\n",
       " 'data\\\\10571.jpg',\n",
       " 'data\\\\10572.jpg',\n",
       " 'data\\\\10573.jpg',\n",
       " 'data\\\\10574.jpg',\n",
       " 'data\\\\10575.jpg',\n",
       " 'data\\\\10576.jpg',\n",
       " 'data\\\\10577.jpg',\n",
       " 'data\\\\10578.jpg',\n",
       " 'data\\\\10579.jpg',\n",
       " 'data\\\\1058.jpg',\n",
       " 'data\\\\10580.jpg',\n",
       " 'data\\\\10581.jpg',\n",
       " 'data\\\\10582.jpg',\n",
       " 'data\\\\10583.jpg',\n",
       " 'data\\\\10584.jpg',\n",
       " 'data\\\\10585.jpg',\n",
       " 'data\\\\10586.jpg',\n",
       " 'data\\\\10587.jpg',\n",
       " 'data\\\\10588.jpg',\n",
       " 'data\\\\10589.jpg',\n",
       " 'data\\\\1059.jpg',\n",
       " 'data\\\\10590.jpg',\n",
       " 'data\\\\10591.jpg',\n",
       " 'data\\\\10592.jpg',\n",
       " 'data\\\\10593.jpg',\n",
       " 'data\\\\10594.jpg',\n",
       " 'data\\\\10595.jpg',\n",
       " 'data\\\\10596.jpg',\n",
       " 'data\\\\10597.jpg',\n",
       " 'data\\\\10598.jpg',\n",
       " 'data\\\\10599.jpg',\n",
       " 'data\\\\106.jpg',\n",
       " 'data\\\\1060.jpg',\n",
       " 'data\\\\10600.jpg',\n",
       " 'data\\\\10601.jpg',\n",
       " 'data\\\\10602.jpg',\n",
       " 'data\\\\10603.jpg',\n",
       " 'data\\\\10604.jpg',\n",
       " 'data\\\\10605.jpg',\n",
       " 'data\\\\10606.jpg',\n",
       " 'data\\\\10607.jpg',\n",
       " 'data\\\\10608.jpg',\n",
       " 'data\\\\10609.jpg',\n",
       " 'data\\\\1061.jpg',\n",
       " 'data\\\\10610.jpg',\n",
       " 'data\\\\10611.jpg',\n",
       " 'data\\\\10612.jpg',\n",
       " 'data\\\\10613.jpg',\n",
       " 'data\\\\10614.jpg',\n",
       " 'data\\\\10615.jpg',\n",
       " 'data\\\\10616.jpg',\n",
       " 'data\\\\10617.jpg',\n",
       " 'data\\\\10618.jpg',\n",
       " 'data\\\\10619.jpg',\n",
       " 'data\\\\1062.jpg',\n",
       " 'data\\\\10620.jpg',\n",
       " 'data\\\\10621.jpg',\n",
       " 'data\\\\10622.jpg',\n",
       " 'data\\\\10623.jpg',\n",
       " 'data\\\\10624.jpg',\n",
       " 'data\\\\10625.jpg',\n",
       " 'data\\\\10626.jpg',\n",
       " 'data\\\\10627.jpg',\n",
       " 'data\\\\10628.jpg',\n",
       " 'data\\\\10629.jpg',\n",
       " 'data\\\\1063.jpg',\n",
       " 'data\\\\10630.jpg',\n",
       " 'data\\\\10631.jpg',\n",
       " 'data\\\\10632.jpg',\n",
       " 'data\\\\10633.jpg',\n",
       " 'data\\\\10634.jpg',\n",
       " 'data\\\\10635.jpg',\n",
       " 'data\\\\10636.jpg',\n",
       " 'data\\\\10637.jpg',\n",
       " 'data\\\\10638.jpg',\n",
       " 'data\\\\10639.jpg',\n",
       " 'data\\\\1064.jpg',\n",
       " 'data\\\\10640.jpg',\n",
       " 'data\\\\10641.jpg',\n",
       " 'data\\\\10642.jpg',\n",
       " 'data\\\\10643.jpg',\n",
       " 'data\\\\10644.jpg',\n",
       " 'data\\\\10645.jpg',\n",
       " 'data\\\\10646.jpg',\n",
       " 'data\\\\10647.jpg',\n",
       " 'data\\\\10648.jpg',\n",
       " 'data\\\\10649.jpg',\n",
       " 'data\\\\1065.jpg',\n",
       " 'data\\\\10650.jpg',\n",
       " 'data\\\\10651.jpg',\n",
       " 'data\\\\10652.jpg',\n",
       " 'data\\\\10653.jpg',\n",
       " 'data\\\\10654.jpg',\n",
       " 'data\\\\10655.jpg',\n",
       " 'data\\\\10656.jpg',\n",
       " 'data\\\\10657.jpg',\n",
       " 'data\\\\10658.jpg',\n",
       " 'data\\\\10659.jpg',\n",
       " 'data\\\\1066.jpg',\n",
       " 'data\\\\10660.jpg',\n",
       " 'data\\\\10661.jpg',\n",
       " 'data\\\\10662.jpg',\n",
       " 'data\\\\10663.jpg',\n",
       " 'data\\\\10664.jpg',\n",
       " 'data\\\\10665.jpg',\n",
       " 'data\\\\10666.jpg',\n",
       " 'data\\\\10667.jpg',\n",
       " 'data\\\\10668.jpg',\n",
       " 'data\\\\10669.jpg',\n",
       " 'data\\\\1067.jpg',\n",
       " 'data\\\\10670.jpg',\n",
       " 'data\\\\10671.jpg',\n",
       " 'data\\\\10672.jpg',\n",
       " 'data\\\\10673.jpg',\n",
       " 'data\\\\10674.jpg',\n",
       " 'data\\\\10675.jpg',\n",
       " 'data\\\\10676.jpg',\n",
       " 'data\\\\10677.jpg',\n",
       " 'data\\\\10678.jpg',\n",
       " 'data\\\\10679.jpg',\n",
       " 'data\\\\1068.jpg',\n",
       " 'data\\\\10680.jpg',\n",
       " 'data\\\\10681.jpg',\n",
       " 'data\\\\10682.jpg',\n",
       " 'data\\\\10683.jpg',\n",
       " 'data\\\\10684.jpg',\n",
       " 'data\\\\10685.jpg',\n",
       " 'data\\\\10686.jpg',\n",
       " 'data\\\\10687.jpg',\n",
       " 'data\\\\10688.jpg',\n",
       " 'data\\\\10689.jpg',\n",
       " 'data\\\\1069.jpg',\n",
       " 'data\\\\10690.jpg',\n",
       " 'data\\\\10691.jpg',\n",
       " 'data\\\\10692.jpg',\n",
       " 'data\\\\10693.jpg',\n",
       " 'data\\\\10694.jpg',\n",
       " 'data\\\\10695.jpg',\n",
       " 'data\\\\10696.jpg',\n",
       " 'data\\\\10697.jpg',\n",
       " 'data\\\\10698.jpg',\n",
       " 'data\\\\10699.jpg',\n",
       " 'data\\\\107.jpg',\n",
       " 'data\\\\1070.jpg',\n",
       " 'data\\\\10700.jpg',\n",
       " 'data\\\\10701.jpg',\n",
       " 'data\\\\10702.jpg',\n",
       " 'data\\\\10703.jpg',\n",
       " 'data\\\\10704.jpg',\n",
       " 'data\\\\10705.jpg',\n",
       " 'data\\\\10706.jpg',\n",
       " 'data\\\\10707.jpg',\n",
       " 'data\\\\10708.jpg',\n",
       " 'data\\\\10709.jpg',\n",
       " 'data\\\\1071.jpg',\n",
       " 'data\\\\10710.jpg',\n",
       " 'data\\\\10711.jpg',\n",
       " 'data\\\\10712.jpg',\n",
       " 'data\\\\10713.jpg',\n",
       " 'data\\\\10714.jpg',\n",
       " 'data\\\\10715.jpg',\n",
       " 'data\\\\10716.jpg',\n",
       " 'data\\\\10717.jpg',\n",
       " 'data\\\\10718.jpg',\n",
       " 'data\\\\10719.jpg',\n",
       " 'data\\\\1072.jpg',\n",
       " 'data\\\\10720.jpg',\n",
       " 'data\\\\10721.jpg',\n",
       " 'data\\\\10722.jpg',\n",
       " 'data\\\\10723.jpg',\n",
       " 'data\\\\10724.jpg',\n",
       " 'data\\\\10725.jpg',\n",
       " 'data\\\\10726.jpg',\n",
       " 'data\\\\10727.jpg',\n",
       " 'data\\\\10728.jpg',\n",
       " 'data\\\\10729.jpg',\n",
       " 'data\\\\1073.jpg',\n",
       " 'data\\\\10730.jpg',\n",
       " 'data\\\\10731.jpg',\n",
       " 'data\\\\10732.jpg',\n",
       " 'data\\\\10733.jpg',\n",
       " 'data\\\\10734.jpg',\n",
       " 'data\\\\10735.jpg',\n",
       " 'data\\\\10736.jpg',\n",
       " 'data\\\\10737.jpg',\n",
       " 'data\\\\10738.jpg',\n",
       " 'data\\\\10739.jpg',\n",
       " 'data\\\\1074.jpg',\n",
       " 'data\\\\10740.jpg',\n",
       " 'data\\\\10741.jpg',\n",
       " 'data\\\\10742.jpg',\n",
       " 'data\\\\10743.jpg',\n",
       " 'data\\\\10744.jpg',\n",
       " 'data\\\\10745.jpg',\n",
       " 'data\\\\10746.jpg',\n",
       " 'data\\\\10747.jpg',\n",
       " 'data\\\\10748.jpg',\n",
       " 'data\\\\10749.jpg',\n",
       " 'data\\\\1075.jpg',\n",
       " 'data\\\\10750.jpg',\n",
       " 'data\\\\10751.jpg',\n",
       " 'data\\\\10752.jpg',\n",
       " 'data\\\\10753.jpg',\n",
       " 'data\\\\10754.jpg',\n",
       " 'data\\\\10755.jpg',\n",
       " 'data\\\\10756.jpg',\n",
       " 'data\\\\10757.jpg',\n",
       " 'data\\\\10758.jpg',\n",
       " 'data\\\\10759.jpg',\n",
       " 'data\\\\1076.jpg',\n",
       " 'data\\\\10760.jpg',\n",
       " 'data\\\\10761.jpg',\n",
       " 'data\\\\10762.jpg',\n",
       " 'data\\\\10763.jpg',\n",
       " 'data\\\\10764.jpg',\n",
       " 'data\\\\10765.jpg',\n",
       " 'data\\\\10766.jpg',\n",
       " 'data\\\\10767.jpg',\n",
       " 'data\\\\10768.jpg',\n",
       " 'data\\\\10769.jpg',\n",
       " 'data\\\\1077.jpg',\n",
       " 'data\\\\10770.jpg',\n",
       " 'data\\\\10771.jpg',\n",
       " 'data\\\\10772.jpg',\n",
       " 'data\\\\10773.jpg',\n",
       " 'data\\\\10774.jpg',\n",
       " 'data\\\\10775.jpg',\n",
       " 'data\\\\10776.jpg',\n",
       " 'data\\\\10777.jpg',\n",
       " 'data\\\\10778.jpg',\n",
       " 'data\\\\10779.jpg',\n",
       " 'data\\\\1078.jpg',\n",
       " 'data\\\\10780.jpg',\n",
       " 'data\\\\10781.jpg',\n",
       " 'data\\\\10782.jpg',\n",
       " 'data\\\\10783.jpg',\n",
       " 'data\\\\10784.jpg',\n",
       " 'data\\\\10785.jpg',\n",
       " 'data\\\\10786.jpg',\n",
       " 'data\\\\10787.jpg',\n",
       " 'data\\\\10788.jpg',\n",
       " 'data\\\\10789.jpg',\n",
       " 'data\\\\1079.jpg',\n",
       " 'data\\\\10790.jpg',\n",
       " 'data\\\\10791.jpg',\n",
       " 'data\\\\10792.jpg',\n",
       " 'data\\\\10793.jpg',\n",
       " 'data\\\\10794.jpg',\n",
       " 'data\\\\10795.jpg',\n",
       " 'data\\\\10796.jpg',\n",
       " 'data\\\\10797.jpg',\n",
       " 'data\\\\10798.jpg',\n",
       " 'data\\\\10799.jpg',\n",
       " 'data\\\\108.jpg',\n",
       " 'data\\\\1080.jpg',\n",
       " 'data\\\\10800.jpg',\n",
       " 'data\\\\10801.jpg',\n",
       " 'data\\\\10802.jpg',\n",
       " 'data\\\\10803.jpg',\n",
       " 'data\\\\10804.jpg',\n",
       " 'data\\\\10805.jpg',\n",
       " 'data\\\\10806.jpg',\n",
       " 'data\\\\10807.jpg',\n",
       " 'data\\\\10808.jpg',\n",
       " 'data\\\\10809.jpg',\n",
       " 'data\\\\1081.jpg',\n",
       " 'data\\\\10810.jpg',\n",
       " 'data\\\\10811.jpg',\n",
       " 'data\\\\10812.jpg',\n",
       " 'data\\\\10813.jpg',\n",
       " 'data\\\\10814.jpg',\n",
       " 'data\\\\10815.jpg',\n",
       " 'data\\\\10816.jpg',\n",
       " 'data\\\\10817.jpg',\n",
       " 'data\\\\10818.jpg',\n",
       " 'data\\\\10819.jpg',\n",
       " 'data\\\\1082.jpg',\n",
       " 'data\\\\10820.jpg',\n",
       " 'data\\\\10821.jpg',\n",
       " 'data\\\\10822.jpg',\n",
       " 'data\\\\10823.jpg',\n",
       " 'data\\\\10824.jpg',\n",
       " 'data\\\\10825.jpg',\n",
       " 'data\\\\10826.jpg',\n",
       " 'data\\\\10827.jpg',\n",
       " 'data\\\\10828.jpg',\n",
       " 'data\\\\10829.jpg',\n",
       " 'data\\\\1083.jpg',\n",
       " 'data\\\\10830.jpg',\n",
       " 'data\\\\10831.jpg',\n",
       " 'data\\\\10832.jpg',\n",
       " 'data\\\\10833.jpg',\n",
       " 'data\\\\10834.jpg',\n",
       " 'data\\\\10835.jpg',\n",
       " 'data\\\\10836.jpg',\n",
       " 'data\\\\10837.jpg',\n",
       " 'data\\\\10838.jpg',\n",
       " 'data\\\\10839.jpg',\n",
       " 'data\\\\1084.jpg',\n",
       " 'data\\\\10840.jpg',\n",
       " 'data\\\\10841.jpg',\n",
       " 'data\\\\10842.jpg',\n",
       " 'data\\\\10843.jpg',\n",
       " 'data\\\\10844.jpg',\n",
       " 'data\\\\10845.jpg',\n",
       " 'data\\\\10846.jpg',\n",
       " 'data\\\\10847.jpg',\n",
       " 'data\\\\10848.jpg',\n",
       " 'data\\\\10849.jpg',\n",
       " 'data\\\\1085.jpg',\n",
       " 'data\\\\10850.jpg',\n",
       " 'data\\\\10851.jpg',\n",
       " 'data\\\\10852.jpg',\n",
       " 'data\\\\10853.jpg',\n",
       " 'data\\\\10854.jpg',\n",
       " 'data\\\\10855.jpg',\n",
       " 'data\\\\10856.jpg',\n",
       " 'data\\\\10857.jpg',\n",
       " 'data\\\\10858.jpg',\n",
       " 'data\\\\10859.jpg',\n",
       " 'data\\\\1086.jpg',\n",
       " 'data\\\\10860.jpg',\n",
       " 'data\\\\10861.jpg',\n",
       " 'data\\\\10862.jpg',\n",
       " 'data\\\\10863.jpg',\n",
       " 'data\\\\10864.jpg',\n",
       " 'data\\\\10865.jpg',\n",
       " 'data\\\\10866.jpg',\n",
       " 'data\\\\10867.jpg',\n",
       " 'data\\\\10868.jpg',\n",
       " 'data\\\\10869.jpg',\n",
       " 'data\\\\1087.jpg',\n",
       " 'data\\\\10870.jpg',\n",
       " 'data\\\\10871.jpg',\n",
       " 'data\\\\10872.jpg',\n",
       " 'data\\\\10873.jpg',\n",
       " 'data\\\\10874.jpg',\n",
       " 'data\\\\10875.jpg',\n",
       " 'data\\\\10876.jpg',\n",
       " 'data\\\\10877.jpg',\n",
       " 'data\\\\10878.jpg',\n",
       " 'data\\\\10879.jpg',\n",
       " 'data\\\\1088.jpg',\n",
       " 'data\\\\10880.jpg',\n",
       " 'data\\\\10881.jpg',\n",
       " 'data\\\\10882.jpg',\n",
       " 'data\\\\10883.jpg',\n",
       " 'data\\\\10884.jpg',\n",
       " 'data\\\\10885.jpg',\n",
       " 'data\\\\10886.jpg',\n",
       " 'data\\\\10887.jpg',\n",
       " 'data\\\\10888.jpg',\n",
       " 'data\\\\10889.jpg',\n",
       " 'data\\\\1089.jpg',\n",
       " 'data\\\\10890.jpg',\n",
       " 'data\\\\10891.jpg',\n",
       " 'data\\\\10892.jpg',\n",
       " 'data\\\\10893.jpg',\n",
       " 'data\\\\10894.jpg',\n",
       " 'data\\\\10895.jpg',\n",
       " 'data\\\\10896.jpg',\n",
       " 'data\\\\10897.jpg',\n",
       " 'data\\\\10898.jpg',\n",
       " ...]"
      ]
     },
     "execution_count": 213,
     "metadata": {},
     "output_type": "execute_result"
    }
   ],
   "source": [
    "test_generator.filenames"
   ]
  },
  {
   "cell_type": "code",
   "execution_count": 214,
   "id": "771c1f15",
   "metadata": {},
   "outputs": [
    {
     "data": {
      "text/plain": [
       "'data\\\\1.jpg'"
      ]
     },
     "execution_count": 214,
     "metadata": {},
     "output_type": "execute_result"
    }
   ],
   "source": [
    "test_generator.filenames[0]"
   ]
  },
  {
   "cell_type": "code",
   "execution_count": 221,
   "id": "5a5c170b",
   "metadata": {},
   "outputs": [],
   "source": [
    "import re\n",
    "regex = re.compile(r'\\d+')"
   ]
  },
  {
   "cell_type": "code",
   "execution_count": 229,
   "id": "c306efc2",
   "metadata": {},
   "outputs": [],
   "source": [
    "#Get Image ID associated with each file from the file name\n",
    "image_id_list = []\n",
    "\n",
    "for i in range(0,12500):\n",
    "    xx = [int(x) for x in regex.findall(test_generator.filenames[i])]\n",
    "    image_id_list.append(xx)"
   ]
  },
  {
   "cell_type": "code",
   "execution_count": 230,
   "id": "30b5c808",
   "metadata": {},
   "outputs": [
    {
     "data": {
      "text/plain": [
       "[[1],\n",
       " [10],\n",
       " [100],\n",
       " [1000],\n",
       " [10000],\n",
       " [10001],\n",
       " [10002],\n",
       " [10003],\n",
       " [10004],\n",
       " [10005],\n",
       " [10006],\n",
       " [10007],\n",
       " [10008],\n",
       " [10009],\n",
       " [1001],\n",
       " [10010],\n",
       " [10011],\n",
       " [10012],\n",
       " [10013],\n",
       " [10014],\n",
       " [10015],\n",
       " [10016],\n",
       " [10017],\n",
       " [10018],\n",
       " [10019],\n",
       " [1002],\n",
       " [10020],\n",
       " [10021],\n",
       " [10022],\n",
       " [10023],\n",
       " [10024],\n",
       " [10025],\n",
       " [10026],\n",
       " [10027],\n",
       " [10028],\n",
       " [10029],\n",
       " [1003],\n",
       " [10030],\n",
       " [10031],\n",
       " [10032],\n",
       " [10033],\n",
       " [10034],\n",
       " [10035],\n",
       " [10036],\n",
       " [10037],\n",
       " [10038],\n",
       " [10039],\n",
       " [1004],\n",
       " [10040],\n",
       " [10041],\n",
       " [10042],\n",
       " [10043],\n",
       " [10044],\n",
       " [10045],\n",
       " [10046],\n",
       " [10047],\n",
       " [10048],\n",
       " [10049],\n",
       " [1005],\n",
       " [10050],\n",
       " [10051],\n",
       " [10052],\n",
       " [10053],\n",
       " [10054],\n",
       " [10055],\n",
       " [10056],\n",
       " [10057],\n",
       " [10058],\n",
       " [10059],\n",
       " [1006],\n",
       " [10060],\n",
       " [10061],\n",
       " [10062],\n",
       " [10063],\n",
       " [10064],\n",
       " [10065],\n",
       " [10066],\n",
       " [10067],\n",
       " [10068],\n",
       " [10069],\n",
       " [1007],\n",
       " [10070],\n",
       " [10071],\n",
       " [10072],\n",
       " [10073],\n",
       " [10074],\n",
       " [10075],\n",
       " [10076],\n",
       " [10077],\n",
       " [10078],\n",
       " [10079],\n",
       " [1008],\n",
       " [10080],\n",
       " [10081],\n",
       " [10082],\n",
       " [10083],\n",
       " [10084],\n",
       " [10085],\n",
       " [10086],\n",
       " [10087],\n",
       " [10088],\n",
       " [10089],\n",
       " [1009],\n",
       " [10090],\n",
       " [10091],\n",
       " [10092],\n",
       " [10093],\n",
       " [10094],\n",
       " [10095],\n",
       " [10096],\n",
       " [10097],\n",
       " [10098],\n",
       " [10099],\n",
       " [101],\n",
       " [1010],\n",
       " [10100],\n",
       " [10101],\n",
       " [10102],\n",
       " [10103],\n",
       " [10104],\n",
       " [10105],\n",
       " [10106],\n",
       " [10107],\n",
       " [10108],\n",
       " [10109],\n",
       " [1011],\n",
       " [10110],\n",
       " [10111],\n",
       " [10112],\n",
       " [10113],\n",
       " [10114],\n",
       " [10115],\n",
       " [10116],\n",
       " [10117],\n",
       " [10118],\n",
       " [10119],\n",
       " [1012],\n",
       " [10120],\n",
       " [10121],\n",
       " [10122],\n",
       " [10123],\n",
       " [10124],\n",
       " [10125],\n",
       " [10126],\n",
       " [10127],\n",
       " [10128],\n",
       " [10129],\n",
       " [1013],\n",
       " [10130],\n",
       " [10131],\n",
       " [10132],\n",
       " [10133],\n",
       " [10134],\n",
       " [10135],\n",
       " [10136],\n",
       " [10137],\n",
       " [10138],\n",
       " [10139],\n",
       " [1014],\n",
       " [10140],\n",
       " [10141],\n",
       " [10142],\n",
       " [10143],\n",
       " [10144],\n",
       " [10145],\n",
       " [10146],\n",
       " [10147],\n",
       " [10148],\n",
       " [10149],\n",
       " [1015],\n",
       " [10150],\n",
       " [10151],\n",
       " [10152],\n",
       " [10153],\n",
       " [10154],\n",
       " [10155],\n",
       " [10156],\n",
       " [10157],\n",
       " [10158],\n",
       " [10159],\n",
       " [1016],\n",
       " [10160],\n",
       " [10161],\n",
       " [10162],\n",
       " [10163],\n",
       " [10164],\n",
       " [10165],\n",
       " [10166],\n",
       " [10167],\n",
       " [10168],\n",
       " [10169],\n",
       " [1017],\n",
       " [10170],\n",
       " [10171],\n",
       " [10172],\n",
       " [10173],\n",
       " [10174],\n",
       " [10175],\n",
       " [10176],\n",
       " [10177],\n",
       " [10178],\n",
       " [10179],\n",
       " [1018],\n",
       " [10180],\n",
       " [10181],\n",
       " [10182],\n",
       " [10183],\n",
       " [10184],\n",
       " [10185],\n",
       " [10186],\n",
       " [10187],\n",
       " [10188],\n",
       " [10189],\n",
       " [1019],\n",
       " [10190],\n",
       " [10191],\n",
       " [10192],\n",
       " [10193],\n",
       " [10194],\n",
       " [10195],\n",
       " [10196],\n",
       " [10197],\n",
       " [10198],\n",
       " [10199],\n",
       " [102],\n",
       " [1020],\n",
       " [10200],\n",
       " [10201],\n",
       " [10202],\n",
       " [10203],\n",
       " [10204],\n",
       " [10205],\n",
       " [10206],\n",
       " [10207],\n",
       " [10208],\n",
       " [10209],\n",
       " [1021],\n",
       " [10210],\n",
       " [10211],\n",
       " [10212],\n",
       " [10213],\n",
       " [10214],\n",
       " [10215],\n",
       " [10216],\n",
       " [10217],\n",
       " [10218],\n",
       " [10219],\n",
       " [1022],\n",
       " [10220],\n",
       " [10221],\n",
       " [10222],\n",
       " [10223],\n",
       " [10224],\n",
       " [10225],\n",
       " [10226],\n",
       " [10227],\n",
       " [10228],\n",
       " [10229],\n",
       " [1023],\n",
       " [10230],\n",
       " [10231],\n",
       " [10232],\n",
       " [10233],\n",
       " [10234],\n",
       " [10235],\n",
       " [10236],\n",
       " [10237],\n",
       " [10238],\n",
       " [10239],\n",
       " [1024],\n",
       " [10240],\n",
       " [10241],\n",
       " [10242],\n",
       " [10243],\n",
       " [10244],\n",
       " [10245],\n",
       " [10246],\n",
       " [10247],\n",
       " [10248],\n",
       " [10249],\n",
       " [1025],\n",
       " [10250],\n",
       " [10251],\n",
       " [10252],\n",
       " [10253],\n",
       " [10254],\n",
       " [10255],\n",
       " [10256],\n",
       " [10257],\n",
       " [10258],\n",
       " [10259],\n",
       " [1026],\n",
       " [10260],\n",
       " [10261],\n",
       " [10262],\n",
       " [10263],\n",
       " [10264],\n",
       " [10265],\n",
       " [10266],\n",
       " [10267],\n",
       " [10268],\n",
       " [10269],\n",
       " [1027],\n",
       " [10270],\n",
       " [10271],\n",
       " [10272],\n",
       " [10273],\n",
       " [10274],\n",
       " [10275],\n",
       " [10276],\n",
       " [10277],\n",
       " [10278],\n",
       " [10279],\n",
       " [1028],\n",
       " [10280],\n",
       " [10281],\n",
       " [10282],\n",
       " [10283],\n",
       " [10284],\n",
       " [10285],\n",
       " [10286],\n",
       " [10287],\n",
       " [10288],\n",
       " [10289],\n",
       " [1029],\n",
       " [10290],\n",
       " [10291],\n",
       " [10292],\n",
       " [10293],\n",
       " [10294],\n",
       " [10295],\n",
       " [10296],\n",
       " [10297],\n",
       " [10298],\n",
       " [10299],\n",
       " [103],\n",
       " [1030],\n",
       " [10300],\n",
       " [10301],\n",
       " [10302],\n",
       " [10303],\n",
       " [10304],\n",
       " [10305],\n",
       " [10306],\n",
       " [10307],\n",
       " [10308],\n",
       " [10309],\n",
       " [1031],\n",
       " [10310],\n",
       " [10311],\n",
       " [10312],\n",
       " [10313],\n",
       " [10314],\n",
       " [10315],\n",
       " [10316],\n",
       " [10317],\n",
       " [10318],\n",
       " [10319],\n",
       " [1032],\n",
       " [10320],\n",
       " [10321],\n",
       " [10322],\n",
       " [10323],\n",
       " [10324],\n",
       " [10325],\n",
       " [10326],\n",
       " [10327],\n",
       " [10328],\n",
       " [10329],\n",
       " [1033],\n",
       " [10330],\n",
       " [10331],\n",
       " [10332],\n",
       " [10333],\n",
       " [10334],\n",
       " [10335],\n",
       " [10336],\n",
       " [10337],\n",
       " [10338],\n",
       " [10339],\n",
       " [1034],\n",
       " [10340],\n",
       " [10341],\n",
       " [10342],\n",
       " [10343],\n",
       " [10344],\n",
       " [10345],\n",
       " [10346],\n",
       " [10347],\n",
       " [10348],\n",
       " [10349],\n",
       " [1035],\n",
       " [10350],\n",
       " [10351],\n",
       " [10352],\n",
       " [10353],\n",
       " [10354],\n",
       " [10355],\n",
       " [10356],\n",
       " [10357],\n",
       " [10358],\n",
       " [10359],\n",
       " [1036],\n",
       " [10360],\n",
       " [10361],\n",
       " [10362],\n",
       " [10363],\n",
       " [10364],\n",
       " [10365],\n",
       " [10366],\n",
       " [10367],\n",
       " [10368],\n",
       " [10369],\n",
       " [1037],\n",
       " [10370],\n",
       " [10371],\n",
       " [10372],\n",
       " [10373],\n",
       " [10374],\n",
       " [10375],\n",
       " [10376],\n",
       " [10377],\n",
       " [10378],\n",
       " [10379],\n",
       " [1038],\n",
       " [10380],\n",
       " [10381],\n",
       " [10382],\n",
       " [10383],\n",
       " [10384],\n",
       " [10385],\n",
       " [10386],\n",
       " [10387],\n",
       " [10388],\n",
       " [10389],\n",
       " [1039],\n",
       " [10390],\n",
       " [10391],\n",
       " [10392],\n",
       " [10393],\n",
       " [10394],\n",
       " [10395],\n",
       " [10396],\n",
       " [10397],\n",
       " [10398],\n",
       " [10399],\n",
       " [104],\n",
       " [1040],\n",
       " [10400],\n",
       " [10401],\n",
       " [10402],\n",
       " [10403],\n",
       " [10404],\n",
       " [10405],\n",
       " [10406],\n",
       " [10407],\n",
       " [10408],\n",
       " [10409],\n",
       " [1041],\n",
       " [10410],\n",
       " [10411],\n",
       " [10412],\n",
       " [10413],\n",
       " [10414],\n",
       " [10415],\n",
       " [10416],\n",
       " [10417],\n",
       " [10418],\n",
       " [10419],\n",
       " [1042],\n",
       " [10420],\n",
       " [10421],\n",
       " [10422],\n",
       " [10423],\n",
       " [10424],\n",
       " [10425],\n",
       " [10426],\n",
       " [10427],\n",
       " [10428],\n",
       " [10429],\n",
       " [1043],\n",
       " [10430],\n",
       " [10431],\n",
       " [10432],\n",
       " [10433],\n",
       " [10434],\n",
       " [10435],\n",
       " [10436],\n",
       " [10437],\n",
       " [10438],\n",
       " [10439],\n",
       " [1044],\n",
       " [10440],\n",
       " [10441],\n",
       " [10442],\n",
       " [10443],\n",
       " [10444],\n",
       " [10445],\n",
       " [10446],\n",
       " [10447],\n",
       " [10448],\n",
       " [10449],\n",
       " [1045],\n",
       " [10450],\n",
       " [10451],\n",
       " [10452],\n",
       " [10453],\n",
       " [10454],\n",
       " [10455],\n",
       " [10456],\n",
       " [10457],\n",
       " [10458],\n",
       " [10459],\n",
       " [1046],\n",
       " [10460],\n",
       " [10461],\n",
       " [10462],\n",
       " [10463],\n",
       " [10464],\n",
       " [10465],\n",
       " [10466],\n",
       " [10467],\n",
       " [10468],\n",
       " [10469],\n",
       " [1047],\n",
       " [10470],\n",
       " [10471],\n",
       " [10472],\n",
       " [10473],\n",
       " [10474],\n",
       " [10475],\n",
       " [10476],\n",
       " [10477],\n",
       " [10478],\n",
       " [10479],\n",
       " [1048],\n",
       " [10480],\n",
       " [10481],\n",
       " [10482],\n",
       " [10483],\n",
       " [10484],\n",
       " [10485],\n",
       " [10486],\n",
       " [10487],\n",
       " [10488],\n",
       " [10489],\n",
       " [1049],\n",
       " [10490],\n",
       " [10491],\n",
       " [10492],\n",
       " [10493],\n",
       " [10494],\n",
       " [10495],\n",
       " [10496],\n",
       " [10497],\n",
       " [10498],\n",
       " [10499],\n",
       " [105],\n",
       " [1050],\n",
       " [10500],\n",
       " [10501],\n",
       " [10502],\n",
       " [10503],\n",
       " [10504],\n",
       " [10505],\n",
       " [10506],\n",
       " [10507],\n",
       " [10508],\n",
       " [10509],\n",
       " [1051],\n",
       " [10510],\n",
       " [10511],\n",
       " [10512],\n",
       " [10513],\n",
       " [10514],\n",
       " [10515],\n",
       " [10516],\n",
       " [10517],\n",
       " [10518],\n",
       " [10519],\n",
       " [1052],\n",
       " [10520],\n",
       " [10521],\n",
       " [10522],\n",
       " [10523],\n",
       " [10524],\n",
       " [10525],\n",
       " [10526],\n",
       " [10527],\n",
       " [10528],\n",
       " [10529],\n",
       " [1053],\n",
       " [10530],\n",
       " [10531],\n",
       " [10532],\n",
       " [10533],\n",
       " [10534],\n",
       " [10535],\n",
       " [10536],\n",
       " [10537],\n",
       " [10538],\n",
       " [10539],\n",
       " [1054],\n",
       " [10540],\n",
       " [10541],\n",
       " [10542],\n",
       " [10543],\n",
       " [10544],\n",
       " [10545],\n",
       " [10546],\n",
       " [10547],\n",
       " [10548],\n",
       " [10549],\n",
       " [1055],\n",
       " [10550],\n",
       " [10551],\n",
       " [10552],\n",
       " [10553],\n",
       " [10554],\n",
       " [10555],\n",
       " [10556],\n",
       " [10557],\n",
       " [10558],\n",
       " [10559],\n",
       " [1056],\n",
       " [10560],\n",
       " [10561],\n",
       " [10562],\n",
       " [10563],\n",
       " [10564],\n",
       " [10565],\n",
       " [10566],\n",
       " [10567],\n",
       " [10568],\n",
       " [10569],\n",
       " [1057],\n",
       " [10570],\n",
       " [10571],\n",
       " [10572],\n",
       " [10573],\n",
       " [10574],\n",
       " [10575],\n",
       " [10576],\n",
       " [10577],\n",
       " [10578],\n",
       " [10579],\n",
       " [1058],\n",
       " [10580],\n",
       " [10581],\n",
       " [10582],\n",
       " [10583],\n",
       " [10584],\n",
       " [10585],\n",
       " [10586],\n",
       " [10587],\n",
       " [10588],\n",
       " [10589],\n",
       " [1059],\n",
       " [10590],\n",
       " [10591],\n",
       " [10592],\n",
       " [10593],\n",
       " [10594],\n",
       " [10595],\n",
       " [10596],\n",
       " [10597],\n",
       " [10598],\n",
       " [10599],\n",
       " [106],\n",
       " [1060],\n",
       " [10600],\n",
       " [10601],\n",
       " [10602],\n",
       " [10603],\n",
       " [10604],\n",
       " [10605],\n",
       " [10606],\n",
       " [10607],\n",
       " [10608],\n",
       " [10609],\n",
       " [1061],\n",
       " [10610],\n",
       " [10611],\n",
       " [10612],\n",
       " [10613],\n",
       " [10614],\n",
       " [10615],\n",
       " [10616],\n",
       " [10617],\n",
       " [10618],\n",
       " [10619],\n",
       " [1062],\n",
       " [10620],\n",
       " [10621],\n",
       " [10622],\n",
       " [10623],\n",
       " [10624],\n",
       " [10625],\n",
       " [10626],\n",
       " [10627],\n",
       " [10628],\n",
       " [10629],\n",
       " [1063],\n",
       " [10630],\n",
       " [10631],\n",
       " [10632],\n",
       " [10633],\n",
       " [10634],\n",
       " [10635],\n",
       " [10636],\n",
       " [10637],\n",
       " [10638],\n",
       " [10639],\n",
       " [1064],\n",
       " [10640],\n",
       " [10641],\n",
       " [10642],\n",
       " [10643],\n",
       " [10644],\n",
       " [10645],\n",
       " [10646],\n",
       " [10647],\n",
       " [10648],\n",
       " [10649],\n",
       " [1065],\n",
       " [10650],\n",
       " [10651],\n",
       " [10652],\n",
       " [10653],\n",
       " [10654],\n",
       " [10655],\n",
       " [10656],\n",
       " [10657],\n",
       " [10658],\n",
       " [10659],\n",
       " [1066],\n",
       " [10660],\n",
       " [10661],\n",
       " [10662],\n",
       " [10663],\n",
       " [10664],\n",
       " [10665],\n",
       " [10666],\n",
       " [10667],\n",
       " [10668],\n",
       " [10669],\n",
       " [1067],\n",
       " [10670],\n",
       " [10671],\n",
       " [10672],\n",
       " [10673],\n",
       " [10674],\n",
       " [10675],\n",
       " [10676],\n",
       " [10677],\n",
       " [10678],\n",
       " [10679],\n",
       " [1068],\n",
       " [10680],\n",
       " [10681],\n",
       " [10682],\n",
       " [10683],\n",
       " [10684],\n",
       " [10685],\n",
       " [10686],\n",
       " [10687],\n",
       " [10688],\n",
       " [10689],\n",
       " [1069],\n",
       " [10690],\n",
       " [10691],\n",
       " [10692],\n",
       " [10693],\n",
       " [10694],\n",
       " [10695],\n",
       " [10696],\n",
       " [10697],\n",
       " [10698],\n",
       " [10699],\n",
       " [107],\n",
       " [1070],\n",
       " [10700],\n",
       " [10701],\n",
       " [10702],\n",
       " [10703],\n",
       " [10704],\n",
       " [10705],\n",
       " [10706],\n",
       " [10707],\n",
       " [10708],\n",
       " [10709],\n",
       " [1071],\n",
       " [10710],\n",
       " [10711],\n",
       " [10712],\n",
       " [10713],\n",
       " [10714],\n",
       " [10715],\n",
       " [10716],\n",
       " [10717],\n",
       " [10718],\n",
       " [10719],\n",
       " [1072],\n",
       " [10720],\n",
       " [10721],\n",
       " [10722],\n",
       " [10723],\n",
       " [10724],\n",
       " [10725],\n",
       " [10726],\n",
       " [10727],\n",
       " [10728],\n",
       " [10729],\n",
       " [1073],\n",
       " [10730],\n",
       " [10731],\n",
       " [10732],\n",
       " [10733],\n",
       " [10734],\n",
       " [10735],\n",
       " [10736],\n",
       " [10737],\n",
       " [10738],\n",
       " [10739],\n",
       " [1074],\n",
       " [10740],\n",
       " [10741],\n",
       " [10742],\n",
       " [10743],\n",
       " [10744],\n",
       " [10745],\n",
       " [10746],\n",
       " [10747],\n",
       " [10748],\n",
       " [10749],\n",
       " [1075],\n",
       " [10750],\n",
       " [10751],\n",
       " [10752],\n",
       " [10753],\n",
       " [10754],\n",
       " [10755],\n",
       " [10756],\n",
       " [10757],\n",
       " [10758],\n",
       " [10759],\n",
       " [1076],\n",
       " [10760],\n",
       " [10761],\n",
       " [10762],\n",
       " [10763],\n",
       " [10764],\n",
       " [10765],\n",
       " [10766],\n",
       " [10767],\n",
       " [10768],\n",
       " [10769],\n",
       " [1077],\n",
       " [10770],\n",
       " [10771],\n",
       " [10772],\n",
       " [10773],\n",
       " [10774],\n",
       " [10775],\n",
       " [10776],\n",
       " [10777],\n",
       " [10778],\n",
       " [10779],\n",
       " [1078],\n",
       " [10780],\n",
       " [10781],\n",
       " [10782],\n",
       " [10783],\n",
       " [10784],\n",
       " [10785],\n",
       " [10786],\n",
       " [10787],\n",
       " [10788],\n",
       " [10789],\n",
       " [1079],\n",
       " [10790],\n",
       " [10791],\n",
       " [10792],\n",
       " [10793],\n",
       " [10794],\n",
       " [10795],\n",
       " [10796],\n",
       " [10797],\n",
       " [10798],\n",
       " [10799],\n",
       " [108],\n",
       " [1080],\n",
       " [10800],\n",
       " [10801],\n",
       " [10802],\n",
       " [10803],\n",
       " [10804],\n",
       " [10805],\n",
       " [10806],\n",
       " [10807],\n",
       " [10808],\n",
       " [10809],\n",
       " [1081],\n",
       " [10810],\n",
       " [10811],\n",
       " [10812],\n",
       " [10813],\n",
       " [10814],\n",
       " [10815],\n",
       " [10816],\n",
       " [10817],\n",
       " [10818],\n",
       " [10819],\n",
       " [1082],\n",
       " [10820],\n",
       " [10821],\n",
       " [10822],\n",
       " [10823],\n",
       " [10824],\n",
       " [10825],\n",
       " [10826],\n",
       " [10827],\n",
       " [10828],\n",
       " [10829],\n",
       " [1083],\n",
       " [10830],\n",
       " [10831],\n",
       " [10832],\n",
       " [10833],\n",
       " [10834],\n",
       " [10835],\n",
       " [10836],\n",
       " [10837],\n",
       " [10838],\n",
       " [10839],\n",
       " [1084],\n",
       " [10840],\n",
       " [10841],\n",
       " [10842],\n",
       " [10843],\n",
       " [10844],\n",
       " [10845],\n",
       " [10846],\n",
       " [10847],\n",
       " [10848],\n",
       " [10849],\n",
       " [1085],\n",
       " [10850],\n",
       " [10851],\n",
       " [10852],\n",
       " [10853],\n",
       " [10854],\n",
       " [10855],\n",
       " [10856],\n",
       " [10857],\n",
       " [10858],\n",
       " [10859],\n",
       " [1086],\n",
       " [10860],\n",
       " [10861],\n",
       " [10862],\n",
       " [10863],\n",
       " [10864],\n",
       " [10865],\n",
       " [10866],\n",
       " [10867],\n",
       " [10868],\n",
       " [10869],\n",
       " [1087],\n",
       " [10870],\n",
       " [10871],\n",
       " [10872],\n",
       " [10873],\n",
       " [10874],\n",
       " [10875],\n",
       " [10876],\n",
       " [10877],\n",
       " [10878],\n",
       " [10879],\n",
       " [1088],\n",
       " [10880],\n",
       " [10881],\n",
       " [10882],\n",
       " [10883],\n",
       " [10884],\n",
       " [10885],\n",
       " [10886],\n",
       " [10887],\n",
       " [10888],\n",
       " [10889],\n",
       " [1089],\n",
       " [10890],\n",
       " [10891],\n",
       " [10892],\n",
       " [10893],\n",
       " [10894],\n",
       " [10895],\n",
       " [10896],\n",
       " [10897],\n",
       " [10898],\n",
       " ...]"
      ]
     },
     "execution_count": 230,
     "metadata": {},
     "output_type": "execute_result"
    }
   ],
   "source": [
    "image_id_list"
   ]
  },
  {
   "cell_type": "code",
   "execution_count": 173,
   "id": "ce6dacde",
   "metadata": {},
   "outputs": [],
   "source": [
    "test_images = test_generator"
   ]
  },
  {
   "cell_type": "code",
   "execution_count": 132,
   "id": "bb2dc48a",
   "metadata": {},
   "outputs": [],
   "source": [
    "test_predictions = model.predict(x=test_generator, steps=12500, verbose=0)"
   ]
  },
  {
   "cell_type": "code",
   "execution_count": 133,
   "id": "d6f24494",
   "metadata": {},
   "outputs": [
    {
     "data": {
      "text/plain": [
       "(12500, 2)"
      ]
     },
     "execution_count": 133,
     "metadata": {},
     "output_type": "execute_result"
    }
   ],
   "source": [
    "test_predictions.shape"
   ]
  },
  {
   "cell_type": "code",
   "execution_count": 188,
   "id": "4e91f0ee",
   "metadata": {},
   "outputs": [
    {
     "data": {
      "text/plain": [
       "array([0.00158545, 0.9984145 ], dtype=float32)"
      ]
     },
     "execution_count": 188,
     "metadata": {},
     "output_type": "execute_result"
    }
   ],
   "source": [
    "test_predictions[0]"
   ]
  },
  {
   "cell_type": "code",
   "execution_count": 164,
   "id": "7122db96",
   "metadata": {},
   "outputs": [],
   "source": [
    "pred1=np.argmax(test_predictions, axis=-1)"
   ]
  },
  {
   "cell_type": "code",
   "execution_count": 167,
   "id": "64de83fd",
   "metadata": {},
   "outputs": [
    {
     "data": {
      "text/plain": [
       "array([1, 0, 0, 1, 1, 0, 0, 1, 1, 0, 0, 0, 0, 0, 0, 1, 1, 0, 0, 0],\n",
       "      dtype=int64)"
      ]
     },
     "execution_count": 167,
     "metadata": {},
     "output_type": "execute_result"
    }
   ],
   "source": [
    "pred1[0:20]"
   ]
  },
  {
   "cell_type": "code",
   "execution_count": 236,
   "id": "ede0ec75",
   "metadata": {},
   "outputs": [
    {
     "data": {
      "text/html": [
       "<div>\n",
       "<style scoped>\n",
       "    .dataframe tbody tr th:only-of-type {\n",
       "        vertical-align: middle;\n",
       "    }\n",
       "\n",
       "    .dataframe tbody tr th {\n",
       "        vertical-align: top;\n",
       "    }\n",
       "\n",
       "    .dataframe thead th {\n",
       "        text-align: right;\n",
       "    }\n",
       "</style>\n",
       "<table border=\"1\" class=\"dataframe\">\n",
       "  <thead>\n",
       "    <tr style=\"text-align: right;\">\n",
       "      <th></th>\n",
       "      <th>id</th>\n",
       "      <th>label</th>\n",
       "    </tr>\n",
       "  </thead>\n",
       "  <tbody>\n",
       "    <tr>\n",
       "      <th>0</th>\n",
       "      <td>1</td>\n",
       "      <td>1</td>\n",
       "    </tr>\n",
       "    <tr>\n",
       "      <th>3612</th>\n",
       "      <td>2</td>\n",
       "      <td>1</td>\n",
       "    </tr>\n",
       "    <tr>\n",
       "      <th>4723</th>\n",
       "      <td>3</td>\n",
       "      <td>1</td>\n",
       "    </tr>\n",
       "    <tr>\n",
       "      <th>5834</th>\n",
       "      <td>4</td>\n",
       "      <td>1</td>\n",
       "    </tr>\n",
       "    <tr>\n",
       "      <th>6945</th>\n",
       "      <td>5</td>\n",
       "      <td>0</td>\n",
       "    </tr>\n",
       "  </tbody>\n",
       "</table>\n",
       "</div>"
      ],
      "text/plain": [
       "      id  label\n",
       "0      1      1\n",
       "3612   2      1\n",
       "4723   3      1\n",
       "5834   4      1\n",
       "6945   5      0"
      ]
     },
     "execution_count": 236,
     "metadata": {},
     "output_type": "execute_result"
    },
    {
     "data": {
      "text/plain": [
       "(12500, 2)"
      ]
     },
     "execution_count": 236,
     "metadata": {},
     "output_type": "execute_result"
    }
   ],
   "source": [
    "\n",
    "\n",
    "submit = pd.DataFrame()\n",
    "\n",
    "submit['id'] = image_id_list\n",
    "submit['id'] = submit['id'].str.get(0)\n",
    "submit['label'] = pred1  #invert prediction\n",
    "\n",
    "#sort by id\n",
    "submit = submit.sort_values(by=['id'], ascending=True)\n",
    "\n",
    "submit.to_csv('submission1.csv',index=False)\n",
    "\n",
    "submit.head()\n",
    "\n",
    "submit.shape"
   ]
  },
  {
   "cell_type": "code",
   "execution_count": 238,
   "id": "220060c6",
   "metadata": {},
   "outputs": [
    {
     "data": {
      "text/html": [
       "<div>\n",
       "<style scoped>\n",
       "    .dataframe tbody tr th:only-of-type {\n",
       "        vertical-align: middle;\n",
       "    }\n",
       "\n",
       "    .dataframe tbody tr th {\n",
       "        vertical-align: top;\n",
       "    }\n",
       "\n",
       "    .dataframe thead th {\n",
       "        text-align: right;\n",
       "    }\n",
       "</style>\n",
       "<table border=\"1\" class=\"dataframe\">\n",
       "  <thead>\n",
       "    <tr style=\"text-align: right;\">\n",
       "      <th></th>\n",
       "      <th>id</th>\n",
       "      <th>label</th>\n",
       "    </tr>\n",
       "  </thead>\n",
       "  <tbody>\n",
       "    <tr>\n",
       "      <th>0</th>\n",
       "      <td>1</td>\n",
       "      <td>1</td>\n",
       "    </tr>\n",
       "    <tr>\n",
       "      <th>3612</th>\n",
       "      <td>2</td>\n",
       "      <td>1</td>\n",
       "    </tr>\n",
       "    <tr>\n",
       "      <th>4723</th>\n",
       "      <td>3</td>\n",
       "      <td>1</td>\n",
       "    </tr>\n",
       "    <tr>\n",
       "      <th>5834</th>\n",
       "      <td>4</td>\n",
       "      <td>1</td>\n",
       "    </tr>\n",
       "    <tr>\n",
       "      <th>6945</th>\n",
       "      <td>5</td>\n",
       "      <td>0</td>\n",
       "    </tr>\n",
       "    <tr>\n",
       "      <th>8056</th>\n",
       "      <td>6</td>\n",
       "      <td>0</td>\n",
       "    </tr>\n",
       "    <tr>\n",
       "      <th>9167</th>\n",
       "      <td>7</td>\n",
       "      <td>0</td>\n",
       "    </tr>\n",
       "    <tr>\n",
       "      <th>10278</th>\n",
       "      <td>8</td>\n",
       "      <td>0</td>\n",
       "    </tr>\n",
       "    <tr>\n",
       "      <th>11389</th>\n",
       "      <td>9</td>\n",
       "      <td>0</td>\n",
       "    </tr>\n",
       "    <tr>\n",
       "      <th>1</th>\n",
       "      <td>10</td>\n",
       "      <td>0</td>\n",
       "    </tr>\n",
       "    <tr>\n",
       "      <th>1112</th>\n",
       "      <td>11</td>\n",
       "      <td>0</td>\n",
       "    </tr>\n",
       "    <tr>\n",
       "      <th>2223</th>\n",
       "      <td>12</td>\n",
       "      <td>1</td>\n",
       "    </tr>\n",
       "    <tr>\n",
       "      <th>2835</th>\n",
       "      <td>13</td>\n",
       "      <td>0</td>\n",
       "    </tr>\n",
       "    <tr>\n",
       "      <th>2946</th>\n",
       "      <td>14</td>\n",
       "      <td>0</td>\n",
       "    </tr>\n",
       "    <tr>\n",
       "      <th>3057</th>\n",
       "      <td>15</td>\n",
       "      <td>0</td>\n",
       "    </tr>\n",
       "    <tr>\n",
       "      <th>3168</th>\n",
       "      <td>16</td>\n",
       "      <td>0</td>\n",
       "    </tr>\n",
       "    <tr>\n",
       "      <th>3279</th>\n",
       "      <td>17</td>\n",
       "      <td>1</td>\n",
       "    </tr>\n",
       "    <tr>\n",
       "      <th>3390</th>\n",
       "      <td>18</td>\n",
       "      <td>1</td>\n",
       "    </tr>\n",
       "    <tr>\n",
       "      <th>3501</th>\n",
       "      <td>19</td>\n",
       "      <td>0</td>\n",
       "    </tr>\n",
       "    <tr>\n",
       "      <th>3613</th>\n",
       "      <td>20</td>\n",
       "      <td>0</td>\n",
       "    </tr>\n",
       "  </tbody>\n",
       "</table>\n",
       "</div>"
      ],
      "text/plain": [
       "       id  label\n",
       "0       1      1\n",
       "3612    2      1\n",
       "4723    3      1\n",
       "5834    4      1\n",
       "6945    5      0\n",
       "8056    6      0\n",
       "9167    7      0\n",
       "10278   8      0\n",
       "11389   9      0\n",
       "1      10      0\n",
       "1112   11      0\n",
       "2223   12      1\n",
       "2835   13      0\n",
       "2946   14      0\n",
       "3057   15      0\n",
       "3168   16      0\n",
       "3279   17      1\n",
       "3390   18      1\n",
       "3501   19      0\n",
       "3613   20      0"
      ]
     },
     "execution_count": 238,
     "metadata": {},
     "output_type": "execute_result"
    }
   ],
   "source": [
    "submit.head(20)"
   ]
  },
  {
   "cell_type": "markdown",
   "id": "b9fe2b30",
   "metadata": {},
   "source": [
    "Visually checking my first 20 predictions with the first 20 test pictures, all predictions appear correct, but my submission returned a log loss of .83446, which is in the bottom 25% of the kaggle leaderboard."
   ]
  },
  {
   "cell_type": "code",
   "execution_count": 241,
   "id": "60a77d52",
   "metadata": {},
   "outputs": [],
   "source": [
    "#Lets see if submitting the probabilty of dog performs better\n",
    "pred2 = test_predictions[:, [1]]"
   ]
  },
  {
   "cell_type": "code",
   "execution_count": 243,
   "id": "84710a31",
   "metadata": {},
   "outputs": [
    {
     "data": {
      "text/html": [
       "<div>\n",
       "<style scoped>\n",
       "    .dataframe tbody tr th:only-of-type {\n",
       "        vertical-align: middle;\n",
       "    }\n",
       "\n",
       "    .dataframe tbody tr th {\n",
       "        vertical-align: top;\n",
       "    }\n",
       "\n",
       "    .dataframe thead th {\n",
       "        text-align: right;\n",
       "    }\n",
       "</style>\n",
       "<table border=\"1\" class=\"dataframe\">\n",
       "  <thead>\n",
       "    <tr style=\"text-align: right;\">\n",
       "      <th></th>\n",
       "      <th>id</th>\n",
       "      <th>label</th>\n",
       "    </tr>\n",
       "  </thead>\n",
       "  <tbody>\n",
       "    <tr>\n",
       "      <th>0</th>\n",
       "      <td>1</td>\n",
       "      <td>0.998415</td>\n",
       "    </tr>\n",
       "    <tr>\n",
       "      <th>3612</th>\n",
       "      <td>2</td>\n",
       "      <td>0.996662</td>\n",
       "    </tr>\n",
       "    <tr>\n",
       "      <th>4723</th>\n",
       "      <td>3</td>\n",
       "      <td>0.999889</td>\n",
       "    </tr>\n",
       "    <tr>\n",
       "      <th>5834</th>\n",
       "      <td>4</td>\n",
       "      <td>0.999496</td>\n",
       "    </tr>\n",
       "    <tr>\n",
       "      <th>6945</th>\n",
       "      <td>5</td>\n",
       "      <td>0.000005</td>\n",
       "    </tr>\n",
       "  </tbody>\n",
       "</table>\n",
       "</div>"
      ],
      "text/plain": [
       "      id     label\n",
       "0      1  0.998415\n",
       "3612   2  0.996662\n",
       "4723   3  0.999889\n",
       "5834   4  0.999496\n",
       "6945   5  0.000005"
      ]
     },
     "execution_count": 243,
     "metadata": {},
     "output_type": "execute_result"
    },
    {
     "data": {
      "text/plain": [
       "(12500, 2)"
      ]
     },
     "execution_count": 243,
     "metadata": {},
     "output_type": "execute_result"
    }
   ],
   "source": [
    "submit = pd.DataFrame()\n",
    "\n",
    "submit['id'] = image_id_list\n",
    "submit['id'] = submit['id'].str.get(0)\n",
    "submit['label'] = pred2  #invert prediction\n",
    "\n",
    "#sort by id\n",
    "submit = submit.sort_values(by=['id'], ascending=True)\n",
    "\n",
    "submit.to_csv('submission2.csv',index=False)\n",
    "\n",
    "submit.head()\n",
    "\n",
    "submit.shape"
   ]
  },
  {
   "cell_type": "markdown",
   "id": "aa806349",
   "metadata": {},
   "source": [
    "This returned a log loss score of .08366, much better - now in the top 25% of the leaderboard."
   ]
  },
  {
   "cell_type": "code",
   "execution_count": null,
   "id": "ada1a8f6",
   "metadata": {},
   "outputs": [],
   "source": []
  }
 ],
 "metadata": {
  "kernelspec": {
   "display_name": "Python 3 (ipykernel)",
   "language": "python",
   "name": "python3"
  },
  "language_info": {
   "codemirror_mode": {
    "name": "ipython",
    "version": 3
   },
   "file_extension": ".py",
   "mimetype": "text/x-python",
   "name": "python",
   "nbconvert_exporter": "python",
   "pygments_lexer": "ipython3",
   "version": "3.9.7"
  }
 },
 "nbformat": 4,
 "nbformat_minor": 5
}
